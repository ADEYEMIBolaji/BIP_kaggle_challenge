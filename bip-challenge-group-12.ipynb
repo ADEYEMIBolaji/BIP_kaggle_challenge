{
 "cells": [
  {
   "cell_type": "markdown",
   "metadata": {
    "id": "nkhiTRFccPdK"
   },
   "source": [
    "# Group 12\n",
    "# Project: BIP CANCER CHALLENGE\n",
    "\n",
    "## Table of Contents\n",
    "<ul>\n",
    "<li><a href=\"#intro\">Introduction</a></li>\n",
    "<li><a href=\"#wrangling\">Data Wrangling</a></li>\n",
    "<li><a href=\"#eda\">Exploratory Data Analysis</a></li>\n",
    "<li><a href=\"#conclusions\">Conclusions</a></li>\n",
    "<li><a href=\"#References\">References</a></li>\n",
    "</ul>"
   ]
  },
  {
   "cell_type": "markdown",
   "metadata": {
    "id": "RlROFSHHcPdL"
   },
   "source": [
    "<a id='intro'></a>\n",
    "## Introduction"
   ]
  },
  {
   "cell_type": "markdown",
   "metadata": {
    "id": "cnr-imS0cPdM"
   },
   "source": [
    "##### Dataset Description"
   ]
  },
  {
   "cell_type": "markdown",
   "metadata": {
    "id": "vEL5MKsKcPdM",
    "jp-MarkdownHeadingCollapsed": true
   },
   "source": [
    "\n",
    ">Unnamed: 0_x':                           DROP                          \n",
    "'PATIENTID': Patient identifier             \n",
    "'ETHNICITY': race       \n",
    "'DEATHCAUSECODE_1A',        \n",
    "'DEATHCAUSECODE_1B',     \n",
    "'DEATHCAUSECODE_1C',       \n",
    "'DEATHCAUSECODE_2':       \n",
    "'DEATHCAUSECODE_UNDERLYING',           \n",
    "'DEATHLOCATIONCODE': where the patient died               \n",
    "'NEWVITALSTATUS': Outcome variable     \n",
    "'VITALSTATUSDATE',      Date died or alive      \n",
    "'SEX_x':        gender\n",
    "'LINKNUMBER_x':                             DROP      \n",
    "'Unnamed: 0_y',:                            DROP       \n",
    "'TUMOURID',       DROP       \n",
    "'DIAGNOSISDATEBEST':      Date of cancer diagnosis    \n",
    "'SITE_ICD10_O2':     Site of neoplasm(specific)     \n",
    "'SITE_ICD10_O2_3CHAR',        Site of neoplasm(general)     \n",
    "'MORPH_ICD10_O2': Morphology of the cancer          \n",
    "'BEHAVIOUR_ICD10_O2': Behaviour of the cancer i.e benign, malignant etc       \n",
    "'T_BEST':   Primary tumor      \n",
    "'N_BEST': Regional lymph nodes    \n",
    "'M_BEST:  Distant metastasis            \n",
    "'STAGE_BEST' : cancer stage   \n",
    "'STAGE_BEST_SYSTEM',    \n",
    "'GRADE':  Grade of tumour    \n",
    "'AGE',    \n",
    "'CREG_CODE': Cancer registry catchment area code    \n",
    "'SCREENINGSTATUSFULL_CODE',     \n",
    "'ER_STATUS',    \n",
    "'ER_SCORE',    \n",
    "'PR_STATUS',     \n",
    "'PR_SCORE',    \n",
    "'HER2_STATUS',    \n",
    "'CANCERCAREPLANINTENT',    \n",
    "'PERFORMANCESTATUS',   \n",
    "'CNS',    \n",
    "'ACE27',    \n",
    "'GLEASON_PRIMARY': DROP    \n",
    "'GLEASON_SECONDARY': DROP   \n",
    "'GLEASON_TERTIARY': DROP   \n",
    "'GLEASON_COMBINED': DROP    \n",
    "'DATE_FIRST_SURGERY',   \n",
    "'LATERALITY': describes which side of a paired organ is the origin of the primary cancer    \n",
    "'QUINTILE_2015',    \n",
    "'SEX_y',    \n",
    "'LINKNUMBER_y'   DROP\n",
    "\n",
    "\n",
    "\n",
    "### Deliverables\n",
    "\n",
    "> A written report showing their investigation, findings and interpretation.\n",
    "\n",
    "> a final submission to the classification problem\n",
    "\n",
    "> a presentation delivered live with accompanying slides"
   ]
  },
  {
   "cell_type": "code",
   "execution_count": 1,
   "metadata": {
    "execution": {
     "iopub.execute_input": "2023-08-23T19:11:09.254167Z",
     "iopub.status.busy": "2023-08-23T19:11:09.253651Z",
     "iopub.status.idle": "2023-08-23T19:11:09.260968Z",
     "shell.execute_reply": "2023-08-23T19:11:09.259648Z",
     "shell.execute_reply.started": "2023-08-23T19:11:09.254120Z"
    },
    "id": "kWqNFGETWOVY"
   },
   "outputs": [],
   "source": [
    "#!pip install statsmodels"
   ]
  },
  {
   "cell_type": "code",
   "execution_count": 2,
   "metadata": {
    "execution": {
     "iopub.execute_input": "2023-08-23T19:11:09.263768Z",
     "iopub.status.busy": "2023-08-23T19:11:09.262861Z",
     "iopub.status.idle": "2023-08-23T19:11:09.283252Z",
     "shell.execute_reply": "2023-08-23T19:11:09.282058Z",
     "shell.execute_reply.started": "2023-08-23T19:11:09.263733Z"
    }
   },
   "outputs": [
    {
     "name": "stdout",
     "output_type": "stream",
     "text": [
      "/kaggle/input/bip-cancer-technical-challenge/simulacrum_data_dictionary.xlsx\n",
      "/kaggle/input/bip-cancer-technical-challenge/av_patient_test.csv\n",
      "/kaggle/input/bip-cancer-technical-challenge/all_z_lookup_tables.xlsx\n",
      "/kaggle/input/bip-cancer-technical-challenge/av_tumour_train.csv\n",
      "/kaggle/input/bip-cancer-technical-challenge/av_tumour_test.csv\n",
      "/kaggle/input/bip-cancer-technical-challenge/av_patient_train.csv\n"
     ]
    }
   ],
   "source": [
    "import os\n",
    "for dirname, _, filenames in os.walk('/kaggle/input'):\n",
    "    for filename in filenames:\n",
    "        print(os.path.join(dirname, filename))\n",
    "\n",
    "#pd.options.display.max_columns = None\n",
    "#pd.options.display.max_rows = None"
   ]
  },
  {
   "cell_type": "code",
   "execution_count": 3,
   "metadata": {
    "execution": {
     "iopub.execute_input": "2023-08-23T19:11:09.285528Z",
     "iopub.status.busy": "2023-08-23T19:11:09.284748Z",
     "iopub.status.idle": "2023-08-23T19:11:09.890971Z",
     "shell.execute_reply": "2023-08-23T19:11:09.889824Z",
     "shell.execute_reply.started": "2023-08-23T19:11:09.285485Z"
    },
    "id": "mkhZSVC-cPdN"
   },
   "outputs": [
    {
     "name": "stderr",
     "output_type": "stream",
     "text": [
      "/opt/conda/lib/python3.10/site-packages/scipy/__init__.py:146: UserWarning: A NumPy version >=1.16.5 and <1.23.0 is required for this version of SciPy (detected version 1.23.5\n",
      "  warnings.warn(f\"A NumPy version >={np_minversion} and <{np_maxversion}\"\n"
     ]
    }
   ],
   "source": [
    "# Import necessary libraries\n",
    "import numpy as np\n",
    "import pandas as pd\n",
    "import matplotlib.pyplot as plt\n",
    "import seaborn as sns\n",
    "import time\n",
    "import statistics\n",
    "from scipy import stats\n",
    "%matplotlib inline\n",
    "\n",
    "import warnings\n",
    "warnings.filterwarnings(\"ignore\")\n",
    "\n",
    "#random.seed(12)\n",
    "np.random.seed(12) #reproducibility\n",
    "\n",
    "#pd.options.display.max_columns = None\n",
    "#pd.options.display.max_rows = None"
   ]
  },
  {
   "cell_type": "markdown",
   "metadata": {
    "id": "sXI3Y2MYcPdO"
   },
   "source": [
    "<a id='wrangling'></a>\n",
    "## Data Wrangling\n"
   ]
  },
  {
   "cell_type": "markdown",
   "metadata": {
    "id": "McmVgbpYcPdO"
   },
   "source": [
    "#### Load dataset, examine data structure, clean, trim and perform descriptive statistics"
   ]
  },
  {
   "cell_type": "code",
   "execution_count": 4,
   "metadata": {
    "execution": {
     "iopub.execute_input": "2023-08-23T19:11:09.893764Z",
     "iopub.status.busy": "2023-08-23T19:11:09.893433Z",
     "iopub.status.idle": "2023-08-23T19:11:09.898327Z",
     "shell.execute_reply": "2023-08-23T19:11:09.897281Z",
     "shell.execute_reply.started": "2023-08-23T19:11:09.893737Z"
    },
    "id": "7dtOFDsea82c"
   },
   "outputs": [],
   "source": [
    "# # Load dataset \n",
    "url1 = r'/kaggle/input/bip-cancer-technical-challenge/av_patient_train.csv'\n",
    "url2 = r'/kaggle/input/bip-cancer-technical-challenge/av_tumour_train.csv'\n",
    "url3 = r'/kaggle/input/bip-cancer-technical-challenge/av_patient_test.csv'\n",
    "url4 = r'/kaggle/input/bip-cancer-technical-challenge/av_tumour_test.csv'"
   ]
  },
  {
   "cell_type": "code",
   "execution_count": 5,
   "metadata": {
    "execution": {
     "iopub.execute_input": "2023-08-23T19:11:09.899823Z",
     "iopub.status.busy": "2023-08-23T19:11:09.899513Z",
     "iopub.status.idle": "2023-08-23T19:11:10.875139Z",
     "shell.execute_reply": "2023-08-23T19:11:10.873744Z",
     "shell.execute_reply.started": "2023-08-23T19:11:09.899797Z"
    },
    "id": "yxEzjAyacPdO"
   },
   "outputs": [],
   "source": [
    "# Load datasets\n",
    "df1= pd.read_csv(url1)\n",
    "df2= pd.read_csv(url2)\n",
    "df3= pd.read_csv(url3)\n",
    "df4= pd.read_csv(url4)"
   ]
  },
  {
   "cell_type": "code",
   "execution_count": 6,
   "metadata": {
    "execution": {
     "iopub.execute_input": "2023-08-23T19:11:10.878120Z",
     "iopub.status.busy": "2023-08-23T19:11:10.877529Z",
     "iopub.status.idle": "2023-08-23T19:11:11.146823Z",
     "shell.execute_reply": "2023-08-23T19:11:11.145517Z",
     "shell.execute_reply.started": "2023-08-23T19:11:10.878069Z"
    },
    "id": "Dt86RFOlcPdP"
   },
   "outputs": [],
   "source": [
    "# Merge both datasets into one\n",
    "data= pd.merge(df1,df2, on='PATIENTID', how='inner')\n",
    "data_test= pd.merge(df3,df4, on='PATIENTID', how='inner')"
   ]
  },
  {
   "cell_type": "markdown",
   "metadata": {
    "id": "hr1GtS_GFGpd"
   },
   "source": [
    "# Train Data"
   ]
  },
  {
   "cell_type": "code",
   "execution_count": 7,
   "metadata": {
    "execution": {
     "iopub.execute_input": "2023-08-23T19:11:11.148819Z",
     "iopub.status.busy": "2023-08-23T19:11:11.148435Z",
     "iopub.status.idle": "2023-08-23T19:11:11.179725Z",
     "shell.execute_reply": "2023-08-23T19:11:11.178269Z",
     "shell.execute_reply.started": "2023-08-23T19:11:11.148788Z"
    },
    "id": "fcyOL2ldcPdP",
    "outputId": "9c718ea7-5fe8-4491-be79-a55b0adb5816"
   },
   "outputs": [
    {
     "data": {
      "text/html": [
       "<div>\n",
       "<style scoped>\n",
       "    .dataframe tbody tr th:only-of-type {\n",
       "        vertical-align: middle;\n",
       "    }\n",
       "\n",
       "    .dataframe tbody tr th {\n",
       "        vertical-align: top;\n",
       "    }\n",
       "\n",
       "    .dataframe thead th {\n",
       "        text-align: right;\n",
       "    }\n",
       "</style>\n",
       "<table border=\"1\" class=\"dataframe\">\n",
       "  <thead>\n",
       "    <tr style=\"text-align: right;\">\n",
       "      <th></th>\n",
       "      <th>Unnamed: 0_x</th>\n",
       "      <th>PATIENTID</th>\n",
       "      <th>ETHNICITY</th>\n",
       "      <th>DEATHCAUSECODE_1A</th>\n",
       "      <th>DEATHCAUSECODE_1B</th>\n",
       "      <th>DEATHCAUSECODE_1C</th>\n",
       "      <th>DEATHCAUSECODE_2</th>\n",
       "      <th>DEATHCAUSECODE_UNDERLYING</th>\n",
       "      <th>DEATHLOCATIONCODE</th>\n",
       "      <th>NEWVITALSTATUS</th>\n",
       "      <th>...</th>\n",
       "      <th>ACE27</th>\n",
       "      <th>GLEASON_PRIMARY</th>\n",
       "      <th>GLEASON_SECONDARY</th>\n",
       "      <th>GLEASON_TERTIARY</th>\n",
       "      <th>GLEASON_COMBINED</th>\n",
       "      <th>DATE_FIRST_SURGERY</th>\n",
       "      <th>LATERALITY</th>\n",
       "      <th>QUINTILE_2015</th>\n",
       "      <th>SEX_y</th>\n",
       "      <th>LINKNUMBER_y</th>\n",
       "    </tr>\n",
       "  </thead>\n",
       "  <tbody>\n",
       "    <tr>\n",
       "      <th>0</th>\n",
       "      <td>624712</td>\n",
       "      <td>20011904</td>\n",
       "      <td>R</td>\n",
       "      <td>NaN</td>\n",
       "      <td>NaN</td>\n",
       "      <td>NaN</td>\n",
       "      <td>NaN</td>\n",
       "      <td>NaN</td>\n",
       "      <td>NaN</td>\n",
       "      <td>A</td>\n",
       "      <td>...</td>\n",
       "      <td>NaN</td>\n",
       "      <td>NaN</td>\n",
       "      <td>NaN</td>\n",
       "      <td>NaN</td>\n",
       "      <td>NaN</td>\n",
       "      <td>2014-05-30</td>\n",
       "      <td>L</td>\n",
       "      <td>1 - least deprived</td>\n",
       "      <td>2</td>\n",
       "      <td>820011904</td>\n",
       "    </tr>\n",
       "    <tr>\n",
       "      <th>1</th>\n",
       "      <td>1054445</td>\n",
       "      <td>40016070</td>\n",
       "      <td>A</td>\n",
       "      <td>C349,J449</td>\n",
       "      <td>NaN</td>\n",
       "      <td>NaN</td>\n",
       "      <td>NaN</td>\n",
       "      <td>C349</td>\n",
       "      <td>2</td>\n",
       "      <td>D</td>\n",
       "      <td>...</td>\n",
       "      <td>NaN</td>\n",
       "      <td>NaN</td>\n",
       "      <td>NaN</td>\n",
       "      <td>NaN</td>\n",
       "      <td>NaN</td>\n",
       "      <td>NaN</td>\n",
       "      <td>R</td>\n",
       "      <td>5 - most deprived</td>\n",
       "      <td>2</td>\n",
       "      <td>840016070</td>\n",
       "    </tr>\n",
       "    <tr>\n",
       "      <th>2</th>\n",
       "      <td>827174</td>\n",
       "      <td>20203163</td>\n",
       "      <td>A</td>\n",
       "      <td>J969</td>\n",
       "      <td>NaN</td>\n",
       "      <td>NaN</td>\n",
       "      <td>NaN</td>\n",
       "      <td>I64</td>\n",
       "      <td>1</td>\n",
       "      <td>A</td>\n",
       "      <td>...</td>\n",
       "      <td>NaN</td>\n",
       "      <td>NaN</td>\n",
       "      <td>NaN</td>\n",
       "      <td>NaN</td>\n",
       "      <td>NaN</td>\n",
       "      <td>2017-08-02</td>\n",
       "      <td>R</td>\n",
       "      <td>2</td>\n",
       "      <td>2</td>\n",
       "      <td>820203163</td>\n",
       "    </tr>\n",
       "    <tr>\n",
       "      <th>3</th>\n",
       "      <td>1184612</td>\n",
       "      <td>40156705</td>\n",
       "      <td>A</td>\n",
       "      <td>NaN</td>\n",
       "      <td>NaN</td>\n",
       "      <td>NaN</td>\n",
       "      <td>I259,I251</td>\n",
       "      <td>NaN</td>\n",
       "      <td>NaN</td>\n",
       "      <td>D</td>\n",
       "      <td>...</td>\n",
       "      <td>NaN</td>\n",
       "      <td>NaN</td>\n",
       "      <td>NaN</td>\n",
       "      <td>NaN</td>\n",
       "      <td>NaN</td>\n",
       "      <td>2016-05-03</td>\n",
       "      <td>R</td>\n",
       "      <td>4</td>\n",
       "      <td>1</td>\n",
       "      <td>840156705</td>\n",
       "    </tr>\n",
       "    <tr>\n",
       "      <th>4</th>\n",
       "      <td>666451</td>\n",
       "      <td>20051096</td>\n",
       "      <td>A</td>\n",
       "      <td>NaN</td>\n",
       "      <td>NaN</td>\n",
       "      <td>NaN</td>\n",
       "      <td>NaN</td>\n",
       "      <td>NaN</td>\n",
       "      <td>NaN</td>\n",
       "      <td>A</td>\n",
       "      <td>...</td>\n",
       "      <td>0</td>\n",
       "      <td>NaN</td>\n",
       "      <td>NaN</td>\n",
       "      <td>NaN</td>\n",
       "      <td>NaN</td>\n",
       "      <td>2016-01-05</td>\n",
       "      <td>L</td>\n",
       "      <td>3</td>\n",
       "      <td>2</td>\n",
       "      <td>820051096</td>\n",
       "    </tr>\n",
       "  </tbody>\n",
       "</table>\n",
       "<p>5 rows × 47 columns</p>\n",
       "</div>"
      ],
      "text/plain": [
       "   Unnamed: 0_x  PATIENTID ETHNICITY DEATHCAUSECODE_1A DEATHCAUSECODE_1B  \\\n",
       "0        624712   20011904         R               NaN               NaN   \n",
       "1       1054445   40016070         A         C349,J449               NaN   \n",
       "2        827174   20203163         A              J969               NaN   \n",
       "3       1184612   40156705         A               NaN               NaN   \n",
       "4        666451   20051096         A               NaN               NaN   \n",
       "\n",
       "  DEATHCAUSECODE_1C DEATHCAUSECODE_2 DEATHCAUSECODE_UNDERLYING  \\\n",
       "0               NaN              NaN                       NaN   \n",
       "1               NaN              NaN                      C349   \n",
       "2               NaN              NaN                       I64   \n",
       "3               NaN        I259,I251                       NaN   \n",
       "4               NaN              NaN                       NaN   \n",
       "\n",
       "  DEATHLOCATIONCODE NEWVITALSTATUS  ... ACE27  GLEASON_PRIMARY  \\\n",
       "0               NaN              A  ...   NaN              NaN   \n",
       "1                 2              D  ...   NaN              NaN   \n",
       "2                 1              A  ...   NaN              NaN   \n",
       "3               NaN              D  ...   NaN              NaN   \n",
       "4               NaN              A  ...     0              NaN   \n",
       "\n",
       "   GLEASON_SECONDARY  GLEASON_TERTIARY  GLEASON_COMBINED DATE_FIRST_SURGERY  \\\n",
       "0                NaN               NaN               NaN         2014-05-30   \n",
       "1                NaN               NaN               NaN                NaN   \n",
       "2                NaN               NaN               NaN         2017-08-02   \n",
       "3                NaN               NaN               NaN         2016-05-03   \n",
       "4                NaN               NaN               NaN         2016-01-05   \n",
       "\n",
       "  LATERALITY       QUINTILE_2015  SEX_y LINKNUMBER_y  \n",
       "0          L  1 - least deprived      2    820011904  \n",
       "1          R   5 - most deprived      2    840016070  \n",
       "2          R                   2      2    820203163  \n",
       "3          R                   4      1    840156705  \n",
       "4          L                   3      2    820051096  \n",
       "\n",
       "[5 rows x 47 columns]"
      ]
     },
     "execution_count": 7,
     "metadata": {},
     "output_type": "execute_result"
    }
   ],
   "source": [
    "data.head()"
   ]
  },
  {
   "cell_type": "markdown",
   "metadata": {
    "id": "vKxuud3scPdP"
   },
   "source": [
    "##### Inspect data set for data types, unique values, counts and missing values"
   ]
  },
  {
   "cell_type": "code",
   "execution_count": 8,
   "metadata": {
    "execution": {
     "iopub.execute_input": "2023-08-23T19:11:11.183308Z",
     "iopub.status.busy": "2023-08-23T19:11:11.181323Z",
     "iopub.status.idle": "2023-08-23T19:11:11.190369Z",
     "shell.execute_reply": "2023-08-23T19:11:11.188919Z",
     "shell.execute_reply.started": "2023-08-23T19:11:11.183258Z"
    },
    "id": "_JrAd7dBcPdQ"
   },
   "outputs": [],
   "source": [
    "# Helper function to inspect and assess the data characteristics\n",
    "def get_data_summary(data):\n",
    "  summary = pd.concat([\n",
    "      data.dtypes,\n",
    "      data.nunique(),\n",
    "      data.count(),\n",
    "      data.isnull().sum(),\n",
    "      (data.isnull().sum() / len(data) * 100).rename('missing percentage')\n",
    "      ],\n",
    "      axis=1)\n",
    "  summary.columns =['dtypes', 'nunique', 'count', 'missing values','% of Missing_values']\n",
    "  return summary"
   ]
  },
  {
   "cell_type": "code",
   "execution_count": 9,
   "metadata": {
    "execution": {
     "iopub.execute_input": "2023-08-23T19:11:11.196134Z",
     "iopub.status.busy": "2023-08-23T19:11:11.195665Z",
     "iopub.status.idle": "2023-08-23T19:11:12.746876Z",
     "shell.execute_reply": "2023-08-23T19:11:12.745913Z",
     "shell.execute_reply.started": "2023-08-23T19:11:11.196095Z"
    },
    "id": "g6yqfgMncPdQ",
    "outputId": "cf50b0eb-a28d-4ac3-d9cf-379a64768182"
   },
   "outputs": [
    {
     "data": {
      "text/html": [
       "<div>\n",
       "<style scoped>\n",
       "    .dataframe tbody tr th:only-of-type {\n",
       "        vertical-align: middle;\n",
       "    }\n",
       "\n",
       "    .dataframe tbody tr th {\n",
       "        vertical-align: top;\n",
       "    }\n",
       "\n",
       "    .dataframe thead th {\n",
       "        text-align: right;\n",
       "    }\n",
       "</style>\n",
       "<table border=\"1\" class=\"dataframe\">\n",
       "  <thead>\n",
       "    <tr style=\"text-align: right;\">\n",
       "      <th></th>\n",
       "      <th>dtypes</th>\n",
       "      <th>nunique</th>\n",
       "      <th>count</th>\n",
       "      <th>missing values</th>\n",
       "      <th>% of Missing_values</th>\n",
       "    </tr>\n",
       "  </thead>\n",
       "  <tbody>\n",
       "    <tr>\n",
       "      <th>Unnamed: 0_x</th>\n",
       "      <td>int64</td>\n",
       "      <td>100000</td>\n",
       "      <td>100000</td>\n",
       "      <td>0</td>\n",
       "      <td>0.000</td>\n",
       "    </tr>\n",
       "    <tr>\n",
       "      <th>PATIENTID</th>\n",
       "      <td>int64</td>\n",
       "      <td>100000</td>\n",
       "      <td>100000</td>\n",
       "      <td>0</td>\n",
       "      <td>0.000</td>\n",
       "    </tr>\n",
       "    <tr>\n",
       "      <th>ETHNICITY</th>\n",
       "      <td>object</td>\n",
       "      <td>20</td>\n",
       "      <td>98032</td>\n",
       "      <td>1968</td>\n",
       "      <td>1.968</td>\n",
       "    </tr>\n",
       "    <tr>\n",
       "      <th>DEATHCAUSECODE_1A</th>\n",
       "      <td>object</td>\n",
       "      <td>1683</td>\n",
       "      <td>43017</td>\n",
       "      <td>56983</td>\n",
       "      <td>56.983</td>\n",
       "    </tr>\n",
       "    <tr>\n",
       "      <th>DEATHCAUSECODE_1B</th>\n",
       "      <td>object</td>\n",
       "      <td>1288</td>\n",
       "      <td>11956</td>\n",
       "      <td>88044</td>\n",
       "      <td>88.044</td>\n",
       "    </tr>\n",
       "    <tr>\n",
       "      <th>DEATHCAUSECODE_1C</th>\n",
       "      <td>object</td>\n",
       "      <td>540</td>\n",
       "      <td>2036</td>\n",
       "      <td>97964</td>\n",
       "      <td>97.964</td>\n",
       "    </tr>\n",
       "    <tr>\n",
       "      <th>DEATHCAUSECODE_2</th>\n",
       "      <td>object</td>\n",
       "      <td>5697</td>\n",
       "      <td>18506</td>\n",
       "      <td>81494</td>\n",
       "      <td>81.494</td>\n",
       "    </tr>\n",
       "    <tr>\n",
       "      <th>DEATHCAUSECODE_UNDERLYING</th>\n",
       "      <td>object</td>\n",
       "      <td>691</td>\n",
       "      <td>43013</td>\n",
       "      <td>56987</td>\n",
       "      <td>56.987</td>\n",
       "    </tr>\n",
       "    <tr>\n",
       "      <th>DEATHLOCATIONCODE</th>\n",
       "      <td>object</td>\n",
       "      <td>7</td>\n",
       "      <td>43072</td>\n",
       "      <td>56928</td>\n",
       "      <td>56.928</td>\n",
       "    </tr>\n",
       "    <tr>\n",
       "      <th>NEWVITALSTATUS</th>\n",
       "      <td>object</td>\n",
       "      <td>2</td>\n",
       "      <td>100000</td>\n",
       "      <td>0</td>\n",
       "      <td>0.000</td>\n",
       "    </tr>\n",
       "    <tr>\n",
       "      <th>VITALSTATUSDATE</th>\n",
       "      <td>object</td>\n",
       "      <td>2238</td>\n",
       "      <td>100000</td>\n",
       "      <td>0</td>\n",
       "      <td>0.000</td>\n",
       "    </tr>\n",
       "    <tr>\n",
       "      <th>SEX_x</th>\n",
       "      <td>int64</td>\n",
       "      <td>2</td>\n",
       "      <td>100000</td>\n",
       "      <td>0</td>\n",
       "      <td>0.000</td>\n",
       "    </tr>\n",
       "    <tr>\n",
       "      <th>LINKNUMBER_x</th>\n",
       "      <td>int64</td>\n",
       "      <td>100000</td>\n",
       "      <td>100000</td>\n",
       "      <td>0</td>\n",
       "      <td>0.000</td>\n",
       "    </tr>\n",
       "    <tr>\n",
       "      <th>Unnamed: 0_y</th>\n",
       "      <td>int64</td>\n",
       "      <td>100000</td>\n",
       "      <td>100000</td>\n",
       "      <td>0</td>\n",
       "      <td>0.000</td>\n",
       "    </tr>\n",
       "    <tr>\n",
       "      <th>TUMOURID</th>\n",
       "      <td>int64</td>\n",
       "      <td>100000</td>\n",
       "      <td>100000</td>\n",
       "      <td>0</td>\n",
       "      <td>0.000</td>\n",
       "    </tr>\n",
       "    <tr>\n",
       "      <th>DIAGNOSISDATEBEST</th>\n",
       "      <td>object</td>\n",
       "      <td>1825</td>\n",
       "      <td>100000</td>\n",
       "      <td>0</td>\n",
       "      <td>0.000</td>\n",
       "    </tr>\n",
       "    <tr>\n",
       "      <th>SITE_ICD10_O2</th>\n",
       "      <td>object</td>\n",
       "      <td>28</td>\n",
       "      <td>99951</td>\n",
       "      <td>49</td>\n",
       "      <td>0.049</td>\n",
       "    </tr>\n",
       "    <tr>\n",
       "      <th>SITE_ICD10_O2_3CHAR</th>\n",
       "      <td>object</td>\n",
       "      <td>6</td>\n",
       "      <td>100000</td>\n",
       "      <td>0</td>\n",
       "      <td>0.000</td>\n",
       "    </tr>\n",
       "    <tr>\n",
       "      <th>MORPH_ICD10_O2</th>\n",
       "      <td>float64</td>\n",
       "      <td>99</td>\n",
       "      <td>99970</td>\n",
       "      <td>30</td>\n",
       "      <td>0.030</td>\n",
       "    </tr>\n",
       "    <tr>\n",
       "      <th>BEHAVIOUR_ICD10_O2</th>\n",
       "      <td>object</td>\n",
       "      <td>6</td>\n",
       "      <td>99976</td>\n",
       "      <td>24</td>\n",
       "      <td>0.024</td>\n",
       "    </tr>\n",
       "    <tr>\n",
       "      <th>T_BEST</th>\n",
       "      <td>object</td>\n",
       "      <td>30</td>\n",
       "      <td>86777</td>\n",
       "      <td>13223</td>\n",
       "      <td>13.223</td>\n",
       "    </tr>\n",
       "    <tr>\n",
       "      <th>N_BEST</th>\n",
       "      <td>object</td>\n",
       "      <td>16</td>\n",
       "      <td>86670</td>\n",
       "      <td>13330</td>\n",
       "      <td>13.330</td>\n",
       "    </tr>\n",
       "    <tr>\n",
       "      <th>M_BEST</th>\n",
       "      <td>object</td>\n",
       "      <td>6</td>\n",
       "      <td>79316</td>\n",
       "      <td>20684</td>\n",
       "      <td>20.684</td>\n",
       "    </tr>\n",
       "    <tr>\n",
       "      <th>STAGE_BEST</th>\n",
       "      <td>object</td>\n",
       "      <td>29</td>\n",
       "      <td>100000</td>\n",
       "      <td>0</td>\n",
       "      <td>0.000</td>\n",
       "    </tr>\n",
       "    <tr>\n",
       "      <th>STAGE_BEST_SYSTEM</th>\n",
       "      <td>float64</td>\n",
       "      <td>9</td>\n",
       "      <td>86201</td>\n",
       "      <td>13799</td>\n",
       "      <td>13.799</td>\n",
       "    </tr>\n",
       "    <tr>\n",
       "      <th>GRADE</th>\n",
       "      <td>object</td>\n",
       "      <td>5</td>\n",
       "      <td>99396</td>\n",
       "      <td>604</td>\n",
       "      <td>0.604</td>\n",
       "    </tr>\n",
       "    <tr>\n",
       "      <th>AGE</th>\n",
       "      <td>int64</td>\n",
       "      <td>102</td>\n",
       "      <td>100000</td>\n",
       "      <td>0</td>\n",
       "      <td>0.000</td>\n",
       "    </tr>\n",
       "    <tr>\n",
       "      <th>CREG_CODE</th>\n",
       "      <td>object</td>\n",
       "      <td>8</td>\n",
       "      <td>100000</td>\n",
       "      <td>0</td>\n",
       "      <td>0.000</td>\n",
       "    </tr>\n",
       "    <tr>\n",
       "      <th>SCREENINGSTATUSFULL_CODE</th>\n",
       "      <td>float64</td>\n",
       "      <td>28</td>\n",
       "      <td>35064</td>\n",
       "      <td>64936</td>\n",
       "      <td>64.936</td>\n",
       "    </tr>\n",
       "    <tr>\n",
       "      <th>ER_STATUS</th>\n",
       "      <td>object</td>\n",
       "      <td>6</td>\n",
       "      <td>35809</td>\n",
       "      <td>64191</td>\n",
       "      <td>64.191</td>\n",
       "    </tr>\n",
       "    <tr>\n",
       "      <th>ER_SCORE</th>\n",
       "      <td>float64</td>\n",
       "      <td>9</td>\n",
       "      <td>10357</td>\n",
       "      <td>89643</td>\n",
       "      <td>89.643</td>\n",
       "    </tr>\n",
       "    <tr>\n",
       "      <th>PR_STATUS</th>\n",
       "      <td>object</td>\n",
       "      <td>6</td>\n",
       "      <td>23218</td>\n",
       "      <td>76782</td>\n",
       "      <td>76.782</td>\n",
       "    </tr>\n",
       "    <tr>\n",
       "      <th>PR_SCORE</th>\n",
       "      <td>float64</td>\n",
       "      <td>9</td>\n",
       "      <td>5917</td>\n",
       "      <td>94083</td>\n",
       "      <td>94.083</td>\n",
       "    </tr>\n",
       "    <tr>\n",
       "      <th>HER2_STATUS</th>\n",
       "      <td>object</td>\n",
       "      <td>5</td>\n",
       "      <td>32859</td>\n",
       "      <td>67141</td>\n",
       "      <td>67.141</td>\n",
       "    </tr>\n",
       "    <tr>\n",
       "      <th>CANCERCAREPLANINTENT</th>\n",
       "      <td>object</td>\n",
       "      <td>6</td>\n",
       "      <td>52741</td>\n",
       "      <td>47259</td>\n",
       "      <td>47.259</td>\n",
       "    </tr>\n",
       "    <tr>\n",
       "      <th>PERFORMANCESTATUS</th>\n",
       "      <td>object</td>\n",
       "      <td>10</td>\n",
       "      <td>50397</td>\n",
       "      <td>49603</td>\n",
       "      <td>49.603</td>\n",
       "    </tr>\n",
       "    <tr>\n",
       "      <th>CNS</th>\n",
       "      <td>object</td>\n",
       "      <td>11</td>\n",
       "      <td>26163</td>\n",
       "      <td>73837</td>\n",
       "      <td>73.837</td>\n",
       "    </tr>\n",
       "    <tr>\n",
       "      <th>ACE27</th>\n",
       "      <td>object</td>\n",
       "      <td>8</td>\n",
       "      <td>12886</td>\n",
       "      <td>87114</td>\n",
       "      <td>87.114</td>\n",
       "    </tr>\n",
       "    <tr>\n",
       "      <th>GLEASON_PRIMARY</th>\n",
       "      <td>float64</td>\n",
       "      <td>0</td>\n",
       "      <td>0</td>\n",
       "      <td>100000</td>\n",
       "      <td>100.000</td>\n",
       "    </tr>\n",
       "    <tr>\n",
       "      <th>GLEASON_SECONDARY</th>\n",
       "      <td>float64</td>\n",
       "      <td>0</td>\n",
       "      <td>0</td>\n",
       "      <td>100000</td>\n",
       "      <td>100.000</td>\n",
       "    </tr>\n",
       "    <tr>\n",
       "      <th>GLEASON_TERTIARY</th>\n",
       "      <td>float64</td>\n",
       "      <td>0</td>\n",
       "      <td>0</td>\n",
       "      <td>100000</td>\n",
       "      <td>100.000</td>\n",
       "    </tr>\n",
       "    <tr>\n",
       "      <th>GLEASON_COMBINED</th>\n",
       "      <td>float64</td>\n",
       "      <td>0</td>\n",
       "      <td>0</td>\n",
       "      <td>100000</td>\n",
       "      <td>100.000</td>\n",
       "    </tr>\n",
       "    <tr>\n",
       "      <th>DATE_FIRST_SURGERY</th>\n",
       "      <td>object</td>\n",
       "      <td>2073</td>\n",
       "      <td>68232</td>\n",
       "      <td>31768</td>\n",
       "      <td>31.768</td>\n",
       "    </tr>\n",
       "    <tr>\n",
       "      <th>LATERALITY</th>\n",
       "      <td>object</td>\n",
       "      <td>5</td>\n",
       "      <td>100000</td>\n",
       "      <td>0</td>\n",
       "      <td>0.000</td>\n",
       "    </tr>\n",
       "    <tr>\n",
       "      <th>QUINTILE_2015</th>\n",
       "      <td>object</td>\n",
       "      <td>5</td>\n",
       "      <td>100000</td>\n",
       "      <td>0</td>\n",
       "      <td>0.000</td>\n",
       "    </tr>\n",
       "    <tr>\n",
       "      <th>SEX_y</th>\n",
       "      <td>int64</td>\n",
       "      <td>2</td>\n",
       "      <td>100000</td>\n",
       "      <td>0</td>\n",
       "      <td>0.000</td>\n",
       "    </tr>\n",
       "    <tr>\n",
       "      <th>LINKNUMBER_y</th>\n",
       "      <td>int64</td>\n",
       "      <td>100000</td>\n",
       "      <td>100000</td>\n",
       "      <td>0</td>\n",
       "      <td>0.000</td>\n",
       "    </tr>\n",
       "  </tbody>\n",
       "</table>\n",
       "</div>"
      ],
      "text/plain": [
       "                            dtypes  nunique   count  missing values  \\\n",
       "Unnamed: 0_x                 int64   100000  100000               0   \n",
       "PATIENTID                    int64   100000  100000               0   \n",
       "ETHNICITY                   object       20   98032            1968   \n",
       "DEATHCAUSECODE_1A           object     1683   43017           56983   \n",
       "DEATHCAUSECODE_1B           object     1288   11956           88044   \n",
       "DEATHCAUSECODE_1C           object      540    2036           97964   \n",
       "DEATHCAUSECODE_2            object     5697   18506           81494   \n",
       "DEATHCAUSECODE_UNDERLYING   object      691   43013           56987   \n",
       "DEATHLOCATIONCODE           object        7   43072           56928   \n",
       "NEWVITALSTATUS              object        2  100000               0   \n",
       "VITALSTATUSDATE             object     2238  100000               0   \n",
       "SEX_x                        int64        2  100000               0   \n",
       "LINKNUMBER_x                 int64   100000  100000               0   \n",
       "Unnamed: 0_y                 int64   100000  100000               0   \n",
       "TUMOURID                     int64   100000  100000               0   \n",
       "DIAGNOSISDATEBEST           object     1825  100000               0   \n",
       "SITE_ICD10_O2               object       28   99951              49   \n",
       "SITE_ICD10_O2_3CHAR         object        6  100000               0   \n",
       "MORPH_ICD10_O2             float64       99   99970              30   \n",
       "BEHAVIOUR_ICD10_O2          object        6   99976              24   \n",
       "T_BEST                      object       30   86777           13223   \n",
       "N_BEST                      object       16   86670           13330   \n",
       "M_BEST                      object        6   79316           20684   \n",
       "STAGE_BEST                  object       29  100000               0   \n",
       "STAGE_BEST_SYSTEM          float64        9   86201           13799   \n",
       "GRADE                       object        5   99396             604   \n",
       "AGE                          int64      102  100000               0   \n",
       "CREG_CODE                   object        8  100000               0   \n",
       "SCREENINGSTATUSFULL_CODE   float64       28   35064           64936   \n",
       "ER_STATUS                   object        6   35809           64191   \n",
       "ER_SCORE                   float64        9   10357           89643   \n",
       "PR_STATUS                   object        6   23218           76782   \n",
       "PR_SCORE                   float64        9    5917           94083   \n",
       "HER2_STATUS                 object        5   32859           67141   \n",
       "CANCERCAREPLANINTENT        object        6   52741           47259   \n",
       "PERFORMANCESTATUS           object       10   50397           49603   \n",
       "CNS                         object       11   26163           73837   \n",
       "ACE27                       object        8   12886           87114   \n",
       "GLEASON_PRIMARY            float64        0       0          100000   \n",
       "GLEASON_SECONDARY          float64        0       0          100000   \n",
       "GLEASON_TERTIARY           float64        0       0          100000   \n",
       "GLEASON_COMBINED           float64        0       0          100000   \n",
       "DATE_FIRST_SURGERY          object     2073   68232           31768   \n",
       "LATERALITY                  object        5  100000               0   \n",
       "QUINTILE_2015               object        5  100000               0   \n",
       "SEX_y                        int64        2  100000               0   \n",
       "LINKNUMBER_y                 int64   100000  100000               0   \n",
       "\n",
       "                           % of Missing_values  \n",
       "Unnamed: 0_x                             0.000  \n",
       "PATIENTID                                0.000  \n",
       "ETHNICITY                                1.968  \n",
       "DEATHCAUSECODE_1A                       56.983  \n",
       "DEATHCAUSECODE_1B                       88.044  \n",
       "DEATHCAUSECODE_1C                       97.964  \n",
       "DEATHCAUSECODE_2                        81.494  \n",
       "DEATHCAUSECODE_UNDERLYING               56.987  \n",
       "DEATHLOCATIONCODE                       56.928  \n",
       "NEWVITALSTATUS                           0.000  \n",
       "VITALSTATUSDATE                          0.000  \n",
       "SEX_x                                    0.000  \n",
       "LINKNUMBER_x                             0.000  \n",
       "Unnamed: 0_y                             0.000  \n",
       "TUMOURID                                 0.000  \n",
       "DIAGNOSISDATEBEST                        0.000  \n",
       "SITE_ICD10_O2                            0.049  \n",
       "SITE_ICD10_O2_3CHAR                      0.000  \n",
       "MORPH_ICD10_O2                           0.030  \n",
       "BEHAVIOUR_ICD10_O2                       0.024  \n",
       "T_BEST                                  13.223  \n",
       "N_BEST                                  13.330  \n",
       "M_BEST                                  20.684  \n",
       "STAGE_BEST                               0.000  \n",
       "STAGE_BEST_SYSTEM                       13.799  \n",
       "GRADE                                    0.604  \n",
       "AGE                                      0.000  \n",
       "CREG_CODE                                0.000  \n",
       "SCREENINGSTATUSFULL_CODE                64.936  \n",
       "ER_STATUS                               64.191  \n",
       "ER_SCORE                                89.643  \n",
       "PR_STATUS                               76.782  \n",
       "PR_SCORE                                94.083  \n",
       "HER2_STATUS                             67.141  \n",
       "CANCERCAREPLANINTENT                    47.259  \n",
       "PERFORMANCESTATUS                       49.603  \n",
       "CNS                                     73.837  \n",
       "ACE27                                   87.114  \n",
       "GLEASON_PRIMARY                        100.000  \n",
       "GLEASON_SECONDARY                      100.000  \n",
       "GLEASON_TERTIARY                       100.000  \n",
       "GLEASON_COMBINED                       100.000  \n",
       "DATE_FIRST_SURGERY                      31.768  \n",
       "LATERALITY                               0.000  \n",
       "QUINTILE_2015                            0.000  \n",
       "SEX_y                                    0.000  \n",
       "LINKNUMBER_y                             0.000  "
      ]
     },
     "execution_count": 9,
     "metadata": {},
     "output_type": "execute_result"
    }
   ],
   "source": [
    " get_data_summary(data)"
   ]
  },
  {
   "cell_type": "code",
   "execution_count": 10,
   "metadata": {
    "execution": {
     "iopub.execute_input": "2023-08-23T19:11:12.748764Z",
     "iopub.status.busy": "2023-08-23T19:11:12.748394Z",
     "iopub.status.idle": "2023-08-23T19:11:12.755439Z",
     "shell.execute_reply": "2023-08-23T19:11:12.754629Z",
     "shell.execute_reply.started": "2023-08-23T19:11:12.748732Z"
    },
    "id": "NF6uNAFacPdQ",
    "outputId": "3a726c29-031d-4da1-c56b-a3882f71e4b3"
   },
   "outputs": [
    {
     "data": {
      "text/plain": [
       "Index(['Unnamed: 0_x', 'PATIENTID', 'ETHNICITY', 'DEATHCAUSECODE_1A',\n",
       "       'DEATHCAUSECODE_1B', 'DEATHCAUSECODE_1C', 'DEATHCAUSECODE_2',\n",
       "       'DEATHCAUSECODE_UNDERLYING', 'DEATHLOCATIONCODE', 'NEWVITALSTATUS',\n",
       "       'VITALSTATUSDATE', 'SEX_x', 'LINKNUMBER_x', 'Unnamed: 0_y', 'TUMOURID',\n",
       "       'DIAGNOSISDATEBEST', 'SITE_ICD10_O2', 'SITE_ICD10_O2_3CHAR',\n",
       "       'MORPH_ICD10_O2', 'BEHAVIOUR_ICD10_O2', 'T_BEST', 'N_BEST', 'M_BEST',\n",
       "       'STAGE_BEST', 'STAGE_BEST_SYSTEM', 'GRADE', 'AGE', 'CREG_CODE',\n",
       "       'SCREENINGSTATUSFULL_CODE', 'ER_STATUS', 'ER_SCORE', 'PR_STATUS',\n",
       "       'PR_SCORE', 'HER2_STATUS', 'CANCERCAREPLANINTENT', 'PERFORMANCESTATUS',\n",
       "       'CNS', 'ACE27', 'GLEASON_PRIMARY', 'GLEASON_SECONDARY',\n",
       "       'GLEASON_TERTIARY', 'GLEASON_COMBINED', 'DATE_FIRST_SURGERY',\n",
       "       'LATERALITY', 'QUINTILE_2015', 'SEX_y', 'LINKNUMBER_y'],\n",
       "      dtype='object')"
      ]
     },
     "execution_count": 10,
     "metadata": {},
     "output_type": "execute_result"
    }
   ],
   "source": [
    "data.columns"
   ]
  },
  {
   "cell_type": "markdown",
   "metadata": {
    "id": "lXd0kOI5cPdR",
    "jp-MarkdownHeadingCollapsed": true
   },
   "source": [
    "### Data Cleaning\n",
    "> Rename column names if neccessary  \n",
    "convert data types                                                                                             \n",
    "Remove unnecessary variables                                                                                                   \n",
    "Recode variable values                                                                                                                      \n",
    "Transform some data"
   ]
  },
  {
   "cell_type": "markdown",
   "metadata": {
    "id": "pncFV01BcPdR"
   },
   "source": [
    "##### Initial inspection of columns"
   ]
  },
  {
   "cell_type": "code",
   "execution_count": 11,
   "metadata": {
    "execution": {
     "iopub.execute_input": "2023-08-23T19:11:12.757244Z",
     "iopub.status.busy": "2023-08-23T19:11:12.756928Z",
     "iopub.status.idle": "2023-08-23T19:11:12.769884Z",
     "shell.execute_reply": "2023-08-23T19:11:12.768720Z",
     "shell.execute_reply.started": "2023-08-23T19:11:12.757215Z"
    },
    "id": "Btd2_b2lcPdR",
    "outputId": "1bab7af4-aeca-49dc-c79d-5bd8ba4cfdeb"
   },
   "outputs": [
    {
     "data": {
      "text/plain": [
       "13    Unnamed: 0\n",
       "15     PATIENTID\n",
       "46           SEX\n",
       "47    LINKNUMBER\n",
       "dtype: object"
      ]
     },
     "execution_count": 11,
     "metadata": {},
     "output_type": "execute_result"
    }
   ],
   "source": [
    "all_columns = pd.Series(list(df1) + list(df2))\n",
    "all_columns[all_columns.duplicated()]"
   ]
  },
  {
   "cell_type": "code",
   "execution_count": 12,
   "metadata": {
    "execution": {
     "iopub.execute_input": "2023-08-23T19:11:12.771917Z",
     "iopub.status.busy": "2023-08-23T19:11:12.771537Z",
     "iopub.status.idle": "2023-08-23T19:11:12.895970Z",
     "shell.execute_reply": "2023-08-23T19:11:12.895024Z",
     "shell.execute_reply.started": "2023-08-23T19:11:12.771886Z"
    },
    "id": "6R0WPo6RcPdS",
    "outputId": "e6fddcc6-e2ee-4060-c8e6-63ca0dd05e2e"
   },
   "outputs": [
    {
     "data": {
      "text/html": [
       "<div>\n",
       "<style scoped>\n",
       "    .dataframe tbody tr th:only-of-type {\n",
       "        vertical-align: middle;\n",
       "    }\n",
       "\n",
       "    .dataframe tbody tr th {\n",
       "        vertical-align: top;\n",
       "    }\n",
       "\n",
       "    .dataframe thead th {\n",
       "        text-align: right;\n",
       "    }\n",
       "</style>\n",
       "<table border=\"1\" class=\"dataframe\">\n",
       "  <thead>\n",
       "    <tr style=\"text-align: right;\">\n",
       "      <th></th>\n",
       "      <th>Unnamed: 0_x</th>\n",
       "      <th>PATIENTID</th>\n",
       "      <th>ETHNICITY</th>\n",
       "      <th>DEATHCAUSECODE_1A</th>\n",
       "      <th>DEATHCAUSECODE_1B</th>\n",
       "      <th>DEATHCAUSECODE_1C</th>\n",
       "      <th>DEATHCAUSECODE_2</th>\n",
       "      <th>DEATHCAUSECODE_UNDERLYING</th>\n",
       "      <th>DEATHLOCATIONCODE</th>\n",
       "      <th>NEWVITALSTATUS</th>\n",
       "      <th>...</th>\n",
       "      <th>ACE27</th>\n",
       "      <th>GLEASON_PRIMARY</th>\n",
       "      <th>GLEASON_SECONDARY</th>\n",
       "      <th>GLEASON_TERTIARY</th>\n",
       "      <th>GLEASON_COMBINED</th>\n",
       "      <th>DATE_FIRST_SURGERY</th>\n",
       "      <th>LATERALITY</th>\n",
       "      <th>QUINTILE_2015</th>\n",
       "      <th>SEX_y</th>\n",
       "      <th>LINKNUMBER_y</th>\n",
       "    </tr>\n",
       "  </thead>\n",
       "  <tbody>\n",
       "  </tbody>\n",
       "</table>\n",
       "<p>0 rows × 47 columns</p>\n",
       "</div>"
      ],
      "text/plain": [
       "Empty DataFrame\n",
       "Columns: [Unnamed: 0_x, PATIENTID, ETHNICITY, DEATHCAUSECODE_1A, DEATHCAUSECODE_1B, DEATHCAUSECODE_1C, DEATHCAUSECODE_2, DEATHCAUSECODE_UNDERLYING, DEATHLOCATIONCODE, NEWVITALSTATUS, VITALSTATUSDATE, SEX_x, LINKNUMBER_x, Unnamed: 0_y, TUMOURID, DIAGNOSISDATEBEST, SITE_ICD10_O2, SITE_ICD10_O2_3CHAR, MORPH_ICD10_O2, BEHAVIOUR_ICD10_O2, T_BEST, N_BEST, M_BEST, STAGE_BEST, STAGE_BEST_SYSTEM, GRADE, AGE, CREG_CODE, SCREENINGSTATUSFULL_CODE, ER_STATUS, ER_SCORE, PR_STATUS, PR_SCORE, HER2_STATUS, CANCERCAREPLANINTENT, PERFORMANCESTATUS, CNS, ACE27, GLEASON_PRIMARY, GLEASON_SECONDARY, GLEASON_TERTIARY, GLEASON_COMBINED, DATE_FIRST_SURGERY, LATERALITY, QUINTILE_2015, SEX_y, LINKNUMBER_y]\n",
       "Index: []\n",
       "\n",
       "[0 rows x 47 columns]"
      ]
     },
     "execution_count": 12,
     "metadata": {},
     "output_type": "execute_result"
    }
   ],
   "source": [
    "# Examine any mismatches in the merged data for sex, linknumber and unnamed\n",
    "data.loc[data['SEX_x']!=data['SEX_y']]\n",
    "data.loc[data['LINKNUMBER_x']!=data['LINKNUMBER_y']]\n",
    "data.loc[data['Unnamed: 0_x']!=data['Unnamed: 0_y']]"
   ]
  },
  {
   "cell_type": "code",
   "execution_count": 13,
   "metadata": {
    "execution": {
     "iopub.execute_input": "2023-08-23T19:11:12.898640Z",
     "iopub.status.busy": "2023-08-23T19:11:12.897767Z",
     "iopub.status.idle": "2023-08-23T19:11:12.952795Z",
     "shell.execute_reply": "2023-08-23T19:11:12.951521Z",
     "shell.execute_reply.started": "2023-08-23T19:11:12.898593Z"
    },
    "id": "7ftJIaH6cPdS"
   },
   "outputs": [],
   "source": [
    "# Drop duplicated colunms as a result of the merge and initial unneeded columns\n",
    "drop_list = ['SEX_y','LINKNUMBER_y', 'Unnamed: 0_y','Unnamed: 0_x', 'LINKNUMBER_x', 'GLEASON_PRIMARY', 'GLEASON_SECONDARY',\n",
    "       'GLEASON_TERTIARY', 'GLEASON_COMBINED']\n",
    "\n",
    "data.drop(columns= drop_list, axis = 1, inplace=True )\n"
   ]
  },
  {
   "cell_type": "markdown",
   "metadata": {
    "id": "66tUGc3bcPdS"
   },
   "source": [
    "##### Ethnicity\n",
    "1. aggregate ethnic groups\n",
    "2. fill missing values with either mode or MICE"
   ]
  },
  {
   "cell_type": "code",
   "execution_count": 14,
   "metadata": {
    "execution": {
     "iopub.execute_input": "2023-08-23T19:11:12.955540Z",
     "iopub.status.busy": "2023-08-23T19:11:12.954514Z",
     "iopub.status.idle": "2023-08-23T19:11:12.973975Z",
     "shell.execute_reply": "2023-08-23T19:11:12.973116Z",
     "shell.execute_reply.started": "2023-08-23T19:11:12.955503Z"
    },
    "id": "zzYhdz-9cPdT",
    "outputId": "abb0d156-29e3-4c23-d8d6-44460d6a834b"
   },
   "outputs": [
    {
     "data": {
      "text/plain": [
       "A    85237\n",
       "C     3193\n",
       "Z     2818\n",
       "S     1103\n",
       "H      947\n",
       "B      882\n",
       "M      743\n",
       "L      547\n",
       "X      516\n",
       "J      512\n",
       "N      481\n",
       "P      246\n",
       "R      233\n",
       "K      177\n",
       "G      171\n",
       "D       85\n",
       "F       72\n",
       "E       49\n",
       "0       18\n",
       "8        2\n",
       "Name: ETHNICITY, dtype: int64"
      ]
     },
     "execution_count": 14,
     "metadata": {},
     "output_type": "execute_result"
    }
   ],
   "source": [
    "data.ETHNICITY.value_counts()"
   ]
  },
  {
   "cell_type": "markdown",
   "metadata": {
    "id": "cacEpRHqcPdT"
   },
   "source": [
    "##### Deathcause code"
   ]
  },
  {
   "cell_type": "markdown",
   "metadata": {
    "id": "PmCGRtYvcPdT"
   },
   "source": [
    "'DEATHCAUSECODE_1A',    \n",
    "'DEATHCAUSECODE_1B',   \n",
    " 'DEATHCAUSECODE_1C',   \n",
    " 'DEATHCAUSECODE_2',   \n",
    " 'DEATHCAUSECODE_UNDERLYING',     \n",
    " 'DEATHLOCATIONCODE': where the patient died\n",
    "\n",
    " 1. understand what they mean    \n",
    "  can we combine them to one column?\n",
    "2. the column contains more than one ICD code how can we address this: choose 1?"
   ]
  },
  {
   "cell_type": "code",
   "execution_count": 15,
   "metadata": {
    "execution": {
     "iopub.execute_input": "2023-08-23T19:11:12.975854Z",
     "iopub.status.busy": "2023-08-23T19:11:12.975047Z",
     "iopub.status.idle": "2023-08-23T19:11:12.998321Z",
     "shell.execute_reply": "2023-08-23T19:11:12.996955Z",
     "shell.execute_reply.started": "2023-08-23T19:11:12.975822Z"
    },
    "id": "gBuRr117cPdT",
    "outputId": "6a707c22-4cef-4a21-e3ba-7334f54dcd65"
   },
   "outputs": [
    {
     "data": {
      "text/plain": [
       "C349                       14538\n",
       "C509                        2467\n",
       "C189                        2309\n",
       "J189                        2209\n",
       "C798                        1990\n",
       "                           ...  \n",
       "M600                           1\n",
       "J449,I500                      1\n",
       "C19,C780,C787,C679,C786        1\n",
       "R64,C349                       1\n",
       "C19,Y839,T819                  1\n",
       "Name: DEATHCAUSECODE_1A, Length: 1683, dtype: int64"
      ]
     },
     "execution_count": 15,
     "metadata": {},
     "output_type": "execute_result"
    }
   ],
   "source": [
    "data.DEATHCAUSECODE_1A.value_counts()"
   ]
  },
  {
   "cell_type": "code",
   "execution_count": 16,
   "metadata": {
    "execution": {
     "iopub.execute_input": "2023-08-23T19:11:13.001268Z",
     "iopub.status.busy": "2023-08-23T19:11:13.000073Z",
     "iopub.status.idle": "2023-08-23T19:11:20.802249Z",
     "shell.execute_reply": "2023-08-23T19:11:20.801135Z",
     "shell.execute_reply.started": "2023-08-23T19:11:13.001230Z"
    },
    "id": "Ql9uIaGI3kGh"
   },
   "outputs": [],
   "source": [
    "# Fill in other death cause codes available in death cause code 1A\n",
    "#data['ALIVE_DEATHCAUSECODE'] = np.nan\n",
    "\n",
    "# Define the prioritized column order\n",
    "cause_columns = ['DEATHCAUSECODE_1A', 'DEATHCAUSECODE_1B', 'DEATHCAUSECODE_1C', 'DEATHCAUSECODE_2', 'DEATHCAUSECODE_UNDERLYING']\n",
    "\n",
    "# Iterate through each row\n",
    "for index, row in data.iterrows():\n",
    "    # Iterate through the prioritized columns\n",
    "    for column in cause_columns:\n",
    "        # Check if the cause of death value exists in the column\n",
    "        if not pd.isna(row[column]):\n",
    "            # Assign the cause of death value to the 'DEATHCAUSECODE' column\n",
    "            data.at[index, 'DEATHCAUSECODE_1A'] = row[column]\n",
    "            break  # Exit the loop once a value is found"
   ]
  },
  {
   "cell_type": "code",
   "execution_count": 17,
   "metadata": {
    "execution": {
     "iopub.execute_input": "2023-08-23T19:11:20.803977Z",
     "iopub.status.busy": "2023-08-23T19:11:20.803635Z",
     "iopub.status.idle": "2023-08-23T19:11:20.808867Z",
     "shell.execute_reply": "2023-08-23T19:11:20.807813Z",
     "shell.execute_reply.started": "2023-08-23T19:11:20.803947Z"
    },
    "id": "HjDFeZ9Q7Jyx"
   },
   "outputs": [],
   "source": [
    "# Change vital status of patients alive but with a death cause code to dead\n",
    "#data.loc[(data['NEWVITALSTATUS']== 'A') & (data['DEATHCAUSECODE_1A'].notnull()), 'NEWVITALSTATUS']= 'D'"
   ]
  },
  {
   "cell_type": "code",
   "execution_count": 18,
   "metadata": {
    "execution": {
     "iopub.execute_input": "2023-08-23T19:11:20.811181Z",
     "iopub.status.busy": "2023-08-23T19:11:20.810731Z",
     "iopub.status.idle": "2023-08-23T19:11:20.832829Z",
     "shell.execute_reply": "2023-08-23T19:11:20.831337Z",
     "shell.execute_reply.started": "2023-08-23T19:11:20.811148Z"
    },
    "id": "7ZARYBLGcPdU"
   },
   "outputs": [],
   "source": [
    "# fill in 'A000' as death cause code for patients that are alive\n",
    "\n",
    "data.loc[data['NEWVITALSTATUS']== 'A', 'DEATHCAUSECODE_1A'] = 'A000'"
   ]
  },
  {
   "cell_type": "code",
   "execution_count": 19,
   "metadata": {
    "execution": {
     "iopub.execute_input": "2023-08-23T19:11:20.835368Z",
     "iopub.status.busy": "2023-08-23T19:11:20.834279Z",
     "iopub.status.idle": "2023-08-23T19:11:20.877301Z",
     "shell.execute_reply": "2023-08-23T19:11:20.876131Z",
     "shell.execute_reply.started": "2023-08-23T19:11:20.835326Z"
    },
    "id": "HiR_nTMFDOLE"
   },
   "outputs": [],
   "source": [
    "data.drop(['DEATHCAUSECODE_1B', 'DEATHCAUSECODE_1C', 'DEATHCAUSECODE_2', 'DEATHCAUSECODE_UNDERLYING'], axis=1, inplace=True)"
   ]
  },
  {
   "cell_type": "code",
   "execution_count": 20,
   "metadata": {
    "execution": {
     "iopub.execute_input": "2023-08-23T19:11:20.879131Z",
     "iopub.status.busy": "2023-08-23T19:11:20.878783Z",
     "iopub.status.idle": "2023-08-23T19:11:20.892657Z",
     "shell.execute_reply": "2023-08-23T19:11:20.891600Z",
     "shell.execute_reply.started": "2023-08-23T19:11:20.879103Z"
    },
    "id": "191Wmt3_DPau",
    "outputId": "5ccaf385-7e12-4f3f-81fa-1941401dc679"
   },
   "outputs": [
    {
     "data": {
      "text/plain": [
       "14681"
      ]
     },
     "execution_count": 20,
     "metadata": {},
     "output_type": "execute_result"
    }
   ],
   "source": [
    "data.DEATHCAUSECODE_1A.isnull().sum()"
   ]
  },
  {
   "cell_type": "code",
   "execution_count": 21,
   "metadata": {
    "execution": {
     "iopub.execute_input": "2023-08-23T19:11:20.894751Z",
     "iopub.status.busy": "2023-08-23T19:11:20.893908Z",
     "iopub.status.idle": "2023-08-23T19:11:20.966934Z",
     "shell.execute_reply": "2023-08-23T19:11:20.965420Z",
     "shell.execute_reply.started": "2023-08-23T19:11:20.894718Z"
    },
    "id": "2MPk75YAFWVt"
   },
   "outputs": [],
   "source": [
    "data = data.dropna(subset=['DEATHCAUSECODE_1A'])"
   ]
  },
  {
   "cell_type": "code",
   "execution_count": 22,
   "metadata": {
    "execution": {
     "iopub.execute_input": "2023-08-23T19:11:20.969683Z",
     "iopub.status.busy": "2023-08-23T19:11:20.969264Z",
     "iopub.status.idle": "2023-08-23T19:11:20.975334Z",
     "shell.execute_reply": "2023-08-23T19:11:20.973533Z",
     "shell.execute_reply.started": "2023-08-23T19:11:20.969650Z"
    },
    "id": "RsqNsFaP7yVY"
   },
   "outputs": [],
   "source": [
    "# Check patients who have no death cause code but have a death location\n",
    "#data.loc[data['DEATHCAUSECODE_1A'].isna() & data['DEATHLOCATIONCODE'].notnull()]"
   ]
  },
  {
   "cell_type": "code",
   "execution_count": 23,
   "metadata": {
    "execution": {
     "iopub.execute_input": "2023-08-23T19:11:20.977015Z",
     "iopub.status.busy": "2023-08-23T19:11:20.976557Z",
     "iopub.status.idle": "2023-08-23T19:11:20.989055Z",
     "shell.execute_reply": "2023-08-23T19:11:20.987368Z",
     "shell.execute_reply.started": "2023-08-23T19:11:20.976977Z"
    },
    "id": "ffeG9MY0K1Wc"
   },
   "outputs": [],
   "source": [
    "# # Create a new column 'DEATHCAUSECODE' with NaN values\n",
    "# joined_dataset['ALIVE_DEATHCAUSECODE'] = np.nan\n",
    "\n",
    "# # Define the prioritized column order\n",
    "# cause_columns = ['DEATHCAUSECODE_1A', 'DEATHCAUSECODE_1B', 'DEATHCAUSECODE_1C']\n",
    "\n",
    "# # Iterate through each row\n",
    "# for index, row in df.iterrows():\n",
    "#     # Iterate through the prioritized columns\n",
    "#     for column in cause_columns:\n",
    "#         # Check if the cause of death value exists in the column\n",
    "#         if not pd.isna(row[column]):\n",
    "#             # Assign the cause of death value to the 'DEATHCAUSECODE' column\n",
    "#             joined_dataset.at[index, 'ALIVE_DEATHCAUSECODE'] = row[column]\n",
    "#             break  # Exit the loop once a value is found"
   ]
  },
  {
   "cell_type": "code",
   "execution_count": 24,
   "metadata": {
    "execution": {
     "iopub.execute_input": "2023-08-23T19:11:20.999272Z",
     "iopub.status.busy": "2023-08-23T19:11:20.998329Z",
     "iopub.status.idle": "2023-08-23T19:11:21.006455Z",
     "shell.execute_reply": "2023-08-23T19:11:21.005417Z",
     "shell.execute_reply.started": "2023-08-23T19:11:20.999230Z"
    },
    "id": "YRVXyy3UDLG5"
   },
   "outputs": [],
   "source": [
    "#data.loc[(data['NEWVITALSTATUS']== 'D') & data['DEATHCAUSECODE_1A'].isna() & data['DEATHLOCATIONCODE'].isna()]"
   ]
  },
  {
   "cell_type": "markdown",
   "metadata": {
    "id": "HpfGKGqMcPdV"
   },
   "source": [
    "##### DEATHLOCATIONCODE\n",
    "\n",
    "\n",
    "1\tHOSPITAL   \n",
    "2\tPRIVATE HOME   \n",
    "3\tHOSPICE NOS    \n",
    "4\tNURSING HOME   \n",
    "5\tOTHER   \n",
    "X\tUNKNOWN"
   ]
  },
  {
   "cell_type": "code",
   "execution_count": 25,
   "metadata": {
    "execution": {
     "iopub.execute_input": "2023-08-23T19:11:21.009029Z",
     "iopub.status.busy": "2023-08-23T19:11:21.008595Z",
     "iopub.status.idle": "2023-08-23T19:11:21.027387Z",
     "shell.execute_reply": "2023-08-23T19:11:21.026302Z",
     "shell.execute_reply.started": "2023-08-23T19:11:21.008986Z"
    },
    "id": "KGZsuhWmcPdV",
    "outputId": "39174ac1-5853-49eb-eb18-b80bdbc09d39"
   },
   "outputs": [
    {
     "data": {
      "text/plain": [
       "1    17020\n",
       "4    14320\n",
       "2     5345\n",
       "X     3683\n",
       "5     1818\n",
       "6      833\n",
       "3        2\n",
       "Name: DEATHLOCATIONCODE, dtype: int64"
      ]
     },
     "execution_count": 25,
     "metadata": {},
     "output_type": "execute_result"
    }
   ],
   "source": [
    "data.DEATHLOCATIONCODE.value_counts()"
   ]
  },
  {
   "cell_type": "code",
   "execution_count": 26,
   "metadata": {
    "execution": {
     "iopub.execute_input": "2023-08-23T19:11:21.029460Z",
     "iopub.status.busy": "2023-08-23T19:11:21.028643Z",
     "iopub.status.idle": "2023-08-23T19:11:21.041823Z",
     "shell.execute_reply": "2023-08-23T19:11:21.040716Z",
     "shell.execute_reply.started": "2023-08-23T19:11:21.029429Z"
    },
    "id": "NxYYx_tS07uM",
    "outputId": "23c74d0b-efd7-4c05-cea6-9efce2e7cd3f"
   },
   "outputs": [
    {
     "data": {
      "text/plain": [
       "42298"
      ]
     },
     "execution_count": 26,
     "metadata": {},
     "output_type": "execute_result"
    }
   ],
   "source": [
    "data.DEATHLOCATIONCODE.isnull().sum()"
   ]
  },
  {
   "cell_type": "code",
   "execution_count": 27,
   "metadata": {
    "execution": {
     "iopub.execute_input": "2023-08-23T19:11:21.044508Z",
     "iopub.status.busy": "2023-08-23T19:11:21.043245Z",
     "iopub.status.idle": "2023-08-23T19:11:21.061600Z",
     "shell.execute_reply": "2023-08-23T19:11:21.059662Z",
     "shell.execute_reply.started": "2023-08-23T19:11:21.044458Z"
    },
    "id": "VPWoO6V6pDgG"
   },
   "outputs": [],
   "source": [
    "# fill in 'A' as death location code for patients that are alive\n",
    "\n",
    "data.loc[data['NEWVITALSTATUS']== 'A', 'DEATHLOCATIONCODE'] = 'A'"
   ]
  },
  {
   "cell_type": "code",
   "execution_count": 28,
   "metadata": {
    "execution": {
     "iopub.execute_input": "2023-08-23T19:11:21.066146Z",
     "iopub.status.busy": "2023-08-23T19:11:21.065700Z",
     "iopub.status.idle": "2023-08-23T19:11:21.080200Z",
     "shell.execute_reply": "2023-08-23T19:11:21.078939Z",
     "shell.execute_reply.started": "2023-08-23T19:11:21.066098Z"
    },
    "id": "kyKsC98hpN0k",
    "outputId": "b97e930c-2431-4de2-e316-4c3eb1f305f1"
   },
   "outputs": [
    {
     "data": {
      "text/plain": [
       "1737"
      ]
     },
     "execution_count": 28,
     "metadata": {},
     "output_type": "execute_result"
    }
   ],
   "source": [
    "data.DEATHLOCATIONCODE.isnull().sum()"
   ]
  },
  {
   "cell_type": "code",
   "execution_count": 29,
   "metadata": {
    "execution": {
     "iopub.execute_input": "2023-08-23T19:11:21.083194Z",
     "iopub.status.busy": "2023-08-23T19:11:21.082722Z",
     "iopub.status.idle": "2023-08-23T19:11:21.090479Z",
     "shell.execute_reply": "2023-08-23T19:11:21.089337Z",
     "shell.execute_reply.started": "2023-08-23T19:11:21.083151Z"
    },
    "id": "_OwUn1J5cPdV"
   },
   "outputs": [],
   "source": [
    "#data.loc[data['DEATHLOCATIONCODE'].isnull() & data['NEWVITALSTATUS']== 'A']\n",
    "#data.loc[(data['NEWVITALSTATUS']== 'A') & (data['DEATHLOCATIONCODE'].notnull())]"
   ]
  },
  {
   "cell_type": "code",
   "execution_count": 30,
   "metadata": {
    "execution": {
     "iopub.execute_input": "2023-08-23T19:11:21.092866Z",
     "iopub.status.busy": "2023-08-23T19:11:21.091818Z",
     "iopub.status.idle": "2023-08-23T19:11:21.153374Z",
     "shell.execute_reply": "2023-08-23T19:11:21.152201Z",
     "shell.execute_reply.started": "2023-08-23T19:11:21.092823Z"
    },
    "id": "7-f6jwjLr7y9"
   },
   "outputs": [],
   "source": [
    "#\n",
    "data = data.dropna(subset=['DEATHLOCATIONCODE'])\n"
   ]
  },
  {
   "cell_type": "markdown",
   "metadata": {
    "id": "o29XmKOscPdV"
   },
   "source": [
    "##### Address Data type mismatches"
   ]
  },
  {
   "cell_type": "markdown",
   "metadata": {
    "id": "kMLkEajdcPdV"
   },
   "source": [
    "VITALSTATUSDATE, DIAGNOSISDATEBEST, DATE_FIRST_SURGERY   \n",
    "1. what other variables can we generate from these dates\n",
    "e.g    \n",
    "diag date - date of first surgery\n",
    "days"
   ]
  },
  {
   "cell_type": "code",
   "execution_count": 31,
   "metadata": {
    "execution": {
     "iopub.execute_input": "2023-08-23T19:11:21.155507Z",
     "iopub.status.busy": "2023-08-23T19:11:21.154808Z",
     "iopub.status.idle": "2023-08-23T19:11:21.256009Z",
     "shell.execute_reply": "2023-08-23T19:11:21.255192Z",
     "shell.execute_reply.started": "2023-08-23T19:11:21.155473Z"
    },
    "id": "n1qes28xcPdW"
   },
   "outputs": [],
   "source": [
    "# Convert data types\n",
    "data.DATE_FIRST_SURGERY = pd.to_datetime(data.DATE_FIRST_SURGERY)\n",
    "data.VITALSTATUSDATE = pd.to_datetime(data.VITALSTATUSDATE)\n",
    "data.DIAGNOSISDATEBEST = pd.to_datetime(data.DIAGNOSISDATEBEST)"
   ]
  },
  {
   "cell_type": "markdown",
   "metadata": {
    "id": "KCtTV0fCcPdW"
   },
   "source": [
    "##### Check for any logical discrepancies"
   ]
  },
  {
   "cell_type": "code",
   "execution_count": 32,
   "metadata": {
    "execution": {
     "iopub.execute_input": "2023-08-23T19:11:21.258301Z",
     "iopub.status.busy": "2023-08-23T19:11:21.257270Z",
     "iopub.status.idle": "2023-08-23T19:11:21.277266Z",
     "shell.execute_reply": "2023-08-23T19:11:21.276083Z",
     "shell.execute_reply.started": "2023-08-23T19:11:21.258257Z"
    },
    "id": "3t7CTaGDcPdW",
    "outputId": "ac374447-d049-474b-ce6a-53254a613f5e"
   },
   "outputs": [
    {
     "data": {
      "text/html": [
       "<div>\n",
       "<style scoped>\n",
       "    .dataframe tbody tr th:only-of-type {\n",
       "        vertical-align: middle;\n",
       "    }\n",
       "\n",
       "    .dataframe tbody tr th {\n",
       "        vertical-align: top;\n",
       "    }\n",
       "\n",
       "    .dataframe thead th {\n",
       "        text-align: right;\n",
       "    }\n",
       "</style>\n",
       "<table border=\"1\" class=\"dataframe\">\n",
       "  <thead>\n",
       "    <tr style=\"text-align: right;\">\n",
       "      <th></th>\n",
       "      <th>PATIENTID</th>\n",
       "      <th>ETHNICITY</th>\n",
       "      <th>DEATHCAUSECODE_1A</th>\n",
       "      <th>DEATHLOCATIONCODE</th>\n",
       "      <th>NEWVITALSTATUS</th>\n",
       "      <th>VITALSTATUSDATE</th>\n",
       "      <th>SEX_x</th>\n",
       "      <th>TUMOURID</th>\n",
       "      <th>DIAGNOSISDATEBEST</th>\n",
       "      <th>SITE_ICD10_O2</th>\n",
       "      <th>...</th>\n",
       "      <th>PR_STATUS</th>\n",
       "      <th>PR_SCORE</th>\n",
       "      <th>HER2_STATUS</th>\n",
       "      <th>CANCERCAREPLANINTENT</th>\n",
       "      <th>PERFORMANCESTATUS</th>\n",
       "      <th>CNS</th>\n",
       "      <th>ACE27</th>\n",
       "      <th>DATE_FIRST_SURGERY</th>\n",
       "      <th>LATERALITY</th>\n",
       "      <th>QUINTILE_2015</th>\n",
       "    </tr>\n",
       "  </thead>\n",
       "  <tbody>\n",
       "  </tbody>\n",
       "</table>\n",
       "<p>0 rows × 34 columns</p>\n",
       "</div>"
      ],
      "text/plain": [
       "Empty DataFrame\n",
       "Columns: [PATIENTID, ETHNICITY, DEATHCAUSECODE_1A, DEATHLOCATIONCODE, NEWVITALSTATUS, VITALSTATUSDATE, SEX_x, TUMOURID, DIAGNOSISDATEBEST, SITE_ICD10_O2, SITE_ICD10_O2_3CHAR, MORPH_ICD10_O2, BEHAVIOUR_ICD10_O2, T_BEST, N_BEST, M_BEST, STAGE_BEST, STAGE_BEST_SYSTEM, GRADE, AGE, CREG_CODE, SCREENINGSTATUSFULL_CODE, ER_STATUS, ER_SCORE, PR_STATUS, PR_SCORE, HER2_STATUS, CANCERCAREPLANINTENT, PERFORMANCESTATUS, CNS, ACE27, DATE_FIRST_SURGERY, LATERALITY, QUINTILE_2015]\n",
       "Index: []\n",
       "\n",
       "[0 rows x 34 columns]"
      ]
     },
     "execution_count": 32,
     "metadata": {},
     "output_type": "execute_result"
    }
   ],
   "source": [
    "# Does any one have a vital status date before diagnosis date?\n",
    "data.loc[data['VITALSTATUSDATE'] < data['DIAGNOSISDATEBEST']]"
   ]
  },
  {
   "cell_type": "code",
   "execution_count": 33,
   "metadata": {
    "execution": {
     "iopub.execute_input": "2023-08-23T19:11:21.278917Z",
     "iopub.status.busy": "2023-08-23T19:11:21.278565Z",
     "iopub.status.idle": "2023-08-23T19:11:21.316552Z",
     "shell.execute_reply": "2023-08-23T19:11:21.315389Z",
     "shell.execute_reply.started": "2023-08-23T19:11:21.278886Z"
    },
    "id": "Ld2raYVgcPdW",
    "outputId": "f1d2da7e-d583-4baf-950f-8821888950e0"
   },
   "outputs": [
    {
     "data": {
      "text/html": [
       "<div>\n",
       "<style scoped>\n",
       "    .dataframe tbody tr th:only-of-type {\n",
       "        vertical-align: middle;\n",
       "    }\n",
       "\n",
       "    .dataframe tbody tr th {\n",
       "        vertical-align: top;\n",
       "    }\n",
       "\n",
       "    .dataframe thead th {\n",
       "        text-align: right;\n",
       "    }\n",
       "</style>\n",
       "<table border=\"1\" class=\"dataframe\">\n",
       "  <thead>\n",
       "    <tr style=\"text-align: right;\">\n",
       "      <th></th>\n",
       "      <th>PATIENTID</th>\n",
       "      <th>ETHNICITY</th>\n",
       "      <th>DEATHCAUSECODE_1A</th>\n",
       "      <th>DEATHLOCATIONCODE</th>\n",
       "      <th>NEWVITALSTATUS</th>\n",
       "      <th>VITALSTATUSDATE</th>\n",
       "      <th>SEX_x</th>\n",
       "      <th>TUMOURID</th>\n",
       "      <th>DIAGNOSISDATEBEST</th>\n",
       "      <th>SITE_ICD10_O2</th>\n",
       "      <th>...</th>\n",
       "      <th>PR_STATUS</th>\n",
       "      <th>PR_SCORE</th>\n",
       "      <th>HER2_STATUS</th>\n",
       "      <th>CANCERCAREPLANINTENT</th>\n",
       "      <th>PERFORMANCESTATUS</th>\n",
       "      <th>CNS</th>\n",
       "      <th>ACE27</th>\n",
       "      <th>DATE_FIRST_SURGERY</th>\n",
       "      <th>LATERALITY</th>\n",
       "      <th>QUINTILE_2015</th>\n",
       "    </tr>\n",
       "  </thead>\n",
       "  <tbody>\n",
       "    <tr>\n",
       "      <th>1751</th>\n",
       "      <td>80010943</td>\n",
       "      <td>A</td>\n",
       "      <td>C20,C780</td>\n",
       "      <td>2</td>\n",
       "      <td>D</td>\n",
       "      <td>2016-07-04</td>\n",
       "      <td>2</td>\n",
       "      <td>80010943</td>\n",
       "      <td>2014-04-29</td>\n",
       "      <td>C20</td>\n",
       "      <td>...</td>\n",
       "      <td>NaN</td>\n",
       "      <td>NaN</td>\n",
       "      <td>NaN</td>\n",
       "      <td>NaN</td>\n",
       "      <td>NaN</td>\n",
       "      <td>NaN</td>\n",
       "      <td>NaN</td>\n",
       "      <td>2014-04-28</td>\n",
       "      <td>9</td>\n",
       "      <td>3</td>\n",
       "    </tr>\n",
       "    <tr>\n",
       "      <th>2123</th>\n",
       "      <td>60086175</td>\n",
       "      <td>A</td>\n",
       "      <td>J180</td>\n",
       "      <td>2</td>\n",
       "      <td>D</td>\n",
       "      <td>2019-02-08</td>\n",
       "      <td>2</td>\n",
       "      <td>60086175</td>\n",
       "      <td>2015-07-27</td>\n",
       "      <td>C180</td>\n",
       "      <td>...</td>\n",
       "      <td>NaN</td>\n",
       "      <td>NaN</td>\n",
       "      <td>NaN</td>\n",
       "      <td>C</td>\n",
       "      <td>NaN</td>\n",
       "      <td>NaN</td>\n",
       "      <td>NaN</td>\n",
       "      <td>2015-07-24</td>\n",
       "      <td>9</td>\n",
       "      <td>4</td>\n",
       "    </tr>\n",
       "    <tr>\n",
       "      <th>2243</th>\n",
       "      <td>80001839</td>\n",
       "      <td>A</td>\n",
       "      <td>A000</td>\n",
       "      <td>A</td>\n",
       "      <td>A</td>\n",
       "      <td>2019-02-08</td>\n",
       "      <td>2</td>\n",
       "      <td>80001839</td>\n",
       "      <td>2014-08-15</td>\n",
       "      <td>C20</td>\n",
       "      <td>...</td>\n",
       "      <td>NaN</td>\n",
       "      <td>NaN</td>\n",
       "      <td>NaN</td>\n",
       "      <td>Z</td>\n",
       "      <td>9</td>\n",
       "      <td>NaN</td>\n",
       "      <td>NaN</td>\n",
       "      <td>2014-08-14</td>\n",
       "      <td>9</td>\n",
       "      <td>3</td>\n",
       "    </tr>\n",
       "    <tr>\n",
       "      <th>2640</th>\n",
       "      <td>40047500</td>\n",
       "      <td>A</td>\n",
       "      <td>A000</td>\n",
       "      <td>A</td>\n",
       "      <td>A</td>\n",
       "      <td>2019-02-11</td>\n",
       "      <td>1</td>\n",
       "      <td>40047500</td>\n",
       "      <td>2016-02-15</td>\n",
       "      <td>C349</td>\n",
       "      <td>...</td>\n",
       "      <td>NaN</td>\n",
       "      <td>NaN</td>\n",
       "      <td>NaN</td>\n",
       "      <td>Z</td>\n",
       "      <td>3</td>\n",
       "      <td>NaN</td>\n",
       "      <td>NaN</td>\n",
       "      <td>2016-02-13</td>\n",
       "      <td>9</td>\n",
       "      <td>4</td>\n",
       "    </tr>\n",
       "    <tr>\n",
       "      <th>3144</th>\n",
       "      <td>80015805</td>\n",
       "      <td>A</td>\n",
       "      <td>A000</td>\n",
       "      <td>A</td>\n",
       "      <td>A</td>\n",
       "      <td>2019-02-09</td>\n",
       "      <td>1</td>\n",
       "      <td>80015805</td>\n",
       "      <td>2014-04-28</td>\n",
       "      <td>C20</td>\n",
       "      <td>...</td>\n",
       "      <td>NaN</td>\n",
       "      <td>NaN</td>\n",
       "      <td>NaN</td>\n",
       "      <td>C</td>\n",
       "      <td>0</td>\n",
       "      <td>NaN</td>\n",
       "      <td>0</td>\n",
       "      <td>2014-03-28</td>\n",
       "      <td>9</td>\n",
       "      <td>1 - least deprived</td>\n",
       "    </tr>\n",
       "    <tr>\n",
       "      <th>...</th>\n",
       "      <td>...</td>\n",
       "      <td>...</td>\n",
       "      <td>...</td>\n",
       "      <td>...</td>\n",
       "      <td>...</td>\n",
       "      <td>...</td>\n",
       "      <td>...</td>\n",
       "      <td>...</td>\n",
       "      <td>...</td>\n",
       "      <td>...</td>\n",
       "      <td>...</td>\n",
       "      <td>...</td>\n",
       "      <td>...</td>\n",
       "      <td>...</td>\n",
       "      <td>...</td>\n",
       "      <td>...</td>\n",
       "      <td>...</td>\n",
       "      <td>...</td>\n",
       "      <td>...</td>\n",
       "      <td>...</td>\n",
       "      <td>...</td>\n",
       "    </tr>\n",
       "    <tr>\n",
       "      <th>95174</th>\n",
       "      <td>60033902</td>\n",
       "      <td>A</td>\n",
       "      <td>C189</td>\n",
       "      <td>1</td>\n",
       "      <td>D</td>\n",
       "      <td>2017-11-18</td>\n",
       "      <td>1</td>\n",
       "      <td>60033902</td>\n",
       "      <td>2016-08-24</td>\n",
       "      <td>C180</td>\n",
       "      <td>...</td>\n",
       "      <td>NaN</td>\n",
       "      <td>NaN</td>\n",
       "      <td>NaN</td>\n",
       "      <td>9</td>\n",
       "      <td>NaN</td>\n",
       "      <td>NaN</td>\n",
       "      <td>NaN</td>\n",
       "      <td>2016-08-23</td>\n",
       "      <td>R</td>\n",
       "      <td>2</td>\n",
       "    </tr>\n",
       "    <tr>\n",
       "      <th>96539</th>\n",
       "      <td>80042416</td>\n",
       "      <td>NaN</td>\n",
       "      <td>A000</td>\n",
       "      <td>A</td>\n",
       "      <td>A</td>\n",
       "      <td>2019-02-07</td>\n",
       "      <td>1</td>\n",
       "      <td>80042416</td>\n",
       "      <td>2015-02-11</td>\n",
       "      <td>C20</td>\n",
       "      <td>...</td>\n",
       "      <td>NaN</td>\n",
       "      <td>NaN</td>\n",
       "      <td>NaN</td>\n",
       "      <td>Cm</td>\n",
       "      <td>NaN</td>\n",
       "      <td>NaN</td>\n",
       "      <td>NaN</td>\n",
       "      <td>2015-02-08</td>\n",
       "      <td>9</td>\n",
       "      <td>1 - least deprived</td>\n",
       "    </tr>\n",
       "    <tr>\n",
       "      <th>97137</th>\n",
       "      <td>40120559</td>\n",
       "      <td>A</td>\n",
       "      <td>C349</td>\n",
       "      <td>2</td>\n",
       "      <td>D</td>\n",
       "      <td>2013-12-02</td>\n",
       "      <td>1</td>\n",
       "      <td>40120559</td>\n",
       "      <td>2013-10-18</td>\n",
       "      <td>C343</td>\n",
       "      <td>...</td>\n",
       "      <td>NaN</td>\n",
       "      <td>NaN</td>\n",
       "      <td>NaN</td>\n",
       "      <td>9</td>\n",
       "      <td>NaN</td>\n",
       "      <td>NaN</td>\n",
       "      <td>NaN</td>\n",
       "      <td>2013-09-07</td>\n",
       "      <td>L</td>\n",
       "      <td>4</td>\n",
       "    </tr>\n",
       "    <tr>\n",
       "      <th>98882</th>\n",
       "      <td>40124377</td>\n",
       "      <td>A</td>\n",
       "      <td>C349</td>\n",
       "      <td>2</td>\n",
       "      <td>D</td>\n",
       "      <td>2018-01-05</td>\n",
       "      <td>2</td>\n",
       "      <td>40124377</td>\n",
       "      <td>2017-07-05</td>\n",
       "      <td>C343</td>\n",
       "      <td>...</td>\n",
       "      <td>NaN</td>\n",
       "      <td>NaN</td>\n",
       "      <td>NaN</td>\n",
       "      <td>NaN</td>\n",
       "      <td>NaN</td>\n",
       "      <td>NaN</td>\n",
       "      <td>NaN</td>\n",
       "      <td>2017-07-04</td>\n",
       "      <td>L</td>\n",
       "      <td>5 - most deprived</td>\n",
       "    </tr>\n",
       "    <tr>\n",
       "      <th>99533</th>\n",
       "      <td>270005864</td>\n",
       "      <td>A</td>\n",
       "      <td>A000</td>\n",
       "      <td>A</td>\n",
       "      <td>A</td>\n",
       "      <td>2019-02-06</td>\n",
       "      <td>1</td>\n",
       "      <td>270005864</td>\n",
       "      <td>2015-06-16</td>\n",
       "      <td>C19</td>\n",
       "      <td>...</td>\n",
       "      <td>NaN</td>\n",
       "      <td>NaN</td>\n",
       "      <td>NaN</td>\n",
       "      <td>X</td>\n",
       "      <td>9</td>\n",
       "      <td>Y1</td>\n",
       "      <td>NaN</td>\n",
       "      <td>2015-06-01</td>\n",
       "      <td>9</td>\n",
       "      <td>4</td>\n",
       "    </tr>\n",
       "  </tbody>\n",
       "</table>\n",
       "<p>108 rows × 34 columns</p>\n",
       "</div>"
      ],
      "text/plain": [
       "       PATIENTID ETHNICITY DEATHCAUSECODE_1A DEATHLOCATIONCODE NEWVITALSTATUS  \\\n",
       "1751    80010943         A          C20,C780                 2              D   \n",
       "2123    60086175         A              J180                 2              D   \n",
       "2243    80001839         A              A000                 A              A   \n",
       "2640    40047500         A              A000                 A              A   \n",
       "3144    80015805         A              A000                 A              A   \n",
       "...          ...       ...               ...               ...            ...   \n",
       "95174   60033902         A              C189                 1              D   \n",
       "96539   80042416       NaN              A000                 A              A   \n",
       "97137   40120559         A              C349                 2              D   \n",
       "98882   40124377         A              C349                 2              D   \n",
       "99533  270005864         A              A000                 A              A   \n",
       "\n",
       "      VITALSTATUSDATE  SEX_x   TUMOURID DIAGNOSISDATEBEST SITE_ICD10_O2  ...  \\\n",
       "1751       2016-07-04      2   80010943        2014-04-29           C20  ...   \n",
       "2123       2019-02-08      2   60086175        2015-07-27          C180  ...   \n",
       "2243       2019-02-08      2   80001839        2014-08-15           C20  ...   \n",
       "2640       2019-02-11      1   40047500        2016-02-15          C349  ...   \n",
       "3144       2019-02-09      1   80015805        2014-04-28           C20  ...   \n",
       "...               ...    ...        ...               ...           ...  ...   \n",
       "95174      2017-11-18      1   60033902        2016-08-24          C180  ...   \n",
       "96539      2019-02-07      1   80042416        2015-02-11           C20  ...   \n",
       "97137      2013-12-02      1   40120559        2013-10-18          C343  ...   \n",
       "98882      2018-01-05      2   40124377        2017-07-05          C343  ...   \n",
       "99533      2019-02-06      1  270005864        2015-06-16           C19  ...   \n",
       "\n",
       "      PR_STATUS  PR_SCORE HER2_STATUS CANCERCAREPLANINTENT PERFORMANCESTATUS  \\\n",
       "1751        NaN       NaN         NaN                  NaN               NaN   \n",
       "2123        NaN       NaN         NaN                    C               NaN   \n",
       "2243        NaN       NaN         NaN                    Z                 9   \n",
       "2640        NaN       NaN         NaN                    Z                 3   \n",
       "3144        NaN       NaN         NaN                    C                 0   \n",
       "...         ...       ...         ...                  ...               ...   \n",
       "95174       NaN       NaN         NaN                    9               NaN   \n",
       "96539       NaN       NaN         NaN                   Cm               NaN   \n",
       "97137       NaN       NaN         NaN                    9               NaN   \n",
       "98882       NaN       NaN         NaN                  NaN               NaN   \n",
       "99533       NaN       NaN         NaN                    X                 9   \n",
       "\n",
       "       CNS ACE27  DATE_FIRST_SURGERY LATERALITY       QUINTILE_2015  \n",
       "1751   NaN   NaN          2014-04-28          9                   3  \n",
       "2123   NaN   NaN          2015-07-24          9                   4  \n",
       "2243   NaN   NaN          2014-08-14          9                   3  \n",
       "2640   NaN   NaN          2016-02-13          9                   4  \n",
       "3144   NaN     0          2014-03-28          9  1 - least deprived  \n",
       "...    ...   ...                 ...        ...                 ...  \n",
       "95174  NaN   NaN          2016-08-23          R                   2  \n",
       "96539  NaN   NaN          2015-02-08          9  1 - least deprived  \n",
       "97137  NaN   NaN          2013-09-07          L                   4  \n",
       "98882  NaN   NaN          2017-07-04          L   5 - most deprived  \n",
       "99533   Y1   NaN          2015-06-01          9                   4  \n",
       "\n",
       "[108 rows x 34 columns]"
      ]
     },
     "execution_count": 33,
     "metadata": {},
     "output_type": "execute_result"
    }
   ],
   "source": [
    "# Does any one have a surgery before before diagnosis?\n",
    "data.loc[data['DATE_FIRST_SURGERY'] < data['DIAGNOSISDATEBEST']]"
   ]
  },
  {
   "cell_type": "code",
   "execution_count": 34,
   "metadata": {
    "execution": {
     "iopub.execute_input": "2023-08-23T19:11:21.319138Z",
     "iopub.status.busy": "2023-08-23T19:11:21.318179Z",
     "iopub.status.idle": "2023-08-23T19:11:21.328402Z",
     "shell.execute_reply": "2023-08-23T19:11:21.326475Z",
     "shell.execute_reply.started": "2023-08-23T19:11:21.319106Z"
    },
    "id": "-z-pQ7tYcPdW"
   },
   "outputs": [],
   "source": [
    "# replace diagnosis date with date of first surgery for patients who have had a surgery before diagnosis\n",
    "data.loc[data['DIAGNOSISDATEBEST'] > data['DATE_FIRST_SURGERY'], 'DIAGNOSISDATEBEST'] = data.loc[data['DIAGNOSISDATEBEST'] > data['DATE_FIRST_SURGERY'], 'DATE_FIRST_SURGERY']"
   ]
  },
  {
   "cell_type": "markdown",
   "metadata": {
    "id": "L1VdciyscPdW"
   },
   "source": [
    "#####  Derived variables"
   ]
  },
  {
   "cell_type": "code",
   "execution_count": 35,
   "metadata": {
    "execution": {
     "iopub.execute_input": "2023-08-23T19:11:21.330340Z",
     "iopub.status.busy": "2023-08-23T19:11:21.329896Z",
     "iopub.status.idle": "2023-08-23T19:11:21.338980Z",
     "shell.execute_reply": "2023-08-23T19:11:21.338091Z",
     "shell.execute_reply.started": "2023-08-23T19:11:21.330298Z"
    },
    "id": "Gmqubi8JcPdW"
   },
   "outputs": [],
   "source": [
    "# Calculate number of days from cancer diagnosis to first surgery\n",
    "# days_per_year = 365.2425\n",
    "# data['DAYSTOSURGERY'] = (data['DATE_FIRST_SURGERY'] - data['DIAGNOSISDATEBEST']).dt.days"
   ]
  },
  {
   "cell_type": "code",
   "execution_count": 36,
   "metadata": {
    "execution": {
     "iopub.execute_input": "2023-08-23T19:11:21.340982Z",
     "iopub.status.busy": "2023-08-23T19:11:21.340138Z",
     "iopub.status.idle": "2023-08-23T19:11:21.351344Z",
     "shell.execute_reply": "2023-08-23T19:11:21.349418Z",
     "shell.execute_reply.started": "2023-08-23T19:11:21.340938Z"
    },
    "id": "esh8U9zf2e-G"
   },
   "outputs": [],
   "source": [
    "#data.DAYSTOSURGERY.isnull().sum()"
   ]
  },
  {
   "cell_type": "code",
   "execution_count": 37,
   "metadata": {
    "execution": {
     "iopub.execute_input": "2023-08-23T19:11:21.353781Z",
     "iopub.status.busy": "2023-08-23T19:11:21.353260Z",
     "iopub.status.idle": "2023-08-23T19:11:21.367152Z",
     "shell.execute_reply": "2023-08-23T19:11:21.366056Z",
     "shell.execute_reply.started": "2023-08-23T19:11:21.353748Z"
    },
    "id": "f057qPiV1VPM"
   },
   "outputs": [],
   "source": [
    "# Create surgery status based on date first surgery\n",
    "data['SURGERYSTATUS'] = np.where(data['DATE_FIRST_SURGERY'].isnull(), 0, 1)"
   ]
  },
  {
   "cell_type": "code",
   "execution_count": 38,
   "metadata": {
    "execution": {
     "iopub.execute_input": "2023-08-23T19:11:21.369496Z",
     "iopub.status.busy": "2023-08-23T19:11:21.369001Z",
     "iopub.status.idle": "2023-08-23T19:11:21.411386Z",
     "shell.execute_reply": "2023-08-23T19:11:21.410264Z",
     "shell.execute_reply.started": "2023-08-23T19:11:21.369457Z"
    },
    "id": "zcXziUxCZX20"
   },
   "outputs": [],
   "source": [
    "# Extract year from dates\n",
    "data['DATE_FIRST_SURGERY'] = data['DATE_FIRST_SURGERY'].dt.year\n",
    "data['VITALSTATUSDATE'] = data['VITALSTATUSDATE'].dt.year\n",
    "data['DIAGNOSISDATEBEST'] = data['DIAGNOSISDATEBEST'].dt.year"
   ]
  },
  {
   "cell_type": "markdown",
   "metadata": {
    "id": "9FZLpDROcPdY"
   },
   "source": [
    "##### Recode variables"
   ]
  },
  {
   "cell_type": "markdown",
   "metadata": {
    "id": "h9MEz6jucPdY"
   },
   "source": [
    "##### New vital status: Outcome variable"
   ]
  },
  {
   "cell_type": "code",
   "execution_count": 39,
   "metadata": {
    "execution": {
     "iopub.execute_input": "2023-08-23T19:11:21.413515Z",
     "iopub.status.busy": "2023-08-23T19:11:21.413066Z",
     "iopub.status.idle": "2023-08-23T19:11:21.482206Z",
     "shell.execute_reply": "2023-08-23T19:11:21.481079Z",
     "shell.execute_reply.started": "2023-08-23T19:11:21.413473Z"
    },
    "id": "5mF3JVOPcPdY"
   },
   "outputs": [],
   "source": [
    "# recode vital status to D:1, A:0\n",
    "data['NEWVITALSTATUS'] = data['NEWVITALSTATUS'].replace({'D' :1, 'A': 0}).astype('Int32')"
   ]
  },
  {
   "cell_type": "markdown",
   "metadata": {
    "id": "zm3-D9rjcPdY"
   },
   "source": [
    "##### Sex"
   ]
  },
  {
   "cell_type": "code",
   "execution_count": 40,
   "metadata": {
    "execution": {
     "iopub.execute_input": "2023-08-23T19:11:21.484915Z",
     "iopub.status.busy": "2023-08-23T19:11:21.484081Z",
     "iopub.status.idle": "2023-08-23T19:11:21.490631Z",
     "shell.execute_reply": "2023-08-23T19:11:21.489644Z",
     "shell.execute_reply.started": "2023-08-23T19:11:21.484880Z"
    },
    "id": "7Kln11I-uYE1"
   },
   "outputs": [],
   "source": [
    "data.rename(columns={'SEX_x': 'SEX',\n",
    "                                    }, inplace = True)"
   ]
  },
  {
   "cell_type": "code",
   "execution_count": 41,
   "metadata": {
    "execution": {
     "iopub.execute_input": "2023-08-23T19:11:21.492670Z",
     "iopub.status.busy": "2023-08-23T19:11:21.492029Z",
     "iopub.status.idle": "2023-08-23T19:11:21.508023Z",
     "shell.execute_reply": "2023-08-23T19:11:21.506602Z",
     "shell.execute_reply.started": "2023-08-23T19:11:21.492638Z"
    },
    "id": "k2KKGYyTcPdY",
    "outputId": "68cde239-8484-4cb1-f231-2069bdd2cf57"
   },
   "outputs": [
    {
     "data": {
      "text/plain": [
       "2    57442\n",
       "1    26140\n",
       "Name: SEX, dtype: int64"
      ]
     },
     "execution_count": 41,
     "metadata": {},
     "output_type": "execute_result"
    }
   ],
   "source": [
    "data.SEX.value_counts()"
   ]
  },
  {
   "cell_type": "markdown",
   "metadata": {
    "id": "GfbBRVCEcPdY"
   },
   "source": [
    "##### Site of cancer\n",
    "'SITE_ICD10_O2'- specific cancer site e.g nipple and areola    \n",
    "'SITE_ICD10_O2_3CHAR',- General cancer site e.g Breast, lung etc    \n",
    "1. check if general group correlates with specific\n",
    "2. should we drop one? if yes which one. the general one is compact might be good for the ML model, variability in the specifics can be good too\n",
    "3. recode"
   ]
  },
  {
   "cell_type": "code",
   "execution_count": 42,
   "metadata": {
    "execution": {
     "iopub.execute_input": "2023-08-23T19:11:21.510141Z",
     "iopub.status.busy": "2023-08-23T19:11:21.509809Z",
     "iopub.status.idle": "2023-08-23T19:11:21.518479Z",
     "shell.execute_reply": "2023-08-23T19:11:21.517392Z",
     "shell.execute_reply.started": "2023-08-23T19:11:21.510100Z"
    },
    "id": "qP3-yckPcPdY"
   },
   "outputs": [],
   "source": [
    "# confirm that SITE_ICD10_O2_3CHAR is the accurate group(using the SITE_ICD10_O2)\n",
    "\n",
    "# df= data.loc[data['SITE_ICD10_O2'].notnull(), ['SITE_ICD10_O2','SITE_ICD10_O2_3CHAR']]\n",
    "\n",
    "# df['SITE_ICD10_O2_test'] = df['SITE_ICD10_O2'].apply(lambda x: x[:3])\n",
    "\n",
    "# df.loc[df['SITE_ICD10_O2_test'] != df['SITE_ICD10_O2_3CHAR']]"
   ]
  },
  {
   "cell_type": "code",
   "execution_count": 43,
   "metadata": {
    "execution": {
     "iopub.execute_input": "2023-08-23T19:11:21.520481Z",
     "iopub.status.busy": "2023-08-23T19:11:21.520191Z",
     "iopub.status.idle": "2023-08-23T19:11:21.559432Z",
     "shell.execute_reply": "2023-08-23T19:11:21.558264Z",
     "shell.execute_reply.started": "2023-08-23T19:11:21.520457Z"
    },
    "id": "aoQSQXurK7gY"
   },
   "outputs": [],
   "source": [
    "data['SITE_ICD10_O2'].fillna(data['SITE_ICD10_O2_3CHAR'], inplace=True)\n",
    "data.drop(['SITE_ICD10_O2_3CHAR'], axis=1, inplace= True)"
   ]
  },
  {
   "cell_type": "markdown",
   "metadata": {
    "id": "ym3B9RwVcPdZ"
   },
   "source": [
    "##### Morphology and behaviour"
   ]
  },
  {
   "cell_type": "code",
   "execution_count": 44,
   "metadata": {
    "execution": {
     "iopub.execute_input": "2023-08-23T19:11:21.561675Z",
     "iopub.status.busy": "2023-08-23T19:11:21.561315Z",
     "iopub.status.idle": "2023-08-23T19:11:21.584791Z",
     "shell.execute_reply": "2023-08-23T19:11:21.583751Z",
     "shell.execute_reply.started": "2023-08-23T19:11:21.561639Z"
    },
    "id": "O_ndtDadcPdZ",
    "outputId": "8034f8a5-5f68-4e7e-9b53-1837c87af672"
   },
   "outputs": [
    {
     "data": {
      "text/html": [
       "<div>\n",
       "<style scoped>\n",
       "    .dataframe tbody tr th:only-of-type {\n",
       "        vertical-align: middle;\n",
       "    }\n",
       "\n",
       "    .dataframe tbody tr th {\n",
       "        vertical-align: top;\n",
       "    }\n",
       "\n",
       "    .dataframe thead th {\n",
       "        text-align: right;\n",
       "    }\n",
       "</style>\n",
       "<table border=\"1\" class=\"dataframe\">\n",
       "  <thead>\n",
       "    <tr style=\"text-align: right;\">\n",
       "      <th></th>\n",
       "      <th>MORPH_ICD10_O2</th>\n",
       "      <th>BEHAVIOUR_ICD10_O2</th>\n",
       "    </tr>\n",
       "  </thead>\n",
       "  <tbody>\n",
       "    <tr>\n",
       "      <th>0</th>\n",
       "      <td>8500.0</td>\n",
       "      <td>3</td>\n",
       "    </tr>\n",
       "    <tr>\n",
       "      <th>1</th>\n",
       "      <td>8046.0</td>\n",
       "      <td>3</td>\n",
       "    </tr>\n",
       "    <tr>\n",
       "      <th>2</th>\n",
       "      <td>8500.0</td>\n",
       "      <td>3</td>\n",
       "    </tr>\n",
       "    <tr>\n",
       "      <th>4</th>\n",
       "      <td>8500.0</td>\n",
       "      <td>3</td>\n",
       "    </tr>\n",
       "    <tr>\n",
       "      <th>5</th>\n",
       "      <td>8500.0</td>\n",
       "      <td>3</td>\n",
       "    </tr>\n",
       "    <tr>\n",
       "      <th>...</th>\n",
       "      <td>...</td>\n",
       "      <td>...</td>\n",
       "    </tr>\n",
       "    <tr>\n",
       "      <th>99995</th>\n",
       "      <td>8500.0</td>\n",
       "      <td>3</td>\n",
       "    </tr>\n",
       "    <tr>\n",
       "      <th>99996</th>\n",
       "      <td>8500.0</td>\n",
       "      <td>3</td>\n",
       "    </tr>\n",
       "    <tr>\n",
       "      <th>99997</th>\n",
       "      <td>8140.0</td>\n",
       "      <td>3</td>\n",
       "    </tr>\n",
       "    <tr>\n",
       "      <th>99998</th>\n",
       "      <td>8522.0</td>\n",
       "      <td>3</td>\n",
       "    </tr>\n",
       "    <tr>\n",
       "      <th>99999</th>\n",
       "      <td>8500.0</td>\n",
       "      <td>3</td>\n",
       "    </tr>\n",
       "  </tbody>\n",
       "</table>\n",
       "<p>83582 rows × 2 columns</p>\n",
       "</div>"
      ],
      "text/plain": [
       "       MORPH_ICD10_O2 BEHAVIOUR_ICD10_O2\n",
       "0              8500.0                  3\n",
       "1              8046.0                  3\n",
       "2              8500.0                  3\n",
       "4              8500.0                  3\n",
       "5              8500.0                  3\n",
       "...               ...                ...\n",
       "99995          8500.0                  3\n",
       "99996          8500.0                  3\n",
       "99997          8140.0                  3\n",
       "99998          8522.0                  3\n",
       "99999          8500.0                  3\n",
       "\n",
       "[83582 rows x 2 columns]"
      ]
     },
     "execution_count": 44,
     "metadata": {},
     "output_type": "execute_result"
    }
   ],
   "source": [
    "data[['MORPH_ICD10_O2', 'BEHAVIOUR_ICD10_O2']]"
   ]
  },
  {
   "cell_type": "code",
   "execution_count": 45,
   "metadata": {
    "execution": {
     "iopub.execute_input": "2023-08-23T19:11:21.588170Z",
     "iopub.status.busy": "2023-08-23T19:11:21.587416Z",
     "iopub.status.idle": "2023-08-23T19:11:21.602849Z",
     "shell.execute_reply": "2023-08-23T19:11:21.601670Z",
     "shell.execute_reply.started": "2023-08-23T19:11:21.588135Z"
    },
    "id": "s7yhvyQZcPdZ",
    "outputId": "b744898b-370b-4d8c-a27c-5c1d513ba07d"
   },
   "outputs": [
    {
     "data": {
      "text/plain": [
       "3    81980\n",
       "3     1417\n",
       "5      137\n",
       "X       13\n",
       "9        8\n",
       "5        4\n",
       "Name: BEHAVIOUR_ICD10_O2, dtype: int64"
      ]
     },
     "execution_count": 45,
     "metadata": {},
     "output_type": "execute_result"
    }
   ],
   "source": [
    "data.BEHAVIOUR_ICD10_O2.value_counts()"
   ]
  },
  {
   "cell_type": "code",
   "execution_count": 46,
   "metadata": {
    "execution": {
     "iopub.execute_input": "2023-08-23T19:11:21.605881Z",
     "iopub.status.busy": "2023-08-23T19:11:21.604398Z",
     "iopub.status.idle": "2023-08-23T19:11:21.646519Z",
     "shell.execute_reply": "2023-08-23T19:11:21.645524Z",
     "shell.execute_reply.started": "2023-08-23T19:11:21.605838Z"
    },
    "id": "9eu_7Q1aWZTX"
   },
   "outputs": [],
   "source": [
    "data['BEHAVIOUR_ICD10_O2'] = data['BEHAVIOUR_ICD10_O2'].replace({3: '3', 5:'5'})"
   ]
  },
  {
   "cell_type": "code",
   "execution_count": 47,
   "metadata": {
    "execution": {
     "iopub.execute_input": "2023-08-23T19:11:21.648321Z",
     "iopub.status.busy": "2023-08-23T19:11:21.648023Z",
     "iopub.status.idle": "2023-08-23T19:11:21.683016Z",
     "shell.execute_reply": "2023-08-23T19:11:21.681894Z",
     "shell.execute_reply.started": "2023-08-23T19:11:21.648295Z"
    },
    "id": "Jvmk6E_eSz9r"
   },
   "outputs": [],
   "source": [
    "data['MORPH_ICD10_O2'] =(data\n",
    "                  .groupby(['BEHAVIOUR_ICD10_O2'],sort=False)['MORPH_ICD10_O2']\n",
    "                  .apply(lambda x : x.fillna(stats.mode(x)[0][0]))\n",
    "                 )"
   ]
  },
  {
   "cell_type": "code",
   "execution_count": 48,
   "metadata": {
    "execution": {
     "iopub.execute_input": "2023-08-23T19:11:21.684907Z",
     "iopub.status.busy": "2023-08-23T19:11:21.684550Z",
     "iopub.status.idle": "2023-08-23T19:11:21.689106Z",
     "shell.execute_reply": "2023-08-23T19:11:21.688109Z",
     "shell.execute_reply.started": "2023-08-23T19:11:21.684878Z"
    },
    "id": "t1h5k3-A9N5L"
   },
   "outputs": [],
   "source": [
    "#data.loc[data['MORPH_ICD10_O2'].isnull(), ['BEHAVIOUR_ICD10_O2', 'MORPH_ICD10_O2']]"
   ]
  },
  {
   "cell_type": "code",
   "execution_count": 49,
   "metadata": {
    "execution": {
     "iopub.execute_input": "2023-08-23T19:11:21.691187Z",
     "iopub.status.busy": "2023-08-23T19:11:21.690149Z",
     "iopub.status.idle": "2023-08-23T19:11:21.705495Z",
     "shell.execute_reply": "2023-08-23T19:11:21.704627Z",
     "shell.execute_reply.started": "2023-08-23T19:11:21.691075Z"
    },
    "id": "Zf5q_MRu997K"
   },
   "outputs": [],
   "source": [
    "#data = data.dropna(subset=['MORPH_ICD10_O2', 'BEHAVIOUR_ICD10_O2'])"
   ]
  },
  {
   "cell_type": "markdown",
   "metadata": {
    "id": "GInhvUntcPdZ"
   },
   "source": [
    "#####  Cancer Staging\n",
    "T_BEST size of the tumour, with numbers 1 to 4 (1 for small, 4 for large)    \n",
    "N_BEST lymph nodes, with numbers 0 to 3 (0 means no lymph nodes have cancer, 3 means many do)    \n",
    "M_BEST  metastases or whether the cancer has spread to another part of the body, with numbers 0 or 1 (0 means it has not spread, 1 means it has)    \n",
    "STAGE_BEST   \n",
    "STAGE_BEST_SYSTEM   \n",
    "GRADE"
   ]
  },
  {
   "cell_type": "code",
   "execution_count": 50,
   "metadata": {
    "execution": {
     "iopub.execute_input": "2023-08-23T19:11:21.707399Z",
     "iopub.status.busy": "2023-08-23T19:11:21.706874Z",
     "iopub.status.idle": "2023-08-23T19:11:21.725878Z",
     "shell.execute_reply": "2023-08-23T19:11:21.724944Z",
     "shell.execute_reply.started": "2023-08-23T19:11:21.707367Z"
    },
    "id": "Xa5sLNXJcPdZ",
    "outputId": "3cba23f3-d0ed-48da-f3b2-8457b3177e97"
   },
   "outputs": [
    {
     "data": {
      "text/plain": [
       "2      15990\n",
       "3      15244\n",
       "1c     10394\n",
       "4       9675\n",
       "1b      5901\n",
       "1       4852\n",
       "2a      4093\n",
       "1a      3295\n",
       "4b      1935\n",
       "2b      1425\n",
       "4a       530\n",
       "3b       164\n",
       "1mi      139\n",
       "3a       136\n",
       "4d       129\n",
       "3c        83\n",
       "0         64\n",
       "is        57\n",
       "4c        55\n",
       "3d        24\n",
       "3s         9\n",
       "2s         7\n",
       "2c         6\n",
       "1d         6\n",
       "X          6\n",
       "2d         4\n",
       "2a2        3\n",
       "T1         1\n",
       "1b2        1\n",
       "1C         1\n",
       "Name: T_BEST, dtype: int64"
      ]
     },
     "execution_count": 50,
     "metadata": {},
     "output_type": "execute_result"
    }
   ],
   "source": [
    " data.T_BEST.value_counts()"
   ]
  },
  {
   "cell_type": "code",
   "execution_count": 51,
   "metadata": {
    "execution": {
     "iopub.execute_input": "2023-08-23T19:11:21.728283Z",
     "iopub.status.busy": "2023-08-23T19:11:21.727846Z",
     "iopub.status.idle": "2023-08-23T19:11:21.734891Z",
     "shell.execute_reply": "2023-08-23T19:11:21.733680Z",
     "shell.execute_reply.started": "2023-08-23T19:11:21.728249Z"
    },
    "id": "uHvyPSR2cPdZ"
   },
   "outputs": [],
   "source": [
    "# def extract_numbers_with_regex(input_string):\n",
    "#     numbers = re.findall(r'(\\d+)x', input_string)\n",
    "#     return [int(number) for number in numbers]\n",
    "\n",
    "# # Apply the function to the DataFrame and create a new column 'numbers_list'\n",
    "# df['numbers_list'] = df['text_column'].apply(extract_numbers_with_regex)"
   ]
  },
  {
   "cell_type": "code",
   "execution_count": 52,
   "metadata": {
    "execution": {
     "iopub.execute_input": "2023-08-23T19:11:21.737221Z",
     "iopub.status.busy": "2023-08-23T19:11:21.736237Z",
     "iopub.status.idle": "2023-08-23T19:11:21.746405Z",
     "shell.execute_reply": "2023-08-23T19:11:21.745516Z",
     "shell.execute_reply.started": "2023-08-23T19:11:21.737187Z"
    },
    "id": "97tF9KetcPda"
   },
   "outputs": [],
   "source": [
    "# extract numbers only from the values\n",
    "def get_number(text):\n",
    "    return text[:1] if isinstance(text, str) else text"
   ]
  },
  {
   "cell_type": "markdown",
   "metadata": {
    "id": "LD9igDyYcPda"
   },
   "source": [
    "T_BEST size of the tumour, with numbers 1 to 4 (1 for small, 4 for large)"
   ]
  },
  {
   "cell_type": "code",
   "execution_count": 53,
   "metadata": {
    "execution": {
     "iopub.execute_input": "2023-08-23T19:11:21.748635Z",
     "iopub.status.busy": "2023-08-23T19:11:21.747729Z",
     "iopub.status.idle": "2023-08-23T19:11:21.807130Z",
     "shell.execute_reply": "2023-08-23T19:11:21.806019Z",
     "shell.execute_reply.started": "2023-08-23T19:11:21.748591Z"
    },
    "id": "76MnuA4bcPda",
    "outputId": "b7433bff-a6de-41d0-9803-1d3393be8bc8"
   },
   "outputs": [
    {
     "data": {
      "text/plain": [
       "1    24589\n",
       "2    21528\n",
       "3    15660\n",
       "4    12324\n",
       "0       64\n",
       "i       57\n",
       "X        6\n",
       "T        1\n",
       "Name: T_BEST, dtype: int64"
      ]
     },
     "execution_count": 53,
     "metadata": {},
     "output_type": "execute_result"
    }
   ],
   "source": [
    "data['T_BEST']= data['T_BEST'].apply(get_number)\n",
    "data.T_BEST.value_counts()"
   ]
  },
  {
   "cell_type": "markdown",
   "metadata": {
    "id": "fnNKEKMVcPda"
   },
   "source": [
    "N_BEST lymph nodes, with numbers 0 to 3 (0 means no lymph nodes have cancer, 3 means many do)"
   ]
  },
  {
   "cell_type": "code",
   "execution_count": 54,
   "metadata": {
    "execution": {
     "iopub.execute_input": "2023-08-23T19:11:21.809216Z",
     "iopub.status.busy": "2023-08-23T19:11:21.808305Z",
     "iopub.status.idle": "2023-08-23T19:11:21.814988Z",
     "shell.execute_reply": "2023-08-23T19:11:21.813383Z",
     "shell.execute_reply.started": "2023-08-23T19:11:21.809181Z"
    },
    "id": "B8wHYhtgcPda"
   },
   "outputs": [],
   "source": [
    "# data.N_BEST.value_counts()"
   ]
  },
  {
   "cell_type": "code",
   "execution_count": 55,
   "metadata": {
    "execution": {
     "iopub.execute_input": "2023-08-23T19:11:21.817967Z",
     "iopub.status.busy": "2023-08-23T19:11:21.816482Z",
     "iopub.status.idle": "2023-08-23T19:11:21.881560Z",
     "shell.execute_reply": "2023-08-23T19:11:21.880829Z",
     "shell.execute_reply.started": "2023-08-23T19:11:21.817920Z"
    },
    "id": "_0kA1ErecPda",
    "outputId": "4e5453f0-0ecd-43bd-828b-b6b049027393"
   },
   "outputs": [
    {
     "data": {
      "text/plain": [
       "0    40902\n",
       "1    16328\n",
       "2    11124\n",
       "3     5744\n",
       "X        8\n",
       "Name: N_BEST, dtype: int64"
      ]
     },
     "execution_count": 55,
     "metadata": {},
     "output_type": "execute_result"
    }
   ],
   "source": [
    "data['N_BEST']= data['N_BEST'].apply(get_number)\n",
    "data.N_BEST.value_counts()"
   ]
  },
  {
   "cell_type": "markdown",
   "metadata": {
    "id": "rimcihTDcPdb"
   },
   "source": [
    "M_BEST  metastases or whether the cancer has spread to another part of the body, with numbers 0 or 1 (0 means it has not spread, 1 means it has)"
   ]
  },
  {
   "cell_type": "code",
   "execution_count": 56,
   "metadata": {
    "execution": {
     "iopub.execute_input": "2023-08-23T19:11:21.883516Z",
     "iopub.status.busy": "2023-08-23T19:11:21.882782Z",
     "iopub.status.idle": "2023-08-23T19:11:21.886618Z",
     "shell.execute_reply": "2023-08-23T19:11:21.885924Z",
     "shell.execute_reply.started": "2023-08-23T19:11:21.883476Z"
    },
    "id": "uBeJd8hOcPdb"
   },
   "outputs": [],
   "source": [
    " #data.M_BEST.value_counts()"
   ]
  },
  {
   "cell_type": "code",
   "execution_count": 57,
   "metadata": {
    "execution": {
     "iopub.execute_input": "2023-08-23T19:11:21.888229Z",
     "iopub.status.busy": "2023-08-23T19:11:21.887733Z",
     "iopub.status.idle": "2023-08-23T19:11:21.937487Z",
     "shell.execute_reply": "2023-08-23T19:11:21.936399Z",
     "shell.execute_reply.started": "2023-08-23T19:11:21.888202Z"
    },
    "id": "iAHsD6yKcPdb",
    "outputId": "9883b16a-6737-4914-d7fc-8fa38c0f06c1"
   },
   "outputs": [
    {
     "data": {
      "text/plain": [
       "0    50264\n",
       "1    15996\n",
       "X       19\n",
       "Name: M_BEST, dtype: int64"
      ]
     },
     "execution_count": 57,
     "metadata": {},
     "output_type": "execute_result"
    }
   ],
   "source": [
    "data['M_BEST']= data['M_BEST'].apply(get_number)\n",
    "data.M_BEST.value_counts()"
   ]
  },
  {
   "cell_type": "markdown",
   "metadata": {
    "id": "CjdRPCWIcPdb"
   },
   "source": [
    "STAGE_BEST  \n",
    "0   hasn't spread  \n",
    "6\t6 NOT STAGEABLE   \n",
    "?\tINSUFFICIENT INFO   \n",
    "U\tUNSTAGEABLE    \n",
    "X\tX NOT STAGED"
   ]
  },
  {
   "cell_type": "code",
   "execution_count": 58,
   "metadata": {
    "execution": {
     "iopub.execute_input": "2023-08-23T19:11:21.939923Z",
     "iopub.status.busy": "2023-08-23T19:11:21.939186Z",
     "iopub.status.idle": "2023-08-23T19:11:21.953961Z",
     "shell.execute_reply": "2023-08-23T19:11:21.953096Z",
     "shell.execute_reply.started": "2023-08-23T19:11:21.939886Z"
    },
    "id": "bN5qfqd2cPdb",
    "outputId": "749f6c8b-3de1-42a0-f16a-4dae87ac1c2e"
   },
   "outputs": [
    {
     "data": {
      "text/plain": [
       "1A     17204\n",
       "4      16059\n",
       "2A     10543\n",
       "?       6540\n",
       "3       6329\n",
       "2       5851\n",
       "2B      5495\n",
       "3A      4755\n",
       "1       4443\n",
       "3B      2873\n",
       "1B      2365\n",
       "3C       592\n",
       "U        219\n",
       "0        146\n",
       "4C        49\n",
       "2C        34\n",
       "4A        34\n",
       "4B        30\n",
       "4S         7\n",
       "3S         4\n",
       "1A2        3\n",
       "2A1        2\n",
       "2S         1\n",
       "1C         1\n",
       "3E         1\n",
       "2A2        1\n",
       "1S         1\n",
       "Name: STAGE_BEST, dtype: int64"
      ]
     },
     "execution_count": 58,
     "metadata": {},
     "output_type": "execute_result"
    }
   ],
   "source": [
    " data.STAGE_BEST.value_counts()"
   ]
  },
  {
   "cell_type": "code",
   "execution_count": 59,
   "metadata": {
    "execution": {
     "iopub.execute_input": "2023-08-23T19:11:21.956184Z",
     "iopub.status.busy": "2023-08-23T19:11:21.955142Z",
     "iopub.status.idle": "2023-08-23T19:11:22.005611Z",
     "shell.execute_reply": "2023-08-23T19:11:22.004700Z",
     "shell.execute_reply.started": "2023-08-23T19:11:21.956149Z"
    },
    "id": "N8WbXPrEcPdb",
    "outputId": "a072f1e8-d1ec-4a34-99b7-953ecda6a325"
   },
   "outputs": [
    {
     "data": {
      "text/plain": [
       "1    24017\n",
       "2    21927\n",
       "4    16179\n",
       "3    14554\n",
       "?     6540\n",
       "U      219\n",
       "0      146\n",
       "Name: STAGE_BEST, dtype: int64"
      ]
     },
     "execution_count": 59,
     "metadata": {},
     "output_type": "execute_result"
    }
   ],
   "source": [
    "# Extract stage number from Stage\n",
    "data['STAGE_BEST'] = data['STAGE_BEST'].apply(lambda x: x[:1])\n",
    "\n",
    "data.STAGE_BEST.value_counts()"
   ]
  },
  {
   "cell_type": "code",
   "execution_count": 60,
   "metadata": {
    "execution": {
     "iopub.execute_input": "2023-08-23T19:11:22.007435Z",
     "iopub.status.busy": "2023-08-23T19:11:22.006905Z",
     "iopub.status.idle": "2023-08-23T19:11:22.031115Z",
     "shell.execute_reply": "2023-08-23T19:11:22.029999Z",
     "shell.execute_reply.started": "2023-08-23T19:11:22.007403Z"
    },
    "id": "H4EVl00tcPdb",
    "outputId": "eb301e43-0ac8-487d-9924-06507d877f3c"
   },
   "outputs": [
    {
     "data": {
      "text/plain": [
       "1    24017\n",
       "2    21927\n",
       "4    16179\n",
       "3    14554\n",
       "I     6540\n",
       "U      219\n",
       "0      146\n",
       "Name: STAGE_BEST, dtype: int64"
      ]
     },
     "execution_count": 60,
     "metadata": {},
     "output_type": "execute_result"
    }
   ],
   "source": [
    "# Replace '?' with 'I'\n",
    "data['STAGE_BEST'] = data['STAGE_BEST'].replace({'?' :'I'})\n",
    "\n",
    "data.STAGE_BEST.value_counts()"
   ]
  },
  {
   "cell_type": "markdown",
   "metadata": {
    "id": "HvSaPQ5qtfv6"
   },
   "source": [
    "##### STAGE_BEST_SYSTEM"
   ]
  },
  {
   "cell_type": "code",
   "execution_count": 61,
   "metadata": {
    "execution": {
     "iopub.execute_input": "2023-08-23T19:11:22.033091Z",
     "iopub.status.busy": "2023-08-23T19:11:22.032753Z",
     "iopub.status.idle": "2023-08-23T19:11:22.063159Z",
     "shell.execute_reply": "2023-08-23T19:11:22.061955Z",
     "shell.execute_reply.started": "2023-08-23T19:11:22.033061Z"
    },
    "id": "k5HMkEzetkMv"
   },
   "outputs": [],
   "source": [
    "data.drop(['STAGE_BEST_SYSTEM'], axis=1, inplace= True)"
   ]
  },
  {
   "cell_type": "markdown",
   "metadata": {
    "id": "Ank2etiUcPdb"
   },
   "source": [
    "Grade of tumour\n",
    "\n",
    "0\t0 BORDERLINE MALIGNANCY   \n",
    "1\t1 / I / WELL DIFFERENTIATED  \n",
    "2\t2 / II / MODERATELY DIFFERENTIATED   \n",
    "3\t3 / III / POORLY DIFFERENTIATED    \n",
    "4\t4 / IV / UNDIFFERENTIATED / ANAPLASTIC   \n",
    "5\tT CELL   \n",
    "6\tB CELL    \n",
    "7\tNULL CELL  \n",
    "H\tHIGH   \n",
    "I\tINTERMEDIATE    \n",
    "L\tLOW     \n",
    "X\tX\n"
   ]
  },
  {
   "cell_type": "code",
   "execution_count": 62,
   "metadata": {
    "execution": {
     "iopub.execute_input": "2023-08-23T19:11:22.064936Z",
     "iopub.status.busy": "2023-08-23T19:11:22.064562Z",
     "iopub.status.idle": "2023-08-23T19:11:22.080589Z",
     "shell.execute_reply": "2023-08-23T19:11:22.079474Z",
     "shell.execute_reply.started": "2023-08-23T19:11:22.064904Z"
    },
    "id": "OWCZSJA1cPdc",
    "outputId": "8e762988-eb5c-4b4a-98cb-34f36fc37fed"
   },
   "outputs": [
    {
     "data": {
      "text/plain": [
       "G2    33835\n",
       "GX    24837\n",
       "G3    17605\n",
       "G1     6603\n",
       "G4      201\n",
       "Name: GRADE, dtype: int64"
      ]
     },
     "execution_count": 62,
     "metadata": {},
     "output_type": "execute_result"
    }
   ],
   "source": [
    "data.GRADE.value_counts()"
   ]
  },
  {
   "cell_type": "code",
   "execution_count": 63,
   "metadata": {
    "execution": {
     "iopub.execute_input": "2023-08-23T19:11:22.082278Z",
     "iopub.status.busy": "2023-08-23T19:11:22.081965Z",
     "iopub.status.idle": "2023-08-23T19:11:22.089617Z",
     "shell.execute_reply": "2023-08-23T19:11:22.088511Z",
     "shell.execute_reply.started": "2023-08-23T19:11:22.082250Z"
    },
    "id": "YOpxSXCfcPdc"
   },
   "outputs": [],
   "source": [
    "# Extract grade number\n",
    "\n",
    "# def get_number(text):\n",
    "#     return text[1:] if isinstance(text, str) else text\n",
    "\n",
    "# data['GRADE']= data['GRADE'].apply(get_number)\n",
    "\n",
    "# data.GRADE.value_counts()"
   ]
  },
  {
   "cell_type": "code",
   "execution_count": 64,
   "metadata": {
    "execution": {
     "iopub.execute_input": "2023-08-23T19:11:22.091389Z",
     "iopub.status.busy": "2023-08-23T19:11:22.091038Z",
     "iopub.status.idle": "2023-08-23T19:11:22.106618Z",
     "shell.execute_reply": "2023-08-23T19:11:22.105742Z",
     "shell.execute_reply.started": "2023-08-23T19:11:22.091359Z"
    },
    "id": "C23L6prqUkbE",
    "outputId": "7eec548b-8212-4376-ac5d-f9dc469d96d5"
   },
   "outputs": [
    {
     "data": {
      "text/plain": [
       "501"
      ]
     },
     "execution_count": 64,
     "metadata": {},
     "output_type": "execute_result"
    }
   ],
   "source": [
    "data.GRADE.isnull().sum()"
   ]
  },
  {
   "cell_type": "code",
   "execution_count": 65,
   "metadata": {
    "execution": {
     "iopub.execute_input": "2023-08-23T19:11:22.108349Z",
     "iopub.status.busy": "2023-08-23T19:11:22.108005Z",
     "iopub.status.idle": "2023-08-23T19:11:22.228720Z",
     "shell.execute_reply": "2023-08-23T19:11:22.227586Z",
     "shell.execute_reply.started": "2023-08-23T19:11:22.108323Z"
    },
    "id": "U99U722RS_gs"
   },
   "outputs": [],
   "source": [
    "data['GRADE'] =(data\n",
    "                  .groupby(['BEHAVIOUR_ICD10_O2','MORPH_ICD10_O2'],sort=False)['GRADE']\n",
    "                  .apply(lambda x : x.fillna(stats.mode(x)[0][0]))\n",
    "                 )"
   ]
  },
  {
   "cell_type": "code",
   "execution_count": 66,
   "metadata": {
    "execution": {
     "iopub.execute_input": "2023-08-23T19:11:22.231058Z",
     "iopub.status.busy": "2023-08-23T19:11:22.230359Z",
     "iopub.status.idle": "2023-08-23T19:11:22.243113Z",
     "shell.execute_reply": "2023-08-23T19:11:22.241922Z",
     "shell.execute_reply.started": "2023-08-23T19:11:22.231023Z"
    },
    "id": "jQjaPPkU-50d",
    "outputId": "a0e69224-8870-466a-889c-73c5276c3250"
   },
   "outputs": [
    {
     "data": {
      "text/plain": [
       "23"
      ]
     },
     "execution_count": 66,
     "metadata": {},
     "output_type": "execute_result"
    }
   ],
   "source": [
    "data.GRADE.isnull().sum()"
   ]
  },
  {
   "cell_type": "markdown",
   "metadata": {
    "id": "S_PNKBtkcPdc"
   },
   "source": [
    "##### Age\n",
    "\n",
    "1. Outliers"
   ]
  },
  {
   "cell_type": "code",
   "execution_count": 67,
   "metadata": {
    "execution": {
     "iopub.execute_input": "2023-08-23T19:11:22.245301Z",
     "iopub.status.busy": "2023-08-23T19:11:22.244884Z",
     "iopub.status.idle": "2023-08-23T19:11:22.262033Z",
     "shell.execute_reply": "2023-08-23T19:11:22.261111Z",
     "shell.execute_reply.started": "2023-08-23T19:11:22.245269Z"
    },
    "id": "N9vvlXgacPdc",
    "outputId": "0deed79a-c9b7-4825-a3e7-e367e5ed5bd7"
   },
   "outputs": [
    {
     "data": {
      "text/plain": [
       "count    83582.000000\n",
       "mean        68.107057\n",
       "std         13.776761\n",
       "min          1.000000\n",
       "25%         59.000000\n",
       "50%         69.000000\n",
       "75%         78.000000\n",
       "max        105.000000\n",
       "Name: AGE, dtype: float64"
      ]
     },
     "execution_count": 67,
     "metadata": {},
     "output_type": "execute_result"
    }
   ],
   "source": [
    "data.AGE.describe()"
   ]
  },
  {
   "cell_type": "code",
   "execution_count": 68,
   "metadata": {
    "execution": {
     "iopub.execute_input": "2023-08-23T19:11:22.263889Z",
     "iopub.status.busy": "2023-08-23T19:11:22.263165Z",
     "iopub.status.idle": "2023-08-23T19:11:22.525503Z",
     "shell.execute_reply": "2023-08-23T19:11:22.524366Z",
     "shell.execute_reply.started": "2023-08-23T19:11:22.263856Z"
    },
    "id": "rTJXvG1AcPdc",
    "outputId": "3a2bf400-e6a5-43a6-82f1-b0e6d5aad259"
   },
   "outputs": [
    {
     "data": {
      "text/plain": [
       "<Axes: >"
      ]
     },
     "execution_count": 68,
     "metadata": {},
     "output_type": "execute_result"
    },
    {
     "data": {
      "image/png": "[encoded data removed]",
      "text/plain": [
       "<Figure size 640x480 with 1 Axes>"
      ]
     },
     "metadata": {},
     "output_type": "display_data"
    }
   ],
   "source": [
    "data.AGE.hist()"
   ]
  },
  {
   "cell_type": "markdown",
   "metadata": {
    "id": "SwJaQosRcPdc"
   },
   "source": [
    "##### CREG_CODE\n",
    "Cancer registry catchment area code, no missing value\n",
    "\n",
    "1. do we want to map this?"
   ]
  },
  {
   "cell_type": "code",
   "execution_count": 69,
   "metadata": {
    "execution": {
     "iopub.execute_input": "2023-08-23T19:11:22.542873Z",
     "iopub.status.busy": "2023-08-23T19:11:22.542303Z",
     "iopub.status.idle": "2023-08-23T19:11:22.558841Z",
     "shell.execute_reply": "2023-08-23T19:11:22.557653Z",
     "shell.execute_reply.started": "2023-08-23T19:11:22.542829Z"
    },
    "id": "KjMOIuiEcPdc",
    "outputId": "f70d5922-e69f-43c3-8489-02d0cbb25bf7"
   },
   "outputs": [
    {
     "data": {
      "text/plain": [
       "L0801    16654\n",
       "L1001    12603\n",
       "L0201    11739\n",
       "L1701    11588\n",
       "L0401     9322\n",
       "L1201     8865\n",
       "L0301     8471\n",
       "L0901     4340\n",
       "Name: CREG_CODE, dtype: int64"
      ]
     },
     "execution_count": 69,
     "metadata": {},
     "output_type": "execute_result"
    }
   ],
   "source": [
    "data.CREG_CODE.value_counts()"
   ]
  },
  {
   "cell_type": "markdown",
   "metadata": {
    "id": "mVbLY7NFcPdd"
   },
   "source": [
    "##### SCREENINGSTATUSFULL_CODE"
   ]
  },
  {
   "cell_type": "code",
   "execution_count": 70,
   "metadata": {
    "execution": {
     "iopub.execute_input": "2023-08-23T19:11:22.560946Z",
     "iopub.status.busy": "2023-08-23T19:11:22.560521Z",
     "iopub.status.idle": "2023-08-23T19:11:22.572707Z",
     "shell.execute_reply": "2023-08-23T19:11:22.571386Z",
     "shell.execute_reply.started": "2023-08-23T19:11:22.560907Z"
    },
    "id": "-6YQRuNTcPdd",
    "outputId": "89fb4329-ba80-4069-c887-b1691a4ad939"
   },
   "outputs": [
    {
     "data": {
      "text/plain": [
       "6001.0    9931\n",
       "6006.0    4722\n",
       "6012.0    3954\n",
       "7010.0    2399\n",
       "6013.0    2254\n",
       "6014.0    1658\n",
       "6021.0    1586\n",
       "7006.0    1442\n",
       "7001.0    1229\n",
       "6022.0     503\n",
       "7009.0      66\n",
       "6007.0      49\n",
       "7002.0      32\n",
       "6002.0      21\n",
       "7007.0      20\n",
       "7012.0      15\n",
       "7008.0      14\n",
       "1.0         12\n",
       "7003.0       9\n",
       "6020.0       5\n",
       "7011.0       2\n",
       "6008.0       2\n",
       "6016.0       1\n",
       "6015.0       1\n",
       "6009.0       1\n",
       "9.0          1\n",
       "Name: SCREENINGSTATUSFULL_CODE, dtype: int64"
      ]
     },
     "execution_count": 70,
     "metadata": {},
     "output_type": "execute_result"
    }
   ],
   "source": [
    "data.SCREENINGSTATUSFULL_CODE.value_counts()"
   ]
  },
  {
   "cell_type": "markdown",
   "metadata": {
    "id": "wBm_sgfocPdd"
   },
   "source": [
    "##### 'ER_STATUS', 'ER_SCORE', 'PR_STATUS','PR_SCORE', 'HER2_STATUS'\n",
    "#####As theses markers are specific to breast cancer, and breast cancer ensure whether to use them in the model.\n",
    "####If these markers are used only those with a location code beginning with C50(Breast cancer) will have these."
   ]
  },
  {
   "cell_type": "code",
   "execution_count": 71,
   "metadata": {
    "execution": {
     "iopub.execute_input": "2023-08-23T19:11:22.575048Z",
     "iopub.status.busy": "2023-08-23T19:11:22.574692Z",
     "iopub.status.idle": "2023-08-23T19:11:22.589889Z",
     "shell.execute_reply": "2023-08-23T19:11:22.588720Z",
     "shell.execute_reply.started": "2023-08-23T19:11:22.575010Z"
    },
    "id": "MbkvfkLfcPdd",
    "outputId": "378c7777-fa29-40d0-a020-08d53ab016db"
   },
   "outputs": [
    {
     "data": {
      "text/plain": [
       "P     22474\n",
       "U      4405\n",
       "N      4162\n",
       "Pm      170\n",
       "X        43\n",
       "B        18\n",
       "Name: ER_STATUS, dtype: int64"
      ]
     },
     "execution_count": 71,
     "metadata": {},
     "output_type": "execute_result"
    }
   ],
   "source": [
    "data.ER_STATUS.value_counts()"
   ]
  },
  {
   "cell_type": "code",
   "execution_count": 72,
   "metadata": {
    "execution": {
     "iopub.execute_input": "2023-08-23T19:11:22.592429Z",
     "iopub.status.busy": "2023-08-23T19:11:22.591972Z",
     "iopub.status.idle": "2023-08-23T19:11:22.623658Z",
     "shell.execute_reply": "2023-08-23T19:11:22.622613Z",
     "shell.execute_reply.started": "2023-08-23T19:11:22.592390Z"
    },
    "id": "Yfabhedmbo9Q"
   },
   "outputs": [],
   "source": [
    "data.drop(['SCREENINGSTATUSFULL_CODE','ER_STATUS', 'ER_SCORE', 'PR_STATUS','PR_SCORE', 'HER2_STATUS'], axis=1, inplace=True)"
   ]
  },
  {
   "cell_type": "markdown",
   "metadata": {
    "id": "L2xc4vYEcPdd"
   },
   "source": [
    "##### CANCERCAREPLANINTENT\n",
    "9\tNot known   \n",
    "C\tCurative   \n",
    "X\tNo active treatment    \n",
    "Z\tNon Curative\n",
    "\n",
    "1. assume cm and zm is an entry error and recode them as C & Z respecively and recode"
   ]
  },
  {
   "cell_type": "code",
   "execution_count": 73,
   "metadata": {
    "execution": {
     "iopub.execute_input": "2023-08-23T19:11:22.625671Z",
     "iopub.status.busy": "2023-08-23T19:11:22.625168Z",
     "iopub.status.idle": "2023-08-23T19:11:22.642033Z",
     "shell.execute_reply": "2023-08-23T19:11:22.640826Z",
     "shell.execute_reply.started": "2023-08-23T19:11:22.625626Z"
    },
    "id": "YbkqBy_gcPdd",
    "outputId": "4d9dbf72-2532-49b8-8cf8-a8cf4b655f16"
   },
   "outputs": [
    {
     "data": {
      "text/plain": [
       "C     27968\n",
       "Z      8960\n",
       "9      4902\n",
       "X      1715\n",
       "Cm      484\n",
       "Zm       99\n",
       "Name: CANCERCAREPLANINTENT, dtype: int64"
      ]
     },
     "execution_count": 73,
     "metadata": {},
     "output_type": "execute_result"
    }
   ],
   "source": [
    "data.CANCERCAREPLANINTENT.value_counts()"
   ]
  },
  {
   "cell_type": "code",
   "execution_count": 74,
   "metadata": {
    "execution": {
     "iopub.execute_input": "2023-08-23T19:11:22.644139Z",
     "iopub.status.busy": "2023-08-23T19:11:22.643422Z",
     "iopub.status.idle": "2023-08-23T19:11:22.671303Z",
     "shell.execute_reply": "2023-08-23T19:11:22.670001Z",
     "shell.execute_reply.started": "2023-08-23T19:11:22.644107Z"
    },
    "id": "rR7SiJMBcPdd"
   },
   "outputs": [],
   "source": [
    "data['CANCERCAREPLANINTENT'] = data['CANCERCAREPLANINTENT'].replace({'Cm': 'C', 'Zm':'Z'})"
   ]
  },
  {
   "cell_type": "code",
   "execution_count": 75,
   "metadata": {
    "execution": {
     "iopub.execute_input": "2023-08-23T19:11:22.675387Z",
     "iopub.status.busy": "2023-08-23T19:11:22.673356Z",
     "iopub.status.idle": "2023-08-23T19:11:22.688126Z",
     "shell.execute_reply": "2023-08-23T19:11:22.686759Z",
     "shell.execute_reply.started": "2023-08-23T19:11:22.675351Z"
    },
    "id": "AS-TJQWscPdd",
    "outputId": "2f14e5ca-c7f0-42f0-973c-0494d87ee851"
   },
   "outputs": [
    {
     "data": {
      "text/plain": [
       "C    28452\n",
       "Z     9059\n",
       "9     4902\n",
       "X     1715\n",
       "Name: CANCERCAREPLANINTENT, dtype: int64"
      ]
     },
     "execution_count": 75,
     "metadata": {},
     "output_type": "execute_result"
    }
   ],
   "source": [
    "data.CANCERCAREPLANINTENT.value_counts()"
   ]
  },
  {
   "cell_type": "code",
   "execution_count": 76,
   "metadata": {
    "execution": {
     "iopub.execute_input": "2023-08-23T19:11:22.690137Z",
     "iopub.status.busy": "2023-08-23T19:11:22.689685Z",
     "iopub.status.idle": "2023-08-23T19:11:22.704175Z",
     "shell.execute_reply": "2023-08-23T19:11:22.703220Z",
     "shell.execute_reply.started": "2023-08-23T19:11:22.690103Z"
    },
    "id": "BMom5jqtwrYO"
   },
   "outputs": [],
   "source": [
    "# fill null values with 9 which is not known\n",
    "data.loc[data['CANCERCAREPLANINTENT'].isnull(), 'CANCERCAREPLANINTENT'] = '9'"
   ]
  },
  {
   "cell_type": "markdown",
   "metadata": {
    "id": "o8B5sXCycPde"
   },
   "source": [
    "##### PERFORMANCESTATUS\n",
    "\n",
    "Performance status.   \n",
    "0 = Able carry out all normal activity without restriction   \n",
    "1 = Restricted in physically strenuous activity, but able to walk and do light work   \n",
    "2 = Able to walk and capable of all self care, but unable to carry out any work. Up and about more than 50% of waking hours  \n",
    "3 = Capable of only limited self care, confined to bed or chair more than 50% of waking hours   \n",
    "4 = Completely disabled. Cannot carry on any self care. Totally confined to bed or chair  \n",
    "9 = Not recorded  \n",
    "1. make same assumption as cancercareplan.. recode"
   ]
  },
  {
   "cell_type": "code",
   "execution_count": 77,
   "metadata": {
    "execution": {
     "iopub.execute_input": "2023-08-23T19:11:22.706944Z",
     "iopub.status.busy": "2023-08-23T19:11:22.705704Z",
     "iopub.status.idle": "2023-08-23T19:11:22.724364Z",
     "shell.execute_reply": "2023-08-23T19:11:22.723417Z",
     "shell.execute_reply.started": "2023-08-23T19:11:22.706901Z"
    },
    "id": "T-P-ms54cPde",
    "outputId": "ea8980ba-53bc-44aa-ae32-407969dc28da"
   },
   "outputs": [
    {
     "data": {
      "text/plain": [
       "0     16323\n",
       "1      8904\n",
       "9      6528\n",
       "2      4396\n",
       "3      3645\n",
       "4      1147\n",
       "1m      589\n",
       "2m      348\n",
       "3m      205\n",
       "4m       43\n",
       "Name: PERFORMANCESTATUS, dtype: int64"
      ]
     },
     "execution_count": 77,
     "metadata": {},
     "output_type": "execute_result"
    }
   ],
   "source": [
    "data.PERFORMANCESTATUS.value_counts()"
   ]
  },
  {
   "cell_type": "code",
   "execution_count": 78,
   "metadata": {
    "execution": {
     "iopub.execute_input": "2023-08-23T19:11:22.727176Z",
     "iopub.status.busy": "2023-08-23T19:11:22.726004Z",
     "iopub.status.idle": "2023-08-23T19:11:22.771219Z",
     "shell.execute_reply": "2023-08-23T19:11:22.770035Z",
     "shell.execute_reply.started": "2023-08-23T19:11:22.727117Z"
    },
    "id": "BZ1bUSNIcPde",
    "outputId": "25a582f0-5bfb-4483-f177-4eae76e5a40a"
   },
   "outputs": [
    {
     "data": {
      "text/plain": [
       "0    16323\n",
       "1     9493\n",
       "9     6528\n",
       "2     4744\n",
       "3     3850\n",
       "4     1190\n",
       "Name: PERFORMANCESTATUS, dtype: int64"
      ]
     },
     "execution_count": 78,
     "metadata": {},
     "output_type": "execute_result"
    }
   ],
   "source": [
    "data['PERFORMANCESTATUS'] = (data['PERFORMANCESTATUS'].replace({'1m' :'1', '2m': '2', '3m': '3', '4m': '4'}))\n",
    "data.PERFORMANCESTATUS.value_counts()"
   ]
  },
  {
   "cell_type": "code",
   "execution_count": 79,
   "metadata": {
    "execution": {
     "iopub.execute_input": "2023-08-23T19:11:22.773444Z",
     "iopub.status.busy": "2023-08-23T19:11:22.772989Z",
     "iopub.status.idle": "2023-08-23T19:11:22.786902Z",
     "shell.execute_reply": "2023-08-23T19:11:22.785605Z",
     "shell.execute_reply.started": "2023-08-23T19:11:22.773402Z"
    },
    "id": "IcJUle8yyZOS"
   },
   "outputs": [],
   "source": [
    "# fill null values with 9 which is Not recorded\n",
    "data.loc[data['PERFORMANCESTATUS'].isnull(), 'PERFORMANCESTATUS'] = '9'"
   ]
  },
  {
   "cell_type": "markdown",
   "metadata": {
    "id": "1xSxGXsEcPde"
   },
   "source": [
    "##### CNS    \n",
    "Clinical Nurse Specialist"
   ]
  },
  {
   "cell_type": "code",
   "execution_count": 80,
   "metadata": {
    "execution": {
     "iopub.execute_input": "2023-08-23T19:11:22.789000Z",
     "iopub.status.busy": "2023-08-23T19:11:22.788362Z",
     "iopub.status.idle": "2023-08-23T19:11:22.801807Z",
     "shell.execute_reply": "2023-08-23T19:11:22.800584Z",
     "shell.execute_reply.started": "2023-08-23T19:11:22.788958Z"
    },
    "id": "FdgKRziWcPde",
    "outputId": "1e0af98d-b4fc-481f-abf0-924b0e76e64d"
   },
   "outputs": [
    {
     "data": {
      "text/plain": [
       "Y1     13040\n",
       "99      5818\n",
       "Y2      2032\n",
       "NI       608\n",
       "NN       171\n",
       "Y1m      148\n",
       "Y4        62\n",
       "Y2m       20\n",
       "Y3        13\n",
       "Y4m        5\n",
       "NIm        4\n",
       "Name: CNS, dtype: int64"
      ]
     },
     "execution_count": 80,
     "metadata": {},
     "output_type": "execute_result"
    }
   ],
   "source": [
    "data.CNS.value_counts()"
   ]
  },
  {
   "cell_type": "markdown",
   "metadata": {
    "id": "qstA4xtjcPde"
   },
   "source": [
    "##### ACE27\n",
    "Adult Comorbidity Evaluation 27    \n",
    "Valid comorbidity scores should be 0-3"
   ]
  },
  {
   "cell_type": "code",
   "execution_count": 81,
   "metadata": {
    "execution": {
     "iopub.execute_input": "2023-08-23T19:11:22.804042Z",
     "iopub.status.busy": "2023-08-23T19:11:22.803632Z",
     "iopub.status.idle": "2023-08-23T19:11:22.819427Z",
     "shell.execute_reply": "2023-08-23T19:11:22.818266Z",
     "shell.execute_reply.started": "2023-08-23T19:11:22.804009Z"
    },
    "id": "bUr9ei-ncPde",
    "outputId": "4f81e185-8cea-4599-b967-a77420e9427d"
   },
   "outputs": [
    {
     "data": {
      "text/plain": [
       "9     4404\n",
       "0     3313\n",
       "1     1310\n",
       "2      896\n",
       "3      707\n",
       "1m      85\n",
       "2m      67\n",
       "3m      58\n",
       "Name: ACE27, dtype: int64"
      ]
     },
     "execution_count": 81,
     "metadata": {},
     "output_type": "execute_result"
    }
   ],
   "source": [
    "data.ACE27.value_counts()"
   ]
  },
  {
   "cell_type": "code",
   "execution_count": 82,
   "metadata": {
    "execution": {
     "iopub.execute_input": "2023-08-23T19:11:22.822073Z",
     "iopub.status.busy": "2023-08-23T19:11:22.821038Z",
     "iopub.status.idle": "2023-08-23T19:11:22.852918Z",
     "shell.execute_reply": "2023-08-23T19:11:22.851828Z",
     "shell.execute_reply.started": "2023-08-23T19:11:22.822036Z"
    },
    "id": "BgZxSeZhcPde",
    "outputId": "b771b3e3-05fd-496d-c9b2-e86545299e12"
   },
   "outputs": [
    {
     "data": {
      "text/plain": [
       "9    4404\n",
       "0    3313\n",
       "1    1395\n",
       "2     963\n",
       "3     765\n",
       "Name: ACE27, dtype: int64"
      ]
     },
     "execution_count": 82,
     "metadata": {},
     "output_type": "execute_result"
    }
   ],
   "source": [
    "data['ACE27'] = data['ACE27'].replace({'1m': '1', '2m':'2', '3m':'3'})\n",
    "data.ACE27.value_counts()"
   ]
  },
  {
   "cell_type": "markdown",
   "metadata": {
    "id": "uyr89gd8cPdf"
   },
   "source": [
    "##### Laterality\n",
    "No misssing value   \n",
    "9\tX NOT KNOWN    \n",
    "B\tBILATERAL     \n",
    "L\tLEFT     \n",
    "M\tMIDLINE      \n",
    "R\tRIGHT"
   ]
  },
  {
   "cell_type": "code",
   "execution_count": 83,
   "metadata": {
    "execution": {
     "iopub.execute_input": "2023-08-23T19:11:22.854730Z",
     "iopub.status.busy": "2023-08-23T19:11:22.854198Z",
     "iopub.status.idle": "2023-08-23T19:11:22.870124Z",
     "shell.execute_reply": "2023-08-23T19:11:22.868936Z",
     "shell.execute_reply.started": "2023-08-23T19:11:22.854697Z"
    },
    "id": "Bfep71YrcPdf",
    "outputId": "f8f82cad-854f-4cd6-bf4f-5d1264063456"
   },
   "outputs": [
    {
     "data": {
      "text/plain": [
       "R    30849\n",
       "L    27946\n",
       "9    24493\n",
       "M      166\n",
       "B      128\n",
       "Name: LATERALITY, dtype: int64"
      ]
     },
     "execution_count": 83,
     "metadata": {},
     "output_type": "execute_result"
    }
   ],
   "source": [
    "data.LATERALITY.value_counts()"
   ]
  },
  {
   "cell_type": "markdown",
   "metadata": {
    "id": "z-pXtzEdcPdf"
   },
   "source": [
    "##### quintile_2015\n",
    "Measure of deprivation at small area level made up from the income domain in 2015, quintiles are calculated from populations   \n",
    "no missing value\n",
    "                                        \n",
    "1 - least deprived   \n",
    "2  \n",
    "3     \n",
    "4                      \n",
    "5 - most deprived     "
   ]
  },
  {
   "cell_type": "code",
   "execution_count": 84,
   "metadata": {
    "execution": {
     "iopub.execute_input": "2023-08-23T19:11:22.872967Z",
     "iopub.status.busy": "2023-08-23T19:11:22.871486Z",
     "iopub.status.idle": "2023-08-23T19:11:22.888311Z",
     "shell.execute_reply": "2023-08-23T19:11:22.887435Z",
     "shell.execute_reply.started": "2023-08-23T19:11:22.872920Z"
    },
    "id": "xJqZplGNcPdf",
    "outputId": "41809952-8d94-42f5-a37d-5ac369ddbcc7"
   },
   "outputs": [
    {
     "data": {
      "text/plain": [
       "2                     17863\n",
       "3                     17124\n",
       "1 - least deprived    16955\n",
       "4                     16066\n",
       "5 - most deprived     15574\n",
       "Name: QUINTILE_2015, dtype: int64"
      ]
     },
     "execution_count": 84,
     "metadata": {},
     "output_type": "execute_result"
    }
   ],
   "source": [
    "data.QUINTILE_2015.value_counts()"
   ]
  },
  {
   "cell_type": "code",
   "execution_count": 85,
   "metadata": {
    "execution": {
     "iopub.execute_input": "2023-08-23T19:11:22.890554Z",
     "iopub.status.busy": "2023-08-23T19:11:22.889348Z",
     "iopub.status.idle": "2023-08-23T19:11:22.936047Z",
     "shell.execute_reply": "2023-08-23T19:11:22.934677Z",
     "shell.execute_reply.started": "2023-08-23T19:11:22.890499Z"
    },
    "id": "uDa1P2SIcPdf",
    "outputId": "401f620e-617f-4a35-96e4-6a797b08b273"
   },
   "outputs": [
    {
     "data": {
      "text/plain": [
       "2    17863\n",
       "3    17124\n",
       "1    16955\n",
       "4    16066\n",
       "5    15574\n",
       "Name: QUINTILE_2015, dtype: int64"
      ]
     },
     "execution_count": 85,
     "metadata": {},
     "output_type": "execute_result"
    }
   ],
   "source": [
    "# Extract numbers, this is an ordianal variable\n",
    "\n",
    "data['QUINTILE_2015'] = data['QUINTILE_2015'].apply(lambda x: x[:1])\n",
    "\n",
    "data.QUINTILE_2015.value_counts()"
   ]
  },
  {
   "cell_type": "code",
   "execution_count": 86,
   "metadata": {
    "execution": {
     "iopub.execute_input": "2023-08-23T19:11:22.937895Z",
     "iopub.status.busy": "2023-08-23T19:11:22.937307Z",
     "iopub.status.idle": "2023-08-23T19:11:22.942026Z",
     "shell.execute_reply": "2023-08-23T19:11:22.941012Z",
     "shell.execute_reply.started": "2023-08-23T19:11:22.937860Z"
    },
    "id": "0zJesH9CcPdf"
   },
   "outputs": [],
   "source": [
    "# Rename column names if neccessary\n"
   ]
  },
  {
   "cell_type": "code",
   "execution_count": 87,
   "metadata": {
    "execution": {
     "iopub.execute_input": "2023-08-23T19:11:22.943720Z",
     "iopub.status.busy": "2023-08-23T19:11:22.943358Z",
     "iopub.status.idle": "2023-08-23T19:11:23.673078Z",
     "shell.execute_reply": "2023-08-23T19:11:23.672043Z",
     "shell.execute_reply.started": "2023-08-23T19:11:22.943689Z"
    },
    "id": "_rR-Ns5ZcPdf",
    "outputId": "399337a1-d3f0-46de-ce97-678f0903390a"
   },
   "outputs": [
    {
     "data": {
      "text/html": [
       "<div>\n",
       "<style scoped>\n",
       "    .dataframe tbody tr th:only-of-type {\n",
       "        vertical-align: middle;\n",
       "    }\n",
       "\n",
       "    .dataframe tbody tr th {\n",
       "        vertical-align: top;\n",
       "    }\n",
       "\n",
       "    .dataframe thead th {\n",
       "        text-align: right;\n",
       "    }\n",
       "</style>\n",
       "<table border=\"1\" class=\"dataframe\">\n",
       "  <thead>\n",
       "    <tr style=\"text-align: right;\">\n",
       "      <th></th>\n",
       "      <th>dtypes</th>\n",
       "      <th>nunique</th>\n",
       "      <th>count</th>\n",
       "      <th>missing values</th>\n",
       "      <th>% of Missing_values</th>\n",
       "    </tr>\n",
       "  </thead>\n",
       "  <tbody>\n",
       "    <tr>\n",
       "      <th>PATIENTID</th>\n",
       "      <td>int64</td>\n",
       "      <td>83582</td>\n",
       "      <td>83582</td>\n",
       "      <td>0</td>\n",
       "      <td>0.000000</td>\n",
       "    </tr>\n",
       "    <tr>\n",
       "      <th>ETHNICITY</th>\n",
       "      <td>object</td>\n",
       "      <td>20</td>\n",
       "      <td>81942</td>\n",
       "      <td>1640</td>\n",
       "      <td>1.962145</td>\n",
       "    </tr>\n",
       "    <tr>\n",
       "      <th>DEATHCAUSECODE_1A</th>\n",
       "      <td>object</td>\n",
       "      <td>1145</td>\n",
       "      <td>83582</td>\n",
       "      <td>0</td>\n",
       "      <td>0.000000</td>\n",
       "    </tr>\n",
       "    <tr>\n",
       "      <th>DEATHLOCATIONCODE</th>\n",
       "      <td>object</td>\n",
       "      <td>8</td>\n",
       "      <td>83582</td>\n",
       "      <td>0</td>\n",
       "      <td>0.000000</td>\n",
       "    </tr>\n",
       "    <tr>\n",
       "      <th>NEWVITALSTATUS</th>\n",
       "      <td>Int32</td>\n",
       "      <td>2</td>\n",
       "      <td>83582</td>\n",
       "      <td>0</td>\n",
       "      <td>0.000000</td>\n",
       "    </tr>\n",
       "    <tr>\n",
       "      <th>VITALSTATUSDATE</th>\n",
       "      <td>int64</td>\n",
       "      <td>7</td>\n",
       "      <td>83582</td>\n",
       "      <td>0</td>\n",
       "      <td>0.000000</td>\n",
       "    </tr>\n",
       "    <tr>\n",
       "      <th>SEX</th>\n",
       "      <td>int64</td>\n",
       "      <td>2</td>\n",
       "      <td>83582</td>\n",
       "      <td>0</td>\n",
       "      <td>0.000000</td>\n",
       "    </tr>\n",
       "    <tr>\n",
       "      <th>TUMOURID</th>\n",
       "      <td>int64</td>\n",
       "      <td>83582</td>\n",
       "      <td>83582</td>\n",
       "      <td>0</td>\n",
       "      <td>0.000000</td>\n",
       "    </tr>\n",
       "    <tr>\n",
       "      <th>DIAGNOSISDATEBEST</th>\n",
       "      <td>int64</td>\n",
       "      <td>6</td>\n",
       "      <td>83582</td>\n",
       "      <td>0</td>\n",
       "      <td>0.000000</td>\n",
       "    </tr>\n",
       "    <tr>\n",
       "      <th>SITE_ICD10_O2</th>\n",
       "      <td>object</td>\n",
       "      <td>31</td>\n",
       "      <td>83582</td>\n",
       "      <td>0</td>\n",
       "      <td>0.000000</td>\n",
       "    </tr>\n",
       "    <tr>\n",
       "      <th>MORPH_ICD10_O2</th>\n",
       "      <td>float64</td>\n",
       "      <td>96</td>\n",
       "      <td>83559</td>\n",
       "      <td>23</td>\n",
       "      <td>0.027518</td>\n",
       "    </tr>\n",
       "    <tr>\n",
       "      <th>BEHAVIOUR_ICD10_O2</th>\n",
       "      <td>object</td>\n",
       "      <td>4</td>\n",
       "      <td>83559</td>\n",
       "      <td>23</td>\n",
       "      <td>0.027518</td>\n",
       "    </tr>\n",
       "    <tr>\n",
       "      <th>T_BEST</th>\n",
       "      <td>object</td>\n",
       "      <td>8</td>\n",
       "      <td>74229</td>\n",
       "      <td>9353</td>\n",
       "      <td>11.190208</td>\n",
       "    </tr>\n",
       "    <tr>\n",
       "      <th>N_BEST</th>\n",
       "      <td>object</td>\n",
       "      <td>5</td>\n",
       "      <td>74106</td>\n",
       "      <td>9476</td>\n",
       "      <td>11.337369</td>\n",
       "    </tr>\n",
       "    <tr>\n",
       "      <th>M_BEST</th>\n",
       "      <td>object</td>\n",
       "      <td>3</td>\n",
       "      <td>66279</td>\n",
       "      <td>17303</td>\n",
       "      <td>20.701826</td>\n",
       "    </tr>\n",
       "    <tr>\n",
       "      <th>STAGE_BEST</th>\n",
       "      <td>object</td>\n",
       "      <td>7</td>\n",
       "      <td>83582</td>\n",
       "      <td>0</td>\n",
       "      <td>0.000000</td>\n",
       "    </tr>\n",
       "    <tr>\n",
       "      <th>GRADE</th>\n",
       "      <td>object</td>\n",
       "      <td>6</td>\n",
       "      <td>83559</td>\n",
       "      <td>23</td>\n",
       "      <td>0.027518</td>\n",
       "    </tr>\n",
       "    <tr>\n",
       "      <th>AGE</th>\n",
       "      <td>int64</td>\n",
       "      <td>101</td>\n",
       "      <td>83582</td>\n",
       "      <td>0</td>\n",
       "      <td>0.000000</td>\n",
       "    </tr>\n",
       "    <tr>\n",
       "      <th>CREG_CODE</th>\n",
       "      <td>object</td>\n",
       "      <td>8</td>\n",
       "      <td>83582</td>\n",
       "      <td>0</td>\n",
       "      <td>0.000000</td>\n",
       "    </tr>\n",
       "    <tr>\n",
       "      <th>CANCERCAREPLANINTENT</th>\n",
       "      <td>object</td>\n",
       "      <td>4</td>\n",
       "      <td>83582</td>\n",
       "      <td>0</td>\n",
       "      <td>0.000000</td>\n",
       "    </tr>\n",
       "    <tr>\n",
       "      <th>PERFORMANCESTATUS</th>\n",
       "      <td>object</td>\n",
       "      <td>6</td>\n",
       "      <td>83582</td>\n",
       "      <td>0</td>\n",
       "      <td>0.000000</td>\n",
       "    </tr>\n",
       "    <tr>\n",
       "      <th>CNS</th>\n",
       "      <td>object</td>\n",
       "      <td>11</td>\n",
       "      <td>21921</td>\n",
       "      <td>61661</td>\n",
       "      <td>73.773061</td>\n",
       "    </tr>\n",
       "    <tr>\n",
       "      <th>ACE27</th>\n",
       "      <td>object</td>\n",
       "      <td>5</td>\n",
       "      <td>10840</td>\n",
       "      <td>72742</td>\n",
       "      <td>87.030700</td>\n",
       "    </tr>\n",
       "    <tr>\n",
       "      <th>DATE_FIRST_SURGERY</th>\n",
       "      <td>float64</td>\n",
       "      <td>8</td>\n",
       "      <td>56398</td>\n",
       "      <td>27184</td>\n",
       "      <td>32.523749</td>\n",
       "    </tr>\n",
       "    <tr>\n",
       "      <th>LATERALITY</th>\n",
       "      <td>object</td>\n",
       "      <td>5</td>\n",
       "      <td>83582</td>\n",
       "      <td>0</td>\n",
       "      <td>0.000000</td>\n",
       "    </tr>\n",
       "    <tr>\n",
       "      <th>QUINTILE_2015</th>\n",
       "      <td>object</td>\n",
       "      <td>5</td>\n",
       "      <td>83582</td>\n",
       "      <td>0</td>\n",
       "      <td>0.000000</td>\n",
       "    </tr>\n",
       "    <tr>\n",
       "      <th>SURGERYSTATUS</th>\n",
       "      <td>int64</td>\n",
       "      <td>2</td>\n",
       "      <td>83582</td>\n",
       "      <td>0</td>\n",
       "      <td>0.000000</td>\n",
       "    </tr>\n",
       "  </tbody>\n",
       "</table>\n",
       "</div>"
      ],
      "text/plain": [
       "                       dtypes  nunique  count  missing values  \\\n",
       "PATIENTID               int64    83582  83582               0   \n",
       "ETHNICITY              object       20  81942            1640   \n",
       "DEATHCAUSECODE_1A      object     1145  83582               0   \n",
       "DEATHLOCATIONCODE      object        8  83582               0   \n",
       "NEWVITALSTATUS          Int32        2  83582               0   \n",
       "VITALSTATUSDATE         int64        7  83582               0   \n",
       "SEX                     int64        2  83582               0   \n",
       "TUMOURID                int64    83582  83582               0   \n",
       "DIAGNOSISDATEBEST       int64        6  83582               0   \n",
       "SITE_ICD10_O2          object       31  83582               0   \n",
       "MORPH_ICD10_O2        float64       96  83559              23   \n",
       "BEHAVIOUR_ICD10_O2     object        4  83559              23   \n",
       "T_BEST                 object        8  74229            9353   \n",
       "N_BEST                 object        5  74106            9476   \n",
       "M_BEST                 object        3  66279           17303   \n",
       "STAGE_BEST             object        7  83582               0   \n",
       "GRADE                  object        6  83559              23   \n",
       "AGE                     int64      101  83582               0   \n",
       "CREG_CODE              object        8  83582               0   \n",
       "CANCERCAREPLANINTENT   object        4  83582               0   \n",
       "PERFORMANCESTATUS      object        6  83582               0   \n",
       "CNS                    object       11  21921           61661   \n",
       "ACE27                  object        5  10840           72742   \n",
       "DATE_FIRST_SURGERY    float64        8  56398           27184   \n",
       "LATERALITY             object        5  83582               0   \n",
       "QUINTILE_2015          object        5  83582               0   \n",
       "SURGERYSTATUS           int64        2  83582               0   \n",
       "\n",
       "                      % of Missing_values  \n",
       "PATIENTID                        0.000000  \n",
       "ETHNICITY                        1.962145  \n",
       "DEATHCAUSECODE_1A                0.000000  \n",
       "DEATHLOCATIONCODE                0.000000  \n",
       "NEWVITALSTATUS                   0.000000  \n",
       "VITALSTATUSDATE                  0.000000  \n",
       "SEX                              0.000000  \n",
       "TUMOURID                         0.000000  \n",
       "DIAGNOSISDATEBEST                0.000000  \n",
       "SITE_ICD10_O2                    0.000000  \n",
       "MORPH_ICD10_O2                   0.027518  \n",
       "BEHAVIOUR_ICD10_O2               0.027518  \n",
       "T_BEST                          11.190208  \n",
       "N_BEST                          11.337369  \n",
       "M_BEST                          20.701826  \n",
       "STAGE_BEST                       0.000000  \n",
       "GRADE                            0.027518  \n",
       "AGE                              0.000000  \n",
       "CREG_CODE                        0.000000  \n",
       "CANCERCAREPLANINTENT             0.000000  \n",
       "PERFORMANCESTATUS                0.000000  \n",
       "CNS                             73.773061  \n",
       "ACE27                           87.030700  \n",
       "DATE_FIRST_SURGERY              32.523749  \n",
       "LATERALITY                       0.000000  \n",
       "QUINTILE_2015                    0.000000  \n",
       "SURGERYSTATUS                    0.000000  "
      ]
     },
     "execution_count": 87,
     "metadata": {},
     "output_type": "execute_result"
    }
   ],
   "source": [
    "get_data_summary(data)"
   ]
  },
  {
   "cell_type": "code",
   "execution_count": 88,
   "metadata": {
    "execution": {
     "iopub.execute_input": "2023-08-23T19:11:23.674629Z",
     "iopub.status.busy": "2023-08-23T19:11:23.674288Z",
     "iopub.status.idle": "2023-08-23T19:11:23.703046Z",
     "shell.execute_reply": "2023-08-23T19:11:23.702100Z",
     "shell.execute_reply.started": "2023-08-23T19:11:23.674572Z"
    },
    "id": "XMkNl__9cPdf"
   },
   "outputs": [],
   "source": [
    "data.drop(['CNS','ACE27', 'DATE_FIRST_SURGERY'], axis=1, inplace=True)"
   ]
  },
  {
   "cell_type": "code",
   "execution_count": 89,
   "metadata": {
    "execution": {
     "iopub.execute_input": "2023-08-23T19:11:23.705063Z",
     "iopub.status.busy": "2023-08-23T19:11:23.704391Z",
     "iopub.status.idle": "2023-08-23T19:11:23.710011Z",
     "shell.execute_reply": "2023-08-23T19:11:23.709064Z",
     "shell.execute_reply.started": "2023-08-23T19:11:23.705022Z"
    },
    "id": "4eUCa0L6cPdg"
   },
   "outputs": [],
   "source": [
    "# def replace_values(row):\n",
    "\n",
    "#     value = None\n",
    "#     value_list = []\n",
    "#     for col in df_clean1.columns[13:17]:\n",
    "#         if row[col] is not None:\n",
    "#             value = row[col]\n",
    "#             value_list.append(value)\n",
    "#             if len(value_list) != 0:\n",
    "#                 value = ''.join([val for val in value_list if not val.startswith('N')])\n",
    "\n",
    "#     return value"
   ]
  },
  {
   "cell_type": "markdown",
   "metadata": {
    "id": "gJP2XcGYEwzW"
   },
   "source": [
    "#Test Data\n",
    "\n"
   ]
  },
  {
   "cell_type": "code",
   "execution_count": 90,
   "metadata": {
    "execution": {
     "iopub.execute_input": "2023-08-23T19:11:23.712195Z",
     "iopub.status.busy": "2023-08-23T19:11:23.711836Z",
     "iopub.status.idle": "2023-08-23T19:11:23.803172Z",
     "shell.execute_reply": "2023-08-23T19:11:23.802117Z",
     "shell.execute_reply.started": "2023-08-23T19:11:23.712168Z"
    },
    "id": "XUf2P6Y0HI78"
   },
   "outputs": [],
   "source": [
    "data_test= pd.merge(df3,df4, on='PATIENTID', how='inner')"
   ]
  },
  {
   "cell_type": "code",
   "execution_count": 91,
   "metadata": {
    "execution": {
     "iopub.execute_input": "2023-08-23T19:11:23.804613Z",
     "iopub.status.busy": "2023-08-23T19:11:23.804311Z",
     "iopub.status.idle": "2023-08-23T19:11:23.827688Z",
     "shell.execute_reply": "2023-08-23T19:11:23.826385Z",
     "shell.execute_reply.started": "2023-08-23T19:11:23.804587Z"
    },
    "id": "GaP7rGdbE-Ta",
    "outputId": "a3182dbb-e3f0-4fb2-de48-4cef1eb24aa6"
   },
   "outputs": [
    {
     "data": {
      "text/html": [
       "<div>\n",
       "<style scoped>\n",
       "    .dataframe tbody tr th:only-of-type {\n",
       "        vertical-align: middle;\n",
       "    }\n",
       "\n",
       "    .dataframe tbody tr th {\n",
       "        vertical-align: top;\n",
       "    }\n",
       "\n",
       "    .dataframe thead th {\n",
       "        text-align: right;\n",
       "    }\n",
       "</style>\n",
       "<table border=\"1\" class=\"dataframe\">\n",
       "  <thead>\n",
       "    <tr style=\"text-align: right;\">\n",
       "      <th></th>\n",
       "      <th>Unnamed: 0_x</th>\n",
       "      <th>PATIENTID</th>\n",
       "      <th>ETHNICITY</th>\n",
       "      <th>DEATHCAUSECODE_1A</th>\n",
       "      <th>DEATHCAUSECODE_1B</th>\n",
       "      <th>DEATHCAUSECODE_1C</th>\n",
       "      <th>DEATHCAUSECODE_2</th>\n",
       "      <th>DEATHCAUSECODE_UNDERLYING</th>\n",
       "      <th>DEATHLOCATIONCODE</th>\n",
       "      <th>VITALSTATUSDATE</th>\n",
       "      <th>...</th>\n",
       "      <th>ACE27</th>\n",
       "      <th>GLEASON_PRIMARY</th>\n",
       "      <th>GLEASON_SECONDARY</th>\n",
       "      <th>GLEASON_TERTIARY</th>\n",
       "      <th>GLEASON_COMBINED</th>\n",
       "      <th>DATE_FIRST_SURGERY</th>\n",
       "      <th>LATERALITY</th>\n",
       "      <th>QUINTILE_2015</th>\n",
       "      <th>SEX_y</th>\n",
       "      <th>LINKNUMBER_y</th>\n",
       "    </tr>\n",
       "  </thead>\n",
       "  <tbody>\n",
       "    <tr>\n",
       "      <th>0</th>\n",
       "      <td>716031</td>\n",
       "      <td>20097808</td>\n",
       "      <td>A</td>\n",
       "      <td>NaN</td>\n",
       "      <td>NaN</td>\n",
       "      <td>NaN</td>\n",
       "      <td>NaN</td>\n",
       "      <td>NaN</td>\n",
       "      <td>NaN</td>\n",
       "      <td>2019-02-08</td>\n",
       "      <td>...</td>\n",
       "      <td>NaN</td>\n",
       "      <td>NaN</td>\n",
       "      <td>NaN</td>\n",
       "      <td>NaN</td>\n",
       "      <td>NaN</td>\n",
       "      <td>2017-04-24</td>\n",
       "      <td>L</td>\n",
       "      <td>4</td>\n",
       "      <td>2</td>\n",
       "      <td>820097808</td>\n",
       "    </tr>\n",
       "    <tr>\n",
       "      <th>1</th>\n",
       "      <td>1384081</td>\n",
       "      <td>60059557</td>\n",
       "      <td>A</td>\n",
       "      <td>NaN</td>\n",
       "      <td>NaN</td>\n",
       "      <td>NaN</td>\n",
       "      <td>NaN</td>\n",
       "      <td>NaN</td>\n",
       "      <td>NaN</td>\n",
       "      <td>2019-02-09</td>\n",
       "      <td>...</td>\n",
       "      <td>NaN</td>\n",
       "      <td>NaN</td>\n",
       "      <td>NaN</td>\n",
       "      <td>NaN</td>\n",
       "      <td>NaN</td>\n",
       "      <td>2013-06-18</td>\n",
       "      <td>9</td>\n",
       "      <td>3</td>\n",
       "      <td>1</td>\n",
       "      <td>860059557</td>\n",
       "    </tr>\n",
       "    <tr>\n",
       "      <th>2</th>\n",
       "      <td>1090112</td>\n",
       "      <td>40054601</td>\n",
       "      <td>A</td>\n",
       "      <td>C349</td>\n",
       "      <td>C349</td>\n",
       "      <td>NaN</td>\n",
       "      <td>J449</td>\n",
       "      <td>C349</td>\n",
       "      <td>4</td>\n",
       "      <td>2019-02-09</td>\n",
       "      <td>...</td>\n",
       "      <td>NaN</td>\n",
       "      <td>NaN</td>\n",
       "      <td>NaN</td>\n",
       "      <td>NaN</td>\n",
       "      <td>NaN</td>\n",
       "      <td>NaN</td>\n",
       "      <td>R</td>\n",
       "      <td>4</td>\n",
       "      <td>1</td>\n",
       "      <td>840054601</td>\n",
       "    </tr>\n",
       "    <tr>\n",
       "      <th>3</th>\n",
       "      <td>1328931</td>\n",
       "      <td>60006085</td>\n",
       "      <td>C</td>\n",
       "      <td>NaN</td>\n",
       "      <td>NaN</td>\n",
       "      <td>NaN</td>\n",
       "      <td>NaN</td>\n",
       "      <td>NaN</td>\n",
       "      <td>NaN</td>\n",
       "      <td>2017-09-30</td>\n",
       "      <td>...</td>\n",
       "      <td>NaN</td>\n",
       "      <td>NaN</td>\n",
       "      <td>NaN</td>\n",
       "      <td>NaN</td>\n",
       "      <td>NaN</td>\n",
       "      <td>NaN</td>\n",
       "      <td>9</td>\n",
       "      <td>4</td>\n",
       "      <td>1</td>\n",
       "      <td>860006085</td>\n",
       "    </tr>\n",
       "    <tr>\n",
       "      <th>4</th>\n",
       "      <td>1149241</td>\n",
       "      <td>40118573</td>\n",
       "      <td>A</td>\n",
       "      <td>C349</td>\n",
       "      <td>I709</td>\n",
       "      <td>NaN</td>\n",
       "      <td>NaN</td>\n",
       "      <td>C349</td>\n",
       "      <td>1</td>\n",
       "      <td>2016-04-27</td>\n",
       "      <td>...</td>\n",
       "      <td>NaN</td>\n",
       "      <td>NaN</td>\n",
       "      <td>NaN</td>\n",
       "      <td>NaN</td>\n",
       "      <td>NaN</td>\n",
       "      <td>2014-09-09</td>\n",
       "      <td>R</td>\n",
       "      <td>4</td>\n",
       "      <td>2</td>\n",
       "      <td>840118573</td>\n",
       "    </tr>\n",
       "  </tbody>\n",
       "</table>\n",
       "<p>5 rows × 46 columns</p>\n",
       "</div>"
      ],
      "text/plain": [
       "   Unnamed: 0_x  PATIENTID ETHNICITY DEATHCAUSECODE_1A DEATHCAUSECODE_1B  \\\n",
       "0        716031   20097808         A               NaN               NaN   \n",
       "1       1384081   60059557         A               NaN               NaN   \n",
       "2       1090112   40054601         A              C349              C349   \n",
       "3       1328931   60006085         C               NaN               NaN   \n",
       "4       1149241   40118573         A              C349              I709   \n",
       "\n",
       "  DEATHCAUSECODE_1C DEATHCAUSECODE_2 DEATHCAUSECODE_UNDERLYING  \\\n",
       "0               NaN              NaN                       NaN   \n",
       "1               NaN              NaN                       NaN   \n",
       "2               NaN             J449                      C349   \n",
       "3               NaN              NaN                       NaN   \n",
       "4               NaN              NaN                      C349   \n",
       "\n",
       "  DEATHLOCATIONCODE VITALSTATUSDATE  ...  ACE27  GLEASON_PRIMARY  \\\n",
       "0               NaN      2019-02-08  ...    NaN              NaN   \n",
       "1               NaN      2019-02-09  ...    NaN              NaN   \n",
       "2                 4      2019-02-09  ...    NaN              NaN   \n",
       "3               NaN      2017-09-30  ...    NaN              NaN   \n",
       "4                 1      2016-04-27  ...    NaN              NaN   \n",
       "\n",
       "   GLEASON_SECONDARY  GLEASON_TERTIARY GLEASON_COMBINED DATE_FIRST_SURGERY  \\\n",
       "0                NaN               NaN              NaN         2017-04-24   \n",
       "1                NaN               NaN              NaN         2013-06-18   \n",
       "2                NaN               NaN              NaN                NaN   \n",
       "3                NaN               NaN              NaN                NaN   \n",
       "4                NaN               NaN              NaN         2014-09-09   \n",
       "\n",
       "  LATERALITY  QUINTILE_2015 SEX_y LINKNUMBER_y  \n",
       "0          L              4     2    820097808  \n",
       "1          9              3     1    860059557  \n",
       "2          R              4     1    840054601  \n",
       "3          9              4     1    860006085  \n",
       "4          R              4     2    840118573  \n",
       "\n",
       "[5 rows x 46 columns]"
      ]
     },
     "execution_count": 91,
     "metadata": {},
     "output_type": "execute_result"
    }
   ],
   "source": [
    "data_test.head()"
   ]
  },
  {
   "cell_type": "code",
   "execution_count": 92,
   "metadata": {
    "execution": {
     "iopub.execute_input": "2023-08-23T19:11:23.829803Z",
     "iopub.status.busy": "2023-08-23T19:11:23.828956Z",
     "iopub.status.idle": "2023-08-23T19:11:24.547807Z",
     "shell.execute_reply": "2023-08-23T19:11:24.546643Z",
     "shell.execute_reply.started": "2023-08-23T19:11:23.829770Z"
    },
    "id": "mNIhPw_2GF_R",
    "outputId": "314fa79c-80a2-44f0-a4e3-658ce422ac9b"
   },
   "outputs": [
    {
     "data": {
      "text/html": [
       "<div>\n",
       "<style scoped>\n",
       "    .dataframe tbody tr th:only-of-type {\n",
       "        vertical-align: middle;\n",
       "    }\n",
       "\n",
       "    .dataframe tbody tr th {\n",
       "        vertical-align: top;\n",
       "    }\n",
       "\n",
       "    .dataframe thead th {\n",
       "        text-align: right;\n",
       "    }\n",
       "</style>\n",
       "<table border=\"1\" class=\"dataframe\">\n",
       "  <thead>\n",
       "    <tr style=\"text-align: right;\">\n",
       "      <th></th>\n",
       "      <th>dtypes</th>\n",
       "      <th>nunique</th>\n",
       "      <th>count</th>\n",
       "      <th>missing values</th>\n",
       "      <th>% of Missing_values</th>\n",
       "    </tr>\n",
       "  </thead>\n",
       "  <tbody>\n",
       "    <tr>\n",
       "      <th>Unnamed: 0_x</th>\n",
       "      <td>int64</td>\n",
       "      <td>50000</td>\n",
       "      <td>50000</td>\n",
       "      <td>0</td>\n",
       "      <td>0.000</td>\n",
       "    </tr>\n",
       "    <tr>\n",
       "      <th>PATIENTID</th>\n",
       "      <td>int64</td>\n",
       "      <td>50000</td>\n",
       "      <td>50000</td>\n",
       "      <td>0</td>\n",
       "      <td>0.000</td>\n",
       "    </tr>\n",
       "    <tr>\n",
       "      <th>ETHNICITY</th>\n",
       "      <td>object</td>\n",
       "      <td>20</td>\n",
       "      <td>49087</td>\n",
       "      <td>913</td>\n",
       "      <td>1.826</td>\n",
       "    </tr>\n",
       "    <tr>\n",
       "      <th>DEATHCAUSECODE_1A</th>\n",
       "      <td>object</td>\n",
       "      <td>1139</td>\n",
       "      <td>21638</td>\n",
       "      <td>28362</td>\n",
       "      <td>56.724</td>\n",
       "    </tr>\n",
       "    <tr>\n",
       "      <th>DEATHCAUSECODE_1B</th>\n",
       "      <td>object</td>\n",
       "      <td>866</td>\n",
       "      <td>6030</td>\n",
       "      <td>43970</td>\n",
       "      <td>87.940</td>\n",
       "    </tr>\n",
       "    <tr>\n",
       "      <th>DEATHCAUSECODE_1C</th>\n",
       "      <td>object</td>\n",
       "      <td>312</td>\n",
       "      <td>960</td>\n",
       "      <td>49040</td>\n",
       "      <td>98.080</td>\n",
       "    </tr>\n",
       "    <tr>\n",
       "      <th>DEATHCAUSECODE_2</th>\n",
       "      <td>object</td>\n",
       "      <td>3263</td>\n",
       "      <td>9363</td>\n",
       "      <td>40637</td>\n",
       "      <td>81.274</td>\n",
       "    </tr>\n",
       "    <tr>\n",
       "      <th>DEATHCAUSECODE_UNDERLYING</th>\n",
       "      <td>object</td>\n",
       "      <td>490</td>\n",
       "      <td>21631</td>\n",
       "      <td>28369</td>\n",
       "      <td>56.738</td>\n",
       "    </tr>\n",
       "    <tr>\n",
       "      <th>DEATHLOCATIONCODE</th>\n",
       "      <td>object</td>\n",
       "      <td>6</td>\n",
       "      <td>21651</td>\n",
       "      <td>28349</td>\n",
       "      <td>56.698</td>\n",
       "    </tr>\n",
       "    <tr>\n",
       "      <th>VITALSTATUSDATE</th>\n",
       "      <td>object</td>\n",
       "      <td>2217</td>\n",
       "      <td>50000</td>\n",
       "      <td>0</td>\n",
       "      <td>0.000</td>\n",
       "    </tr>\n",
       "    <tr>\n",
       "      <th>SEX_x</th>\n",
       "      <td>int64</td>\n",
       "      <td>2</td>\n",
       "      <td>50000</td>\n",
       "      <td>0</td>\n",
       "      <td>0.000</td>\n",
       "    </tr>\n",
       "    <tr>\n",
       "      <th>LINKNUMBER_x</th>\n",
       "      <td>int64</td>\n",
       "      <td>50000</td>\n",
       "      <td>50000</td>\n",
       "      <td>0</td>\n",
       "      <td>0.000</td>\n",
       "    </tr>\n",
       "    <tr>\n",
       "      <th>Unnamed: 0_y</th>\n",
       "      <td>int64</td>\n",
       "      <td>50000</td>\n",
       "      <td>50000</td>\n",
       "      <td>0</td>\n",
       "      <td>0.000</td>\n",
       "    </tr>\n",
       "    <tr>\n",
       "      <th>TUMOURID</th>\n",
       "      <td>int64</td>\n",
       "      <td>50000</td>\n",
       "      <td>50000</td>\n",
       "      <td>0</td>\n",
       "      <td>0.000</td>\n",
       "    </tr>\n",
       "    <tr>\n",
       "      <th>DIAGNOSISDATEBEST</th>\n",
       "      <td>object</td>\n",
       "      <td>1816</td>\n",
       "      <td>50000</td>\n",
       "      <td>0</td>\n",
       "      <td>0.000</td>\n",
       "    </tr>\n",
       "    <tr>\n",
       "      <th>SITE_ICD10_O2</th>\n",
       "      <td>object</td>\n",
       "      <td>28</td>\n",
       "      <td>49980</td>\n",
       "      <td>20</td>\n",
       "      <td>0.040</td>\n",
       "    </tr>\n",
       "    <tr>\n",
       "      <th>SITE_ICD10_O2_3CHAR</th>\n",
       "      <td>object</td>\n",
       "      <td>6</td>\n",
       "      <td>50000</td>\n",
       "      <td>0</td>\n",
       "      <td>0.000</td>\n",
       "    </tr>\n",
       "    <tr>\n",
       "      <th>MORPH_ICD10_O2</th>\n",
       "      <td>float64</td>\n",
       "      <td>91</td>\n",
       "      <td>49979</td>\n",
       "      <td>21</td>\n",
       "      <td>0.042</td>\n",
       "    </tr>\n",
       "    <tr>\n",
       "      <th>BEHAVIOUR_ICD10_O2</th>\n",
       "      <td>object</td>\n",
       "      <td>5</td>\n",
       "      <td>49986</td>\n",
       "      <td>14</td>\n",
       "      <td>0.028</td>\n",
       "    </tr>\n",
       "    <tr>\n",
       "      <th>T_BEST</th>\n",
       "      <td>object</td>\n",
       "      <td>31</td>\n",
       "      <td>43472</td>\n",
       "      <td>6528</td>\n",
       "      <td>13.056</td>\n",
       "    </tr>\n",
       "    <tr>\n",
       "      <th>N_BEST</th>\n",
       "      <td>object</td>\n",
       "      <td>16</td>\n",
       "      <td>43400</td>\n",
       "      <td>6600</td>\n",
       "      <td>13.200</td>\n",
       "    </tr>\n",
       "    <tr>\n",
       "      <th>M_BEST</th>\n",
       "      <td>object</td>\n",
       "      <td>6</td>\n",
       "      <td>39681</td>\n",
       "      <td>10319</td>\n",
       "      <td>20.638</td>\n",
       "    </tr>\n",
       "    <tr>\n",
       "      <th>STAGE_BEST</th>\n",
       "      <td>object</td>\n",
       "      <td>30</td>\n",
       "      <td>49998</td>\n",
       "      <td>2</td>\n",
       "      <td>0.004</td>\n",
       "    </tr>\n",
       "    <tr>\n",
       "      <th>STAGE_BEST_SYSTEM</th>\n",
       "      <td>float64</td>\n",
       "      <td>9</td>\n",
       "      <td>43109</td>\n",
       "      <td>6891</td>\n",
       "      <td>13.782</td>\n",
       "    </tr>\n",
       "    <tr>\n",
       "      <th>GRADE</th>\n",
       "      <td>object</td>\n",
       "      <td>5</td>\n",
       "      <td>49737</td>\n",
       "      <td>263</td>\n",
       "      <td>0.526</td>\n",
       "    </tr>\n",
       "    <tr>\n",
       "      <th>AGE</th>\n",
       "      <td>int64</td>\n",
       "      <td>96</td>\n",
       "      <td>50000</td>\n",
       "      <td>0</td>\n",
       "      <td>0.000</td>\n",
       "    </tr>\n",
       "    <tr>\n",
       "      <th>CREG_CODE</th>\n",
       "      <td>object</td>\n",
       "      <td>8</td>\n",
       "      <td>50000</td>\n",
       "      <td>0</td>\n",
       "      <td>0.000</td>\n",
       "    </tr>\n",
       "    <tr>\n",
       "      <th>SCREENINGSTATUSFULL_CODE</th>\n",
       "      <td>float64</td>\n",
       "      <td>25</td>\n",
       "      <td>17534</td>\n",
       "      <td>32466</td>\n",
       "      <td>64.932</td>\n",
       "    </tr>\n",
       "    <tr>\n",
       "      <th>ER_STATUS</th>\n",
       "      <td>object</td>\n",
       "      <td>6</td>\n",
       "      <td>17906</td>\n",
       "      <td>32094</td>\n",
       "      <td>64.188</td>\n",
       "    </tr>\n",
       "    <tr>\n",
       "      <th>ER_SCORE</th>\n",
       "      <td>float64</td>\n",
       "      <td>8</td>\n",
       "      <td>5105</td>\n",
       "      <td>44895</td>\n",
       "      <td>89.790</td>\n",
       "    </tr>\n",
       "    <tr>\n",
       "      <th>PR_STATUS</th>\n",
       "      <td>object</td>\n",
       "      <td>6</td>\n",
       "      <td>11563</td>\n",
       "      <td>38437</td>\n",
       "      <td>76.874</td>\n",
       "    </tr>\n",
       "    <tr>\n",
       "      <th>PR_SCORE</th>\n",
       "      <td>float64</td>\n",
       "      <td>9</td>\n",
       "      <td>2954</td>\n",
       "      <td>47046</td>\n",
       "      <td>94.092</td>\n",
       "    </tr>\n",
       "    <tr>\n",
       "      <th>HER2_STATUS</th>\n",
       "      <td>object</td>\n",
       "      <td>5</td>\n",
       "      <td>16442</td>\n",
       "      <td>33558</td>\n",
       "      <td>67.116</td>\n",
       "    </tr>\n",
       "    <tr>\n",
       "      <th>CANCERCAREPLANINTENT</th>\n",
       "      <td>object</td>\n",
       "      <td>6</td>\n",
       "      <td>26396</td>\n",
       "      <td>23604</td>\n",
       "      <td>47.208</td>\n",
       "    </tr>\n",
       "    <tr>\n",
       "      <th>PERFORMANCESTATUS</th>\n",
       "      <td>object</td>\n",
       "      <td>10</td>\n",
       "      <td>25174</td>\n",
       "      <td>24826</td>\n",
       "      <td>49.652</td>\n",
       "    </tr>\n",
       "    <tr>\n",
       "      <th>CNS</th>\n",
       "      <td>object</td>\n",
       "      <td>11</td>\n",
       "      <td>12966</td>\n",
       "      <td>37034</td>\n",
       "      <td>74.068</td>\n",
       "    </tr>\n",
       "    <tr>\n",
       "      <th>ACE27</th>\n",
       "      <td>object</td>\n",
       "      <td>8</td>\n",
       "      <td>6292</td>\n",
       "      <td>43708</td>\n",
       "      <td>87.416</td>\n",
       "    </tr>\n",
       "    <tr>\n",
       "      <th>GLEASON_PRIMARY</th>\n",
       "      <td>float64</td>\n",
       "      <td>0</td>\n",
       "      <td>0</td>\n",
       "      <td>50000</td>\n",
       "      <td>100.000</td>\n",
       "    </tr>\n",
       "    <tr>\n",
       "      <th>GLEASON_SECONDARY</th>\n",
       "      <td>float64</td>\n",
       "      <td>0</td>\n",
       "      <td>0</td>\n",
       "      <td>50000</td>\n",
       "      <td>100.000</td>\n",
       "    </tr>\n",
       "    <tr>\n",
       "      <th>GLEASON_TERTIARY</th>\n",
       "      <td>float64</td>\n",
       "      <td>0</td>\n",
       "      <td>0</td>\n",
       "      <td>50000</td>\n",
       "      <td>100.000</td>\n",
       "    </tr>\n",
       "    <tr>\n",
       "      <th>GLEASON_COMBINED</th>\n",
       "      <td>float64</td>\n",
       "      <td>0</td>\n",
       "      <td>0</td>\n",
       "      <td>50000</td>\n",
       "      <td>100.000</td>\n",
       "    </tr>\n",
       "    <tr>\n",
       "      <th>DATE_FIRST_SURGERY</th>\n",
       "      <td>object</td>\n",
       "      <td>2010</td>\n",
       "      <td>34112</td>\n",
       "      <td>15888</td>\n",
       "      <td>31.776</td>\n",
       "    </tr>\n",
       "    <tr>\n",
       "      <th>LATERALITY</th>\n",
       "      <td>object</td>\n",
       "      <td>5</td>\n",
       "      <td>50000</td>\n",
       "      <td>0</td>\n",
       "      <td>0.000</td>\n",
       "    </tr>\n",
       "    <tr>\n",
       "      <th>QUINTILE_2015</th>\n",
       "      <td>object</td>\n",
       "      <td>5</td>\n",
       "      <td>50000</td>\n",
       "      <td>0</td>\n",
       "      <td>0.000</td>\n",
       "    </tr>\n",
       "    <tr>\n",
       "      <th>SEX_y</th>\n",
       "      <td>int64</td>\n",
       "      <td>2</td>\n",
       "      <td>50000</td>\n",
       "      <td>0</td>\n",
       "      <td>0.000</td>\n",
       "    </tr>\n",
       "    <tr>\n",
       "      <th>LINKNUMBER_y</th>\n",
       "      <td>int64</td>\n",
       "      <td>50000</td>\n",
       "      <td>50000</td>\n",
       "      <td>0</td>\n",
       "      <td>0.000</td>\n",
       "    </tr>\n",
       "  </tbody>\n",
       "</table>\n",
       "</div>"
      ],
      "text/plain": [
       "                            dtypes  nunique  count  missing values  \\\n",
       "Unnamed: 0_x                 int64    50000  50000               0   \n",
       "PATIENTID                    int64    50000  50000               0   \n",
       "ETHNICITY                   object       20  49087             913   \n",
       "DEATHCAUSECODE_1A           object     1139  21638           28362   \n",
       "DEATHCAUSECODE_1B           object      866   6030           43970   \n",
       "DEATHCAUSECODE_1C           object      312    960           49040   \n",
       "DEATHCAUSECODE_2            object     3263   9363           40637   \n",
       "DEATHCAUSECODE_UNDERLYING   object      490  21631           28369   \n",
       "DEATHLOCATIONCODE           object        6  21651           28349   \n",
       "VITALSTATUSDATE             object     2217  50000               0   \n",
       "SEX_x                        int64        2  50000               0   \n",
       "LINKNUMBER_x                 int64    50000  50000               0   \n",
       "Unnamed: 0_y                 int64    50000  50000               0   \n",
       "TUMOURID                     int64    50000  50000               0   \n",
       "DIAGNOSISDATEBEST           object     1816  50000               0   \n",
       "SITE_ICD10_O2               object       28  49980              20   \n",
       "SITE_ICD10_O2_3CHAR         object        6  50000               0   \n",
       "MORPH_ICD10_O2             float64       91  49979              21   \n",
       "BEHAVIOUR_ICD10_O2          object        5  49986              14   \n",
       "T_BEST                      object       31  43472            6528   \n",
       "N_BEST                      object       16  43400            6600   \n",
       "M_BEST                      object        6  39681           10319   \n",
       "STAGE_BEST                  object       30  49998               2   \n",
       "STAGE_BEST_SYSTEM          float64        9  43109            6891   \n",
       "GRADE                       object        5  49737             263   \n",
       "AGE                          int64       96  50000               0   \n",
       "CREG_CODE                   object        8  50000               0   \n",
       "SCREENINGSTATUSFULL_CODE   float64       25  17534           32466   \n",
       "ER_STATUS                   object        6  17906           32094   \n",
       "ER_SCORE                   float64        8   5105           44895   \n",
       "PR_STATUS                   object        6  11563           38437   \n",
       "PR_SCORE                   float64        9   2954           47046   \n",
       "HER2_STATUS                 object        5  16442           33558   \n",
       "CANCERCAREPLANINTENT        object        6  26396           23604   \n",
       "PERFORMANCESTATUS           object       10  25174           24826   \n",
       "CNS                         object       11  12966           37034   \n",
       "ACE27                       object        8   6292           43708   \n",
       "GLEASON_PRIMARY            float64        0      0           50000   \n",
       "GLEASON_SECONDARY          float64        0      0           50000   \n",
       "GLEASON_TERTIARY           float64        0      0           50000   \n",
       "GLEASON_COMBINED           float64        0      0           50000   \n",
       "DATE_FIRST_SURGERY          object     2010  34112           15888   \n",
       "LATERALITY                  object        5  50000               0   \n",
       "QUINTILE_2015               object        5  50000               0   \n",
       "SEX_y                        int64        2  50000               0   \n",
       "LINKNUMBER_y                 int64    50000  50000               0   \n",
       "\n",
       "                           % of Missing_values  \n",
       "Unnamed: 0_x                             0.000  \n",
       "PATIENTID                                0.000  \n",
       "ETHNICITY                                1.826  \n",
       "DEATHCAUSECODE_1A                       56.724  \n",
       "DEATHCAUSECODE_1B                       87.940  \n",
       "DEATHCAUSECODE_1C                       98.080  \n",
       "DEATHCAUSECODE_2                        81.274  \n",
       "DEATHCAUSECODE_UNDERLYING               56.738  \n",
       "DEATHLOCATIONCODE                       56.698  \n",
       "VITALSTATUSDATE                          0.000  \n",
       "SEX_x                                    0.000  \n",
       "LINKNUMBER_x                             0.000  \n",
       "Unnamed: 0_y                             0.000  \n",
       "TUMOURID                                 0.000  \n",
       "DIAGNOSISDATEBEST                        0.000  \n",
       "SITE_ICD10_O2                            0.040  \n",
       "SITE_ICD10_O2_3CHAR                      0.000  \n",
       "MORPH_ICD10_O2                           0.042  \n",
       "BEHAVIOUR_ICD10_O2                       0.028  \n",
       "T_BEST                                  13.056  \n",
       "N_BEST                                  13.200  \n",
       "M_BEST                                  20.638  \n",
       "STAGE_BEST                               0.004  \n",
       "STAGE_BEST_SYSTEM                       13.782  \n",
       "GRADE                                    0.526  \n",
       "AGE                                      0.000  \n",
       "CREG_CODE                                0.000  \n",
       "SCREENINGSTATUSFULL_CODE                64.932  \n",
       "ER_STATUS                               64.188  \n",
       "ER_SCORE                                89.790  \n",
       "PR_STATUS                               76.874  \n",
       "PR_SCORE                                94.092  \n",
       "HER2_STATUS                             67.116  \n",
       "CANCERCAREPLANINTENT                    47.208  \n",
       "PERFORMANCESTATUS                       49.652  \n",
       "CNS                                     74.068  \n",
       "ACE27                                   87.416  \n",
       "GLEASON_PRIMARY                        100.000  \n",
       "GLEASON_SECONDARY                      100.000  \n",
       "GLEASON_TERTIARY                       100.000  \n",
       "GLEASON_COMBINED                       100.000  \n",
       "DATE_FIRST_SURGERY                      31.776  \n",
       "LATERALITY                               0.000  \n",
       "QUINTILE_2015                            0.000  \n",
       "SEX_y                                    0.000  \n",
       "LINKNUMBER_y                             0.000  "
      ]
     },
     "execution_count": 92,
     "metadata": {},
     "output_type": "execute_result"
    }
   ],
   "source": [
    "get_data_summary(data_test)"
   ]
  },
  {
   "cell_type": "markdown",
   "metadata": {
    "id": "aAccP5TZBtlh",
    "jp-MarkdownHeadingCollapsed": true
   },
   "source": [
    "\n",
    "\n",
    "\n",
    "### Data Cleaning\n",
    "> Rename column names if neccessary  \n",
    "convert data types                                                                                             \n",
    "Remove unnecessary variables                                                                                                   \n",
    "Recode variable values                                                                                                                      \n",
    "Transform some data"
   ]
  },
  {
   "cell_type": "markdown",
   "metadata": {
    "id": "no0hOXQpBtlw"
   },
   "source": [
    "##### Initial inspection of columns"
   ]
  },
  {
   "cell_type": "code",
   "execution_count": 93,
   "metadata": {
    "execution": {
     "iopub.execute_input": "2023-08-23T19:11:24.551110Z",
     "iopub.status.busy": "2023-08-23T19:11:24.550745Z",
     "iopub.status.idle": "2023-08-23T19:11:24.559794Z",
     "shell.execute_reply": "2023-08-23T19:11:24.558337Z",
     "shell.execute_reply.started": "2023-08-23T19:11:24.551080Z"
    },
    "id": "7uQWVLYvBtlx",
    "outputId": "01745179-f431-487a-8cff-bda0aadd4e04"
   },
   "outputs": [
    {
     "data": {
      "text/plain": [
       "12    Unnamed: 0\n",
       "14     PATIENTID\n",
       "45           SEX\n",
       "46    LINKNUMBER\n",
       "dtype: object"
      ]
     },
     "execution_count": 93,
     "metadata": {},
     "output_type": "execute_result"
    }
   ],
   "source": [
    "all_columns = pd.Series(list(df3) + list(df4))\n",
    "all_columns[all_columns.duplicated()]"
   ]
  },
  {
   "cell_type": "code",
   "execution_count": 94,
   "metadata": {
    "execution": {
     "iopub.execute_input": "2023-08-23T19:11:24.561735Z",
     "iopub.status.busy": "2023-08-23T19:11:24.561413Z",
     "iopub.status.idle": "2023-08-23T19:11:24.603805Z",
     "shell.execute_reply": "2023-08-23T19:11:24.602548Z",
     "shell.execute_reply.started": "2023-08-23T19:11:24.561709Z"
    },
    "id": "V4L9y_ahBtlx",
    "outputId": "644e42cb-cfa4-45b5-d7ce-8a8f6ef30973"
   },
   "outputs": [
    {
     "data": {
      "text/html": [
       "<div>\n",
       "<style scoped>\n",
       "    .dataframe tbody tr th:only-of-type {\n",
       "        vertical-align: middle;\n",
       "    }\n",
       "\n",
       "    .dataframe tbody tr th {\n",
       "        vertical-align: top;\n",
       "    }\n",
       "\n",
       "    .dataframe thead th {\n",
       "        text-align: right;\n",
       "    }\n",
       "</style>\n",
       "<table border=\"1\" class=\"dataframe\">\n",
       "  <thead>\n",
       "    <tr style=\"text-align: right;\">\n",
       "      <th></th>\n",
       "      <th>Unnamed: 0_x</th>\n",
       "      <th>PATIENTID</th>\n",
       "      <th>ETHNICITY</th>\n",
       "      <th>DEATHCAUSECODE_1A</th>\n",
       "      <th>DEATHCAUSECODE_1B</th>\n",
       "      <th>DEATHCAUSECODE_1C</th>\n",
       "      <th>DEATHCAUSECODE_2</th>\n",
       "      <th>DEATHCAUSECODE_UNDERLYING</th>\n",
       "      <th>DEATHLOCATIONCODE</th>\n",
       "      <th>VITALSTATUSDATE</th>\n",
       "      <th>...</th>\n",
       "      <th>ACE27</th>\n",
       "      <th>GLEASON_PRIMARY</th>\n",
       "      <th>GLEASON_SECONDARY</th>\n",
       "      <th>GLEASON_TERTIARY</th>\n",
       "      <th>GLEASON_COMBINED</th>\n",
       "      <th>DATE_FIRST_SURGERY</th>\n",
       "      <th>LATERALITY</th>\n",
       "      <th>QUINTILE_2015</th>\n",
       "      <th>SEX_y</th>\n",
       "      <th>LINKNUMBER_y</th>\n",
       "    </tr>\n",
       "  </thead>\n",
       "  <tbody>\n",
       "  </tbody>\n",
       "</table>\n",
       "<p>0 rows × 46 columns</p>\n",
       "</div>"
      ],
      "text/plain": [
       "Empty DataFrame\n",
       "Columns: [Unnamed: 0_x, PATIENTID, ETHNICITY, DEATHCAUSECODE_1A, DEATHCAUSECODE_1B, DEATHCAUSECODE_1C, DEATHCAUSECODE_2, DEATHCAUSECODE_UNDERLYING, DEATHLOCATIONCODE, VITALSTATUSDATE, SEX_x, LINKNUMBER_x, Unnamed: 0_y, TUMOURID, DIAGNOSISDATEBEST, SITE_ICD10_O2, SITE_ICD10_O2_3CHAR, MORPH_ICD10_O2, BEHAVIOUR_ICD10_O2, T_BEST, N_BEST, M_BEST, STAGE_BEST, STAGE_BEST_SYSTEM, GRADE, AGE, CREG_CODE, SCREENINGSTATUSFULL_CODE, ER_STATUS, ER_SCORE, PR_STATUS, PR_SCORE, HER2_STATUS, CANCERCAREPLANINTENT, PERFORMANCESTATUS, CNS, ACE27, GLEASON_PRIMARY, GLEASON_SECONDARY, GLEASON_TERTIARY, GLEASON_COMBINED, DATE_FIRST_SURGERY, LATERALITY, QUINTILE_2015, SEX_y, LINKNUMBER_y]\n",
       "Index: []\n",
       "\n",
       "[0 rows x 46 columns]"
      ]
     },
     "execution_count": 94,
     "metadata": {},
     "output_type": "execute_result"
    }
   ],
   "source": [
    "# Examine any mismatches in the merged data for sex, linknumber and unnamed\n",
    "data_test.loc[data_test['SEX_x']!=data_test['SEX_y']]\n",
    "data_test.loc[data_test['LINKNUMBER_x']!=data_test['LINKNUMBER_y']]\n",
    "data_test.loc[data_test['Unnamed: 0_x']!=data_test['Unnamed: 0_y']]"
   ]
  },
  {
   "cell_type": "code",
   "execution_count": 95,
   "metadata": {
    "execution": {
     "iopub.execute_input": "2023-08-23T19:11:24.606124Z",
     "iopub.status.busy": "2023-08-23T19:11:24.605563Z",
     "iopub.status.idle": "2023-08-23T19:11:24.630171Z",
     "shell.execute_reply": "2023-08-23T19:11:24.629100Z",
     "shell.execute_reply.started": "2023-08-23T19:11:24.606083Z"
    },
    "id": "4nQj3BE3Btlx"
   },
   "outputs": [],
   "source": [
    "# Drop duplicated colunms as a result of the merge and initial unneeded columns\n",
    "drop_list = ['SEX_y','LINKNUMBER_y', 'Unnamed: 0_y','Unnamed: 0_x', 'LINKNUMBER_x', 'GLEASON_PRIMARY', 'GLEASON_SECONDARY',\n",
    "       'GLEASON_TERTIARY', 'GLEASON_COMBINED']\n",
    "\n",
    "data_test.drop(columns= drop_list, axis = 1, inplace=True )\n"
   ]
  },
  {
   "cell_type": "markdown",
   "metadata": {
    "id": "qFNxyI1UBtly"
   },
   "source": [
    "##### Ethnicity\n",
    "1. aggregate ethnic groups\n",
    "2. fill missing values with either mode or MICE"
   ]
  },
  {
   "cell_type": "code",
   "execution_count": 96,
   "metadata": {
    "execution": {
     "iopub.execute_input": "2023-08-23T19:11:24.631721Z",
     "iopub.status.busy": "2023-08-23T19:11:24.631396Z",
     "iopub.status.idle": "2023-08-23T19:11:24.643091Z",
     "shell.execute_reply": "2023-08-23T19:11:24.642032Z",
     "shell.execute_reply.started": "2023-08-23T19:11:24.631694Z"
    },
    "id": "oc4X36RsBtly",
    "outputId": "13539de8-3f4a-4024-fc3e-a7d660a0dc13"
   },
   "outputs": [
    {
     "data": {
      "text/plain": [
       "A    42561\n",
       "C     1543\n",
       "Z     1449\n",
       "S      499\n",
       "B      496\n",
       "H      489\n",
       "M      356\n",
       "J      304\n",
       "L      297\n",
       "N      271\n",
       "X      255\n",
       "P      135\n",
       "R      123\n",
       "K       98\n",
       "G       95\n",
       "D       48\n",
       "F       38\n",
       "E       19\n",
       "0       10\n",
       "8        1\n",
       "Name: ETHNICITY, dtype: int64"
      ]
     },
     "execution_count": 96,
     "metadata": {},
     "output_type": "execute_result"
    }
   ],
   "source": [
    "data_test.ETHNICITY.value_counts()"
   ]
  },
  {
   "cell_type": "markdown",
   "metadata": {
    "id": "D-IAywuVBtly"
   },
   "source": [
    "##### Deathcause code"
   ]
  },
  {
   "cell_type": "markdown",
   "metadata": {
    "id": "XrZpeCK9Btly"
   },
   "source": [
    "'DEATHCAUSECODE_1A',    \n",
    "'DEATHCAUSECODE_1B',   \n",
    " 'DEATHCAUSECODE_1C',   \n",
    " 'DEATHCAUSECODE_2',   \n",
    " 'DEATHCAUSECODE_UNDERLYING',     \n",
    " 'DEATHLOCATIONCODE': where the patient died\n",
    "\n",
    " 1. understand what they mean    \n",
    "  can we combine them to one column?\n",
    "2. the column contains more than one ICD code how can we address this: choose 1?"
   ]
  },
  {
   "cell_type": "code",
   "execution_count": 97,
   "metadata": {
    "execution": {
     "iopub.execute_input": "2023-08-23T19:11:24.645037Z",
     "iopub.status.busy": "2023-08-23T19:11:24.644676Z",
     "iopub.status.idle": "2023-08-23T19:11:24.662647Z",
     "shell.execute_reply": "2023-08-23T19:11:24.661646Z",
     "shell.execute_reply.started": "2023-08-23T19:11:24.645006Z"
    },
    "id": "fO_w15WCBtly",
    "outputId": "1493820c-941f-4a10-f5e0-97fc6536b5c5"
   },
   "outputs": [
    {
     "data": {
      "text/plain": [
       "C349                   7459\n",
       "C509                   1295\n",
       "C189                   1141\n",
       "J189                   1077\n",
       "C798                    986\n",
       "                       ... \n",
       "J969,N179                 1\n",
       "J189,I279                 1\n",
       "C349,M809,Y839            1\n",
       "K729,K750                 1\n",
       "C349,C782,C787,C788       1\n",
       "Name: DEATHCAUSECODE_1A, Length: 1139, dtype: int64"
      ]
     },
     "execution_count": 97,
     "metadata": {},
     "output_type": "execute_result"
    }
   ],
   "source": [
    "data_test.DEATHCAUSECODE_1A.value_counts()"
   ]
  },
  {
   "cell_type": "code",
   "execution_count": 98,
   "metadata": {
    "execution": {
     "iopub.execute_input": "2023-08-23T19:11:24.664454Z",
     "iopub.status.busy": "2023-08-23T19:11:24.664162Z",
     "iopub.status.idle": "2023-08-23T19:11:28.542525Z",
     "shell.execute_reply": "2023-08-23T19:11:28.541472Z",
     "shell.execute_reply.started": "2023-08-23T19:11:24.664429Z"
    },
    "id": "DWFWwGdUBtlz"
   },
   "outputs": [],
   "source": [
    "# Fill in other death cause codes available in death cause code 1A\n",
    "#data['ALIVE_DEATHCAUSECODE'] = np.nan\n",
    "\n",
    "# Define the prioritized column order\n",
    "cause_columns = ['DEATHCAUSECODE_1A', 'DEATHCAUSECODE_1B', 'DEATHCAUSECODE_1C', 'DEATHCAUSECODE_2', 'DEATHCAUSECODE_UNDERLYING']\n",
    "\n",
    "# Iterate through each row\n",
    "for index, row in data_test.iterrows():\n",
    "    # Iterate through the prioritized columns\n",
    "    for column in cause_columns:\n",
    "        # Check if the cause of death value exists in the column\n",
    "        if not pd.isna(row[column]):\n",
    "            # Assign the cause of death value to the 'DEATHCAUSECODE' column\n",
    "            data_test.at[index, 'DEATHCAUSECODE_1A'] = row[column]\n",
    "            break  # Exit the loop once a value is found"
   ]
  },
  {
   "cell_type": "code",
   "execution_count": 99,
   "metadata": {
    "execution": {
     "iopub.execute_input": "2023-08-23T19:11:28.544328Z",
     "iopub.status.busy": "2023-08-23T19:11:28.543781Z",
     "iopub.status.idle": "2023-08-23T19:11:28.549061Z",
     "shell.execute_reply": "2023-08-23T19:11:28.547821Z",
     "shell.execute_reply.started": "2023-08-23T19:11:28.544295Z"
    },
    "id": "nIc12_1JBtlz"
   },
   "outputs": [],
   "source": [
    "# Change vital status of patients alive but with a death cause code to dead\n",
    "#data.loc[(data['NEWVITALSTATUS']== 'A') & (data['DEATHCAUSECODE_1A'].notnull()), 'NEWVITALSTATUS']= 'D'"
   ]
  },
  {
   "cell_type": "code",
   "execution_count": 100,
   "metadata": {
    "execution": {
     "iopub.execute_input": "2023-08-23T19:11:28.550835Z",
     "iopub.status.busy": "2023-08-23T19:11:28.550404Z",
     "iopub.status.idle": "2023-08-23T19:11:28.566378Z",
     "shell.execute_reply": "2023-08-23T19:11:28.565351Z",
     "shell.execute_reply.started": "2023-08-23T19:11:28.550804Z"
    },
    "id": "IAYbEArJBtlz"
   },
   "outputs": [],
   "source": [
    "# fill in 'A000' as death cause code for patients that are alive\n",
    "\n",
    "data_test.loc[data_test['DEATHCAUSECODE_1A'].isnull(), 'DEATHCAUSECODE_1A'] = 'A000'"
   ]
  },
  {
   "cell_type": "code",
   "execution_count": 101,
   "metadata": {
    "execution": {
     "iopub.execute_input": "2023-08-23T19:11:28.568527Z",
     "iopub.status.busy": "2023-08-23T19:11:28.568097Z",
     "iopub.status.idle": "2023-08-23T19:11:28.596347Z",
     "shell.execute_reply": "2023-08-23T19:11:28.595156Z",
     "shell.execute_reply.started": "2023-08-23T19:11:28.568495Z"
    },
    "id": "e5d8Wt15Btl2"
   },
   "outputs": [],
   "source": [
    "data_test.drop(['DEATHCAUSECODE_1B', 'DEATHCAUSECODE_1C', 'DEATHCAUSECODE_2', 'DEATHCAUSECODE_UNDERLYING'], axis=1, inplace=True)"
   ]
  },
  {
   "cell_type": "code",
   "execution_count": 102,
   "metadata": {
    "execution": {
     "iopub.execute_input": "2023-08-23T19:11:28.598135Z",
     "iopub.status.busy": "2023-08-23T19:11:28.597712Z",
     "iopub.status.idle": "2023-08-23T19:11:28.608755Z",
     "shell.execute_reply": "2023-08-23T19:11:28.607645Z",
     "shell.execute_reply.started": "2023-08-23T19:11:28.598103Z"
    },
    "id": "AVLRGQDpBtl2",
    "outputId": "cc8b221f-59e7-415b-eb2e-b830a26472b5"
   },
   "outputs": [
    {
     "data": {
      "text/plain": [
       "0"
      ]
     },
     "execution_count": 102,
     "metadata": {},
     "output_type": "execute_result"
    }
   ],
   "source": [
    "data_test.DEATHCAUSECODE_1A.isnull().sum()"
   ]
  },
  {
   "cell_type": "markdown",
   "metadata": {
    "id": "vO99_IrVBtl3"
   },
   "source": [
    "##### DEATHLOCATIONCODE\n",
    "\n",
    "\n",
    "1\tHOSPITAL   \n",
    "2\tPRIVATE HOME   \n",
    "3\tHOSPICE NOS    \n",
    "4\tNURSING HOME   \n",
    "5\tOTHER   \n",
    "X\tUNKNOWN"
   ]
  },
  {
   "cell_type": "code",
   "execution_count": 103,
   "metadata": {
    "execution": {
     "iopub.execute_input": "2023-08-23T19:11:28.611253Z",
     "iopub.status.busy": "2023-08-23T19:11:28.610655Z",
     "iopub.status.idle": "2023-08-23T19:11:28.626371Z",
     "shell.execute_reply": "2023-08-23T19:11:28.625212Z",
     "shell.execute_reply.started": "2023-08-23T19:11:28.611213Z"
    },
    "id": "SZ5a3wygBtl3",
    "outputId": "da6b533c-f596-4183-b15e-f303191701d1"
   },
   "outputs": [
    {
     "data": {
      "text/plain": [
       "1    8532\n",
       "4    7207\n",
       "2    2687\n",
       "X    1831\n",
       "5     944\n",
       "6     450\n",
       "Name: DEATHLOCATIONCODE, dtype: int64"
      ]
     },
     "execution_count": 103,
     "metadata": {},
     "output_type": "execute_result"
    }
   ],
   "source": [
    "data_test.DEATHLOCATIONCODE.value_counts()"
   ]
  },
  {
   "cell_type": "code",
   "execution_count": 104,
   "metadata": {
    "execution": {
     "iopub.execute_input": "2023-08-23T19:11:28.628355Z",
     "iopub.status.busy": "2023-08-23T19:11:28.628005Z",
     "iopub.status.idle": "2023-08-23T19:11:28.645358Z",
     "shell.execute_reply": "2023-08-23T19:11:28.643308Z",
     "shell.execute_reply.started": "2023-08-23T19:11:28.628325Z"
    },
    "id": "oVv2ktmfBtl3",
    "outputId": "5a0aa796-7662-421b-97a5-910f3239b0b7"
   },
   "outputs": [
    {
     "data": {
      "text/plain": [
       "28349"
      ]
     },
     "execution_count": 104,
     "metadata": {},
     "output_type": "execute_result"
    }
   ],
   "source": [
    "data_test.DEATHLOCATIONCODE.isnull().sum()"
   ]
  },
  {
   "cell_type": "code",
   "execution_count": 105,
   "metadata": {
    "execution": {
     "iopub.execute_input": "2023-08-23T19:11:28.647860Z",
     "iopub.status.busy": "2023-08-23T19:11:28.647092Z",
     "iopub.status.idle": "2023-08-23T19:11:28.662052Z",
     "shell.execute_reply": "2023-08-23T19:11:28.660614Z",
     "shell.execute_reply.started": "2023-08-23T19:11:28.647811Z"
    },
    "id": "x1hAlfSlBtl4"
   },
   "outputs": [],
   "source": [
    "# fill in 'A' as death location code for patients that are alive\n",
    "\n",
    "data_test.loc[data_test['DEATHLOCATIONCODE'].isnull(), 'DEATHLOCATIONCODE'] = 'A'"
   ]
  },
  {
   "cell_type": "code",
   "execution_count": 106,
   "metadata": {
    "execution": {
     "iopub.execute_input": "2023-08-23T19:11:28.664167Z",
     "iopub.status.busy": "2023-08-23T19:11:28.663519Z",
     "iopub.status.idle": "2023-08-23T19:11:28.691037Z",
     "shell.execute_reply": "2023-08-23T19:11:28.689912Z",
     "shell.execute_reply.started": "2023-08-23T19:11:28.664129Z"
    },
    "id": "6l_y2am2Btl4",
    "outputId": "aabf1911-83f4-469c-ecd3-c1efd5476718"
   },
   "outputs": [
    {
     "data": {
      "text/plain": [
       "0"
      ]
     },
     "execution_count": 106,
     "metadata": {},
     "output_type": "execute_result"
    }
   ],
   "source": [
    "data_test.DEATHLOCATIONCODE.isnull().sum()"
   ]
  },
  {
   "cell_type": "markdown",
   "metadata": {
    "id": "f2u1dFo3Btl4"
   },
   "source": [
    "##### Address Data type mismatches"
   ]
  },
  {
   "cell_type": "markdown",
   "metadata": {
    "id": "R9o72wiPBtl5"
   },
   "source": [
    "VITALSTATUSDATE, DIAGNOSISDATEBEST, DATE_FIRST_SURGERY   \n",
    "1. what other variables can we generate from these dates\n",
    "e.g    \n",
    "diag date - date of first surgery\n",
    "days"
   ]
  },
  {
   "cell_type": "code",
   "execution_count": 107,
   "metadata": {
    "execution": {
     "iopub.execute_input": "2023-08-23T19:11:28.693254Z",
     "iopub.status.busy": "2023-08-23T19:11:28.692808Z",
     "iopub.status.idle": "2023-08-23T19:11:28.765050Z",
     "shell.execute_reply": "2023-08-23T19:11:28.763807Z",
     "shell.execute_reply.started": "2023-08-23T19:11:28.693215Z"
    },
    "id": "O1q_TRUIBtl5"
   },
   "outputs": [],
   "source": [
    "# Convert data types\n",
    "data_test.DATE_FIRST_SURGERY = pd.to_datetime(data_test.DATE_FIRST_SURGERY)\n",
    "data_test.VITALSTATUSDATE = pd.to_datetime(data_test.VITALSTATUSDATE)\n",
    "data_test.DIAGNOSISDATEBEST = pd.to_datetime(data_test.DIAGNOSISDATEBEST)"
   ]
  },
  {
   "cell_type": "markdown",
   "metadata": {
    "id": "H9OPES8bBtl5"
   },
   "source": [
    "##### Check for any logical discrepancies"
   ]
  },
  {
   "cell_type": "code",
   "execution_count": 108,
   "metadata": {
    "execution": {
     "iopub.execute_input": "2023-08-23T19:11:28.767676Z",
     "iopub.status.busy": "2023-08-23T19:11:28.766985Z",
     "iopub.status.idle": "2023-08-23T19:11:28.789275Z",
     "shell.execute_reply": "2023-08-23T19:11:28.787897Z",
     "shell.execute_reply.started": "2023-08-23T19:11:28.767627Z"
    },
    "id": "ej0WFDWbBtl5",
    "outputId": "74bd87fa-ec1a-4ca2-c4e0-7456a945b753"
   },
   "outputs": [
    {
     "data": {
      "text/html": [
       "<div>\n",
       "<style scoped>\n",
       "    .dataframe tbody tr th:only-of-type {\n",
       "        vertical-align: middle;\n",
       "    }\n",
       "\n",
       "    .dataframe tbody tr th {\n",
       "        vertical-align: top;\n",
       "    }\n",
       "\n",
       "    .dataframe thead th {\n",
       "        text-align: right;\n",
       "    }\n",
       "</style>\n",
       "<table border=\"1\" class=\"dataframe\">\n",
       "  <thead>\n",
       "    <tr style=\"text-align: right;\">\n",
       "      <th></th>\n",
       "      <th>PATIENTID</th>\n",
       "      <th>ETHNICITY</th>\n",
       "      <th>DEATHCAUSECODE_1A</th>\n",
       "      <th>DEATHLOCATIONCODE</th>\n",
       "      <th>VITALSTATUSDATE</th>\n",
       "      <th>SEX_x</th>\n",
       "      <th>TUMOURID</th>\n",
       "      <th>DIAGNOSISDATEBEST</th>\n",
       "      <th>SITE_ICD10_O2</th>\n",
       "      <th>SITE_ICD10_O2_3CHAR</th>\n",
       "      <th>...</th>\n",
       "      <th>PR_STATUS</th>\n",
       "      <th>PR_SCORE</th>\n",
       "      <th>HER2_STATUS</th>\n",
       "      <th>CANCERCAREPLANINTENT</th>\n",
       "      <th>PERFORMANCESTATUS</th>\n",
       "      <th>CNS</th>\n",
       "      <th>ACE27</th>\n",
       "      <th>DATE_FIRST_SURGERY</th>\n",
       "      <th>LATERALITY</th>\n",
       "      <th>QUINTILE_2015</th>\n",
       "    </tr>\n",
       "  </thead>\n",
       "  <tbody>\n",
       "  </tbody>\n",
       "</table>\n",
       "<p>0 rows × 33 columns</p>\n",
       "</div>"
      ],
      "text/plain": [
       "Empty DataFrame\n",
       "Columns: [PATIENTID, ETHNICITY, DEATHCAUSECODE_1A, DEATHLOCATIONCODE, VITALSTATUSDATE, SEX_x, TUMOURID, DIAGNOSISDATEBEST, SITE_ICD10_O2, SITE_ICD10_O2_3CHAR, MORPH_ICD10_O2, BEHAVIOUR_ICD10_O2, T_BEST, N_BEST, M_BEST, STAGE_BEST, STAGE_BEST_SYSTEM, GRADE, AGE, CREG_CODE, SCREENINGSTATUSFULL_CODE, ER_STATUS, ER_SCORE, PR_STATUS, PR_SCORE, HER2_STATUS, CANCERCAREPLANINTENT, PERFORMANCESTATUS, CNS, ACE27, DATE_FIRST_SURGERY, LATERALITY, QUINTILE_2015]\n",
       "Index: []\n",
       "\n",
       "[0 rows x 33 columns]"
      ]
     },
     "execution_count": 108,
     "metadata": {},
     "output_type": "execute_result"
    }
   ],
   "source": [
    "# Does any one have a vital status date before diagnosis date?\n",
    "data_test.loc[data_test['VITALSTATUSDATE'] < data_test['DIAGNOSISDATEBEST']]"
   ]
  },
  {
   "cell_type": "code",
   "execution_count": 109,
   "metadata": {
    "execution": {
     "iopub.execute_input": "2023-08-23T19:11:28.791053Z",
     "iopub.status.busy": "2023-08-23T19:11:28.790712Z",
     "iopub.status.idle": "2023-08-23T19:11:28.826024Z",
     "shell.execute_reply": "2023-08-23T19:11:28.824718Z",
     "shell.execute_reply.started": "2023-08-23T19:11:28.791022Z"
    },
    "id": "EebfgtXoBtl5",
    "outputId": "ec0c44c0-d821-4746-8100-0cf3962e8e83"
   },
   "outputs": [
    {
     "data": {
      "text/html": [
       "<div>\n",
       "<style scoped>\n",
       "    .dataframe tbody tr th:only-of-type {\n",
       "        vertical-align: middle;\n",
       "    }\n",
       "\n",
       "    .dataframe tbody tr th {\n",
       "        vertical-align: top;\n",
       "    }\n",
       "\n",
       "    .dataframe thead th {\n",
       "        text-align: right;\n",
       "    }\n",
       "</style>\n",
       "<table border=\"1\" class=\"dataframe\">\n",
       "  <thead>\n",
       "    <tr style=\"text-align: right;\">\n",
       "      <th></th>\n",
       "      <th>PATIENTID</th>\n",
       "      <th>ETHNICITY</th>\n",
       "      <th>DEATHCAUSECODE_1A</th>\n",
       "      <th>DEATHLOCATIONCODE</th>\n",
       "      <th>VITALSTATUSDATE</th>\n",
       "      <th>SEX_x</th>\n",
       "      <th>TUMOURID</th>\n",
       "      <th>DIAGNOSISDATEBEST</th>\n",
       "      <th>SITE_ICD10_O2</th>\n",
       "      <th>SITE_ICD10_O2_3CHAR</th>\n",
       "      <th>...</th>\n",
       "      <th>PR_STATUS</th>\n",
       "      <th>PR_SCORE</th>\n",
       "      <th>HER2_STATUS</th>\n",
       "      <th>CANCERCAREPLANINTENT</th>\n",
       "      <th>PERFORMANCESTATUS</th>\n",
       "      <th>CNS</th>\n",
       "      <th>ACE27</th>\n",
       "      <th>DATE_FIRST_SURGERY</th>\n",
       "      <th>LATERALITY</th>\n",
       "      <th>QUINTILE_2015</th>\n",
       "    </tr>\n",
       "  </thead>\n",
       "  <tbody>\n",
       "    <tr>\n",
       "      <th>44</th>\n",
       "      <td>60036787</td>\n",
       "      <td>A</td>\n",
       "      <td>A000</td>\n",
       "      <td>A</td>\n",
       "      <td>2019-02-09</td>\n",
       "      <td>1</td>\n",
       "      <td>60036787</td>\n",
       "      <td>2014-10-23</td>\n",
       "      <td>C187</td>\n",
       "      <td>C18</td>\n",
       "      <td>...</td>\n",
       "      <td>NaN</td>\n",
       "      <td>NaN</td>\n",
       "      <td>NaN</td>\n",
       "      <td>NaN</td>\n",
       "      <td>NaN</td>\n",
       "      <td>NaN</td>\n",
       "      <td>NaN</td>\n",
       "      <td>2014-10-22</td>\n",
       "      <td>L</td>\n",
       "      <td>2</td>\n",
       "    </tr>\n",
       "    <tr>\n",
       "      <th>1735</th>\n",
       "      <td>40068120</td>\n",
       "      <td>A</td>\n",
       "      <td>C349</td>\n",
       "      <td>2</td>\n",
       "      <td>2019-02-08</td>\n",
       "      <td>1</td>\n",
       "      <td>40068120</td>\n",
       "      <td>2013-04-02</td>\n",
       "      <td>C341</td>\n",
       "      <td>C34</td>\n",
       "      <td>...</td>\n",
       "      <td>NaN</td>\n",
       "      <td>NaN</td>\n",
       "      <td>NaN</td>\n",
       "      <td>Z</td>\n",
       "      <td>NaN</td>\n",
       "      <td>Y1</td>\n",
       "      <td>NaN</td>\n",
       "      <td>2013-04-01</td>\n",
       "      <td>L</td>\n",
       "      <td>1 - least deprived</td>\n",
       "    </tr>\n",
       "    <tr>\n",
       "      <th>1760</th>\n",
       "      <td>40156856</td>\n",
       "      <td>A</td>\n",
       "      <td>C349</td>\n",
       "      <td>1</td>\n",
       "      <td>2019-02-06</td>\n",
       "      <td>1</td>\n",
       "      <td>40156856</td>\n",
       "      <td>2015-02-27</td>\n",
       "      <td>C341</td>\n",
       "      <td>C34</td>\n",
       "      <td>...</td>\n",
       "      <td>NaN</td>\n",
       "      <td>NaN</td>\n",
       "      <td>NaN</td>\n",
       "      <td>C</td>\n",
       "      <td>1</td>\n",
       "      <td>NaN</td>\n",
       "      <td>NaN</td>\n",
       "      <td>2015-02-26</td>\n",
       "      <td>R</td>\n",
       "      <td>5 - most deprived</td>\n",
       "    </tr>\n",
       "    <tr>\n",
       "      <th>2641</th>\n",
       "      <td>40101647</td>\n",
       "      <td>B</td>\n",
       "      <td>C349</td>\n",
       "      <td>A</td>\n",
       "      <td>2017-03-07</td>\n",
       "      <td>2</td>\n",
       "      <td>40101647</td>\n",
       "      <td>2016-06-24</td>\n",
       "      <td>C343</td>\n",
       "      <td>C34</td>\n",
       "      <td>...</td>\n",
       "      <td>NaN</td>\n",
       "      <td>NaN</td>\n",
       "      <td>NaN</td>\n",
       "      <td>NaN</td>\n",
       "      <td>NaN</td>\n",
       "      <td>NaN</td>\n",
       "      <td>NaN</td>\n",
       "      <td>2016-06-15</td>\n",
       "      <td>R</td>\n",
       "      <td>5 - most deprived</td>\n",
       "    </tr>\n",
       "    <tr>\n",
       "      <th>4502</th>\n",
       "      <td>270005642</td>\n",
       "      <td>A</td>\n",
       "      <td>C798</td>\n",
       "      <td>1</td>\n",
       "      <td>2018-06-24</td>\n",
       "      <td>2</td>\n",
       "      <td>270005642</td>\n",
       "      <td>2016-03-04</td>\n",
       "      <td>C19</td>\n",
       "      <td>C19</td>\n",
       "      <td>...</td>\n",
       "      <td>NaN</td>\n",
       "      <td>NaN</td>\n",
       "      <td>NaN</td>\n",
       "      <td>NaN</td>\n",
       "      <td>NaN</td>\n",
       "      <td>NaN</td>\n",
       "      <td>NaN</td>\n",
       "      <td>2016-03-01</td>\n",
       "      <td>9</td>\n",
       "      <td>3</td>\n",
       "    </tr>\n",
       "    <tr>\n",
       "      <th>...</th>\n",
       "      <td>...</td>\n",
       "      <td>...</td>\n",
       "      <td>...</td>\n",
       "      <td>...</td>\n",
       "      <td>...</td>\n",
       "      <td>...</td>\n",
       "      <td>...</td>\n",
       "      <td>...</td>\n",
       "      <td>...</td>\n",
       "      <td>...</td>\n",
       "      <td>...</td>\n",
       "      <td>...</td>\n",
       "      <td>...</td>\n",
       "      <td>...</td>\n",
       "      <td>...</td>\n",
       "      <td>...</td>\n",
       "      <td>...</td>\n",
       "      <td>...</td>\n",
       "      <td>...</td>\n",
       "      <td>...</td>\n",
       "      <td>...</td>\n",
       "    </tr>\n",
       "    <tr>\n",
       "      <th>48755</th>\n",
       "      <td>60027301</td>\n",
       "      <td>A</td>\n",
       "      <td>A000</td>\n",
       "      <td>2</td>\n",
       "      <td>2019-02-09</td>\n",
       "      <td>1</td>\n",
       "      <td>60027301</td>\n",
       "      <td>2014-02-26</td>\n",
       "      <td>C187</td>\n",
       "      <td>C18</td>\n",
       "      <td>...</td>\n",
       "      <td>NaN</td>\n",
       "      <td>NaN</td>\n",
       "      <td>NaN</td>\n",
       "      <td>NaN</td>\n",
       "      <td>NaN</td>\n",
       "      <td>NaN</td>\n",
       "      <td>NaN</td>\n",
       "      <td>2014-02-25</td>\n",
       "      <td>9</td>\n",
       "      <td>4</td>\n",
       "    </tr>\n",
       "    <tr>\n",
       "      <th>49039</th>\n",
       "      <td>40086512</td>\n",
       "      <td>A</td>\n",
       "      <td>J189</td>\n",
       "      <td>1</td>\n",
       "      <td>2016-04-19</td>\n",
       "      <td>2</td>\n",
       "      <td>40086512</td>\n",
       "      <td>2015-06-30</td>\n",
       "      <td>C343</td>\n",
       "      <td>C34</td>\n",
       "      <td>...</td>\n",
       "      <td>NaN</td>\n",
       "      <td>NaN</td>\n",
       "      <td>NaN</td>\n",
       "      <td>Cm</td>\n",
       "      <td>1m</td>\n",
       "      <td>NaN</td>\n",
       "      <td>1m</td>\n",
       "      <td>2015-06-29</td>\n",
       "      <td>L</td>\n",
       "      <td>3</td>\n",
       "    </tr>\n",
       "    <tr>\n",
       "      <th>49520</th>\n",
       "      <td>40130966</td>\n",
       "      <td>A</td>\n",
       "      <td>C159</td>\n",
       "      <td>1</td>\n",
       "      <td>2014-06-06</td>\n",
       "      <td>2</td>\n",
       "      <td>40130966</td>\n",
       "      <td>2013-12-09</td>\n",
       "      <td>C341</td>\n",
       "      <td>C34</td>\n",
       "      <td>...</td>\n",
       "      <td>NaN</td>\n",
       "      <td>NaN</td>\n",
       "      <td>NaN</td>\n",
       "      <td>NaN</td>\n",
       "      <td>4</td>\n",
       "      <td>NaN</td>\n",
       "      <td>NaN</td>\n",
       "      <td>2013-12-06</td>\n",
       "      <td>L</td>\n",
       "      <td>2</td>\n",
       "    </tr>\n",
       "    <tr>\n",
       "      <th>49853</th>\n",
       "      <td>20125762</td>\n",
       "      <td>A</td>\n",
       "      <td>A000</td>\n",
       "      <td>A</td>\n",
       "      <td>2019-02-06</td>\n",
       "      <td>2</td>\n",
       "      <td>20125762</td>\n",
       "      <td>2014-04-02</td>\n",
       "      <td>C509</td>\n",
       "      <td>C50</td>\n",
       "      <td>...</td>\n",
       "      <td>P</td>\n",
       "      <td>3.0</td>\n",
       "      <td>N</td>\n",
       "      <td>C</td>\n",
       "      <td>0</td>\n",
       "      <td>99</td>\n",
       "      <td>NaN</td>\n",
       "      <td>2014-04-01</td>\n",
       "      <td>R</td>\n",
       "      <td>3</td>\n",
       "    </tr>\n",
       "    <tr>\n",
       "      <th>49903</th>\n",
       "      <td>40076870</td>\n",
       "      <td>A</td>\n",
       "      <td>A000</td>\n",
       "      <td>A</td>\n",
       "      <td>2019-02-09</td>\n",
       "      <td>1</td>\n",
       "      <td>40076870</td>\n",
       "      <td>2016-02-10</td>\n",
       "      <td>C341</td>\n",
       "      <td>C34</td>\n",
       "      <td>...</td>\n",
       "      <td>NaN</td>\n",
       "      <td>NaN</td>\n",
       "      <td>NaN</td>\n",
       "      <td>NaN</td>\n",
       "      <td>1</td>\n",
       "      <td>Y1</td>\n",
       "      <td>NaN</td>\n",
       "      <td>2016-02-09</td>\n",
       "      <td>R</td>\n",
       "      <td>5 - most deprived</td>\n",
       "    </tr>\n",
       "  </tbody>\n",
       "</table>\n",
       "<p>84 rows × 33 columns</p>\n",
       "</div>"
      ],
      "text/plain": [
       "       PATIENTID ETHNICITY DEATHCAUSECODE_1A DEATHLOCATIONCODE  \\\n",
       "44      60036787         A              A000                 A   \n",
       "1735    40068120         A              C349                 2   \n",
       "1760    40156856         A              C349                 1   \n",
       "2641    40101647         B              C349                 A   \n",
       "4502   270005642         A              C798                 1   \n",
       "...          ...       ...               ...               ...   \n",
       "48755   60027301         A              A000                 2   \n",
       "49039   40086512         A              J189                 1   \n",
       "49520   40130966         A              C159                 1   \n",
       "49853   20125762         A              A000                 A   \n",
       "49903   40076870         A              A000                 A   \n",
       "\n",
       "      VITALSTATUSDATE  SEX_x   TUMOURID DIAGNOSISDATEBEST SITE_ICD10_O2  \\\n",
       "44         2019-02-09      1   60036787        2014-10-23          C187   \n",
       "1735       2019-02-08      1   40068120        2013-04-02          C341   \n",
       "1760       2019-02-06      1   40156856        2015-02-27          C341   \n",
       "2641       2017-03-07      2   40101647        2016-06-24          C343   \n",
       "4502       2018-06-24      2  270005642        2016-03-04           C19   \n",
       "...               ...    ...        ...               ...           ...   \n",
       "48755      2019-02-09      1   60027301        2014-02-26          C187   \n",
       "49039      2016-04-19      2   40086512        2015-06-30          C343   \n",
       "49520      2014-06-06      2   40130966        2013-12-09          C341   \n",
       "49853      2019-02-06      2   20125762        2014-04-02          C509   \n",
       "49903      2019-02-09      1   40076870        2016-02-10          C341   \n",
       "\n",
       "      SITE_ICD10_O2_3CHAR  ...  PR_STATUS PR_SCORE HER2_STATUS  \\\n",
       "44                    C18  ...        NaN      NaN         NaN   \n",
       "1735                  C34  ...        NaN      NaN         NaN   \n",
       "1760                  C34  ...        NaN      NaN         NaN   \n",
       "2641                  C34  ...        NaN      NaN         NaN   \n",
       "4502                  C19  ...        NaN      NaN         NaN   \n",
       "...                   ...  ...        ...      ...         ...   \n",
       "48755                 C18  ...        NaN      NaN         NaN   \n",
       "49039                 C34  ...        NaN      NaN         NaN   \n",
       "49520                 C34  ...        NaN      NaN         NaN   \n",
       "49853                 C50  ...          P      3.0           N   \n",
       "49903                 C34  ...        NaN      NaN         NaN   \n",
       "\n",
       "      CANCERCAREPLANINTENT PERFORMANCESTATUS  CNS  ACE27 DATE_FIRST_SURGERY  \\\n",
       "44                     NaN               NaN  NaN    NaN         2014-10-22   \n",
       "1735                     Z               NaN   Y1    NaN         2013-04-01   \n",
       "1760                     C                 1  NaN    NaN         2015-02-26   \n",
       "2641                   NaN               NaN  NaN    NaN         2016-06-15   \n",
       "4502                   NaN               NaN  NaN    NaN         2016-03-01   \n",
       "...                    ...               ...  ...    ...                ...   \n",
       "48755                  NaN               NaN  NaN    NaN         2014-02-25   \n",
       "49039                   Cm                1m  NaN     1m         2015-06-29   \n",
       "49520                  NaN                 4  NaN    NaN         2013-12-06   \n",
       "49853                    C                 0   99    NaN         2014-04-01   \n",
       "49903                  NaN                 1   Y1    NaN         2016-02-09   \n",
       "\n",
       "       LATERALITY       QUINTILE_2015  \n",
       "44              L                   2  \n",
       "1735            L  1 - least deprived  \n",
       "1760            R   5 - most deprived  \n",
       "2641            R   5 - most deprived  \n",
       "4502            9                   3  \n",
       "...           ...                 ...  \n",
       "48755           9                   4  \n",
       "49039           L                   3  \n",
       "49520           L                   2  \n",
       "49853           R                   3  \n",
       "49903           R   5 - most deprived  \n",
       "\n",
       "[84 rows x 33 columns]"
      ]
     },
     "execution_count": 109,
     "metadata": {},
     "output_type": "execute_result"
    }
   ],
   "source": [
    "# Does any one have a surgery before before diagnosis?\n",
    "data_test.loc[data_test['DATE_FIRST_SURGERY'] < data_test['DIAGNOSISDATEBEST']]"
   ]
  },
  {
   "cell_type": "code",
   "execution_count": 110,
   "metadata": {
    "execution": {
     "iopub.execute_input": "2023-08-23T19:11:28.828202Z",
     "iopub.status.busy": "2023-08-23T19:11:28.827437Z",
     "iopub.status.idle": "2023-08-23T19:11:28.836366Z",
     "shell.execute_reply": "2023-08-23T19:11:28.834814Z",
     "shell.execute_reply.started": "2023-08-23T19:11:28.828163Z"
    },
    "id": "cKgb8QiBBtl6"
   },
   "outputs": [],
   "source": [
    "# replace diagnosis date with date of first surgery for patients who have had a surgery before diagnosis\n",
    "data_test.loc[data_test['DIAGNOSISDATEBEST'] > data_test['DATE_FIRST_SURGERY'], 'DIAGNOSISDATEBEST'] = data_test.loc[data_test['DIAGNOSISDATEBEST'] > data_test['DATE_FIRST_SURGERY'], 'DATE_FIRST_SURGERY']"
   ]
  },
  {
   "cell_type": "markdown",
   "metadata": {
    "id": "NciOS9yEBtl6"
   },
   "source": [
    "#####  Derived variables"
   ]
  },
  {
   "cell_type": "code",
   "execution_count": 111,
   "metadata": {
    "execution": {
     "iopub.execute_input": "2023-08-23T19:11:28.839464Z",
     "iopub.status.busy": "2023-08-23T19:11:28.838270Z",
     "iopub.status.idle": "2023-08-23T19:11:28.848532Z",
     "shell.execute_reply": "2023-08-23T19:11:28.847479Z",
     "shell.execute_reply.started": "2023-08-23T19:11:28.839425Z"
    },
    "id": "GPV6BkbuBtl6"
   },
   "outputs": [],
   "source": [
    "# Create surgery status based on date first surgery\n",
    "data_test['SURGERYSTATUS'] = np.where(data_test['DATE_FIRST_SURGERY'].isnull(), 0, 1)"
   ]
  },
  {
   "cell_type": "code",
   "execution_count": 112,
   "metadata": {
    "execution": {
     "iopub.execute_input": "2023-08-23T19:11:28.851702Z",
     "iopub.status.busy": "2023-08-23T19:11:28.850889Z",
     "iopub.status.idle": "2023-08-23T19:11:28.882252Z",
     "shell.execute_reply": "2023-08-23T19:11:28.880967Z",
     "shell.execute_reply.started": "2023-08-23T19:11:28.851662Z"
    },
    "id": "fQp2ujhMBtl7"
   },
   "outputs": [],
   "source": [
    "# Extract year from dates\n",
    "data_test['DATE_FIRST_SURGERY'] = data_test['DATE_FIRST_SURGERY'].dt.year\n",
    "data_test['VITALSTATUSDATE'] = data_test['VITALSTATUSDATE'].dt.year\n",
    "data_test['DIAGNOSISDATEBEST'] = data_test['DIAGNOSISDATEBEST'].dt.year"
   ]
  },
  {
   "cell_type": "markdown",
   "metadata": {
    "id": "3r3ezrOgBtl7"
   },
   "source": [
    "##### Recode variables"
   ]
  },
  {
   "cell_type": "markdown",
   "metadata": {
    "id": "Qr1ZsMk1Btl7"
   },
   "source": [
    "##### New vital status: Outcome variable"
   ]
  },
  {
   "cell_type": "markdown",
   "metadata": {
    "id": "L46lZ7xQBtl7"
   },
   "source": [
    "##### Sex"
   ]
  },
  {
   "cell_type": "code",
   "execution_count": 113,
   "metadata": {
    "execution": {
     "iopub.execute_input": "2023-08-23T19:11:28.884421Z",
     "iopub.status.busy": "2023-08-23T19:11:28.884031Z",
     "iopub.status.idle": "2023-08-23T19:11:28.890496Z",
     "shell.execute_reply": "2023-08-23T19:11:28.889201Z",
     "shell.execute_reply.started": "2023-08-23T19:11:28.884387Z"
    },
    "id": "YpCQxfiHBtl7"
   },
   "outputs": [],
   "source": [
    "data_test.rename(columns={'SEX_x': 'SEX',\n",
    "                                    }, inplace = True)"
   ]
  },
  {
   "cell_type": "code",
   "execution_count": 114,
   "metadata": {
    "execution": {
     "iopub.execute_input": "2023-08-23T19:11:28.892762Z",
     "iopub.status.busy": "2023-08-23T19:11:28.892305Z",
     "iopub.status.idle": "2023-08-23T19:11:28.912134Z",
     "shell.execute_reply": "2023-08-23T19:11:28.910374Z",
     "shell.execute_reply.started": "2023-08-23T19:11:28.892725Z"
    },
    "id": "20cUTMN7Btl8",
    "outputId": "75ba6a41-0901-4683-ba50-fc4115e780b2"
   },
   "outputs": [
    {
     "data": {
      "text/plain": [
       "2    33751\n",
       "1    16249\n",
       "Name: SEX, dtype: int64"
      ]
     },
     "execution_count": 114,
     "metadata": {},
     "output_type": "execute_result"
    }
   ],
   "source": [
    "data_test.SEX.value_counts()"
   ]
  },
  {
   "cell_type": "markdown",
   "metadata": {
    "id": "7QIHtaWiBtl8"
   },
   "source": [
    "##### Site of cancer\n",
    "'SITE_ICD10_O2'- specific cancer site e.g nipple and areola    \n",
    "'SITE_ICD10_O2_3CHAR',- General cancer site e.g Breast, lung etc    \n",
    "1. check if general group correlates with specific\n",
    "2. should we drop one? if yes which one. the general one is compact might be good for the ML model, variability in the specifics can be good too\n",
    "3. recode"
   ]
  },
  {
   "cell_type": "code",
   "execution_count": 115,
   "metadata": {
    "execution": {
     "iopub.execute_input": "2023-08-23T19:11:28.915179Z",
     "iopub.status.busy": "2023-08-23T19:11:28.914796Z",
     "iopub.status.idle": "2023-08-23T19:11:28.943769Z",
     "shell.execute_reply": "2023-08-23T19:11:28.942433Z",
     "shell.execute_reply.started": "2023-08-23T19:11:28.915151Z"
    },
    "id": "DL5-6Ce1Btl8"
   },
   "outputs": [],
   "source": [
    "data_test['SITE_ICD10_O2'].fillna(data_test['SITE_ICD10_O2_3CHAR'], inplace=True)\n",
    "data_test.drop(['SITE_ICD10_O2_3CHAR'], axis=1, inplace= True)"
   ]
  },
  {
   "cell_type": "markdown",
   "metadata": {
    "id": "HLNdyLpZBtl8"
   },
   "source": [
    "##### Morphology and behaviour"
   ]
  },
  {
   "cell_type": "code",
   "execution_count": 116,
   "metadata": {
    "execution": {
     "iopub.execute_input": "2023-08-23T19:11:28.946039Z",
     "iopub.status.busy": "2023-08-23T19:11:28.945653Z",
     "iopub.status.idle": "2023-08-23T19:11:28.964631Z",
     "shell.execute_reply": "2023-08-23T19:11:28.963419Z",
     "shell.execute_reply.started": "2023-08-23T19:11:28.946008Z"
    },
    "id": "NtFkSokCBtl8",
    "outputId": "a6e42275-5f39-41e9-f7b2-828ad20cbf54"
   },
   "outputs": [
    {
     "data": {
      "text/html": [
       "<div>\n",
       "<style scoped>\n",
       "    .dataframe tbody tr th:only-of-type {\n",
       "        vertical-align: middle;\n",
       "    }\n",
       "\n",
       "    .dataframe tbody tr th {\n",
       "        vertical-align: top;\n",
       "    }\n",
       "\n",
       "    .dataframe thead th {\n",
       "        text-align: right;\n",
       "    }\n",
       "</style>\n",
       "<table border=\"1\" class=\"dataframe\">\n",
       "  <thead>\n",
       "    <tr style=\"text-align: right;\">\n",
       "      <th></th>\n",
       "      <th>MORPH_ICD10_O2</th>\n",
       "      <th>BEHAVIOUR_ICD10_O2</th>\n",
       "    </tr>\n",
       "  </thead>\n",
       "  <tbody>\n",
       "    <tr>\n",
       "      <th>0</th>\n",
       "      <td>8500.0</td>\n",
       "      <td>3</td>\n",
       "    </tr>\n",
       "    <tr>\n",
       "      <th>1</th>\n",
       "      <td>8140.0</td>\n",
       "      <td>3</td>\n",
       "    </tr>\n",
       "    <tr>\n",
       "      <th>2</th>\n",
       "      <td>8140.0</td>\n",
       "      <td>3</td>\n",
       "    </tr>\n",
       "    <tr>\n",
       "      <th>3</th>\n",
       "      <td>8140.0</td>\n",
       "      <td>3</td>\n",
       "    </tr>\n",
       "    <tr>\n",
       "      <th>4</th>\n",
       "      <td>8140.0</td>\n",
       "      <td>3</td>\n",
       "    </tr>\n",
       "    <tr>\n",
       "      <th>...</th>\n",
       "      <td>...</td>\n",
       "      <td>...</td>\n",
       "    </tr>\n",
       "    <tr>\n",
       "      <th>49995</th>\n",
       "      <td>8140.0</td>\n",
       "      <td>3.0</td>\n",
       "    </tr>\n",
       "    <tr>\n",
       "      <th>49996</th>\n",
       "      <td>8500.0</td>\n",
       "      <td>3.0</td>\n",
       "    </tr>\n",
       "    <tr>\n",
       "      <th>49997</th>\n",
       "      <td>8000.0</td>\n",
       "      <td>3.0</td>\n",
       "    </tr>\n",
       "    <tr>\n",
       "      <th>49998</th>\n",
       "      <td>8000.0</td>\n",
       "      <td>3.0</td>\n",
       "    </tr>\n",
       "    <tr>\n",
       "      <th>49999</th>\n",
       "      <td>8140.0</td>\n",
       "      <td>3.0</td>\n",
       "    </tr>\n",
       "  </tbody>\n",
       "</table>\n",
       "<p>50000 rows × 2 columns</p>\n",
       "</div>"
      ],
      "text/plain": [
       "       MORPH_ICD10_O2 BEHAVIOUR_ICD10_O2\n",
       "0              8500.0                  3\n",
       "1              8140.0                  3\n",
       "2              8140.0                  3\n",
       "3              8140.0                  3\n",
       "4              8140.0                  3\n",
       "...               ...                ...\n",
       "49995          8140.0                3.0\n",
       "49996          8500.0                3.0\n",
       "49997          8000.0                3.0\n",
       "49998          8000.0                3.0\n",
       "49999          8140.0                3.0\n",
       "\n",
       "[50000 rows x 2 columns]"
      ]
     },
     "execution_count": 116,
     "metadata": {},
     "output_type": "execute_result"
    }
   ],
   "source": [
    "data_test[['MORPH_ICD10_O2', 'BEHAVIOUR_ICD10_O2']]"
   ]
  },
  {
   "cell_type": "code",
   "execution_count": 117,
   "metadata": {
    "execution": {
     "iopub.execute_input": "2023-08-23T19:11:28.966384Z",
     "iopub.status.busy": "2023-08-23T19:11:28.966052Z",
     "iopub.status.idle": "2023-08-23T19:11:28.978870Z",
     "shell.execute_reply": "2023-08-23T19:11:28.977653Z",
     "shell.execute_reply.started": "2023-08-23T19:11:28.966356Z"
    },
    "id": "Jv9Scfl5Btl9",
    "outputId": "c0ff59fb-a143-4422-be35-d73c542943a6"
   },
   "outputs": [
    {
     "data": {
      "text/plain": [
       "3      49044\n",
       "3.0      847\n",
       "5         90\n",
       "X          3\n",
       "9          2\n",
       "Name: BEHAVIOUR_ICD10_O2, dtype: int64"
      ]
     },
     "execution_count": 117,
     "metadata": {},
     "output_type": "execute_result"
    }
   ],
   "source": [
    "data_test.BEHAVIOUR_ICD10_O2.value_counts()"
   ]
  },
  {
   "cell_type": "code",
   "execution_count": 118,
   "metadata": {
    "execution": {
     "iopub.execute_input": "2023-08-23T19:11:28.981147Z",
     "iopub.status.busy": "2023-08-23T19:11:28.980600Z",
     "iopub.status.idle": "2023-08-23T19:11:29.009523Z",
     "shell.execute_reply": "2023-08-23T19:11:29.008383Z",
     "shell.execute_reply.started": "2023-08-23T19:11:28.981113Z"
    },
    "id": "ssd5EiKeBtl9"
   },
   "outputs": [],
   "source": [
    "data_test['BEHAVIOUR_ICD10_O2'] = data_test['BEHAVIOUR_ICD10_O2'].replace({3: '3', 5:'5'})"
   ]
  },
  {
   "cell_type": "code",
   "execution_count": 119,
   "metadata": {
    "execution": {
     "iopub.execute_input": "2023-08-23T19:11:29.011518Z",
     "iopub.status.busy": "2023-08-23T19:11:29.011194Z",
     "iopub.status.idle": "2023-08-23T19:11:29.033848Z",
     "shell.execute_reply": "2023-08-23T19:11:29.032338Z",
     "shell.execute_reply.started": "2023-08-23T19:11:29.011492Z"
    },
    "id": "InYjbEtOBtl9"
   },
   "outputs": [],
   "source": [
    "data_test['MORPH_ICD10_O2'] =(data_test\n",
    "                  .groupby(['BEHAVIOUR_ICD10_O2'],sort=False)['MORPH_ICD10_O2']\n",
    "                  .apply(lambda x : x.fillna(stats.mode(x)[0][0]))\n",
    "                 )"
   ]
  },
  {
   "cell_type": "markdown",
   "metadata": {
    "id": "iTiDj6pfBtl9"
   },
   "source": [
    "#####  Cancer Staging\n",
    "T_BEST size of the tumour, with numbers 1 to 4 (1 for small, 4 for large)    \n",
    "N_BEST lymph nodes, with numbers 0 to 3 (0 means no lymph nodes have cancer, 3 means many do)    \n",
    "M_BEST  metastases or whether the cancer has spread to another part of the body, with numbers 0 or 1 (0 means it has not spread, 1 means it has)    \n",
    "STAGE_BEST   \n",
    "STAGE_BEST_SYSTEM   \n",
    "GRADE"
   ]
  },
  {
   "cell_type": "code",
   "execution_count": 120,
   "metadata": {
    "execution": {
     "iopub.execute_input": "2023-08-23T19:11:29.035511Z",
     "iopub.status.busy": "2023-08-23T19:11:29.035167Z",
     "iopub.status.idle": "2023-08-23T19:11:29.048134Z",
     "shell.execute_reply": "2023-08-23T19:11:29.046884Z",
     "shell.execute_reply.started": "2023-08-23T19:11:29.035481Z"
    },
    "id": "_1XvMGwlBtl-",
    "outputId": "7ce9049f-18d7-4426-8bef-3987fecc5f52"
   },
   "outputs": [
    {
     "data": {
      "text/plain": [
       "3      9470\n",
       "2      9198\n",
       "4      6010\n",
       "1c     5636\n",
       "1b     3198\n",
       "1      2589\n",
       "2a     2411\n",
       "1a     1878\n",
       "4b     1298\n",
       "2b      885\n",
       "4a      313\n",
       "3b      134\n",
       "4d       88\n",
       "3a       82\n",
       "1mi      73\n",
       "3c       63\n",
       "4c       43\n",
       "is       29\n",
       "0        28\n",
       "3d       18\n",
       "1d        7\n",
       "2c        5\n",
       "X         4\n",
       "2a2       2\n",
       "1a2       2\n",
       "2s        2\n",
       "1b2       2\n",
       "T2        1\n",
       "1C        1\n",
       "3s        1\n",
       "T1        1\n",
       "Name: T_BEST, dtype: int64"
      ]
     },
     "execution_count": 120,
     "metadata": {},
     "output_type": "execute_result"
    }
   ],
   "source": [
    " data_test.T_BEST.value_counts()"
   ]
  },
  {
   "cell_type": "code",
   "execution_count": 121,
   "metadata": {
    "execution": {
     "iopub.execute_input": "2023-08-23T19:11:29.050271Z",
     "iopub.status.busy": "2023-08-23T19:11:29.049734Z",
     "iopub.status.idle": "2023-08-23T19:11:29.058681Z",
     "shell.execute_reply": "2023-08-23T19:11:29.057570Z",
     "shell.execute_reply.started": "2023-08-23T19:11:29.050232Z"
    },
    "id": "LyVwa8UOBtl-"
   },
   "outputs": [],
   "source": [
    "# extract numbers only from the values\n",
    "def get_number(text):\n",
    "    return text[:1] if isinstance(text, str) else text"
   ]
  },
  {
   "cell_type": "markdown",
   "metadata": {
    "id": "oThnKiKJBtl_"
   },
   "source": [
    "T_BEST size of the tumour, with numbers 1 to 4 (1 for small, 4 for large)"
   ]
  },
  {
   "cell_type": "code",
   "execution_count": 122,
   "metadata": {
    "execution": {
     "iopub.execute_input": "2023-08-23T19:11:29.063107Z",
     "iopub.status.busy": "2023-08-23T19:11:29.062606Z",
     "iopub.status.idle": "2023-08-23T19:11:29.102434Z",
     "shell.execute_reply": "2023-08-23T19:11:29.101085Z",
     "shell.execute_reply.started": "2023-08-23T19:11:29.063059Z"
    },
    "id": "ZV6dxLLiBtl_",
    "outputId": "8749be6a-7620-4b5b-bc59-5f8925bcd11b"
   },
   "outputs": [
    {
     "data": {
      "text/plain": [
       "1    13386\n",
       "2    12503\n",
       "3     9768\n",
       "4     7752\n",
       "i       29\n",
       "0       28\n",
       "X        4\n",
       "T        2\n",
       "Name: T_BEST, dtype: int64"
      ]
     },
     "execution_count": 122,
     "metadata": {},
     "output_type": "execute_result"
    }
   ],
   "source": [
    "data_test['T_BEST']= data_test['T_BEST'].apply(get_number)\n",
    "data_test.T_BEST.value_counts()"
   ]
  },
  {
   "cell_type": "markdown",
   "metadata": {
    "id": "pqpBBIKqBtl_"
   },
   "source": [
    "N_BEST lymph nodes, with numbers 0 to 3 (0 means no lymph nodes have cancer, 3 means many do)"
   ]
  },
  {
   "cell_type": "code",
   "execution_count": 123,
   "metadata": {
    "execution": {
     "iopub.execute_input": "2023-08-23T19:11:29.104968Z",
     "iopub.status.busy": "2023-08-23T19:11:29.104512Z",
     "iopub.status.idle": "2023-08-23T19:11:29.109397Z",
     "shell.execute_reply": "2023-08-23T19:11:29.108198Z",
     "shell.execute_reply.started": "2023-08-23T19:11:29.104928Z"
    },
    "id": "7csKqRv5Btl_"
   },
   "outputs": [],
   "source": [
    "# data.N_BEST.value_counts()"
   ]
  },
  {
   "cell_type": "code",
   "execution_count": 124,
   "metadata": {
    "execution": {
     "iopub.execute_input": "2023-08-23T19:11:29.111743Z",
     "iopub.status.busy": "2023-08-23T19:11:29.111268Z",
     "iopub.status.idle": "2023-08-23T19:11:29.151473Z",
     "shell.execute_reply": "2023-08-23T19:11:29.150642Z",
     "shell.execute_reply.started": "2023-08-23T19:11:29.111708Z"
    },
    "id": "pfDE7QCuBtmA",
    "outputId": "98628257-cc23-42e3-b526-3e88df64ee75"
   },
   "outputs": [
    {
     "data": {
      "text/plain": [
       "0    22820\n",
       "1     9852\n",
       "2     7100\n",
       "3     3621\n",
       "X        7\n",
       "Name: N_BEST, dtype: int64"
      ]
     },
     "execution_count": 124,
     "metadata": {},
     "output_type": "execute_result"
    }
   ],
   "source": [
    "data_test['N_BEST']= data_test['N_BEST'].apply(get_number)\n",
    "data_test.N_BEST.value_counts()"
   ]
  },
  {
   "cell_type": "markdown",
   "metadata": {
    "id": "mdGCjgXKBtmA"
   },
   "source": [
    "M_BEST  metastases or whether the cancer has spread to another part of the body, with numbers 0 or 1 (0 means it has not spread, 1 means it has)"
   ]
  },
  {
   "cell_type": "code",
   "execution_count": 125,
   "metadata": {
    "execution": {
     "iopub.execute_input": "2023-08-23T19:11:29.153501Z",
     "iopub.status.busy": "2023-08-23T19:11:29.152567Z",
     "iopub.status.idle": "2023-08-23T19:11:29.161127Z",
     "shell.execute_reply": "2023-08-23T19:11:29.158975Z",
     "shell.execute_reply.started": "2023-08-23T19:11:29.153443Z"
    },
    "id": "VVTwYeHYBtmA"
   },
   "outputs": [],
   "source": [
    " #data.M_BEST.value_counts()"
   ]
  },
  {
   "cell_type": "code",
   "execution_count": 126,
   "metadata": {
    "execution": {
     "iopub.execute_input": "2023-08-23T19:11:29.163849Z",
     "iopub.status.busy": "2023-08-23T19:11:29.162723Z",
     "iopub.status.idle": "2023-08-23T19:11:29.200724Z",
     "shell.execute_reply": "2023-08-23T19:11:29.199503Z",
     "shell.execute_reply.started": "2023-08-23T19:11:29.163811Z"
    },
    "id": "8WNVk5ezBtmA",
    "outputId": "f70420b2-eb0b-494c-f009-9e90b6e098bb"
   },
   "outputs": [
    {
     "data": {
      "text/plain": [
       "0    28505\n",
       "1    11167\n",
       "X        9\n",
       "Name: M_BEST, dtype: int64"
      ]
     },
     "execution_count": 126,
     "metadata": {},
     "output_type": "execute_result"
    }
   ],
   "source": [
    "data_test['M_BEST']= data_test['M_BEST'].apply(get_number)\n",
    "data_test.M_BEST.value_counts()"
   ]
  },
  {
   "cell_type": "markdown",
   "metadata": {
    "id": "Nthd_hCoBtmA"
   },
   "source": [
    "STAGE_BEST  \n",
    "0   hasn't spread  \n",
    "6\t6 NOT STAGEABLE   \n",
    "?\tINSUFFICIENT INFO   \n",
    "U\tUNSTAGEABLE    \n",
    "X\tX NOT STAGED"
   ]
  },
  {
   "cell_type": "code",
   "execution_count": 127,
   "metadata": {
    "execution": {
     "iopub.execute_input": "2023-08-23T19:11:29.202482Z",
     "iopub.status.busy": "2023-08-23T19:11:29.202086Z",
     "iopub.status.idle": "2023-08-23T19:11:29.215074Z",
     "shell.execute_reply": "2023-08-23T19:11:29.214154Z",
     "shell.execute_reply.started": "2023-08-23T19:11:29.202420Z"
    },
    "id": "Uz0doh8wBtmB",
    "outputId": "58b2d4cc-4031-43ae-aef7-4d4f5ffe5e17"
   },
   "outputs": [
    {
     "data": {
      "text/plain": [
       "4      11225\n",
       "1A      9131\n",
       "2A      6005\n",
       "?       4442\n",
       "3       3766\n",
       "2       3261\n",
       "2B      3075\n",
       "3A      2887\n",
       "1       2432\n",
       "3B      1766\n",
       "1B      1302\n",
       "3C       390\n",
       "U        123\n",
       "0         72\n",
       "2C        29\n",
       "4A        24\n",
       "4C        18\n",
       "4B        16\n",
       "4S         7\n",
       "3S         5\n",
       "1S         4\n",
       "1C         4\n",
       "1A2        3\n",
       "6          2\n",
       "2A2        2\n",
       "3E         2\n",
       "2A1        2\n",
       "1E         1\n",
       "1A1        1\n",
       "2S         1\n",
       "Name: STAGE_BEST, dtype: int64"
      ]
     },
     "execution_count": 127,
     "metadata": {},
     "output_type": "execute_result"
    }
   ],
   "source": [
    " data_test.STAGE_BEST.value_counts()"
   ]
  },
  {
   "cell_type": "code",
   "execution_count": 128,
   "metadata": {
    "execution": {
     "iopub.execute_input": "2023-08-23T19:11:29.216685Z",
     "iopub.status.busy": "2023-08-23T19:11:29.216334Z",
     "iopub.status.idle": "2023-08-23T19:11:29.257637Z",
     "shell.execute_reply": "2023-08-23T19:11:29.256823Z",
     "shell.execute_reply.started": "2023-08-23T19:11:29.216656Z"
    },
    "id": "yERHW_wxKRTV",
    "outputId": "70b71aff-7240-4ee6-acaf-e63f1b12276e"
   },
   "outputs": [
    {
     "data": {
      "text/plain": [
       "1    12878\n",
       "2    12375\n",
       "4    11290\n",
       "3     8816\n",
       "?     4442\n",
       "U      123\n",
       "0       72\n",
       "6        2\n",
       "Name: STAGE_BEST, dtype: int64"
      ]
     },
     "execution_count": 128,
     "metadata": {},
     "output_type": "execute_result"
    }
   ],
   "source": [
    "data_test['STAGE_BEST']= data_test['STAGE_BEST'].apply(get_number)\n",
    "data_test.STAGE_BEST.value_counts()"
   ]
  },
  {
   "cell_type": "code",
   "execution_count": 129,
   "metadata": {
    "execution": {
     "iopub.execute_input": "2023-08-23T19:11:29.259440Z",
     "iopub.status.busy": "2023-08-23T19:11:29.259089Z",
     "iopub.status.idle": "2023-08-23T19:11:29.279635Z",
     "shell.execute_reply": "2023-08-23T19:11:29.278505Z",
     "shell.execute_reply.started": "2023-08-23T19:11:29.259410Z"
    },
    "id": "ZRTrt7MuBtmB",
    "outputId": "6a719d35-a683-4e8b-e0cd-517532c62fbc"
   },
   "outputs": [
    {
     "data": {
      "text/plain": [
       "1    12878\n",
       "2    12375\n",
       "4    11290\n",
       "3     8816\n",
       "I     4442\n",
       "U      123\n",
       "0       72\n",
       "6        2\n",
       "Name: STAGE_BEST, dtype: int64"
      ]
     },
     "execution_count": 129,
     "metadata": {},
     "output_type": "execute_result"
    }
   ],
   "source": [
    "# Replace '?' with 'I'\n",
    "data_test['STAGE_BEST'] = data_test['STAGE_BEST'].replace({'?' :'I'})\n",
    "\n",
    "data_test.STAGE_BEST.value_counts()"
   ]
  },
  {
   "cell_type": "markdown",
   "metadata": {
    "id": "FWk6KfuuBtmD"
   },
   "source": [
    "##### STAGE_BEST_SYSTEM"
   ]
  },
  {
   "cell_type": "code",
   "execution_count": 130,
   "metadata": {
    "execution": {
     "iopub.execute_input": "2023-08-23T19:11:29.281508Z",
     "iopub.status.busy": "2023-08-23T19:11:29.281062Z",
     "iopub.status.idle": "2023-08-23T19:11:29.304443Z",
     "shell.execute_reply": "2023-08-23T19:11:29.303549Z",
     "shell.execute_reply.started": "2023-08-23T19:11:29.281456Z"
    },
    "id": "obxbtpqvBtmE"
   },
   "outputs": [],
   "source": [
    "data_test.drop(['STAGE_BEST_SYSTEM'], axis=1, inplace= True)"
   ]
  },
  {
   "cell_type": "markdown",
   "metadata": {
    "id": "w25Iw6Z2BtmE"
   },
   "source": [
    "Grade of tumour\n",
    "\n",
    "0\t0 BORDERLINE MALIGNANCY   \n",
    "1\t1 / I / WELL DIFFERENTIATED  \n",
    "2\t2 / II / MODERATELY DIFFERENTIATED   \n",
    "3\t3 / III / POORLY DIFFERENTIATED    \n",
    "4\t4 / IV / UNDIFFERENTIATED / ANAPLASTIC   \n",
    "5\tT CELL   \n",
    "6\tB CELL    \n",
    "7\tNULL CELL  \n",
    "H\tHIGH   \n",
    "I\tINTERMEDIATE    \n",
    "L\tLOW     \n",
    "X\tX\n"
   ]
  },
  {
   "cell_type": "code",
   "execution_count": 131,
   "metadata": {
    "execution": {
     "iopub.execute_input": "2023-08-23T19:11:29.306674Z",
     "iopub.status.busy": "2023-08-23T19:11:29.305947Z",
     "iopub.status.idle": "2023-08-23T19:11:29.321125Z",
     "shell.execute_reply": "2023-08-23T19:11:29.319903Z",
     "shell.execute_reply.started": "2023-08-23T19:11:29.306630Z"
    },
    "id": "bONZLj7sBtmE",
    "outputId": "9da26c91-8615-4e52-abb0-5915d22ca3c9"
   },
   "outputs": [
    {
     "data": {
      "text/plain": [
       "G2    20261\n",
       "GX    15024\n",
       "G3    10477\n",
       "G1     3835\n",
       "G4      140\n",
       "Name: GRADE, dtype: int64"
      ]
     },
     "execution_count": 131,
     "metadata": {},
     "output_type": "execute_result"
    }
   ],
   "source": [
    "data_test.GRADE.value_counts()"
   ]
  },
  {
   "cell_type": "code",
   "execution_count": 132,
   "metadata": {
    "execution": {
     "iopub.execute_input": "2023-08-23T19:11:29.323489Z",
     "iopub.status.busy": "2023-08-23T19:11:29.322983Z",
     "iopub.status.idle": "2023-08-23T19:11:29.338464Z",
     "shell.execute_reply": "2023-08-23T19:11:29.337089Z",
     "shell.execute_reply.started": "2023-08-23T19:11:29.323448Z"
    },
    "id": "PZQsNhHPBtmF",
    "outputId": "630b8f7d-c776-4e8f-b918-9dde83354e20"
   },
   "outputs": [
    {
     "data": {
      "text/plain": [
       "263"
      ]
     },
     "execution_count": 132,
     "metadata": {},
     "output_type": "execute_result"
    }
   ],
   "source": [
    "data_test.GRADE.isnull().sum()"
   ]
  },
  {
   "cell_type": "code",
   "execution_count": 133,
   "metadata": {
    "execution": {
     "iopub.execute_input": "2023-08-23T19:11:29.340065Z",
     "iopub.status.busy": "2023-08-23T19:11:29.339741Z",
     "iopub.status.idle": "2023-08-23T19:11:29.438606Z",
     "shell.execute_reply": "2023-08-23T19:11:29.437355Z",
     "shell.execute_reply.started": "2023-08-23T19:11:29.340038Z"
    },
    "id": "PGsdJ2POBtmF"
   },
   "outputs": [],
   "source": [
    "data_test['GRADE'] =(data_test\n",
    "                  .groupby(['BEHAVIOUR_ICD10_O2','MORPH_ICD10_O2'],sort=False)['GRADE']\n",
    "                  .apply(lambda x : x.fillna(stats.mode(x)[0][0]))\n",
    "                 )"
   ]
  },
  {
   "cell_type": "code",
   "execution_count": 134,
   "metadata": {
    "execution": {
     "iopub.execute_input": "2023-08-23T19:11:29.441206Z",
     "iopub.status.busy": "2023-08-23T19:11:29.440608Z",
     "iopub.status.idle": "2023-08-23T19:11:29.450927Z",
     "shell.execute_reply": "2023-08-23T19:11:29.449946Z",
     "shell.execute_reply.started": "2023-08-23T19:11:29.441169Z"
    },
    "id": "vQ7MzDlcBtmF",
    "outputId": "3f4e99b5-d879-4a90-e625-d20ccb139a43"
   },
   "outputs": [
    {
     "data": {
      "text/plain": [
       "14"
      ]
     },
     "execution_count": 134,
     "metadata": {},
     "output_type": "execute_result"
    }
   ],
   "source": [
    "data_test.GRADE.isnull().sum()"
   ]
  },
  {
   "cell_type": "markdown",
   "metadata": {
    "id": "_fyaDXcbBtmF"
   },
   "source": [
    "##### Age\n",
    "\n",
    "1. Outliers"
   ]
  },
  {
   "cell_type": "code",
   "execution_count": 135,
   "metadata": {
    "execution": {
     "iopub.execute_input": "2023-08-23T19:11:29.453504Z",
     "iopub.status.busy": "2023-08-23T19:11:29.452504Z",
     "iopub.status.idle": "2023-08-23T19:11:29.471314Z",
     "shell.execute_reply": "2023-08-23T19:11:29.470108Z",
     "shell.execute_reply.started": "2023-08-23T19:11:29.453467Z"
    },
    "id": "M8galHxKBtmG",
    "outputId": "bbebd451-3e99-40d6-a76f-f3565b282ee1"
   },
   "outputs": [
    {
     "data": {
      "text/plain": [
       "count    50000.000000\n",
       "mean        68.160120\n",
       "std         13.809342\n",
       "min          8.000000\n",
       "25%         59.000000\n",
       "50%         69.000000\n",
       "75%         79.000000\n",
       "max        105.000000\n",
       "Name: AGE, dtype: float64"
      ]
     },
     "execution_count": 135,
     "metadata": {},
     "output_type": "execute_result"
    }
   ],
   "source": [
    "data_test.AGE.describe()"
   ]
  },
  {
   "cell_type": "code",
   "execution_count": 136,
   "metadata": {
    "execution": {
     "iopub.execute_input": "2023-08-23T19:11:29.473475Z",
     "iopub.status.busy": "2023-08-23T19:11:29.473142Z",
     "iopub.status.idle": "2023-08-23T19:11:29.760256Z",
     "shell.execute_reply": "2023-08-23T19:11:29.758997Z",
     "shell.execute_reply.started": "2023-08-23T19:11:29.473446Z"
    },
    "id": "Fd3ckiYGBtmG",
    "outputId": "e7302385-f232-4ee9-e055-60867b38f77d"
   },
   "outputs": [
    {
     "data": {
      "text/plain": [
       "<Axes: >"
      ]
     },
     "execution_count": 136,
     "metadata": {},
     "output_type": "execute_result"
    },
    {
     "data": {
      "image/png": "[encoded data removed]",
      "text/plain": [
       "<Figure size 640x480 with 1 Axes>"
      ]
     },
     "metadata": {},
     "output_type": "display_data"
    }
   ],
   "source": [
    "data_test.AGE.hist()"
   ]
  },
  {
   "cell_type": "markdown",
   "metadata": {
    "id": "Hfb9shXiBtmG"
   },
   "source": [
    "##### CREG_CODE\n",
    "Cancer registry catchment area code, no missing value\n",
    "\n",
    "1. do we want to map this?"
   ]
  },
  {
   "cell_type": "code",
   "execution_count": 137,
   "metadata": {
    "execution": {
     "iopub.execute_input": "2023-08-23T19:11:29.762058Z",
     "iopub.status.busy": "2023-08-23T19:11:29.761728Z",
     "iopub.status.idle": "2023-08-23T19:11:29.775929Z",
     "shell.execute_reply": "2023-08-23T19:11:29.774693Z",
     "shell.execute_reply.started": "2023-08-23T19:11:29.762031Z"
    },
    "id": "5yOueowbBtmG",
    "outputId": "becb3968-b095-41f1-d231-119b10eabce1"
   },
   "outputs": [
    {
     "data": {
      "text/plain": [
       "L0801    10112\n",
       "L1001     7472\n",
       "L0201     6971\n",
       "L1701     6827\n",
       "L0401     5566\n",
       "L1201     5340\n",
       "L0301     5094\n",
       "L0901     2618\n",
       "Name: CREG_CODE, dtype: int64"
      ]
     },
     "execution_count": 137,
     "metadata": {},
     "output_type": "execute_result"
    }
   ],
   "source": [
    "data_test.CREG_CODE.value_counts()"
   ]
  },
  {
   "cell_type": "markdown",
   "metadata": {
    "id": "s0yS7ZhVBtmH"
   },
   "source": [
    "##### SCREENINGSTATUSFULL_CODE"
   ]
  },
  {
   "cell_type": "code",
   "execution_count": 138,
   "metadata": {
    "execution": {
     "iopub.execute_input": "2023-08-23T19:11:29.777887Z",
     "iopub.status.busy": "2023-08-23T19:11:29.777401Z",
     "iopub.status.idle": "2023-08-23T19:11:29.792267Z",
     "shell.execute_reply": "2023-08-23T19:11:29.790925Z",
     "shell.execute_reply.started": "2023-08-23T19:11:29.777853Z"
    },
    "id": "wcJoezZoBtmH",
    "outputId": "0bbb40c3-57ca-429a-e315-5b3df7ba1505"
   },
   "outputs": [
    {
     "data": {
      "text/plain": [
       "6001.0    5659\n",
       "6006.0    2751\n",
       "6012.0    2237\n",
       "7010.0    1631\n",
       "6013.0    1276\n",
       "7006.0     928\n",
       "6014.0     916\n",
       "6021.0     908\n",
       "7001.0     798\n",
       "6022.0     282\n",
       "7009.0      44\n",
       "7002.0      20\n",
       "6007.0      20\n",
       "7007.0      14\n",
       "6002.0      12\n",
       "7012.0      10\n",
       "7003.0       8\n",
       "6020.0       5\n",
       "1.0          4\n",
       "6008.0       3\n",
       "7008.0       3\n",
       "7005.0       2\n",
       "6015.0       1\n",
       "6009.0       1\n",
       "9.0          1\n",
       "Name: SCREENINGSTATUSFULL_CODE, dtype: int64"
      ]
     },
     "execution_count": 138,
     "metadata": {},
     "output_type": "execute_result"
    }
   ],
   "source": [
    "data_test.SCREENINGSTATUSFULL_CODE.value_counts()"
   ]
  },
  {
   "cell_type": "markdown",
   "metadata": {
    "id": "DVLMIiZrBtmI"
   },
   "source": [
    "##### 'ER_STATUS', 'ER_SCORE', 'PR_STATUS','PR_SCORE', 'HER2_STATUS'\n",
    "#####As theses markers are specific to breast cancer, and breast cancer ensure whether to use them in the model.\n",
    "####If these markers are used only those with a location code beginning with C50(Breast cancer) will have these."
   ]
  },
  {
   "cell_type": "code",
   "execution_count": 139,
   "metadata": {
    "execution": {
     "iopub.execute_input": "2023-08-23T19:11:29.794411Z",
     "iopub.status.busy": "2023-08-23T19:11:29.793902Z",
     "iopub.status.idle": "2023-08-23T19:11:29.810780Z",
     "shell.execute_reply": "2023-08-23T19:11:29.809573Z",
     "shell.execute_reply.started": "2023-08-23T19:11:29.794333Z"
    },
    "id": "WzbVG9IdBtmI",
    "outputId": "bb03f112-b96d-4de2-8e6f-4af3c735c91d"
   },
   "outputs": [
    {
     "data": {
      "text/plain": [
       "P     13015\n",
       "U      2488\n",
       "N      2286\n",
       "Pm       88\n",
       "X        19\n",
       "B        10\n",
       "Name: ER_STATUS, dtype: int64"
      ]
     },
     "execution_count": 139,
     "metadata": {},
     "output_type": "execute_result"
    }
   ],
   "source": [
    "data_test.ER_STATUS.value_counts()"
   ]
  },
  {
   "cell_type": "code",
   "execution_count": 140,
   "metadata": {
    "execution": {
     "iopub.execute_input": "2023-08-23T19:11:29.812732Z",
     "iopub.status.busy": "2023-08-23T19:11:29.812339Z",
     "iopub.status.idle": "2023-08-23T19:11:29.835119Z",
     "shell.execute_reply": "2023-08-23T19:11:29.833772Z",
     "shell.execute_reply.started": "2023-08-23T19:11:29.812702Z"
    },
    "id": "yxd7EjuzBtmI"
   },
   "outputs": [],
   "source": [
    "data_test.drop(['SCREENINGSTATUSFULL_CODE','ER_STATUS', 'ER_SCORE', 'PR_STATUS','PR_SCORE', 'HER2_STATUS'], axis=1, inplace=True)"
   ]
  },
  {
   "cell_type": "markdown",
   "metadata": {
    "id": "47pzB6-0BtmJ"
   },
   "source": [
    "##### CANCERCAREPLANINTENT\n",
    "9\tNot known   \n",
    "C\tCurative   \n",
    "X\tNo active treatment    \n",
    "Z\tNon Curative\n",
    "\n",
    "1. assume cm and zm is an entry error and recode them as C & Z respecively and recode"
   ]
  },
  {
   "cell_type": "code",
   "execution_count": 141,
   "metadata": {
    "execution": {
     "iopub.execute_input": "2023-08-23T19:11:29.837314Z",
     "iopub.status.busy": "2023-08-23T19:11:29.836817Z",
     "iopub.status.idle": "2023-08-23T19:11:29.849749Z",
     "shell.execute_reply": "2023-08-23T19:11:29.848443Z",
     "shell.execute_reply.started": "2023-08-23T19:11:29.837273Z"
    },
    "id": "MnZge-meBtmJ",
    "outputId": "62d9b5a4-46a6-4726-8df2-68d611ff6fa2"
   },
   "outputs": [
    {
     "data": {
      "text/plain": [
       "C     16607\n",
       "Z      5473\n",
       "9      2917\n",
       "X      1053\n",
       "Cm      283\n",
       "Zm       63\n",
       "Name: CANCERCAREPLANINTENT, dtype: int64"
      ]
     },
     "execution_count": 141,
     "metadata": {},
     "output_type": "execute_result"
    }
   ],
   "source": [
    "data_test.CANCERCAREPLANINTENT.value_counts()"
   ]
  },
  {
   "cell_type": "code",
   "execution_count": 142,
   "metadata": {
    "execution": {
     "iopub.execute_input": "2023-08-23T19:11:29.851887Z",
     "iopub.status.busy": "2023-08-23T19:11:29.851480Z",
     "iopub.status.idle": "2023-08-23T19:11:29.873963Z",
     "shell.execute_reply": "2023-08-23T19:11:29.872450Z",
     "shell.execute_reply.started": "2023-08-23T19:11:29.851856Z"
    },
    "id": "WvtQ-Ru9BtmJ"
   },
   "outputs": [],
   "source": [
    "data_test['CANCERCAREPLANINTENT'] = data_test['CANCERCAREPLANINTENT'].replace({'Cm': 'C', 'Zm':'Z'})"
   ]
  },
  {
   "cell_type": "code",
   "execution_count": 143,
   "metadata": {
    "execution": {
     "iopub.execute_input": "2023-08-23T19:11:29.875924Z",
     "iopub.status.busy": "2023-08-23T19:11:29.875525Z",
     "iopub.status.idle": "2023-08-23T19:11:29.888382Z",
     "shell.execute_reply": "2023-08-23T19:11:29.887014Z",
     "shell.execute_reply.started": "2023-08-23T19:11:29.875894Z"
    },
    "id": "6qFJameIBtmJ",
    "outputId": "619e8af7-db64-4e39-f3a6-759be9e1a6e8"
   },
   "outputs": [
    {
     "data": {
      "text/plain": [
       "C    16890\n",
       "Z     5536\n",
       "9     2917\n",
       "X     1053\n",
       "Name: CANCERCAREPLANINTENT, dtype: int64"
      ]
     },
     "execution_count": 143,
     "metadata": {},
     "output_type": "execute_result"
    }
   ],
   "source": [
    "data_test.CANCERCAREPLANINTENT.value_counts()"
   ]
  },
  {
   "cell_type": "code",
   "execution_count": 144,
   "metadata": {
    "execution": {
     "iopub.execute_input": "2023-08-23T19:11:29.890716Z",
     "iopub.status.busy": "2023-08-23T19:11:29.890338Z",
     "iopub.status.idle": "2023-08-23T19:11:29.902525Z",
     "shell.execute_reply": "2023-08-23T19:11:29.901451Z",
     "shell.execute_reply.started": "2023-08-23T19:11:29.890686Z"
    },
    "id": "XI-28dyFBtmK"
   },
   "outputs": [],
   "source": [
    "# fill null values with 9 which is not known\n",
    "data_test.loc[data_test['CANCERCAREPLANINTENT'].isnull(), 'CANCERCAREPLANINTENT'] = '9'"
   ]
  },
  {
   "cell_type": "markdown",
   "metadata": {
    "id": "5gIhC3buBtmK"
   },
   "source": [
    "##### PERFORMANCESTATUS\n",
    "\n",
    "Performance status.   \n",
    "0 = Able carry out all normal activity without restriction   \n",
    "1 = Restricted in physically strenuous activity, but able to walk and do light work   \n",
    "2 = Able to walk and capable of all self care, but unable to carry out any work. Up and about more than 50% of waking hours  \n",
    "3 = Capable of only limited self care, confined to bed or chair more than 50% of waking hours   \n",
    "4 = Completely disabled. Cannot carry on any self care. Totally confined to bed or chair  \n",
    "9 = Not recorded  \n",
    "1. make same assumption as cancercareplan.. recode"
   ]
  },
  {
   "cell_type": "code",
   "execution_count": 145,
   "metadata": {
    "execution": {
     "iopub.execute_input": "2023-08-23T19:11:29.904515Z",
     "iopub.status.busy": "2023-08-23T19:11:29.903659Z",
     "iopub.status.idle": "2023-08-23T19:11:29.929541Z",
     "shell.execute_reply": "2023-08-23T19:11:29.927657Z",
     "shell.execute_reply.started": "2023-08-23T19:11:29.904448Z"
    },
    "id": "VMHKjYQQBtmK",
    "outputId": "76d60452-3a60-4ecf-ecc5-767d44383ccf"
   },
   "outputs": [
    {
     "data": {
      "text/plain": [
       "0     9677\n",
       "1     5441\n",
       "9     3866\n",
       "2     2649\n",
       "3     2236\n",
       "4      655\n",
       "1m     335\n",
       "2m     189\n",
       "3m      99\n",
       "4m      27\n",
       "Name: PERFORMANCESTATUS, dtype: int64"
      ]
     },
     "execution_count": 145,
     "metadata": {},
     "output_type": "execute_result"
    }
   ],
   "source": [
    "data_test.PERFORMANCESTATUS.value_counts()"
   ]
  },
  {
   "cell_type": "code",
   "execution_count": 146,
   "metadata": {
    "execution": {
     "iopub.execute_input": "2023-08-23T19:11:29.932329Z",
     "iopub.status.busy": "2023-08-23T19:11:29.931433Z",
     "iopub.status.idle": "2023-08-23T19:11:29.965451Z",
     "shell.execute_reply": "2023-08-23T19:11:29.964199Z",
     "shell.execute_reply.started": "2023-08-23T19:11:29.932250Z"
    },
    "id": "Wlwyho2EBtmL",
    "outputId": "dbcc059f-3350-40a1-fa2c-38d70a32dec8"
   },
   "outputs": [
    {
     "data": {
      "text/plain": [
       "0    9677\n",
       "1    5776\n",
       "9    3866\n",
       "2    2838\n",
       "3    2335\n",
       "4     682\n",
       "Name: PERFORMANCESTATUS, dtype: int64"
      ]
     },
     "execution_count": 146,
     "metadata": {},
     "output_type": "execute_result"
    }
   ],
   "source": [
    "data_test['PERFORMANCESTATUS'] = (data_test['PERFORMANCESTATUS'].replace({'1m' :'1', '2m': '2', '3m': '3', '4m': '4'}))\n",
    "data_test.PERFORMANCESTATUS.value_counts()"
   ]
  },
  {
   "cell_type": "code",
   "execution_count": 147,
   "metadata": {
    "execution": {
     "iopub.execute_input": "2023-08-23T19:11:29.967093Z",
     "iopub.status.busy": "2023-08-23T19:11:29.966702Z",
     "iopub.status.idle": "2023-08-23T19:11:29.975996Z",
     "shell.execute_reply": "2023-08-23T19:11:29.975004Z",
     "shell.execute_reply.started": "2023-08-23T19:11:29.967016Z"
    },
    "id": "NfA3mK2WBtmL"
   },
   "outputs": [],
   "source": [
    "# fill null values with 9 which is Not recorded\n",
    "data_test.loc[data_test['PERFORMANCESTATUS'].isnull(), 'PERFORMANCESTATUS'] = '9'"
   ]
  },
  {
   "cell_type": "markdown",
   "metadata": {
    "id": "-tnFlTrZBtmL"
   },
   "source": [
    "##### CNS    \n",
    "Clinical Nurse Specialist"
   ]
  },
  {
   "cell_type": "code",
   "execution_count": 148,
   "metadata": {
    "execution": {
     "iopub.execute_input": "2023-08-23T19:11:29.977767Z",
     "iopub.status.busy": "2023-08-23T19:11:29.977267Z",
     "iopub.status.idle": "2023-08-23T19:11:29.995725Z",
     "shell.execute_reply": "2023-08-23T19:11:29.994682Z",
     "shell.execute_reply.started": "2023-08-23T19:11:29.977732Z"
    },
    "id": "UwEi-nNYBtmL",
    "outputId": "99e88ba3-0480-4543-a5eb-d37ad32b1a84"
   },
   "outputs": [
    {
     "data": {
      "text/plain": [
       "Y1     7752\n",
       "99     3449\n",
       "Y2     1154\n",
       "NI      339\n",
       "NN       99\n",
       "Y1m      86\n",
       "Y4       54\n",
       "Y3       17\n",
       "Y2m      12\n",
       "Y4m       2\n",
       "NIm       2\n",
       "Name: CNS, dtype: int64"
      ]
     },
     "execution_count": 148,
     "metadata": {},
     "output_type": "execute_result"
    }
   ],
   "source": [
    "data_test.CNS.value_counts()"
   ]
  },
  {
   "cell_type": "markdown",
   "metadata": {
    "id": "J4SIzlzzBtmL"
   },
   "source": [
    "##### ACE27\n",
    "Adult Comorbidity Evaluation 27    \n",
    "Valid comorbidity scores should be 0-3"
   ]
  },
  {
   "cell_type": "code",
   "execution_count": 149,
   "metadata": {
    "execution": {
     "iopub.execute_input": "2023-08-23T19:11:29.997784Z",
     "iopub.status.busy": "2023-08-23T19:11:29.997412Z",
     "iopub.status.idle": "2023-08-23T19:11:30.013956Z",
     "shell.execute_reply": "2023-08-23T19:11:30.012783Z",
     "shell.execute_reply.started": "2023-08-23T19:11:29.997753Z"
    },
    "id": "_5MMAvzwBtmM",
    "outputId": "13aab309-bd1b-4d72-9128-5cc910b34dbb"
   },
   "outputs": [
    {
     "data": {
      "text/plain": [
       "9     2572\n",
       "0     1928\n",
       "1      727\n",
       "2      510\n",
       "3      425\n",
       "1m      64\n",
       "2m      40\n",
       "3m      26\n",
       "Name: ACE27, dtype: int64"
      ]
     },
     "execution_count": 149,
     "metadata": {},
     "output_type": "execute_result"
    }
   ],
   "source": [
    "data_test.ACE27.value_counts()"
   ]
  },
  {
   "cell_type": "code",
   "execution_count": 150,
   "metadata": {
    "execution": {
     "iopub.execute_input": "2023-08-23T19:11:30.016009Z",
     "iopub.status.busy": "2023-08-23T19:11:30.015505Z",
     "iopub.status.idle": "2023-08-23T19:11:30.039261Z",
     "shell.execute_reply": "2023-08-23T19:11:30.037938Z",
     "shell.execute_reply.started": "2023-08-23T19:11:30.015974Z"
    },
    "id": "O3zYxNTaBtmM",
    "outputId": "0ced078d-a0f3-492e-ba1d-77a0c1bec5d8"
   },
   "outputs": [
    {
     "data": {
      "text/plain": [
       "9    2572\n",
       "0    1928\n",
       "1     791\n",
       "2     550\n",
       "3     451\n",
       "Name: ACE27, dtype: int64"
      ]
     },
     "execution_count": 150,
     "metadata": {},
     "output_type": "execute_result"
    }
   ],
   "source": [
    "data_test['ACE27'] = data_test['ACE27'].replace({'1m': '1', '2m':'2', '3m':'3'})\n",
    "data_test.ACE27.value_counts()"
   ]
  },
  {
   "cell_type": "markdown",
   "metadata": {
    "id": "I18M1a9LBtmM"
   },
   "source": [
    "##### Laterality\n",
    "No misssing value   \n",
    "9\tX NOT KNOWN    \n",
    "B\tBILATERAL     \n",
    "L\tLEFT     \n",
    "M\tMIDLINE      \n",
    "R\tRIGHT"
   ]
  },
  {
   "cell_type": "code",
   "execution_count": 151,
   "metadata": {
    "execution": {
     "iopub.execute_input": "2023-08-23T19:11:30.041319Z",
     "iopub.status.busy": "2023-08-23T19:11:30.040939Z",
     "iopub.status.idle": "2023-08-23T19:11:30.053759Z",
     "shell.execute_reply": "2023-08-23T19:11:30.052417Z",
     "shell.execute_reply.started": "2023-08-23T19:11:30.041287Z"
    },
    "id": "aSxiN84hBtmM",
    "outputId": "45f176dd-7081-4a14-f906-2420f844daaa"
   },
   "outputs": [
    {
     "data": {
      "text/plain": [
       "R    17813\n",
       "L    16382\n",
       "9    15625\n",
       "M      106\n",
       "B       74\n",
       "Name: LATERALITY, dtype: int64"
      ]
     },
     "execution_count": 151,
     "metadata": {},
     "output_type": "execute_result"
    }
   ],
   "source": [
    "data_test.LATERALITY.value_counts()"
   ]
  },
  {
   "cell_type": "markdown",
   "metadata": {
    "id": "F43y2VqrBtmN"
   },
   "source": [
    "##### quintile_2015\n",
    "Measure of deprivation at small area level made up from the income domain in 2015, quintiles are calculated from populations   \n",
    "no missing value\n",
    "                                        \n",
    "1 - least deprived   \n",
    "2  \n",
    "3     \n",
    "4                      \n",
    "5 - most deprived     "
   ]
  },
  {
   "cell_type": "code",
   "execution_count": 152,
   "metadata": {
    "execution": {
     "iopub.execute_input": "2023-08-23T19:11:30.055481Z",
     "iopub.status.busy": "2023-08-23T19:11:30.055045Z",
     "iopub.status.idle": "2023-08-23T19:11:30.072117Z",
     "shell.execute_reply": "2023-08-23T19:11:30.070643Z",
     "shell.execute_reply.started": "2023-08-23T19:11:30.055442Z"
    },
    "id": "oUa8w8ojBtmN",
    "outputId": "e0f97d1a-e68f-4852-ecaf-2328552eab42"
   },
   "outputs": [
    {
     "data": {
      "text/plain": [
       "2                     10697\n",
       "3                     10154\n",
       "1 - least deprived    10139\n",
       "4                      9631\n",
       "5 - most deprived      9379\n",
       "Name: QUINTILE_2015, dtype: int64"
      ]
     },
     "execution_count": 152,
     "metadata": {},
     "output_type": "execute_result"
    }
   ],
   "source": [
    "data_test.QUINTILE_2015.value_counts()"
   ]
  },
  {
   "cell_type": "code",
   "execution_count": 153,
   "metadata": {
    "execution": {
     "iopub.execute_input": "2023-08-23T19:11:30.074647Z",
     "iopub.status.busy": "2023-08-23T19:11:30.074161Z",
     "iopub.status.idle": "2023-08-23T19:11:30.107606Z",
     "shell.execute_reply": "2023-08-23T19:11:30.106330Z",
     "shell.execute_reply.started": "2023-08-23T19:11:30.074603Z"
    },
    "id": "x7dSPz7fBtmN",
    "outputId": "ff2d391e-8e32-48c6-fa6b-575385f03a83"
   },
   "outputs": [
    {
     "data": {
      "text/plain": [
       "2    10697\n",
       "3    10154\n",
       "1    10139\n",
       "4     9631\n",
       "5     9379\n",
       "Name: QUINTILE_2015, dtype: int64"
      ]
     },
     "execution_count": 153,
     "metadata": {},
     "output_type": "execute_result"
    }
   ],
   "source": [
    "# Extract numbers, this is an ordianal variable\n",
    "\n",
    "data_test['QUINTILE_2015'] = data_test['QUINTILE_2015'].apply(lambda x: x[:1])\n",
    "\n",
    "data_test.QUINTILE_2015.value_counts()"
   ]
  },
  {
   "cell_type": "markdown",
   "metadata": {
    "id": "vgvEq0_XcPdg"
   },
   "source": [
    "<a id='eda'></a>\n",
    "## Exploratory Data Analysis"
   ]
  },
  {
   "cell_type": "markdown",
   "metadata": {
    "id": "apeqWZuTcPdg"
   },
   "source": []
  },
  {
   "cell_type": "code",
   "execution_count": 154,
   "metadata": {
    "execution": {
     "iopub.execute_input": "2023-08-23T19:11:30.110717Z",
     "iopub.status.busy": "2023-08-23T19:11:30.109548Z",
     "iopub.status.idle": "2023-08-23T19:11:30.322014Z",
     "shell.execute_reply": "2023-08-23T19:11:30.320842Z",
     "shell.execute_reply.started": "2023-08-23T19:11:30.110671Z"
    },
    "id": "9WtS0Z6tcPdg"
   },
   "outputs": [
    {
     "name": "stdout",
     "output_type": "stream",
     "text": [
      "<class 'pandas.core.frame.DataFrame'>\n",
      "Int64Index: 83582 entries, 0 to 99999\n",
      "Data columns (total 24 columns):\n",
      " #   Column                Non-Null Count  Dtype  \n",
      "---  ------                --------------  -----  \n",
      " 0   PATIENTID             83582 non-null  int64  \n",
      " 1   ETHNICITY             81942 non-null  object \n",
      " 2   DEATHCAUSECODE_1A     83582 non-null  object \n",
      " 3   DEATHLOCATIONCODE     83582 non-null  object \n",
      " 4   NEWVITALSTATUS        83582 non-null  Int32  \n",
      " 5   VITALSTATUSDATE       83582 non-null  int64  \n",
      " 6   SEX                   83582 non-null  int64  \n",
      " 7   TUMOURID              83582 non-null  int64  \n",
      " 8   DIAGNOSISDATEBEST     83582 non-null  int64  \n",
      " 9   SITE_ICD10_O2         83582 non-null  object \n",
      " 10  MORPH_ICD10_O2        83559 non-null  float64\n",
      " 11  BEHAVIOUR_ICD10_O2    83559 non-null  object \n",
      " 12  T_BEST                74229 non-null  object \n",
      " 13  N_BEST                74106 non-null  object \n",
      " 14  M_BEST                66279 non-null  object \n",
      " 15  STAGE_BEST            83582 non-null  object \n",
      " 16  GRADE                 83559 non-null  object \n",
      " 17  AGE                   83582 non-null  int64  \n",
      " 18  CREG_CODE             83582 non-null  object \n",
      " 19  CANCERCAREPLANINTENT  83582 non-null  object \n",
      " 20  PERFORMANCESTATUS     83582 non-null  object \n",
      " 21  LATERALITY            83582 non-null  object \n",
      " 22  QUINTILE_2015         83582 non-null  object \n",
      " 23  SURGERYSTATUS         83582 non-null  int64  \n",
      "dtypes: Int32(1), float64(1), int64(7), object(15)\n",
      "memory usage: 15.7+ MB\n"
     ]
    }
   ],
   "source": [
    "data.info()"
   ]
  },
  {
   "cell_type": "code",
   "execution_count": 155,
   "metadata": {
    "execution": {
     "iopub.execute_input": "2023-08-23T19:11:30.323898Z",
     "iopub.status.busy": "2023-08-23T19:11:30.323490Z",
     "iopub.status.idle": "2023-08-23T19:11:30.524551Z",
     "shell.execute_reply": "2023-08-23T19:11:30.523389Z",
     "shell.execute_reply.started": "2023-08-23T19:11:30.323864Z"
    }
   },
   "outputs": [
    {
     "data": {
      "image/png": "[encoded data removed]",
      "text/plain": [
       "<Figure size 640x480 with 1 Axes>"
      ]
     },
     "metadata": {},
     "output_type": "display_data"
    }
   ],
   "source": [
    "# Class Distribution Visualization\n",
    "class_counts = data['NEWVITALSTATUS'].value_counts()\n",
    "class_counts.plot(kind='bar')\n",
    "plt.title('Class Distribution')\n",
    "plt.xlabel('Vital Status')\n",
    "plt.ylabel('Count')\n",
    "plt.show()"
   ]
  },
  {
   "cell_type": "code",
   "execution_count": 156,
   "metadata": {
    "execution": {
     "iopub.execute_input": "2023-08-23T19:11:30.526818Z",
     "iopub.status.busy": "2023-08-23T19:11:30.526351Z",
     "iopub.status.idle": "2023-08-23T19:11:30.741683Z",
     "shell.execute_reply": "2023-08-23T19:11:30.740655Z",
     "shell.execute_reply.started": "2023-08-23T19:11:30.526776Z"
    }
   },
   "outputs": [
    {
     "data": {
      "image/png": "[encoded data removed]",
      "text/plain": [
       "<Figure size 640x480 with 1 Axes>"
      ]
     },
     "metadata": {},
     "output_type": "display_data"
    }
   ],
   "source": [
    "# Top 5 Ethnicity Distribution\n",
    "top_ethnicities = data['ETHNICITY'].value_counts().head(5)\n",
    "top_ethnicities.plot(kind='bar')\n",
    "plt.title('Top 5 Ethnicity Distribution')\n",
    "plt.xlabel('Ethnicity')\n",
    "plt.ylabel('Count')\n",
    "plt.xticks(rotation=45)\n",
    "plt.show()\n"
   ]
  },
  {
   "cell_type": "code",
   "execution_count": 157,
   "metadata": {
    "execution": {
     "iopub.execute_input": "2023-08-23T19:11:30.743718Z",
     "iopub.status.busy": "2023-08-23T19:11:30.743268Z",
     "iopub.status.idle": "2023-08-23T19:11:30.857605Z",
     "shell.execute_reply": "2023-08-23T19:11:30.856467Z",
     "shell.execute_reply.started": "2023-08-23T19:11:30.743676Z"
    }
   },
   "outputs": [
    {
     "data": {
      "image/png": "[encoded data removed]",
      "text/plain": [
       "<Figure size 640x480 with 1 Axes>"
      ]
     },
     "metadata": {},
     "output_type": "display_data"
    }
   ],
   "source": [
    "# Sex Distribution as a Pie Chart\n",
    "sex_counts = data['SEX'].value_counts()\n",
    "sex_labels = ['Male', 'Female']  # You can adjust the labels as needed\n",
    "plt.pie(sex_counts, labels=sex_labels, autopct='%1.1f%%', startangle=90, colors=['blue', 'pink'])\n",
    "plt.title('Sex Distribution')\n",
    "plt.axis('equal')  # Equal aspect ratio ensures that pie is drawn as a circle.\n",
    "plt.show()"
   ]
  },
  {
   "cell_type": "code",
   "execution_count": 158,
   "metadata": {
    "execution": {
     "iopub.execute_input": "2023-08-23T19:11:30.860065Z",
     "iopub.status.busy": "2023-08-23T19:11:30.859219Z",
     "iopub.status.idle": "2023-08-23T19:11:30.897554Z",
     "shell.execute_reply": "2023-08-23T19:11:30.896381Z",
     "shell.execute_reply.started": "2023-08-23T19:11:30.859958Z"
    }
   },
   "outputs": [
    {
     "data": {
      "text/html": [
       "<div>\n",
       "<style scoped>\n",
       "    .dataframe tbody tr th:only-of-type {\n",
       "        vertical-align: middle;\n",
       "    }\n",
       "\n",
       "    .dataframe tbody tr th {\n",
       "        vertical-align: top;\n",
       "    }\n",
       "\n",
       "    .dataframe thead th {\n",
       "        text-align: right;\n",
       "    }\n",
       "</style>\n",
       "<table border=\"1\" class=\"dataframe\">\n",
       "  <thead>\n",
       "    <tr style=\"text-align: right;\">\n",
       "      <th></th>\n",
       "      <th>PATIENTID</th>\n",
       "      <th>ETHNICITY</th>\n",
       "      <th>DEATHCAUSECODE_1A</th>\n",
       "      <th>DEATHLOCATIONCODE</th>\n",
       "      <th>NEWVITALSTATUS</th>\n",
       "      <th>VITALSTATUSDATE</th>\n",
       "      <th>SEX</th>\n",
       "      <th>TUMOURID</th>\n",
       "      <th>DIAGNOSISDATEBEST</th>\n",
       "      <th>SITE_ICD10_O2</th>\n",
       "      <th>...</th>\n",
       "      <th>M_BEST</th>\n",
       "      <th>STAGE_BEST</th>\n",
       "      <th>GRADE</th>\n",
       "      <th>AGE</th>\n",
       "      <th>CREG_CODE</th>\n",
       "      <th>CANCERCAREPLANINTENT</th>\n",
       "      <th>PERFORMANCESTATUS</th>\n",
       "      <th>LATERALITY</th>\n",
       "      <th>QUINTILE_2015</th>\n",
       "      <th>SURGERYSTATUS</th>\n",
       "    </tr>\n",
       "  </thead>\n",
       "  <tbody>\n",
       "    <tr>\n",
       "      <th>0</th>\n",
       "      <td>20011904</td>\n",
       "      <td>R</td>\n",
       "      <td>A000</td>\n",
       "      <td>A</td>\n",
       "      <td>0</td>\n",
       "      <td>2019</td>\n",
       "      <td>2</td>\n",
       "      <td>20011904</td>\n",
       "      <td>2013</td>\n",
       "      <td>C503</td>\n",
       "      <td>...</td>\n",
       "      <td>NaN</td>\n",
       "      <td>2</td>\n",
       "      <td>G3</td>\n",
       "      <td>61</td>\n",
       "      <td>L0801</td>\n",
       "      <td>9</td>\n",
       "      <td>9</td>\n",
       "      <td>L</td>\n",
       "      <td>1</td>\n",
       "      <td>1</td>\n",
       "    </tr>\n",
       "    <tr>\n",
       "      <th>1</th>\n",
       "      <td>40016070</td>\n",
       "      <td>A</td>\n",
       "      <td>C349,J449</td>\n",
       "      <td>2</td>\n",
       "      <td>1</td>\n",
       "      <td>2017</td>\n",
       "      <td>2</td>\n",
       "      <td>40016070</td>\n",
       "      <td>2017</td>\n",
       "      <td>C340</td>\n",
       "      <td>...</td>\n",
       "      <td>1</td>\n",
       "      <td>4</td>\n",
       "      <td>GX</td>\n",
       "      <td>90</td>\n",
       "      <td>L1701</td>\n",
       "      <td>Z</td>\n",
       "      <td>1</td>\n",
       "      <td>R</td>\n",
       "      <td>5</td>\n",
       "      <td>0</td>\n",
       "    </tr>\n",
       "    <tr>\n",
       "      <th>2</th>\n",
       "      <td>20203163</td>\n",
       "      <td>A</td>\n",
       "      <td>A000</td>\n",
       "      <td>A</td>\n",
       "      <td>0</td>\n",
       "      <td>2019</td>\n",
       "      <td>2</td>\n",
       "      <td>20203163</td>\n",
       "      <td>2017</td>\n",
       "      <td>C502</td>\n",
       "      <td>...</td>\n",
       "      <td>0</td>\n",
       "      <td>1</td>\n",
       "      <td>G2</td>\n",
       "      <td>66</td>\n",
       "      <td>L0401</td>\n",
       "      <td>9</td>\n",
       "      <td>9</td>\n",
       "      <td>R</td>\n",
       "      <td>2</td>\n",
       "      <td>1</td>\n",
       "    </tr>\n",
       "    <tr>\n",
       "      <th>4</th>\n",
       "      <td>20051096</td>\n",
       "      <td>A</td>\n",
       "      <td>A000</td>\n",
       "      <td>A</td>\n",
       "      <td>0</td>\n",
       "      <td>2019</td>\n",
       "      <td>2</td>\n",
       "      <td>20051096</td>\n",
       "      <td>2015</td>\n",
       "      <td>C509</td>\n",
       "      <td>...</td>\n",
       "      <td>0</td>\n",
       "      <td>2</td>\n",
       "      <td>G2</td>\n",
       "      <td>68</td>\n",
       "      <td>L0901</td>\n",
       "      <td>C</td>\n",
       "      <td>0</td>\n",
       "      <td>L</td>\n",
       "      <td>3</td>\n",
       "      <td>1</td>\n",
       "    </tr>\n",
       "    <tr>\n",
       "      <th>5</th>\n",
       "      <td>20067811</td>\n",
       "      <td>A</td>\n",
       "      <td>A000</td>\n",
       "      <td>A</td>\n",
       "      <td>0</td>\n",
       "      <td>2019</td>\n",
       "      <td>2</td>\n",
       "      <td>20067811</td>\n",
       "      <td>2017</td>\n",
       "      <td>C504</td>\n",
       "      <td>...</td>\n",
       "      <td>0</td>\n",
       "      <td>2</td>\n",
       "      <td>G2</td>\n",
       "      <td>59</td>\n",
       "      <td>L0901</td>\n",
       "      <td>9</td>\n",
       "      <td>9</td>\n",
       "      <td>L</td>\n",
       "      <td>2</td>\n",
       "      <td>1</td>\n",
       "    </tr>\n",
       "  </tbody>\n",
       "</table>\n",
       "<p>5 rows × 24 columns</p>\n",
       "</div>"
      ],
      "text/plain": [
       "   PATIENTID ETHNICITY DEATHCAUSECODE_1A DEATHLOCATIONCODE  NEWVITALSTATUS  \\\n",
       "0   20011904         R              A000                 A               0   \n",
       "1   40016070         A         C349,J449                 2               1   \n",
       "2   20203163         A              A000                 A               0   \n",
       "4   20051096         A              A000                 A               0   \n",
       "5   20067811         A              A000                 A               0   \n",
       "\n",
       "   VITALSTATUSDATE  SEX  TUMOURID  DIAGNOSISDATEBEST SITE_ICD10_O2  ...  \\\n",
       "0             2019    2  20011904               2013          C503  ...   \n",
       "1             2017    2  40016070               2017          C340  ...   \n",
       "2             2019    2  20203163               2017          C502  ...   \n",
       "4             2019    2  20051096               2015          C509  ...   \n",
       "5             2019    2  20067811               2017          C504  ...   \n",
       "\n",
       "   M_BEST STAGE_BEST GRADE AGE CREG_CODE CANCERCAREPLANINTENT  \\\n",
       "0     NaN          2    G3  61     L0801                    9   \n",
       "1       1          4    GX  90     L1701                    Z   \n",
       "2       0          1    G2  66     L0401                    9   \n",
       "4       0          2    G2  68     L0901                    C   \n",
       "5       0          2    G2  59     L0901                    9   \n",
       "\n",
       "  PERFORMANCESTATUS  LATERALITY QUINTILE_2015 SURGERYSTATUS  \n",
       "0                 9           L             1             1  \n",
       "1                 1           R             5             0  \n",
       "2                 9           R             2             1  \n",
       "4                 0           L             3             1  \n",
       "5                 9           L             2             1  \n",
       "\n",
       "[5 rows x 24 columns]"
      ]
     },
     "execution_count": 158,
     "metadata": {},
     "output_type": "execute_result"
    }
   ],
   "source": [
    "data.head()"
   ]
  },
  {
   "cell_type": "code",
   "execution_count": 159,
   "metadata": {
    "execution": {
     "iopub.execute_input": "2023-08-23T19:11:30.900114Z",
     "iopub.status.busy": "2023-08-23T19:11:30.899382Z",
     "iopub.status.idle": "2023-08-23T19:11:31.309918Z",
     "shell.execute_reply": "2023-08-23T19:11:31.308656Z",
     "shell.execute_reply.started": "2023-08-23T19:11:30.900069Z"
    }
   },
   "outputs": [
    {
     "data": {
      "image/png": "[encoded data removed]",
      "text/plain": [
       "<Figure size 640x480 with 1 Axes>"
      ]
     },
     "metadata": {},
     "output_type": "display_data"
    }
   ],
   "source": [
    "# Age Distribution by Vital Status\n",
    "alive_data = data[data['NEWVITALSTATUS'] == 0]\n",
    "dead_data = data[data['NEWVITALSTATUS'] == 1]\n",
    "\n",
    "plt.hist(alive_data['AGE'], bins=20, alpha=0.5, label='Alive', color='blue')\n",
    "plt.hist(dead_data['AGE'], bins=20, alpha=0.5, label='Dead', color='red')\n",
    "plt.title('Age Distribution by Vital Status')\n",
    "plt.xlabel('Age')\n",
    "plt.ylabel('Count')\n",
    "plt.legend()\n",
    "plt.show()"
   ]
  },
  {
   "cell_type": "code",
   "execution_count": 160,
   "metadata": {
    "execution": {
     "iopub.execute_input": "2023-08-23T19:11:31.311733Z",
     "iopub.status.busy": "2023-08-23T19:11:31.311395Z",
     "iopub.status.idle": "2023-08-23T19:11:31.604568Z",
     "shell.execute_reply": "2023-08-23T19:11:31.603337Z",
     "shell.execute_reply.started": "2023-08-23T19:11:31.311703Z"
    }
   },
   "outputs": [
    {
     "data": {
      "image/png": "[encoded data removed]",
      "text/plain": [
       "<Figure size 640x480 with 1 Axes>"
      ]
     },
     "metadata": {},
     "output_type": "display_data"
    }
   ],
   "source": [
    "# Excluding Death Cause Code 'A000'\n",
    "filtered_data = data[data['DEATHCAUSECODE_1A'] != 'A000']\n",
    "top_death_cause_codes = filtered_data['DEATHCAUSECODE_1A'].value_counts().head(10)\n",
    "top_death_cause_codes.plot(kind='bar')\n",
    "plt.title('Top 5 Death Cause Codes (Excluding A000)')\n",
    "plt.xlabel('Death Cause Code')\n",
    "plt.ylabel('Count')\n",
    "plt.xticks(rotation=45)\n",
    "plt.show()"
   ]
  },
  {
   "cell_type": "code",
   "execution_count": 161,
   "metadata": {
    "execution": {
     "iopub.execute_input": "2023-08-23T19:11:31.606329Z",
     "iopub.status.busy": "2023-08-23T19:11:31.605977Z",
     "iopub.status.idle": "2023-08-23T19:11:31.897487Z",
     "shell.execute_reply": "2023-08-23T19:11:31.896603Z",
     "shell.execute_reply.started": "2023-08-23T19:11:31.606298Z"
    }
   },
   "outputs": [],
   "source": [
    "# Load the death location code descriptions from the Excel file\n",
    "lookup_tables = pd.read_excel('/kaggle/input/bip-cancer-technical-challenge/all_z_lookup_tables.xlsx', sheet_name='zdeathlocation')\n",
    "\n",
    "# Create a dictionary to map death location codes to descriptions\n",
    "death_location_dict = dict(zip(lookup_tables['ZDEATHLOCATIONID'], lookup_tables['SHORTDESC']))"
   ]
  },
  {
   "cell_type": "code",
   "execution_count": 162,
   "metadata": {
    "execution": {
     "iopub.execute_input": "2023-08-23T19:11:31.899398Z",
     "iopub.status.busy": "2023-08-23T19:11:31.898715Z",
     "iopub.status.idle": "2023-08-23T19:11:32.159676Z",
     "shell.execute_reply": "2023-08-23T19:11:32.158485Z",
     "shell.execute_reply.started": "2023-08-23T19:11:31.899366Z"
    }
   },
   "outputs": [
    {
     "data": {
      "image/png": "[encoded data removed]",
      "text/plain": [
       "<Figure size 640x480 with 1 Axes>"
      ]
     },
     "metadata": {},
     "output_type": "display_data"
    }
   ],
   "source": [
    "# Excluding specific death location codes\n",
    "excluded_codes = ['A']  # Add any codes you want to exclude here\n",
    "filtered_data = data[~data['DEATHLOCATIONCODE'].isin(excluded_codes)]\n",
    "\n",
    "# Top 5 Death Locations Visualization (excluding specified codes)\n",
    "top_death_locations = filtered_data['DEATHLOCATIONCODE'].value_counts().head(5)\n",
    "top_death_locations.plot(kind='bar')\n",
    "plt.title('Top 5 Death Locations (Excluding Specified Codes)')\n",
    "plt.xlabel('Death Location Code')\n",
    "plt.ylabel('Count')\n",
    "plt.xticks(rotation=45)\n",
    "plt.show()"
   ]
  },
  {
   "cell_type": "code",
   "execution_count": 163,
   "metadata": {
    "execution": {
     "iopub.execute_input": "2023-08-23T19:11:32.161855Z",
     "iopub.status.busy": "2023-08-23T19:11:32.161401Z",
     "iopub.status.idle": "2023-08-23T19:11:32.168321Z",
     "shell.execute_reply": "2023-08-23T19:11:32.167193Z",
     "shell.execute_reply.started": "2023-08-23T19:11:32.161814Z"
    }
   },
   "outputs": [
    {
     "name": "stdout",
     "output_type": "stream",
     "text": [
      "Interpretation: Top 5 Death Locations (Excluding Specified Codes) and Their Descriptions\n",
      "\n",
      "Death Location Code: 1\n",
      "Description: HOSPITAL\n",
      "Number of Deaths: 9968\n",
      "\n",
      "Death Location Code: 4\n",
      "Description: NURSING HOME\n",
      "Number of Deaths: 8392\n",
      "\n",
      "Death Location Code: 2\n",
      "Description: PRIVATE HOME\n",
      "Number of Deaths: 3131\n",
      "\n",
      "Death Location Code: X\n",
      "Description: UNKNOWN\n",
      "Number of Deaths: 2011\n",
      "\n",
      "Death Location Code: 5\n",
      "Description: OTHER\n",
      "Number of Deaths: 1003\n",
      "\n"
     ]
    }
   ],
   "source": [
    "# Interpretation\n",
    "print(\"Interpretation: Top 5 Death Locations (Excluding Specified Codes) and Their Descriptions\\n\")\n",
    "for code, count in top_death_locations.items():\n",
    "    location_description = death_location_dict.get(code, 'Description not available')\n",
    "    print(f\"Death Location Code: {code}\")\n",
    "    print(f\"Description: {location_description}\")\n",
    "    print(f\"Number of Deaths: {count}\\n\")"
   ]
  },
  {
   "cell_type": "code",
   "execution_count": 164,
   "metadata": {
    "execution": {
     "iopub.execute_input": "2023-08-23T19:11:32.170050Z",
     "iopub.status.busy": "2023-08-23T19:11:32.169639Z",
     "iopub.status.idle": "2023-08-23T19:11:32.484385Z",
     "shell.execute_reply": "2023-08-23T19:11:32.483496Z",
     "shell.execute_reply.started": "2023-08-23T19:11:32.170019Z"
    }
   },
   "outputs": [
    {
     "data": {
      "image/png": "[encoded data removed]",
      "text/plain": [
       "<Figure size 1000x600 with 1 Axes>"
      ]
     },
     "metadata": {},
     "output_type": "display_data"
    }
   ],
   "source": [
    "# Extract years from the Diagnosis Date column\n",
    "data['DIAGNOSISDATEBEST'] = data['DIAGNOSISDATEBEST']\n",
    "\n",
    "# Diagnosis Year Trend Visualization as a Line Chart\n",
    "diagnosis_year_counts = data['DIAGNOSISDATEBEST'].value_counts().sort_index()\n",
    "diagnosis_year_counts.plot(kind='line', marker='o', figsize=(10, 6))\n",
    "plt.title('Diagnosis Year Trend')\n",
    "plt.xlabel('Diagnosis Year')\n",
    "plt.ylabel('Count')\n",
    "plt.xticks(rotation=45)\n",
    "plt.show()"
   ]
  },
  {
   "cell_type": "code",
   "execution_count": 165,
   "metadata": {
    "execution": {
     "iopub.execute_input": "2023-08-23T19:11:32.486245Z",
     "iopub.status.busy": "2023-08-23T19:11:32.485665Z",
     "iopub.status.idle": "2023-08-23T19:11:32.797252Z",
     "shell.execute_reply": "2023-08-23T19:11:32.796173Z",
     "shell.execute_reply.started": "2023-08-23T19:11:32.486213Z"
    }
   },
   "outputs": [],
   "source": [
    "# Load stage descriptions from the Kaggle link\n",
    "stage_descriptions = pd.read_excel('/kaggle/input/bip-cancer-technical-challenge/all_z_lookup_tables.xlsx', sheet_name='zstage')\n",
    "stage_dict = dict(zip(stage_descriptions['ZSTAGEID'], stage_descriptions['SHORTDESC']))\n",
    "\n",
    "# Create a new DataFrame with stage and vital status information\n",
    "stage_vital_status = data[['STAGE_BEST', 'NEWVITALSTATUS']].copy()\n"
   ]
  },
  {
   "cell_type": "code",
   "execution_count": 166,
   "metadata": {
    "execution": {
     "iopub.execute_input": "2023-08-23T19:11:32.798920Z",
     "iopub.status.busy": "2023-08-23T19:11:32.798598Z",
     "iopub.status.idle": "2023-08-23T19:11:33.128830Z",
     "shell.execute_reply": "2023-08-23T19:11:33.127756Z",
     "shell.execute_reply.started": "2023-08-23T19:11:32.798894Z"
    }
   },
   "outputs": [
    {
     "data": {
      "image/png": "[encoded data removed]",
      "text/plain": [
       "<Figure size 1000x600 with 1 Axes>"
      ]
     },
     "metadata": {},
     "output_type": "display_data"
    }
   ],
   "source": [
    "# Group by stage and vital status, then count occurrences\n",
    "stage_vital_status_counts = stage_vital_status.groupby(['STAGE_BEST', 'NEWVITALSTATUS']).size().unstack()\n",
    "\n",
    "# Plot a stacked bar chart\n",
    "stage_vital_status_counts.plot(kind='bar', stacked=True, figsize=(10, 6))\n",
    "plt.title('Stage and Vital Status Distribution')\n",
    "plt.xlabel('Stage')\n",
    "plt.ylabel('Count')\n",
    "plt.xticks(rotation=45)\n",
    "plt.legend(title='Vital Status', labels=['Alive', 'Dead'])\n",
    "plt.show()"
   ]
  },
  {
   "cell_type": "code",
   "execution_count": 167,
   "metadata": {
    "execution": {
     "iopub.execute_input": "2023-08-23T19:11:33.130623Z",
     "iopub.status.busy": "2023-08-23T19:11:33.130289Z",
     "iopub.status.idle": "2023-08-23T19:11:33.147904Z",
     "shell.execute_reply": "2023-08-23T19:11:33.146631Z",
     "shell.execute_reply.started": "2023-08-23T19:11:33.130594Z"
    }
   },
   "outputs": [
    {
     "name": "stdout",
     "output_type": "stream",
     "text": [
      "Interpretation: Stage and Vital Status Distribution\n",
      "\n",
      "Stage: 0 - 0\n",
      "Alive: 141\n",
      "Dead: 5\n",
      "\n",
      "Stage: 1 - 1\n",
      "Alive: 21880\n",
      "Dead: 2137\n",
      "\n",
      "Stage: 2 - 2\n",
      "Alive: 19813\n",
      "Dead: 2114\n",
      "\n",
      "Stage: 3 - 3\n",
      "Alive: 9387\n",
      "Dead: 5167\n",
      "\n",
      "Stage: 4 - 4\n",
      "Alive: 3333\n",
      "Dead: 12846\n",
      "\n",
      "Stage: I - Description not available\n",
      "Alive: 3864\n",
      "Dead: 2676\n",
      "\n",
      "Stage: U - UNSTAGEABLE\n",
      "Alive: 176\n",
      "Dead: 43\n",
      "\n"
     ]
    }
   ],
   "source": [
    "# Interpretation\n",
    "print(\"Interpretation: Stage and Vital Status Distribution\\n\")\n",
    "for stage, row in stage_vital_status_counts.iterrows():\n",
    "    stage_description = stage_dict.get(stage, 'Description not available')\n",
    "    print(f\"Stage: {stage} - {stage_description}\")\n",
    "    print(f\"Alive: {row[0]}\")\n",
    "    print(f\"Dead: {row[1]}\\n\")"
   ]
  },
  {
   "cell_type": "code",
   "execution_count": 168,
   "metadata": {
    "execution": {
     "iopub.execute_input": "2023-08-23T19:11:33.150409Z",
     "iopub.status.busy": "2023-08-23T19:11:33.149562Z",
     "iopub.status.idle": "2023-08-23T19:11:33.287167Z",
     "shell.execute_reply": "2023-08-23T19:11:33.286183Z",
     "shell.execute_reply.started": "2023-08-23T19:11:33.150373Z"
    }
   },
   "outputs": [],
   "source": [
    "# Load behaviour descriptions from the Excel file\n",
    "behaviour_tables = pd.read_excel('/kaggle/input/bip-cancer-technical-challenge/all_z_lookup_tables.xlsx', sheet_name='zbehaviour')\n",
    "behaviour_dict = dict(zip(behaviour_tables['ZBEHAVIOURID'], behaviour_tables['SHORTDESC']))\n",
    "\n",
    "# Create a new DataFrame with BEHAVIOUR_ICD10_O2 and vital status information\n",
    "behaviour_vital_status = data[['BEHAVIOUR_ICD10_O2', 'NEWVITALSTATUS']].copy()"
   ]
  },
  {
   "cell_type": "code",
   "execution_count": 169,
   "metadata": {
    "execution": {
     "iopub.execute_input": "2023-08-23T19:11:33.288701Z",
     "iopub.status.busy": "2023-08-23T19:11:33.288374Z",
     "iopub.status.idle": "2023-08-23T19:11:33.576932Z",
     "shell.execute_reply": "2023-08-23T19:11:33.575729Z",
     "shell.execute_reply.started": "2023-08-23T19:11:33.288674Z"
    }
   },
   "outputs": [
    {
     "data": {
      "image/png": "[encoded data removed]",
      "text/plain": [
       "<Figure size 800x800 with 1 Axes>"
      ]
     },
     "metadata": {},
     "output_type": "display_data"
    }
   ],
   "source": [
    "# Create a new DataFrame with behaviour information\n",
    "behaviour_counts = data['BEHAVIOUR_ICD10_O2'].value_counts()\n",
    "\n",
    "# Plot a pie chart\n",
    "plt.figure(figsize=(8, 8))  # Adjust the figure size as needed\n",
    "plt.pie(behaviour_counts, labels=behaviour_counts.index, autopct='%1.1f%%', startangle=90, pctdistance=0.85)\n",
    "plt.title('Behaviour Distribution')\n",
    "plt.gca().add_artist(plt.Circle((0,0),0.70,fc='white'))  # Add a white circle to create a \"donut\" chart effect\n",
    "plt.axis('equal')  # Equal aspect ratio ensures that pie is drawn as a circle.\n",
    "\n",
    "# Create a legend with behaviour descriptions\n",
    "legend_labels = [f\"{label} - {behaviour_dict.get(label, 'Unknown')}\" for label in behaviour_counts.index]\n",
    "plt.legend(legend_labels, bbox_to_anchor=(1, 0.8), loc=\"upper left\")\n",
    "\n",
    "plt.show()"
   ]
  },
  {
   "cell_type": "code",
   "execution_count": 170,
   "metadata": {
    "execution": {
     "iopub.execute_input": "2023-08-23T19:11:33.579115Z",
     "iopub.status.busy": "2023-08-23T19:11:33.578652Z",
     "iopub.status.idle": "2023-08-23T19:11:33.586110Z",
     "shell.execute_reply": "2023-08-23T19:11:33.584770Z",
     "shell.execute_reply.started": "2023-08-23T19:11:33.579073Z"
    }
   },
   "outputs": [
    {
     "name": "stdout",
     "output_type": "stream",
     "text": [
      "Interpretation: Behaviour Distribution\n",
      "\n",
      "Behaviour: 3 - MALIGNANT\n",
      "Count: 83397\n",
      "\n",
      "Behaviour: 5 - MICRO-INVASIVE\n",
      "Count: 141\n",
      "\n",
      "Behaviour: X - UNKNOWN/INAPPLICABLE\n",
      "Count: 13\n",
      "\n",
      "Behaviour: 9 - MALIGNANT, UNCERTAIN WHETHER PRIMARY OR METASTATIC\n",
      "Count: 8\n",
      "\n"
     ]
    }
   ],
   "source": [
    "# Interpretation\n",
    "print(\"Interpretation: Behaviour Distribution\\n\")\n",
    "for behaviour, count in behaviour_counts.items():\n",
    "    behaviour_description = behaviour_dict.get(behaviour, 'Description not available')\n",
    "    print(f\"Behaviour: {behaviour} - {behaviour_description}\")\n",
    "    print(f\"Count: {count}\\n\")"
   ]
  },
  {
   "cell_type": "code",
   "execution_count": 200,
   "metadata": {
    "execution": {
     "iopub.execute_input": "2023-08-23T19:47:20.070698Z",
     "iopub.status.busy": "2023-08-23T19:47:20.070211Z",
     "iopub.status.idle": "2023-08-23T19:47:21.275269Z",
     "shell.execute_reply": "2023-08-23T19:47:21.274119Z",
     "shell.execute_reply.started": "2023-08-23T19:47:20.070656Z"
    }
   },
   "outputs": [
    {
     "data": {
      "image/png": "[encoded data removed]",
      "text/plain": [
       "<Figure size 1000x600 with 7 Axes>"
      ]
     },
     "metadata": {},
     "output_type": "display_data"
    }
   ],
   "source": [
    "import matplotlib.gridspec as gridspec\n",
    "\n",
    "# Create figure and subplots for the Dashboard\n",
    "fig, axs = plt.subplots(figsize=(50, 80), facecolor='#fafafa')\n",
    "\n",
    "# Create a gridspec layout with rows of varying heights\n",
    "gs = gridspec.GridSpec(3, 2, height_ratios=[2, 2, 2], hspace=0.5)  # Adjust height ratios as needed\n",
    "\n",
    "# Define subplots using gridspec layout\n",
    "axs = [\n",
    "    [fig.add_subplot(gs[0, 0]), fig.add_subplot(gs[0, 1])],\n",
    "    [fig.add_subplot(gs[1, 0]), fig.add_subplot(gs[1, 1])],\n",
    "    [fig.add_subplot(gs[2, 0]), fig.add_subplot(gs[2, 1])]\n",
    "]\n",
    "# Class Distribution Visualization\n",
    "axs[0][0].bar(class_counts.index, class_counts.values, color=['#9DF1BE', '#e8cccc'])\n",
    "axs[0][0].set_title('Class Distribution', fontsize=10, loc='left')\n",
    "axs[0][0].set_xlabel('Vital Status')\n",
    "axs[0][0].set_ylabel('Count')\n",
    "\n",
    "# Top 5 Ethnicity Distribution\n",
    "top_ethnicities.plot(kind='bar', ax=axs[0][1], color='#9DF1BE')\n",
    "axs[0][1].set_title('Top 5 Ethnicity Distribution', fontsize=10, loc='left')\n",
    "axs[0][1].set_xlabel('Ethnicity')\n",
    "# axs[0][1].set_ylabel('Count')\n",
    "axs[0][1].tick_params(axis='x', rotation=45)\n",
    "\n",
    "# Sex Distribution as a Pie Chart\n",
    "axs[1][0].pie(sex_counts, labels=sex_labels, autopct='%1.1f%%', startangle=90, colors=['#9DF1BE', 'pink'])\n",
    "axs[1][0].set_title('Sex Distribution', fontsize=10, loc='left')\n",
    "axs[1][0].axis('equal')\n",
    "\n",
    "# Age Distribution by Vital Status\n",
    "alive_data = data[data['NEWVITALSTATUS'] == 0]\n",
    "dead_data = data[data['NEWVITALSTATUS'] == 1]\n",
    "axs[1][1].hist(alive_data['AGE'], bins=20, alpha=0.5, label='Alive', color='#9DF1BE')\n",
    "axs[1][1].hist(dead_data['AGE'], bins=20, alpha=0.5, label='Dead', color='pink')\n",
    "axs[1][1].set_title('Age Distribution by Vital Status', fontsize=10, loc='left')\n",
    "axs[1][1].set_xlabel('Age')\n",
    "# axs[1][1].set_ylabel('Count')\n",
    "axs[1][1].legend()\n",
    "\n",
    "\n",
    "# Excluding specific death location codes\n",
    "excluded_codes = ['A']  # Add any codes you want to exclude here\n",
    "filtered_data = data[~data['DEATHLOCATIONCODE'].isin(excluded_codes)]\n",
    "top_death_locations = filtered_data['DEATHLOCATIONCODE'].value_counts().head(5)\n",
    "top_death_locations.plot(kind='bar', ax=axs[2][0], color='#9DF1BE')\n",
    "axs[2][0].set_title('Top 5 Death Locations (Excluding Specified Codes)', fontsize=10, loc='left')\n",
    "axs[2][0].set_xlabel('Death Location Code')\n",
    "# axs[2][0].set_ylabel('Count')\n",
    "axs[2][0].tick_params(axis='x', rotation=45)\n",
    "\n",
    "# Stage and Vital Status Distribution\n",
    "stage_vital_status_counts.plot(kind='bar', stacked=True, figsize=(10, 6), ax=axs[2][1], color=['#9DF1BE', '#e8cccc'])\n",
    "axs[2][1].set_title('Stage and Vital Status Distribution', fontsize=10, loc='left')\n",
    "axs[2][1].set_xlabel('Stage')\n",
    "# axs[2][1].set_ylabel('Count')\n",
    "axs[2][1].tick_params(axis='x', rotation=45)\n",
    "axs[2][1].legend(title='Vital Status', labels=['Alive', 'Dead'])\n",
    "\n",
    "\n",
    "# Adjust spacing between subplots\n",
    "fig.tight_layout()\n",
    "\n",
    "# Display the Dashboard\n",
    "plt.show()\n"
   ]
  },
  {
   "cell_type": "markdown",
   "metadata": {
    "id": "edqFu7gGddzS"
   },
   "source": [
    "# MODEL"
   ]
  },
  {
   "cell_type": "markdown",
   "metadata": {
    "id": "f8QB6q7MG4cW"
   },
   "source": [
    "### Model Preamble"
   ]
  },
  {
   "cell_type": "code",
   "execution_count": 172,
   "metadata": {
    "execution": {
     "iopub.execute_input": "2023-08-23T19:11:34.908199Z",
     "iopub.status.busy": "2023-08-23T19:11:34.907813Z",
     "iopub.status.idle": "2023-08-23T19:11:46.138788Z",
     "shell.execute_reply": "2023-08-23T19:11:46.137706Z",
     "shell.execute_reply.started": "2023-08-23T19:11:34.908166Z"
    },
    "id": "BuW0Po5tg9_5",
    "outputId": "477f6920-5e33-4d70-e7d3-a69b82c9bceb"
   },
   "outputs": [
    {
     "name": "stdout",
     "output_type": "stream",
     "text": [
      "Requirement already satisfied: category_encoders in /opt/conda/lib/python3.10/site-packages (2.6.1)\n",
      "Requirement already satisfied: numpy>=1.14.0 in /opt/conda/lib/python3.10/site-packages (from category_encoders) (1.23.5)\n",
      "Requirement already satisfied: scikit-learn>=0.20.0 in /opt/conda/lib/python3.10/site-packages (from category_encoders) (1.2.2)\n",
      "Requirement already satisfied: scipy>=1.0.0 in /opt/conda/lib/python3.10/site-packages (from category_encoders) (1.11.1)\n",
      "Requirement already satisfied: statsmodels>=0.9.0 in /opt/conda/lib/python3.10/site-packages (from category_encoders) (0.14.0)\n",
      "Requirement already satisfied: pandas>=1.0.5 in /opt/conda/lib/python3.10/site-packages (from category_encoders) (1.5.3)\n",
      "Requirement already satisfied: patsy>=0.5.1 in /opt/conda/lib/python3.10/site-packages (from category_encoders) (0.5.3)\n",
      "Requirement already satisfied: python-dateutil>=2.8.1 in /opt/conda/lib/python3.10/site-packages (from pandas>=1.0.5->category_encoders) (2.8.2)\n",
      "Requirement already satisfied: pytz>=2020.1 in /opt/conda/lib/python3.10/site-packages (from pandas>=1.0.5->category_encoders) (2023.3)\n",
      "Requirement already satisfied: six in /opt/conda/lib/python3.10/site-packages (from patsy>=0.5.1->category_encoders) (1.16.0)\n",
      "Requirement already satisfied: joblib>=1.1.1 in /opt/conda/lib/python3.10/site-packages (from scikit-learn>=0.20.0->category_encoders) (1.2.0)\n",
      "Requirement already satisfied: threadpoolctl>=2.0.0 in /opt/conda/lib/python3.10/site-packages (from scikit-learn>=0.20.0->category_encoders) (3.1.0)\n",
      "Requirement already satisfied: packaging>=21.3 in /opt/conda/lib/python3.10/site-packages (from statsmodels>=0.9.0->category_encoders) (21.3)\n",
      "Requirement already satisfied: pyparsing!=3.0.5,>=2.0.2 in /opt/conda/lib/python3.10/site-packages (from packaging>=21.3->statsmodels>=0.9.0->category_encoders) (3.0.9)\n"
     ]
    }
   ],
   "source": [
    "!pip install category_encoders"
   ]
  },
  {
   "cell_type": "code",
   "execution_count": 173,
   "metadata": {
    "execution": {
     "iopub.execute_input": "2023-08-23T19:11:46.140572Z",
     "iopub.status.busy": "2023-08-23T19:11:46.140219Z",
     "iopub.status.idle": "2023-08-23T19:11:46.355163Z",
     "shell.execute_reply": "2023-08-23T19:11:46.354057Z",
     "shell.execute_reply.started": "2023-08-23T19:11:46.140539Z"
    },
    "id": "9dYfKqvDdmYM"
   },
   "outputs": [],
   "source": [
    "from category_encoders import TargetEncoder\n",
    "from sklearn.preprocessing import StandardScaler, OneHotEncoder\n",
    "from sklearn.pipeline import Pipeline\n",
    "from sklearn.pipeline import make_pipeline\n",
    "from sklearn.compose import ColumnTransformer\n",
    "from sklearn.compose import make_column_transformer\n",
    "from sklearn.impute import SimpleImputer\n",
    "\n",
    "\n",
    "# from sklearn.model_selection import train_test_split, cross_val_score, KFold\n",
    "# from sklearn.metrics import accuracy_score, precision_score, recall_score, f1_score, confusion_matrix, classification_report\n",
    "from sklearn.model_selection import train_test_split, cross_val_predict\n",
    "from sklearn.feature_selection import RFECV"
   ]
  },
  {
   "cell_type": "code",
   "execution_count": 174,
   "metadata": {
    "execution": {
     "iopub.execute_input": "2023-08-23T19:11:46.356781Z",
     "iopub.status.busy": "2023-08-23T19:11:46.356423Z",
     "iopub.status.idle": "2023-08-23T19:11:46.366092Z",
     "shell.execute_reply": "2023-08-23T19:11:46.364861Z",
     "shell.execute_reply.started": "2023-08-23T19:11:46.356752Z"
    },
    "id": "8r8EdDP9yzDO",
    "outputId": "3276cc89-e65f-4166-9e75-ac5db7a149da"
   },
   "outputs": [
    {
     "data": {
      "text/plain": [
       "Index(['PATIENTID', 'ETHNICITY', 'DEATHCAUSECODE_1A', 'DEATHLOCATIONCODE',\n",
       "       'NEWVITALSTATUS', 'VITALSTATUSDATE', 'SEX', 'TUMOURID',\n",
       "       'DIAGNOSISDATEBEST', 'SITE_ICD10_O2', 'MORPH_ICD10_O2',\n",
       "       'BEHAVIOUR_ICD10_O2', 'T_BEST', 'N_BEST', 'M_BEST', 'STAGE_BEST',\n",
       "       'GRADE', 'AGE', 'CREG_CODE', 'CANCERCAREPLANINTENT',\n",
       "       'PERFORMANCESTATUS', 'LATERALITY', 'QUINTILE_2015', 'SURGERYSTATUS'],\n",
       "      dtype='object')"
      ]
     },
     "execution_count": 174,
     "metadata": {},
     "output_type": "execute_result"
    }
   ],
   "source": [
    "data.columns"
   ]
  },
  {
   "cell_type": "code",
   "execution_count": 175,
   "metadata": {
    "execution": {
     "iopub.execute_input": "2023-08-23T19:11:46.367992Z",
     "iopub.status.busy": "2023-08-23T19:11:46.367674Z",
     "iopub.status.idle": "2023-08-23T19:11:46.380473Z",
     "shell.execute_reply": "2023-08-23T19:11:46.378929Z",
     "shell.execute_reply.started": "2023-08-23T19:11:46.367965Z"
    }
   },
   "outputs": [
    {
     "data": {
      "text/plain": [
       "Index(['PATIENTID', 'ETHNICITY', 'DEATHCAUSECODE_1A', 'DEATHLOCATIONCODE',\n",
       "       'VITALSTATUSDATE', 'SEX', 'TUMOURID', 'DIAGNOSISDATEBEST',\n",
       "       'SITE_ICD10_O2', 'MORPH_ICD10_O2', 'BEHAVIOUR_ICD10_O2', 'T_BEST',\n",
       "       'N_BEST', 'M_BEST', 'STAGE_BEST', 'GRADE', 'AGE', 'CREG_CODE',\n",
       "       'CANCERCAREPLANINTENT', 'PERFORMANCESTATUS', 'CNS', 'ACE27',\n",
       "       'DATE_FIRST_SURGERY', 'LATERALITY', 'QUINTILE_2015', 'SURGERYSTATUS'],\n",
       "      dtype='object')"
      ]
     },
     "execution_count": 175,
     "metadata": {},
     "output_type": "execute_result"
    }
   ],
   "source": [
    "data_test.columns"
   ]
  },
  {
   "cell_type": "code",
   "execution_count": 176,
   "metadata": {
    "execution": {
     "iopub.execute_input": "2023-08-23T19:11:46.382751Z",
     "iopub.status.busy": "2023-08-23T19:11:46.382335Z",
     "iopub.status.idle": "2023-08-23T19:11:46.390742Z",
     "shell.execute_reply": "2023-08-23T19:11:46.389677Z",
     "shell.execute_reply.started": "2023-08-23T19:11:46.382719Z"
    },
    "id": "mpgv1wPcTsoT"
   },
   "outputs": [],
   "source": [
    "# Set random seed for reproducibility\n",
    "random_seed = 42\n",
    "np.random.seed(random_seed)"
   ]
  },
  {
   "cell_type": "code",
   "execution_count": 177,
   "metadata": {
    "execution": {
     "iopub.execute_input": "2023-08-23T19:11:46.392443Z",
     "iopub.status.busy": "2023-08-23T19:11:46.392087Z",
     "iopub.status.idle": "2023-08-23T19:11:46.418411Z",
     "shell.execute_reply": "2023-08-23T19:11:46.417157Z",
     "shell.execute_reply.started": "2023-08-23T19:11:46.392413Z"
    },
    "id": "xy3NsdAVIAyC"
   },
   "outputs": [],
   "source": [
    "#Splitting to INFORMATIVE AND TARGET , while dropping features like primary and foreign key\n",
    "X_train =data.drop(['PATIENTID','TUMOURID','T_BEST','DEATHCAUSECODE_1A','DEATHLOCATIONCODE','N_BEST','M_BEST','NEWVITALSTATUS','VITALSTATUSDATE'],axis=1)\n",
    "y_train = data['NEWVITALSTATUS']"
   ]
  },
  {
   "cell_type": "code",
   "execution_count": 178,
   "metadata": {
    "execution": {
     "iopub.execute_input": "2023-08-23T19:11:46.420428Z",
     "iopub.status.busy": "2023-08-23T19:11:46.420097Z",
     "iopub.status.idle": "2023-08-23T19:11:46.439052Z",
     "shell.execute_reply": "2023-08-23T19:11:46.435870Z",
     "shell.execute_reply.started": "2023-08-23T19:11:46.420401Z"
    },
    "id": "FlYUCWqJS6AN"
   },
   "outputs": [],
   "source": [
    "X_test =data_test.drop(['PATIENTID','TUMOURID','DEATHCAUSECODE_1A','T_BEST','N_BEST','M_BEST','VITALSTATUSDATE','CNS', 'ACE27',\n",
    "       'DATE_FIRST_SURGERY'],axis=1)"
   ]
  },
  {
   "cell_type": "code",
   "execution_count": 179,
   "metadata": {
    "execution": {
     "iopub.execute_input": "2023-08-23T19:11:46.442937Z",
     "iopub.status.busy": "2023-08-23T19:11:46.440552Z",
     "iopub.status.idle": "2023-08-23T19:11:46.448231Z",
     "shell.execute_reply": "2023-08-23T19:11:46.447081Z",
     "shell.execute_reply.started": "2023-08-23T19:11:46.442891Z"
    }
   },
   "outputs": [],
   "source": [
    "imputer = SimpleImputer(strategy='median')  \n",
    "imputer  = Pipeline(steps=[('imputer', imputer)])"
   ]
  },
  {
   "cell_type": "code",
   "execution_count": 180,
   "metadata": {
    "execution": {
     "iopub.execute_input": "2023-08-23T19:11:46.450100Z",
     "iopub.status.busy": "2023-08-23T19:11:46.449706Z",
     "iopub.status.idle": "2023-08-23T19:11:46.477671Z",
     "shell.execute_reply": "2023-08-23T19:11:46.476609Z",
     "shell.execute_reply.started": "2023-08-23T19:11:46.450063Z"
    }
   },
   "outputs": [],
   "source": [
    "#One hot Encoder for categorical columns\n",
    "cat_features = X_train.select_dtypes(exclude=['float', 'int']).columns.tolist()\n",
    "\n",
    "# Create a transformer for categorical features\n",
    "cat_transformer = make_pipeline(\n",
    "    OneHotEncoder(\n",
    "        sparse=False,\n",
    "        handle_unknown='infrequent_if_exist', min_frequency=0.01\n",
    "    )\n",
    ")"
   ]
  },
  {
   "cell_type": "code",
   "execution_count": 181,
   "metadata": {
    "execution": {
     "iopub.execute_input": "2023-08-23T19:11:46.479606Z",
     "iopub.status.busy": "2023-08-23T19:11:46.479251Z",
     "iopub.status.idle": "2023-08-23T19:11:46.485950Z",
     "shell.execute_reply": "2023-08-23T19:11:46.484826Z",
     "shell.execute_reply.started": "2023-08-23T19:11:46.479553Z"
    }
   },
   "outputs": [
    {
     "data": {
      "text/plain": [
       "['ETHNICITY',\n",
       " 'SITE_ICD10_O2',\n",
       " 'BEHAVIOUR_ICD10_O2',\n",
       " 'STAGE_BEST',\n",
       " 'GRADE',\n",
       " 'CREG_CODE',\n",
       " 'CANCERCAREPLANINTENT',\n",
       " 'PERFORMANCESTATUS',\n",
       " 'LATERALITY',\n",
       " 'QUINTILE_2015']"
      ]
     },
     "execution_count": 181,
     "metadata": {},
     "output_type": "execute_result"
    }
   ],
   "source": [
    "cat_features"
   ]
  },
  {
   "cell_type": "code",
   "execution_count": 182,
   "metadata": {
    "execution": {
     "iopub.execute_input": "2023-08-23T19:11:46.488057Z",
     "iopub.status.busy": "2023-08-23T19:11:46.487704Z",
     "iopub.status.idle": "2023-08-23T19:11:46.636057Z",
     "shell.execute_reply": "2023-08-23T19:11:46.634956Z",
     "shell.execute_reply.started": "2023-08-23T19:11:46.488014Z"
    }
   },
   "outputs": [
    {
     "name": "stdout",
     "output_type": "stream",
     "text": [
      "<class 'pandas.core.frame.DataFrame'>\n",
      "Int64Index: 83582 entries, 0 to 99999\n",
      "Data columns (total 15 columns):\n",
      " #   Column                Non-Null Count  Dtype  \n",
      "---  ------                --------------  -----  \n",
      " 0   ETHNICITY             81942 non-null  object \n",
      " 1   SEX                   83582 non-null  int64  \n",
      " 2   DIAGNOSISDATEBEST     83582 non-null  int64  \n",
      " 3   SITE_ICD10_O2         83582 non-null  object \n",
      " 4   MORPH_ICD10_O2        83559 non-null  float64\n",
      " 5   BEHAVIOUR_ICD10_O2    83559 non-null  object \n",
      " 6   STAGE_BEST            83582 non-null  object \n",
      " 7   GRADE                 83559 non-null  object \n",
      " 8   AGE                   83582 non-null  int64  \n",
      " 9   CREG_CODE             83582 non-null  object \n",
      " 10  CANCERCAREPLANINTENT  83582 non-null  object \n",
      " 11  PERFORMANCESTATUS     83582 non-null  object \n",
      " 12  LATERALITY            83582 non-null  object \n",
      " 13  QUINTILE_2015         83582 non-null  object \n",
      " 14  SURGERYSTATUS         83582 non-null  int64  \n",
      "dtypes: float64(1), int64(4), object(10)\n",
      "memory usage: 10.2+ MB\n"
     ]
    }
   ],
   "source": [
    "X_train.info()"
   ]
  },
  {
   "cell_type": "code",
   "execution_count": 183,
   "metadata": {
    "execution": {
     "iopub.execute_input": "2023-08-23T19:11:46.638051Z",
     "iopub.status.busy": "2023-08-23T19:11:46.637481Z",
     "iopub.status.idle": "2023-08-23T19:11:46.730323Z",
     "shell.execute_reply": "2023-08-23T19:11:46.729142Z",
     "shell.execute_reply.started": "2023-08-23T19:11:46.637924Z"
    }
   },
   "outputs": [],
   "source": [
    "# Convert all values in categorical columns to strings\n",
    "categorical_columns = [cat_features]\n",
    "for col in categorical_columns:\n",
    "    X_train[col] = X_train[col].astype(str)"
   ]
  },
  {
   "cell_type": "code",
   "execution_count": 184,
   "metadata": {
    "execution": {
     "iopub.execute_input": "2023-08-23T19:11:46.732336Z",
     "iopub.status.busy": "2023-08-23T19:11:46.731816Z",
     "iopub.status.idle": "2023-08-23T19:11:46.748352Z",
     "shell.execute_reply": "2023-08-23T19:11:46.747000Z",
     "shell.execute_reply.started": "2023-08-23T19:11:46.732293Z"
    }
   },
   "outputs": [
    {
     "data": {
      "text/html": [
       "<style>#sk-container-id-1 {color: black;background-color: white;}#sk-container-id-1 pre{padding: 0;}#sk-container-id-1 div.sk-toggleable {background-color: white;}#sk-container-id-1 label.sk-toggleable__label {cursor: pointer;display: block;width: 100%;margin-bottom: 0;padding: 0.3em;box-sizing: border-box;text-align: center;}#sk-container-id-1 label.sk-toggleable__label-arrow:before {content: \"▸\";float: left;margin-right: 0.25em;color: #696969;}#sk-container-id-1 label.sk-toggleable__label-arrow:hover:before {color: black;}#sk-container-id-1 div.sk-estimator:hover label.sk-toggleable__label-arrow:before {color: black;}#sk-container-id-1 div.sk-toggleable__content {max-height: 0;max-width: 0;overflow: hidden;text-align: left;background-color: #f0f8ff;}#sk-container-id-1 div.sk-toggleable__content pre {margin: 0.2em;color: black;border-radius: 0.25em;background-color: #f0f8ff;}#sk-container-id-1 input.sk-toggleable__control:checked~div.sk-toggleable__content {max-height: 200px;max-width: 100%;overflow: auto;}#sk-container-id-1 input.sk-toggleable__control:checked~label.sk-toggleable__label-arrow:before {content: \"▾\";}#sk-container-id-1 div.sk-estimator input.sk-toggleable__control:checked~label.sk-toggleable__label {background-color: #d4ebff;}#sk-container-id-1 div.sk-label input.sk-toggleable__control:checked~label.sk-toggleable__label {background-color: #d4ebff;}#sk-container-id-1 input.sk-hidden--visually {border: 0;clip: rect(1px 1px 1px 1px);clip: rect(1px, 1px, 1px, 1px);height: 1px;margin: -1px;overflow: hidden;padding: 0;position: absolute;width: 1px;}#sk-container-id-1 div.sk-estimator {font-family: monospace;background-color: #f0f8ff;border: 1px dotted black;border-radius: 0.25em;box-sizing: border-box;margin-bottom: 0.5em;}#sk-container-id-1 div.sk-estimator:hover {background-color: #d4ebff;}#sk-container-id-1 div.sk-parallel-item::after {content: \"\";width: 100%;border-bottom: 1px solid gray;flex-grow: 1;}#sk-container-id-1 div.sk-label:hover label.sk-toggleable__label {background-color: #d4ebff;}#sk-container-id-1 div.sk-serial::before {content: \"\";position: absolute;border-left: 1px solid gray;box-sizing: border-box;top: 0;bottom: 0;left: 50%;z-index: 0;}#sk-container-id-1 div.sk-serial {display: flex;flex-direction: column;align-items: center;background-color: white;padding-right: 0.2em;padding-left: 0.2em;position: relative;}#sk-container-id-1 div.sk-item {position: relative;z-index: 1;}#sk-container-id-1 div.sk-parallel {display: flex;align-items: stretch;justify-content: center;background-color: white;position: relative;}#sk-container-id-1 div.sk-item::before, #sk-container-id-1 div.sk-parallel-item::before {content: \"\";position: absolute;border-left: 1px solid gray;box-sizing: border-box;top: 0;bottom: 0;left: 50%;z-index: -1;}#sk-container-id-1 div.sk-parallel-item {display: flex;flex-direction: column;z-index: 1;position: relative;background-color: white;}#sk-container-id-1 div.sk-parallel-item:first-child::after {align-self: flex-end;width: 50%;}#sk-container-id-1 div.sk-parallel-item:last-child::after {align-self: flex-start;width: 50%;}#sk-container-id-1 div.sk-parallel-item:only-child::after {width: 0;}#sk-container-id-1 div.sk-dashed-wrapped {border: 1px dashed gray;margin: 0 0.4em 0.5em 0.4em;box-sizing: border-box;padding-bottom: 0.4em;background-color: white;}#sk-container-id-1 div.sk-label label {font-family: monospace;font-weight: bold;display: inline-block;line-height: 1.2em;}#sk-container-id-1 div.sk-label-container {text-align: center;}#sk-container-id-1 div.sk-container {/* jupyter's `normalize.less` sets `[hidden] { display: none; }` but bootstrap.min.css set `[hidden] { display: none !important; }` so we also need the `!important` here to be able to override the default hidden behavior on the sphinx rendered scikit-learn.org. See: https://github.com/scikit-learn/scikit-learn/issues/21755 */display: inline-block !important;position: relative;}#sk-container-id-1 div.sk-text-repr-fallback {display: none;}</style><div id=\"sk-container-id-1\" class=\"sk-top-container\"><div class=\"sk-text-repr-fallback\"><pre>Pipeline(steps=[(&#x27;simpleimputer&#x27;, SimpleImputer()),\n",
       "                (&#x27;standardscaler&#x27;, StandardScaler())])</pre><b>In a Jupyter environment, please rerun this cell to show the HTML representation or trust the notebook. <br />On GitHub, the HTML representation is unable to render, please try loading this page with nbviewer.org.</b></div><div class=\"sk-container\" hidden><div class=\"sk-item sk-dashed-wrapped\"><div class=\"sk-label-container\"><div class=\"sk-label sk-toggleable\"><input class=\"sk-toggleable__control sk-hidden--visually\" id=\"sk-estimator-id-1\" type=\"checkbox\" ><label for=\"sk-estimator-id-1\" class=\"sk-toggleable__label sk-toggleable__label-arrow\">Pipeline</label><div class=\"sk-toggleable__content\"><pre>Pipeline(steps=[(&#x27;simpleimputer&#x27;, SimpleImputer()),\n",
       "                (&#x27;standardscaler&#x27;, StandardScaler())])</pre></div></div></div><div class=\"sk-serial\"><div class=\"sk-item\"><div class=\"sk-estimator sk-toggleable\"><input class=\"sk-toggleable__control sk-hidden--visually\" id=\"sk-estimator-id-2\" type=\"checkbox\" ><label for=\"sk-estimator-id-2\" class=\"sk-toggleable__label sk-toggleable__label-arrow\">SimpleImputer</label><div class=\"sk-toggleable__content\"><pre>SimpleImputer()</pre></div></div></div><div class=\"sk-item\"><div class=\"sk-estimator sk-toggleable\"><input class=\"sk-toggleable__control sk-hidden--visually\" id=\"sk-estimator-id-3\" type=\"checkbox\" ><label for=\"sk-estimator-id-3\" class=\"sk-toggleable__label sk-toggleable__label-arrow\">StandardScaler</label><div class=\"sk-toggleable__content\"><pre>StandardScaler()</pre></div></div></div></div></div></div></div>"
      ],
      "text/plain": [
       "Pipeline(steps=[('simpleimputer', SimpleImputer()),\n",
       "                ('standardscaler', StandardScaler())])"
      ]
     },
     "execution_count": 184,
     "metadata": {},
     "output_type": "execute_result"
    }
   ],
   "source": [
    "#setting up a pipeline for scaling the numerical features\n",
    "numeric_features = X_train.select_dtypes(exclude=['bool', 'object']).columns.tolist()\n",
    "numeric_transformer = make_pipeline(\n",
    "    SimpleImputer(strategy='mean'),\n",
    "    StandardScaler()\n",
    "    \n",
    ").set_output(transform='pandas')\n",
    "numeric_transformer"
   ]
  },
  {
   "cell_type": "code",
   "execution_count": 185,
   "metadata": {
    "execution": {
     "iopub.execute_input": "2023-08-23T19:11:46.750846Z",
     "iopub.status.busy": "2023-08-23T19:11:46.750325Z",
     "iopub.status.idle": "2023-08-23T19:11:46.785858Z",
     "shell.execute_reply": "2023-08-23T19:11:46.784597Z",
     "shell.execute_reply.started": "2023-08-23T19:11:46.750799Z"
    },
    "id": "cgO15HWlz4ux",
    "outputId": "b8902729-0dbe-493d-ee64-da77d3fbdd3e"
   },
   "outputs": [
    {
     "data": {
      "text/html": [
       "<style>#sk-container-id-2 {color: black;background-color: white;}#sk-container-id-2 pre{padding: 0;}#sk-container-id-2 div.sk-toggleable {background-color: white;}#sk-container-id-2 label.sk-toggleable__label {cursor: pointer;display: block;width: 100%;margin-bottom: 0;padding: 0.3em;box-sizing: border-box;text-align: center;}#sk-container-id-2 label.sk-toggleable__label-arrow:before {content: \"▸\";float: left;margin-right: 0.25em;color: #696969;}#sk-container-id-2 label.sk-toggleable__label-arrow:hover:before {color: black;}#sk-container-id-2 div.sk-estimator:hover label.sk-toggleable__label-arrow:before {color: black;}#sk-container-id-2 div.sk-toggleable__content {max-height: 0;max-width: 0;overflow: hidden;text-align: left;background-color: #f0f8ff;}#sk-container-id-2 div.sk-toggleable__content pre {margin: 0.2em;color: black;border-radius: 0.25em;background-color: #f0f8ff;}#sk-container-id-2 input.sk-toggleable__control:checked~div.sk-toggleable__content {max-height: 200px;max-width: 100%;overflow: auto;}#sk-container-id-2 input.sk-toggleable__control:checked~label.sk-toggleable__label-arrow:before {content: \"▾\";}#sk-container-id-2 div.sk-estimator input.sk-toggleable__control:checked~label.sk-toggleable__label {background-color: #d4ebff;}#sk-container-id-2 div.sk-label input.sk-toggleable__control:checked~label.sk-toggleable__label {background-color: #d4ebff;}#sk-container-id-2 input.sk-hidden--visually {border: 0;clip: rect(1px 1px 1px 1px);clip: rect(1px, 1px, 1px, 1px);height: 1px;margin: -1px;overflow: hidden;padding: 0;position: absolute;width: 1px;}#sk-container-id-2 div.sk-estimator {font-family: monospace;background-color: #f0f8ff;border: 1px dotted black;border-radius: 0.25em;box-sizing: border-box;margin-bottom: 0.5em;}#sk-container-id-2 div.sk-estimator:hover {background-color: #d4ebff;}#sk-container-id-2 div.sk-parallel-item::after {content: \"\";width: 100%;border-bottom: 1px solid gray;flex-grow: 1;}#sk-container-id-2 div.sk-label:hover label.sk-toggleable__label {background-color: #d4ebff;}#sk-container-id-2 div.sk-serial::before {content: \"\";position: absolute;border-left: 1px solid gray;box-sizing: border-box;top: 0;bottom: 0;left: 50%;z-index: 0;}#sk-container-id-2 div.sk-serial {display: flex;flex-direction: column;align-items: center;background-color: white;padding-right: 0.2em;padding-left: 0.2em;position: relative;}#sk-container-id-2 div.sk-item {position: relative;z-index: 1;}#sk-container-id-2 div.sk-parallel {display: flex;align-items: stretch;justify-content: center;background-color: white;position: relative;}#sk-container-id-2 div.sk-item::before, #sk-container-id-2 div.sk-parallel-item::before {content: \"\";position: absolute;border-left: 1px solid gray;box-sizing: border-box;top: 0;bottom: 0;left: 50%;z-index: -1;}#sk-container-id-2 div.sk-parallel-item {display: flex;flex-direction: column;z-index: 1;position: relative;background-color: white;}#sk-container-id-2 div.sk-parallel-item:first-child::after {align-self: flex-end;width: 50%;}#sk-container-id-2 div.sk-parallel-item:last-child::after {align-self: flex-start;width: 50%;}#sk-container-id-2 div.sk-parallel-item:only-child::after {width: 0;}#sk-container-id-2 div.sk-dashed-wrapped {border: 1px dashed gray;margin: 0 0.4em 0.5em 0.4em;box-sizing: border-box;padding-bottom: 0.4em;background-color: white;}#sk-container-id-2 div.sk-label label {font-family: monospace;font-weight: bold;display: inline-block;line-height: 1.2em;}#sk-container-id-2 div.sk-label-container {text-align: center;}#sk-container-id-2 div.sk-container {/* jupyter's `normalize.less` sets `[hidden] { display: none; }` but bootstrap.min.css set `[hidden] { display: none !important; }` so we also need the `!important` here to be able to override the default hidden behavior on the sphinx rendered scikit-learn.org. See: https://github.com/scikit-learn/scikit-learn/issues/21755 */display: inline-block !important;position: relative;}#sk-container-id-2 div.sk-text-repr-fallback {display: none;}</style><div id=\"sk-container-id-2\" class=\"sk-top-container\"><div class=\"sk-text-repr-fallback\"><pre>ColumnTransformer(remainder=&#x27;passthrough&#x27;,\n",
       "                  transformers=[(&#x27;cat&#x27;,\n",
       "                                 Pipeline(steps=[(&#x27;onehotencoder&#x27;,\n",
       "                                                  OneHotEncoder(handle_unknown=&#x27;infrequent_if_exist&#x27;,\n",
       "                                                                min_frequency=0.01,\n",
       "                                                                sparse=False))]),\n",
       "                                 [&#x27;ETHNICITY&#x27;, &#x27;SITE_ICD10_O2&#x27;,\n",
       "                                  &#x27;BEHAVIOUR_ICD10_O2&#x27;, &#x27;STAGE_BEST&#x27;, &#x27;GRADE&#x27;,\n",
       "                                  &#x27;CREG_CODE&#x27;, &#x27;CANCERCAREPLANINTENT&#x27;,\n",
       "                                  &#x27;PERFORMANCESTATUS&#x27;, &#x27;LATERALITY&#x27;,\n",
       "                                  &#x27;QUINTILE_2015&#x27;]),\n",
       "                                (&#x27;num&#x27;,\n",
       "                                 Pipeline(steps=[(&#x27;simpleimputer&#x27;,\n",
       "                                                  SimpleImputer()),\n",
       "                                                 (&#x27;standardscaler&#x27;,\n",
       "                                                  StandardScaler())]),\n",
       "                                 [&#x27;SEX&#x27;, &#x27;DIAGNOSISDATEBEST&#x27;, &#x27;MORPH_ICD10_O2&#x27;,\n",
       "                                  &#x27;AGE&#x27;, &#x27;SURGERYSTATUS&#x27;])])</pre><b>In a Jupyter environment, please rerun this cell to show the HTML representation or trust the notebook. <br />On GitHub, the HTML representation is unable to render, please try loading this page with nbviewer.org.</b></div><div class=\"sk-container\" hidden><div class=\"sk-item sk-dashed-wrapped\"><div class=\"sk-label-container\"><div class=\"sk-label sk-toggleable\"><input class=\"sk-toggleable__control sk-hidden--visually\" id=\"sk-estimator-id-4\" type=\"checkbox\" ><label for=\"sk-estimator-id-4\" class=\"sk-toggleable__label sk-toggleable__label-arrow\">ColumnTransformer</label><div class=\"sk-toggleable__content\"><pre>ColumnTransformer(remainder=&#x27;passthrough&#x27;,\n",
       "                  transformers=[(&#x27;cat&#x27;,\n",
       "                                 Pipeline(steps=[(&#x27;onehotencoder&#x27;,\n",
       "                                                  OneHotEncoder(handle_unknown=&#x27;infrequent_if_exist&#x27;,\n",
       "                                                                min_frequency=0.01,\n",
       "                                                                sparse=False))]),\n",
       "                                 [&#x27;ETHNICITY&#x27;, &#x27;SITE_ICD10_O2&#x27;,\n",
       "                                  &#x27;BEHAVIOUR_ICD10_O2&#x27;, &#x27;STAGE_BEST&#x27;, &#x27;GRADE&#x27;,\n",
       "                                  &#x27;CREG_CODE&#x27;, &#x27;CANCERCAREPLANINTENT&#x27;,\n",
       "                                  &#x27;PERFORMANCESTATUS&#x27;, &#x27;LATERALITY&#x27;,\n",
       "                                  &#x27;QUINTILE_2015&#x27;]),\n",
       "                                (&#x27;num&#x27;,\n",
       "                                 Pipeline(steps=[(&#x27;simpleimputer&#x27;,\n",
       "                                                  SimpleImputer()),\n",
       "                                                 (&#x27;standardscaler&#x27;,\n",
       "                                                  StandardScaler())]),\n",
       "                                 [&#x27;SEX&#x27;, &#x27;DIAGNOSISDATEBEST&#x27;, &#x27;MORPH_ICD10_O2&#x27;,\n",
       "                                  &#x27;AGE&#x27;, &#x27;SURGERYSTATUS&#x27;])])</pre></div></div></div><div class=\"sk-parallel\"><div class=\"sk-parallel-item\"><div class=\"sk-item\"><div class=\"sk-label-container\"><div class=\"sk-label sk-toggleable\"><input class=\"sk-toggleable__control sk-hidden--visually\" id=\"sk-estimator-id-5\" type=\"checkbox\" ><label for=\"sk-estimator-id-5\" class=\"sk-toggleable__label sk-toggleable__label-arrow\">cat</label><div class=\"sk-toggleable__content\"><pre>[&#x27;ETHNICITY&#x27;, &#x27;SITE_ICD10_O2&#x27;, &#x27;BEHAVIOUR_ICD10_O2&#x27;, &#x27;STAGE_BEST&#x27;, &#x27;GRADE&#x27;, &#x27;CREG_CODE&#x27;, &#x27;CANCERCAREPLANINTENT&#x27;, &#x27;PERFORMANCESTATUS&#x27;, &#x27;LATERALITY&#x27;, &#x27;QUINTILE_2015&#x27;]</pre></div></div></div><div class=\"sk-serial\"><div class=\"sk-item\"><div class=\"sk-serial\"><div class=\"sk-item\"><div class=\"sk-estimator sk-toggleable\"><input class=\"sk-toggleable__control sk-hidden--visually\" id=\"sk-estimator-id-6\" type=\"checkbox\" ><label for=\"sk-estimator-id-6\" class=\"sk-toggleable__label sk-toggleable__label-arrow\">OneHotEncoder</label><div class=\"sk-toggleable__content\"><pre>OneHotEncoder(handle_unknown=&#x27;infrequent_if_exist&#x27;, min_frequency=0.01,\n",
       "              sparse=False)</pre></div></div></div></div></div></div></div></div><div class=\"sk-parallel-item\"><div class=\"sk-item\"><div class=\"sk-label-container\"><div class=\"sk-label sk-toggleable\"><input class=\"sk-toggleable__control sk-hidden--visually\" id=\"sk-estimator-id-7\" type=\"checkbox\" ><label for=\"sk-estimator-id-7\" class=\"sk-toggleable__label sk-toggleable__label-arrow\">num</label><div class=\"sk-toggleable__content\"><pre>[&#x27;SEX&#x27;, &#x27;DIAGNOSISDATEBEST&#x27;, &#x27;MORPH_ICD10_O2&#x27;, &#x27;AGE&#x27;, &#x27;SURGERYSTATUS&#x27;]</pre></div></div></div><div class=\"sk-serial\"><div class=\"sk-item\"><div class=\"sk-serial\"><div class=\"sk-item\"><div class=\"sk-estimator sk-toggleable\"><input class=\"sk-toggleable__control sk-hidden--visually\" id=\"sk-estimator-id-8\" type=\"checkbox\" ><label for=\"sk-estimator-id-8\" class=\"sk-toggleable__label sk-toggleable__label-arrow\">SimpleImputer</label><div class=\"sk-toggleable__content\"><pre>SimpleImputer()</pre></div></div></div><div class=\"sk-item\"><div class=\"sk-estimator sk-toggleable\"><input class=\"sk-toggleable__control sk-hidden--visually\" id=\"sk-estimator-id-9\" type=\"checkbox\" ><label for=\"sk-estimator-id-9\" class=\"sk-toggleable__label sk-toggleable__label-arrow\">StandardScaler</label><div class=\"sk-toggleable__content\"><pre>StandardScaler()</pre></div></div></div></div></div></div></div></div><div class=\"sk-parallel-item\"><div class=\"sk-item\"><div class=\"sk-label-container\"><div class=\"sk-label sk-toggleable\"><input class=\"sk-toggleable__control sk-hidden--visually\" id=\"sk-estimator-id-10\" type=\"checkbox\" ><label for=\"sk-estimator-id-10\" class=\"sk-toggleable__label sk-toggleable__label-arrow\">remainder</label><div class=\"sk-toggleable__content\"><pre></pre></div></div></div><div class=\"sk-serial\"><div class=\"sk-item\"><div class=\"sk-estimator sk-toggleable\"><input class=\"sk-toggleable__control sk-hidden--visually\" id=\"sk-estimator-id-11\" type=\"checkbox\" ><label for=\"sk-estimator-id-11\" class=\"sk-toggleable__label sk-toggleable__label-arrow\">passthrough</label><div class=\"sk-toggleable__content\"><pre>passthrough</pre></div></div></div></div></div></div></div></div></div></div>"
      ],
      "text/plain": [
       "ColumnTransformer(remainder='passthrough',\n",
       "                  transformers=[('cat',\n",
       "                                 Pipeline(steps=[('onehotencoder',\n",
       "                                                  OneHotEncoder(handle_unknown='infrequent_if_exist',\n",
       "                                                                min_frequency=0.01,\n",
       "                                                                sparse=False))]),\n",
       "                                 ['ETHNICITY', 'SITE_ICD10_O2',\n",
       "                                  'BEHAVIOUR_ICD10_O2', 'STAGE_BEST', 'GRADE',\n",
       "                                  'CREG_CODE', 'CANCERCAREPLANINTENT',\n",
       "                                  'PERFORMANCESTATUS', 'LATERALITY',\n",
       "                                  'QUINTILE_2015']),\n",
       "                                ('num',\n",
       "                                 Pipeline(steps=[('simpleimputer',\n",
       "                                                  SimpleImputer()),\n",
       "                                                 ('standardscaler',\n",
       "                                                  StandardScaler())]),\n",
       "                                 ['SEX', 'DIAGNOSISDATEBEST', 'MORPH_ICD10_O2',\n",
       "                                  'AGE', 'SURGERYSTATUS'])])"
      ]
     },
     "execution_count": 185,
     "metadata": {},
     "output_type": "execute_result"
    }
   ],
   "source": [
    "preprocessor = ColumnTransformer(\n",
    "    transformers=[\n",
    "        ('cat', cat_transformer, cat_features),\n",
    "        (\"num\", numeric_transformer,numeric_features)\n",
    "    ],\n",
    "    remainder=\"passthrough\"\n",
    ").set_output(transform='pandas')\n",
    "preprocessor"
   ]
  },
  {
   "cell_type": "code",
   "execution_count": 186,
   "metadata": {
    "execution": {
     "iopub.execute_input": "2023-08-23T19:11:46.788025Z",
     "iopub.status.busy": "2023-08-23T19:11:46.787435Z",
     "iopub.status.idle": "2023-08-23T19:11:46.808941Z",
     "shell.execute_reply": "2023-08-23T19:11:46.807688Z",
     "shell.execute_reply.started": "2023-08-23T19:11:46.787935Z"
    }
   },
   "outputs": [
    {
     "data": {
      "text/html": [
       "<div>\n",
       "<style scoped>\n",
       "    .dataframe tbody tr th:only-of-type {\n",
       "        vertical-align: middle;\n",
       "    }\n",
       "\n",
       "    .dataframe tbody tr th {\n",
       "        vertical-align: top;\n",
       "    }\n",
       "\n",
       "    .dataframe thead th {\n",
       "        text-align: right;\n",
       "    }\n",
       "</style>\n",
       "<table border=\"1\" class=\"dataframe\">\n",
       "  <thead>\n",
       "    <tr style=\"text-align: right;\">\n",
       "      <th></th>\n",
       "      <th>ETHNICITY</th>\n",
       "      <th>SEX</th>\n",
       "      <th>DIAGNOSISDATEBEST</th>\n",
       "      <th>SITE_ICD10_O2</th>\n",
       "      <th>MORPH_ICD10_O2</th>\n",
       "      <th>BEHAVIOUR_ICD10_O2</th>\n",
       "      <th>STAGE_BEST</th>\n",
       "      <th>GRADE</th>\n",
       "      <th>AGE</th>\n",
       "      <th>CREG_CODE</th>\n",
       "      <th>CANCERCAREPLANINTENT</th>\n",
       "      <th>PERFORMANCESTATUS</th>\n",
       "      <th>LATERALITY</th>\n",
       "      <th>QUINTILE_2015</th>\n",
       "      <th>SURGERYSTATUS</th>\n",
       "    </tr>\n",
       "  </thead>\n",
       "  <tbody>\n",
       "    <tr>\n",
       "      <th>0</th>\n",
       "      <td>R</td>\n",
       "      <td>2</td>\n",
       "      <td>2013</td>\n",
       "      <td>C503</td>\n",
       "      <td>8500.0</td>\n",
       "      <td>3</td>\n",
       "      <td>2</td>\n",
       "      <td>G3</td>\n",
       "      <td>61</td>\n",
       "      <td>L0801</td>\n",
       "      <td>9</td>\n",
       "      <td>9</td>\n",
       "      <td>L</td>\n",
       "      <td>1</td>\n",
       "      <td>1</td>\n",
       "    </tr>\n",
       "    <tr>\n",
       "      <th>1</th>\n",
       "      <td>A</td>\n",
       "      <td>2</td>\n",
       "      <td>2017</td>\n",
       "      <td>C340</td>\n",
       "      <td>8046.0</td>\n",
       "      <td>3</td>\n",
       "      <td>4</td>\n",
       "      <td>GX</td>\n",
       "      <td>90</td>\n",
       "      <td>L1701</td>\n",
       "      <td>Z</td>\n",
       "      <td>1</td>\n",
       "      <td>R</td>\n",
       "      <td>5</td>\n",
       "      <td>0</td>\n",
       "    </tr>\n",
       "    <tr>\n",
       "      <th>2</th>\n",
       "      <td>A</td>\n",
       "      <td>2</td>\n",
       "      <td>2017</td>\n",
       "      <td>C502</td>\n",
       "      <td>8500.0</td>\n",
       "      <td>3</td>\n",
       "      <td>1</td>\n",
       "      <td>G2</td>\n",
       "      <td>66</td>\n",
       "      <td>L0401</td>\n",
       "      <td>9</td>\n",
       "      <td>9</td>\n",
       "      <td>R</td>\n",
       "      <td>2</td>\n",
       "      <td>1</td>\n",
       "    </tr>\n",
       "    <tr>\n",
       "      <th>4</th>\n",
       "      <td>A</td>\n",
       "      <td>2</td>\n",
       "      <td>2015</td>\n",
       "      <td>C509</td>\n",
       "      <td>8500.0</td>\n",
       "      <td>3</td>\n",
       "      <td>2</td>\n",
       "      <td>G2</td>\n",
       "      <td>68</td>\n",
       "      <td>L0901</td>\n",
       "      <td>C</td>\n",
       "      <td>0</td>\n",
       "      <td>L</td>\n",
       "      <td>3</td>\n",
       "      <td>1</td>\n",
       "    </tr>\n",
       "    <tr>\n",
       "      <th>5</th>\n",
       "      <td>A</td>\n",
       "      <td>2</td>\n",
       "      <td>2017</td>\n",
       "      <td>C504</td>\n",
       "      <td>8500.0</td>\n",
       "      <td>3</td>\n",
       "      <td>2</td>\n",
       "      <td>G2</td>\n",
       "      <td>59</td>\n",
       "      <td>L0901</td>\n",
       "      <td>9</td>\n",
       "      <td>9</td>\n",
       "      <td>L</td>\n",
       "      <td>2</td>\n",
       "      <td>1</td>\n",
       "    </tr>\n",
       "  </tbody>\n",
       "</table>\n",
       "</div>"
      ],
      "text/plain": [
       "  ETHNICITY  SEX  DIAGNOSISDATEBEST SITE_ICD10_O2  MORPH_ICD10_O2  \\\n",
       "0         R    2               2013          C503          8500.0   \n",
       "1         A    2               2017          C340          8046.0   \n",
       "2         A    2               2017          C502          8500.0   \n",
       "4         A    2               2015          C509          8500.0   \n",
       "5         A    2               2017          C504          8500.0   \n",
       "\n",
       "  BEHAVIOUR_ICD10_O2 STAGE_BEST GRADE  AGE CREG_CODE CANCERCAREPLANINTENT  \\\n",
       "0                  3          2    G3   61     L0801                    9   \n",
       "1                  3          4    GX   90     L1701                    Z   \n",
       "2                  3          1    G2   66     L0401                    9   \n",
       "4                  3          2    G2   68     L0901                    C   \n",
       "5                  3          2    G2   59     L0901                    9   \n",
       "\n",
       "  PERFORMANCESTATUS LATERALITY QUINTILE_2015  SURGERYSTATUS  \n",
       "0                 9          L             1              1  \n",
       "1                 1          R             5              0  \n",
       "2                 9          R             2              1  \n",
       "4                 0          L             3              1  \n",
       "5                 9          L             2              1  "
      ]
     },
     "execution_count": 186,
     "metadata": {},
     "output_type": "execute_result"
    }
   ],
   "source": [
    "X_train.head()"
   ]
  },
  {
   "cell_type": "code",
   "execution_count": 187,
   "metadata": {
    "execution": {
     "iopub.execute_input": "2023-08-23T19:11:46.811481Z",
     "iopub.status.busy": "2023-08-23T19:11:46.811068Z",
     "iopub.status.idle": "2023-08-23T19:11:47.847647Z",
     "shell.execute_reply": "2023-08-23T19:11:47.846555Z",
     "shell.execute_reply.started": "2023-08-23T19:11:46.811448Z"
    },
    "id": "uvtAsiHVOBYO"
   },
   "outputs": [
    {
     "data": {
      "text/html": [
       "<div>\n",
       "<style scoped>\n",
       "    .dataframe tbody tr th:only-of-type {\n",
       "        vertical-align: middle;\n",
       "    }\n",
       "\n",
       "    .dataframe tbody tr th {\n",
       "        vertical-align: top;\n",
       "    }\n",
       "\n",
       "    .dataframe thead th {\n",
       "        text-align: right;\n",
       "    }\n",
       "</style>\n",
       "<table border=\"1\" class=\"dataframe\">\n",
       "  <thead>\n",
       "    <tr style=\"text-align: right;\">\n",
       "      <th></th>\n",
       "      <th>cat__ETHNICITY_A</th>\n",
       "      <th>cat__ETHNICITY_C</th>\n",
       "      <th>cat__ETHNICITY_S</th>\n",
       "      <th>cat__ETHNICITY_Z</th>\n",
       "      <th>cat__ETHNICITY_nan</th>\n",
       "      <th>cat__ETHNICITY_infrequent_sklearn</th>\n",
       "      <th>cat__SITE_ICD10_O2_C180</th>\n",
       "      <th>cat__SITE_ICD10_O2_C182</th>\n",
       "      <th>cat__SITE_ICD10_O2_C184</th>\n",
       "      <th>cat__SITE_ICD10_O2_C187</th>\n",
       "      <th>...</th>\n",
       "      <th>cat__QUINTILE_2015_1</th>\n",
       "      <th>cat__QUINTILE_2015_2</th>\n",
       "      <th>cat__QUINTILE_2015_3</th>\n",
       "      <th>cat__QUINTILE_2015_4</th>\n",
       "      <th>cat__QUINTILE_2015_5</th>\n",
       "      <th>num__SEX</th>\n",
       "      <th>num__DIAGNOSISDATEBEST</th>\n",
       "      <th>num__MORPH_ICD10_O2</th>\n",
       "      <th>num__AGE</th>\n",
       "      <th>num__SURGERYSTATUS</th>\n",
       "    </tr>\n",
       "  </thead>\n",
       "  <tbody>\n",
       "    <tr>\n",
       "      <th>0</th>\n",
       "      <td>0.0</td>\n",
       "      <td>0.0</td>\n",
       "      <td>0.0</td>\n",
       "      <td>0.0</td>\n",
       "      <td>0.0</td>\n",
       "      <td>1.0</td>\n",
       "      <td>0.0</td>\n",
       "      <td>0.0</td>\n",
       "      <td>0.0</td>\n",
       "      <td>0.0</td>\n",
       "      <td>...</td>\n",
       "      <td>1.0</td>\n",
       "      <td>0.0</td>\n",
       "      <td>0.0</td>\n",
       "      <td>0.0</td>\n",
       "      <td>0.0</td>\n",
       "      <td>0.674587</td>\n",
       "      <td>-1.376900</td>\n",
       "      <td>1.104430</td>\n",
       "      <td>-0.515876</td>\n",
       "      <td>0.694264</td>\n",
       "    </tr>\n",
       "    <tr>\n",
       "      <th>1</th>\n",
       "      <td>1.0</td>\n",
       "      <td>0.0</td>\n",
       "      <td>0.0</td>\n",
       "      <td>0.0</td>\n",
       "      <td>0.0</td>\n",
       "      <td>0.0</td>\n",
       "      <td>0.0</td>\n",
       "      <td>0.0</td>\n",
       "      <td>0.0</td>\n",
       "      <td>0.0</td>\n",
       "      <td>...</td>\n",
       "      <td>0.0</td>\n",
       "      <td>0.0</td>\n",
       "      <td>0.0</td>\n",
       "      <td>0.0</td>\n",
       "      <td>1.0</td>\n",
       "      <td>0.674587</td>\n",
       "      <td>1.440059</td>\n",
       "      <td>-1.079357</td>\n",
       "      <td>1.589131</td>\n",
       "      <td>-1.440374</td>\n",
       "    </tr>\n",
       "    <tr>\n",
       "      <th>2</th>\n",
       "      <td>1.0</td>\n",
       "      <td>0.0</td>\n",
       "      <td>0.0</td>\n",
       "      <td>0.0</td>\n",
       "      <td>0.0</td>\n",
       "      <td>0.0</td>\n",
       "      <td>0.0</td>\n",
       "      <td>0.0</td>\n",
       "      <td>0.0</td>\n",
       "      <td>0.0</td>\n",
       "      <td>...</td>\n",
       "      <td>0.0</td>\n",
       "      <td>1.0</td>\n",
       "      <td>0.0</td>\n",
       "      <td>0.0</td>\n",
       "      <td>0.0</td>\n",
       "      <td>0.674587</td>\n",
       "      <td>1.440059</td>\n",
       "      <td>1.104430</td>\n",
       "      <td>-0.152944</td>\n",
       "      <td>0.694264</td>\n",
       "    </tr>\n",
       "    <tr>\n",
       "      <th>4</th>\n",
       "      <td>1.0</td>\n",
       "      <td>0.0</td>\n",
       "      <td>0.0</td>\n",
       "      <td>0.0</td>\n",
       "      <td>0.0</td>\n",
       "      <td>0.0</td>\n",
       "      <td>0.0</td>\n",
       "      <td>0.0</td>\n",
       "      <td>0.0</td>\n",
       "      <td>0.0</td>\n",
       "      <td>...</td>\n",
       "      <td>0.0</td>\n",
       "      <td>0.0</td>\n",
       "      <td>1.0</td>\n",
       "      <td>0.0</td>\n",
       "      <td>0.0</td>\n",
       "      <td>0.674587</td>\n",
       "      <td>0.031580</td>\n",
       "      <td>1.104430</td>\n",
       "      <td>-0.007771</td>\n",
       "      <td>0.694264</td>\n",
       "    </tr>\n",
       "    <tr>\n",
       "      <th>5</th>\n",
       "      <td>1.0</td>\n",
       "      <td>0.0</td>\n",
       "      <td>0.0</td>\n",
       "      <td>0.0</td>\n",
       "      <td>0.0</td>\n",
       "      <td>0.0</td>\n",
       "      <td>0.0</td>\n",
       "      <td>0.0</td>\n",
       "      <td>0.0</td>\n",
       "      <td>0.0</td>\n",
       "      <td>...</td>\n",
       "      <td>0.0</td>\n",
       "      <td>1.0</td>\n",
       "      <td>0.0</td>\n",
       "      <td>0.0</td>\n",
       "      <td>0.0</td>\n",
       "      <td>0.674587</td>\n",
       "      <td>1.440059</td>\n",
       "      <td>1.104430</td>\n",
       "      <td>-0.661049</td>\n",
       "      <td>0.694264</td>\n",
       "    </tr>\n",
       "    <tr>\n",
       "      <th>...</th>\n",
       "      <td>...</td>\n",
       "      <td>...</td>\n",
       "      <td>...</td>\n",
       "      <td>...</td>\n",
       "      <td>...</td>\n",
       "      <td>...</td>\n",
       "      <td>...</td>\n",
       "      <td>...</td>\n",
       "      <td>...</td>\n",
       "      <td>...</td>\n",
       "      <td>...</td>\n",
       "      <td>...</td>\n",
       "      <td>...</td>\n",
       "      <td>...</td>\n",
       "      <td>...</td>\n",
       "      <td>...</td>\n",
       "      <td>...</td>\n",
       "      <td>...</td>\n",
       "      <td>...</td>\n",
       "      <td>...</td>\n",
       "      <td>...</td>\n",
       "    </tr>\n",
       "    <tr>\n",
       "      <th>99995</th>\n",
       "      <td>1.0</td>\n",
       "      <td>0.0</td>\n",
       "      <td>0.0</td>\n",
       "      <td>0.0</td>\n",
       "      <td>0.0</td>\n",
       "      <td>0.0</td>\n",
       "      <td>0.0</td>\n",
       "      <td>0.0</td>\n",
       "      <td>0.0</td>\n",
       "      <td>0.0</td>\n",
       "      <td>...</td>\n",
       "      <td>0.0</td>\n",
       "      <td>1.0</td>\n",
       "      <td>0.0</td>\n",
       "      <td>0.0</td>\n",
       "      <td>0.0</td>\n",
       "      <td>0.674587</td>\n",
       "      <td>1.440059</td>\n",
       "      <td>1.104430</td>\n",
       "      <td>-0.733635</td>\n",
       "      <td>0.694264</td>\n",
       "    </tr>\n",
       "    <tr>\n",
       "      <th>99996</th>\n",
       "      <td>1.0</td>\n",
       "      <td>0.0</td>\n",
       "      <td>0.0</td>\n",
       "      <td>0.0</td>\n",
       "      <td>0.0</td>\n",
       "      <td>0.0</td>\n",
       "      <td>0.0</td>\n",
       "      <td>0.0</td>\n",
       "      <td>0.0</td>\n",
       "      <td>0.0</td>\n",
       "      <td>...</td>\n",
       "      <td>0.0</td>\n",
       "      <td>1.0</td>\n",
       "      <td>0.0</td>\n",
       "      <td>0.0</td>\n",
       "      <td>0.0</td>\n",
       "      <td>0.674587</td>\n",
       "      <td>0.735819</td>\n",
       "      <td>1.104430</td>\n",
       "      <td>0.209988</td>\n",
       "      <td>0.694264</td>\n",
       "    </tr>\n",
       "    <tr>\n",
       "      <th>99997</th>\n",
       "      <td>1.0</td>\n",
       "      <td>0.0</td>\n",
       "      <td>0.0</td>\n",
       "      <td>0.0</td>\n",
       "      <td>0.0</td>\n",
       "      <td>0.0</td>\n",
       "      <td>0.0</td>\n",
       "      <td>0.0</td>\n",
       "      <td>0.0</td>\n",
       "      <td>1.0</td>\n",
       "      <td>...</td>\n",
       "      <td>0.0</td>\n",
       "      <td>0.0</td>\n",
       "      <td>1.0</td>\n",
       "      <td>0.0</td>\n",
       "      <td>0.0</td>\n",
       "      <td>-1.482388</td>\n",
       "      <td>0.031580</td>\n",
       "      <td>-0.627207</td>\n",
       "      <td>0.572921</td>\n",
       "      <td>-1.440374</td>\n",
       "    </tr>\n",
       "    <tr>\n",
       "      <th>99998</th>\n",
       "      <td>1.0</td>\n",
       "      <td>0.0</td>\n",
       "      <td>0.0</td>\n",
       "      <td>0.0</td>\n",
       "      <td>0.0</td>\n",
       "      <td>0.0</td>\n",
       "      <td>0.0</td>\n",
       "      <td>0.0</td>\n",
       "      <td>0.0</td>\n",
       "      <td>0.0</td>\n",
       "      <td>...</td>\n",
       "      <td>0.0</td>\n",
       "      <td>1.0</td>\n",
       "      <td>0.0</td>\n",
       "      <td>0.0</td>\n",
       "      <td>0.0</td>\n",
       "      <td>0.674587</td>\n",
       "      <td>-0.672660</td>\n",
       "      <td>1.210252</td>\n",
       "      <td>0.064816</td>\n",
       "      <td>0.694264</td>\n",
       "    </tr>\n",
       "    <tr>\n",
       "      <th>99999</th>\n",
       "      <td>1.0</td>\n",
       "      <td>0.0</td>\n",
       "      <td>0.0</td>\n",
       "      <td>0.0</td>\n",
       "      <td>0.0</td>\n",
       "      <td>0.0</td>\n",
       "      <td>0.0</td>\n",
       "      <td>0.0</td>\n",
       "      <td>0.0</td>\n",
       "      <td>0.0</td>\n",
       "      <td>...</td>\n",
       "      <td>0.0</td>\n",
       "      <td>0.0</td>\n",
       "      <td>1.0</td>\n",
       "      <td>0.0</td>\n",
       "      <td>0.0</td>\n",
       "      <td>0.674587</td>\n",
       "      <td>0.735819</td>\n",
       "      <td>1.104430</td>\n",
       "      <td>0.064816</td>\n",
       "      <td>0.694264</td>\n",
       "    </tr>\n",
       "  </tbody>\n",
       "</table>\n",
       "<p>83582 rows × 71 columns</p>\n",
       "</div>"
      ],
      "text/plain": [
       "       cat__ETHNICITY_A  cat__ETHNICITY_C  cat__ETHNICITY_S  cat__ETHNICITY_Z  \\\n",
       "0                   0.0               0.0               0.0               0.0   \n",
       "1                   1.0               0.0               0.0               0.0   \n",
       "2                   1.0               0.0               0.0               0.0   \n",
       "4                   1.0               0.0               0.0               0.0   \n",
       "5                   1.0               0.0               0.0               0.0   \n",
       "...                 ...               ...               ...               ...   \n",
       "99995               1.0               0.0               0.0               0.0   \n",
       "99996               1.0               0.0               0.0               0.0   \n",
       "99997               1.0               0.0               0.0               0.0   \n",
       "99998               1.0               0.0               0.0               0.0   \n",
       "99999               1.0               0.0               0.0               0.0   \n",
       "\n",
       "       cat__ETHNICITY_nan  cat__ETHNICITY_infrequent_sklearn  \\\n",
       "0                     0.0                                1.0   \n",
       "1                     0.0                                0.0   \n",
       "2                     0.0                                0.0   \n",
       "4                     0.0                                0.0   \n",
       "5                     0.0                                0.0   \n",
       "...                   ...                                ...   \n",
       "99995                 0.0                                0.0   \n",
       "99996                 0.0                                0.0   \n",
       "99997                 0.0                                0.0   \n",
       "99998                 0.0                                0.0   \n",
       "99999                 0.0                                0.0   \n",
       "\n",
       "       cat__SITE_ICD10_O2_C180  cat__SITE_ICD10_O2_C182  \\\n",
       "0                          0.0                      0.0   \n",
       "1                          0.0                      0.0   \n",
       "2                          0.0                      0.0   \n",
       "4                          0.0                      0.0   \n",
       "5                          0.0                      0.0   \n",
       "...                        ...                      ...   \n",
       "99995                      0.0                      0.0   \n",
       "99996                      0.0                      0.0   \n",
       "99997                      0.0                      0.0   \n",
       "99998                      0.0                      0.0   \n",
       "99999                      0.0                      0.0   \n",
       "\n",
       "       cat__SITE_ICD10_O2_C184  cat__SITE_ICD10_O2_C187  ...  \\\n",
       "0                          0.0                      0.0  ...   \n",
       "1                          0.0                      0.0  ...   \n",
       "2                          0.0                      0.0  ...   \n",
       "4                          0.0                      0.0  ...   \n",
       "5                          0.0                      0.0  ...   \n",
       "...                        ...                      ...  ...   \n",
       "99995                      0.0                      0.0  ...   \n",
       "99996                      0.0                      0.0  ...   \n",
       "99997                      0.0                      1.0  ...   \n",
       "99998                      0.0                      0.0  ...   \n",
       "99999                      0.0                      0.0  ...   \n",
       "\n",
       "       cat__QUINTILE_2015_1  cat__QUINTILE_2015_2  cat__QUINTILE_2015_3  \\\n",
       "0                       1.0                   0.0                   0.0   \n",
       "1                       0.0                   0.0                   0.0   \n",
       "2                       0.0                   1.0                   0.0   \n",
       "4                       0.0                   0.0                   1.0   \n",
       "5                       0.0                   1.0                   0.0   \n",
       "...                     ...                   ...                   ...   \n",
       "99995                   0.0                   1.0                   0.0   \n",
       "99996                   0.0                   1.0                   0.0   \n",
       "99997                   0.0                   0.0                   1.0   \n",
       "99998                   0.0                   1.0                   0.0   \n",
       "99999                   0.0                   0.0                   1.0   \n",
       "\n",
       "       cat__QUINTILE_2015_4  cat__QUINTILE_2015_5  num__SEX  \\\n",
       "0                       0.0                   0.0  0.674587   \n",
       "1                       0.0                   1.0  0.674587   \n",
       "2                       0.0                   0.0  0.674587   \n",
       "4                       0.0                   0.0  0.674587   \n",
       "5                       0.0                   0.0  0.674587   \n",
       "...                     ...                   ...       ...   \n",
       "99995                   0.0                   0.0  0.674587   \n",
       "99996                   0.0                   0.0  0.674587   \n",
       "99997                   0.0                   0.0 -1.482388   \n",
       "99998                   0.0                   0.0  0.674587   \n",
       "99999                   0.0                   0.0  0.674587   \n",
       "\n",
       "       num__DIAGNOSISDATEBEST  num__MORPH_ICD10_O2  num__AGE  \\\n",
       "0                   -1.376900             1.104430 -0.515876   \n",
       "1                    1.440059            -1.079357  1.589131   \n",
       "2                    1.440059             1.104430 -0.152944   \n",
       "4                    0.031580             1.104430 -0.007771   \n",
       "5                    1.440059             1.104430 -0.661049   \n",
       "...                       ...                  ...       ...   \n",
       "99995                1.440059             1.104430 -0.733635   \n",
       "99996                0.735819             1.104430  0.209988   \n",
       "99997                0.031580            -0.627207  0.572921   \n",
       "99998               -0.672660             1.210252  0.064816   \n",
       "99999                0.735819             1.104430  0.064816   \n",
       "\n",
       "       num__SURGERYSTATUS  \n",
       "0                0.694264  \n",
       "1               -1.440374  \n",
       "2                0.694264  \n",
       "4                0.694264  \n",
       "5                0.694264  \n",
       "...                   ...  \n",
       "99995            0.694264  \n",
       "99996            0.694264  \n",
       "99997           -1.440374  \n",
       "99998            0.694264  \n",
       "99999            0.694264  \n",
       "\n",
       "[83582 rows x 71 columns]"
      ]
     },
     "execution_count": 187,
     "metadata": {},
     "output_type": "execute_result"
    }
   ],
   "source": [
    "X_train = preprocessor.fit_transform(X_train)\n",
    "X_train"
   ]
  },
  {
   "cell_type": "code",
   "execution_count": 188,
   "metadata": {
    "execution": {
     "iopub.execute_input": "2023-08-23T19:11:47.850037Z",
     "iopub.status.busy": "2023-08-23T19:11:47.849556Z",
     "iopub.status.idle": "2023-08-23T19:11:48.150509Z",
     "shell.execute_reply": "2023-08-23T19:11:48.149398Z",
     "shell.execute_reply.started": "2023-08-23T19:11:47.849996Z"
    },
    "id": "4Fe7GpVAURN5"
   },
   "outputs": [
    {
     "data": {
      "text/html": [
       "<div>\n",
       "<style scoped>\n",
       "    .dataframe tbody tr th:only-of-type {\n",
       "        vertical-align: middle;\n",
       "    }\n",
       "\n",
       "    .dataframe tbody tr th {\n",
       "        vertical-align: top;\n",
       "    }\n",
       "\n",
       "    .dataframe thead th {\n",
       "        text-align: right;\n",
       "    }\n",
       "</style>\n",
       "<table border=\"1\" class=\"dataframe\">\n",
       "  <thead>\n",
       "    <tr style=\"text-align: right;\">\n",
       "      <th></th>\n",
       "      <th>cat__ETHNICITY_A</th>\n",
       "      <th>cat__ETHNICITY_C</th>\n",
       "      <th>cat__ETHNICITY_S</th>\n",
       "      <th>cat__ETHNICITY_Z</th>\n",
       "      <th>cat__ETHNICITY_nan</th>\n",
       "      <th>cat__ETHNICITY_infrequent_sklearn</th>\n",
       "      <th>cat__SITE_ICD10_O2_C180</th>\n",
       "      <th>cat__SITE_ICD10_O2_C182</th>\n",
       "      <th>cat__SITE_ICD10_O2_C184</th>\n",
       "      <th>cat__SITE_ICD10_O2_C187</th>\n",
       "      <th>...</th>\n",
       "      <th>cat__QUINTILE_2015_1</th>\n",
       "      <th>cat__QUINTILE_2015_2</th>\n",
       "      <th>cat__QUINTILE_2015_3</th>\n",
       "      <th>cat__QUINTILE_2015_4</th>\n",
       "      <th>cat__QUINTILE_2015_5</th>\n",
       "      <th>num__SEX</th>\n",
       "      <th>num__DIAGNOSISDATEBEST</th>\n",
       "      <th>num__MORPH_ICD10_O2</th>\n",
       "      <th>num__AGE</th>\n",
       "      <th>num__SURGERYSTATUS</th>\n",
       "    </tr>\n",
       "  </thead>\n",
       "  <tbody>\n",
       "    <tr>\n",
       "      <th>0</th>\n",
       "      <td>1.0</td>\n",
       "      <td>0.0</td>\n",
       "      <td>0.0</td>\n",
       "      <td>0.0</td>\n",
       "      <td>0.0</td>\n",
       "      <td>0.0</td>\n",
       "      <td>0.0</td>\n",
       "      <td>0.0</td>\n",
       "      <td>0.0</td>\n",
       "      <td>0.0</td>\n",
       "      <td>...</td>\n",
       "      <td>0.0</td>\n",
       "      <td>0.0</td>\n",
       "      <td>0.0</td>\n",
       "      <td>1.0</td>\n",
       "      <td>0.0</td>\n",
       "      <td>0.674587</td>\n",
       "      <td>1.440059</td>\n",
       "      <td>1.104430</td>\n",
       "      <td>0.863266</td>\n",
       "      <td>0.694264</td>\n",
       "    </tr>\n",
       "    <tr>\n",
       "      <th>1</th>\n",
       "      <td>1.0</td>\n",
       "      <td>0.0</td>\n",
       "      <td>0.0</td>\n",
       "      <td>0.0</td>\n",
       "      <td>0.0</td>\n",
       "      <td>0.0</td>\n",
       "      <td>0.0</td>\n",
       "      <td>0.0</td>\n",
       "      <td>0.0</td>\n",
       "      <td>1.0</td>\n",
       "      <td>...</td>\n",
       "      <td>0.0</td>\n",
       "      <td>0.0</td>\n",
       "      <td>1.0</td>\n",
       "      <td>0.0</td>\n",
       "      <td>0.0</td>\n",
       "      <td>-1.482388</td>\n",
       "      <td>-1.376900</td>\n",
       "      <td>-0.627207</td>\n",
       "      <td>-0.370703</td>\n",
       "      <td>0.694264</td>\n",
       "    </tr>\n",
       "    <tr>\n",
       "      <th>2</th>\n",
       "      <td>1.0</td>\n",
       "      <td>0.0</td>\n",
       "      <td>0.0</td>\n",
       "      <td>0.0</td>\n",
       "      <td>0.0</td>\n",
       "      <td>0.0</td>\n",
       "      <td>0.0</td>\n",
       "      <td>0.0</td>\n",
       "      <td>0.0</td>\n",
       "      <td>0.0</td>\n",
       "      <td>...</td>\n",
       "      <td>0.0</td>\n",
       "      <td>0.0</td>\n",
       "      <td>0.0</td>\n",
       "      <td>1.0</td>\n",
       "      <td>0.0</td>\n",
       "      <td>-1.482388</td>\n",
       "      <td>-1.376900</td>\n",
       "      <td>-0.627207</td>\n",
       "      <td>-0.370703</td>\n",
       "      <td>-1.440374</td>\n",
       "    </tr>\n",
       "    <tr>\n",
       "      <th>3</th>\n",
       "      <td>0.0</td>\n",
       "      <td>1.0</td>\n",
       "      <td>0.0</td>\n",
       "      <td>0.0</td>\n",
       "      <td>0.0</td>\n",
       "      <td>0.0</td>\n",
       "      <td>0.0</td>\n",
       "      <td>0.0</td>\n",
       "      <td>0.0</td>\n",
       "      <td>1.0</td>\n",
       "      <td>...</td>\n",
       "      <td>0.0</td>\n",
       "      <td>0.0</td>\n",
       "      <td>0.0</td>\n",
       "      <td>1.0</td>\n",
       "      <td>0.0</td>\n",
       "      <td>-1.482388</td>\n",
       "      <td>0.031580</td>\n",
       "      <td>-0.627207</td>\n",
       "      <td>0.209988</td>\n",
       "      <td>-1.440374</td>\n",
       "    </tr>\n",
       "    <tr>\n",
       "      <th>4</th>\n",
       "      <td>1.0</td>\n",
       "      <td>0.0</td>\n",
       "      <td>0.0</td>\n",
       "      <td>0.0</td>\n",
       "      <td>0.0</td>\n",
       "      <td>0.0</td>\n",
       "      <td>0.0</td>\n",
       "      <td>0.0</td>\n",
       "      <td>0.0</td>\n",
       "      <td>0.0</td>\n",
       "      <td>...</td>\n",
       "      <td>0.0</td>\n",
       "      <td>0.0</td>\n",
       "      <td>0.0</td>\n",
       "      <td>1.0</td>\n",
       "      <td>0.0</td>\n",
       "      <td>0.674587</td>\n",
       "      <td>-0.672660</td>\n",
       "      <td>-0.627207</td>\n",
       "      <td>-0.588462</td>\n",
       "      <td>0.694264</td>\n",
       "    </tr>\n",
       "    <tr>\n",
       "      <th>...</th>\n",
       "      <td>...</td>\n",
       "      <td>...</td>\n",
       "      <td>...</td>\n",
       "      <td>...</td>\n",
       "      <td>...</td>\n",
       "      <td>...</td>\n",
       "      <td>...</td>\n",
       "      <td>...</td>\n",
       "      <td>...</td>\n",
       "      <td>...</td>\n",
       "      <td>...</td>\n",
       "      <td>...</td>\n",
       "      <td>...</td>\n",
       "      <td>...</td>\n",
       "      <td>...</td>\n",
       "      <td>...</td>\n",
       "      <td>...</td>\n",
       "      <td>...</td>\n",
       "      <td>...</td>\n",
       "      <td>...</td>\n",
       "      <td>...</td>\n",
       "    </tr>\n",
       "    <tr>\n",
       "      <th>49995</th>\n",
       "      <td>1.0</td>\n",
       "      <td>0.0</td>\n",
       "      <td>0.0</td>\n",
       "      <td>0.0</td>\n",
       "      <td>0.0</td>\n",
       "      <td>0.0</td>\n",
       "      <td>0.0</td>\n",
       "      <td>0.0</td>\n",
       "      <td>0.0</td>\n",
       "      <td>0.0</td>\n",
       "      <td>...</td>\n",
       "      <td>0.0</td>\n",
       "      <td>0.0</td>\n",
       "      <td>1.0</td>\n",
       "      <td>0.0</td>\n",
       "      <td>0.0</td>\n",
       "      <td>0.674587</td>\n",
       "      <td>1.440059</td>\n",
       "      <td>-0.627207</td>\n",
       "      <td>0.500334</td>\n",
       "      <td>-1.440374</td>\n",
       "    </tr>\n",
       "    <tr>\n",
       "      <th>49996</th>\n",
       "      <td>1.0</td>\n",
       "      <td>0.0</td>\n",
       "      <td>0.0</td>\n",
       "      <td>0.0</td>\n",
       "      <td>0.0</td>\n",
       "      <td>0.0</td>\n",
       "      <td>0.0</td>\n",
       "      <td>0.0</td>\n",
       "      <td>0.0</td>\n",
       "      <td>0.0</td>\n",
       "      <td>...</td>\n",
       "      <td>1.0</td>\n",
       "      <td>0.0</td>\n",
       "      <td>0.0</td>\n",
       "      <td>0.0</td>\n",
       "      <td>0.0</td>\n",
       "      <td>0.674587</td>\n",
       "      <td>0.735819</td>\n",
       "      <td>1.104430</td>\n",
       "      <td>-0.152944</td>\n",
       "      <td>0.694264</td>\n",
       "    </tr>\n",
       "    <tr>\n",
       "      <th>49997</th>\n",
       "      <td>1.0</td>\n",
       "      <td>0.0</td>\n",
       "      <td>0.0</td>\n",
       "      <td>0.0</td>\n",
       "      <td>0.0</td>\n",
       "      <td>0.0</td>\n",
       "      <td>0.0</td>\n",
       "      <td>0.0</td>\n",
       "      <td>0.0</td>\n",
       "      <td>0.0</td>\n",
       "      <td>...</td>\n",
       "      <td>0.0</td>\n",
       "      <td>0.0</td>\n",
       "      <td>0.0</td>\n",
       "      <td>0.0</td>\n",
       "      <td>1.0</td>\n",
       "      <td>-1.482388</td>\n",
       "      <td>-1.376900</td>\n",
       "      <td>-1.300622</td>\n",
       "      <td>0.935853</td>\n",
       "      <td>-1.440374</td>\n",
       "    </tr>\n",
       "    <tr>\n",
       "      <th>49998</th>\n",
       "      <td>1.0</td>\n",
       "      <td>0.0</td>\n",
       "      <td>0.0</td>\n",
       "      <td>0.0</td>\n",
       "      <td>0.0</td>\n",
       "      <td>0.0</td>\n",
       "      <td>0.0</td>\n",
       "      <td>0.0</td>\n",
       "      <td>0.0</td>\n",
       "      <td>0.0</td>\n",
       "      <td>...</td>\n",
       "      <td>1.0</td>\n",
       "      <td>0.0</td>\n",
       "      <td>0.0</td>\n",
       "      <td>0.0</td>\n",
       "      <td>0.0</td>\n",
       "      <td>0.674587</td>\n",
       "      <td>-0.672660</td>\n",
       "      <td>-1.300622</td>\n",
       "      <td>-0.007771</td>\n",
       "      <td>-1.440374</td>\n",
       "    </tr>\n",
       "    <tr>\n",
       "      <th>49999</th>\n",
       "      <td>0.0</td>\n",
       "      <td>1.0</td>\n",
       "      <td>0.0</td>\n",
       "      <td>0.0</td>\n",
       "      <td>0.0</td>\n",
       "      <td>0.0</td>\n",
       "      <td>0.0</td>\n",
       "      <td>0.0</td>\n",
       "      <td>0.0</td>\n",
       "      <td>0.0</td>\n",
       "      <td>...</td>\n",
       "      <td>0.0</td>\n",
       "      <td>0.0</td>\n",
       "      <td>0.0</td>\n",
       "      <td>1.0</td>\n",
       "      <td>0.0</td>\n",
       "      <td>0.674587</td>\n",
       "      <td>-0.672660</td>\n",
       "      <td>-0.627207</td>\n",
       "      <td>1.153612</td>\n",
       "      <td>-1.440374</td>\n",
       "    </tr>\n",
       "  </tbody>\n",
       "</table>\n",
       "<p>50000 rows × 71 columns</p>\n",
       "</div>"
      ],
      "text/plain": [
       "       cat__ETHNICITY_A  cat__ETHNICITY_C  cat__ETHNICITY_S  cat__ETHNICITY_Z  \\\n",
       "0                   1.0               0.0               0.0               0.0   \n",
       "1                   1.0               0.0               0.0               0.0   \n",
       "2                   1.0               0.0               0.0               0.0   \n",
       "3                   0.0               1.0               0.0               0.0   \n",
       "4                   1.0               0.0               0.0               0.0   \n",
       "...                 ...               ...               ...               ...   \n",
       "49995               1.0               0.0               0.0               0.0   \n",
       "49996               1.0               0.0               0.0               0.0   \n",
       "49997               1.0               0.0               0.0               0.0   \n",
       "49998               1.0               0.0               0.0               0.0   \n",
       "49999               0.0               1.0               0.0               0.0   \n",
       "\n",
       "       cat__ETHNICITY_nan  cat__ETHNICITY_infrequent_sklearn  \\\n",
       "0                     0.0                                0.0   \n",
       "1                     0.0                                0.0   \n",
       "2                     0.0                                0.0   \n",
       "3                     0.0                                0.0   \n",
       "4                     0.0                                0.0   \n",
       "...                   ...                                ...   \n",
       "49995                 0.0                                0.0   \n",
       "49996                 0.0                                0.0   \n",
       "49997                 0.0                                0.0   \n",
       "49998                 0.0                                0.0   \n",
       "49999                 0.0                                0.0   \n",
       "\n",
       "       cat__SITE_ICD10_O2_C180  cat__SITE_ICD10_O2_C182  \\\n",
       "0                          0.0                      0.0   \n",
       "1                          0.0                      0.0   \n",
       "2                          0.0                      0.0   \n",
       "3                          0.0                      0.0   \n",
       "4                          0.0                      0.0   \n",
       "...                        ...                      ...   \n",
       "49995                      0.0                      0.0   \n",
       "49996                      0.0                      0.0   \n",
       "49997                      0.0                      0.0   \n",
       "49998                      0.0                      0.0   \n",
       "49999                      0.0                      0.0   \n",
       "\n",
       "       cat__SITE_ICD10_O2_C184  cat__SITE_ICD10_O2_C187  ...  \\\n",
       "0                          0.0                      0.0  ...   \n",
       "1                          0.0                      1.0  ...   \n",
       "2                          0.0                      0.0  ...   \n",
       "3                          0.0                      1.0  ...   \n",
       "4                          0.0                      0.0  ...   \n",
       "...                        ...                      ...  ...   \n",
       "49995                      0.0                      0.0  ...   \n",
       "49996                      0.0                      0.0  ...   \n",
       "49997                      0.0                      0.0  ...   \n",
       "49998                      0.0                      0.0  ...   \n",
       "49999                      0.0                      0.0  ...   \n",
       "\n",
       "       cat__QUINTILE_2015_1  cat__QUINTILE_2015_2  cat__QUINTILE_2015_3  \\\n",
       "0                       0.0                   0.0                   0.0   \n",
       "1                       0.0                   0.0                   1.0   \n",
       "2                       0.0                   0.0                   0.0   \n",
       "3                       0.0                   0.0                   0.0   \n",
       "4                       0.0                   0.0                   0.0   \n",
       "...                     ...                   ...                   ...   \n",
       "49995                   0.0                   0.0                   1.0   \n",
       "49996                   1.0                   0.0                   0.0   \n",
       "49997                   0.0                   0.0                   0.0   \n",
       "49998                   1.0                   0.0                   0.0   \n",
       "49999                   0.0                   0.0                   0.0   \n",
       "\n",
       "       cat__QUINTILE_2015_4  cat__QUINTILE_2015_5  num__SEX  \\\n",
       "0                       1.0                   0.0  0.674587   \n",
       "1                       0.0                   0.0 -1.482388   \n",
       "2                       1.0                   0.0 -1.482388   \n",
       "3                       1.0                   0.0 -1.482388   \n",
       "4                       1.0                   0.0  0.674587   \n",
       "...                     ...                   ...       ...   \n",
       "49995                   0.0                   0.0  0.674587   \n",
       "49996                   0.0                   0.0  0.674587   \n",
       "49997                   0.0                   1.0 -1.482388   \n",
       "49998                   0.0                   0.0  0.674587   \n",
       "49999                   1.0                   0.0  0.674587   \n",
       "\n",
       "       num__DIAGNOSISDATEBEST  num__MORPH_ICD10_O2  num__AGE  \\\n",
       "0                    1.440059             1.104430  0.863266   \n",
       "1                   -1.376900            -0.627207 -0.370703   \n",
       "2                   -1.376900            -0.627207 -0.370703   \n",
       "3                    0.031580            -0.627207  0.209988   \n",
       "4                   -0.672660            -0.627207 -0.588462   \n",
       "...                       ...                  ...       ...   \n",
       "49995                1.440059            -0.627207  0.500334   \n",
       "49996                0.735819             1.104430 -0.152944   \n",
       "49997               -1.376900            -1.300622  0.935853   \n",
       "49998               -0.672660            -1.300622 -0.007771   \n",
       "49999               -0.672660            -0.627207  1.153612   \n",
       "\n",
       "       num__SURGERYSTATUS  \n",
       "0                0.694264  \n",
       "1                0.694264  \n",
       "2               -1.440374  \n",
       "3               -1.440374  \n",
       "4                0.694264  \n",
       "...                   ...  \n",
       "49995           -1.440374  \n",
       "49996            0.694264  \n",
       "49997           -1.440374  \n",
       "49998           -1.440374  \n",
       "49999           -1.440374  \n",
       "\n",
       "[50000 rows x 71 columns]"
      ]
     },
     "execution_count": 188,
     "metadata": {},
     "output_type": "execute_result"
    }
   ],
   "source": [
    "X_test = preprocessor.transform(X_test)\n",
    "X_test"
   ]
  },
  {
   "cell_type": "code",
   "execution_count": 189,
   "metadata": {
    "execution": {
     "iopub.execute_input": "2023-08-23T19:11:48.153138Z",
     "iopub.status.busy": "2023-08-23T19:11:48.152024Z",
     "iopub.status.idle": "2023-08-23T19:11:48.161209Z",
     "shell.execute_reply": "2023-08-23T19:11:48.159845Z",
     "shell.execute_reply.started": "2023-08-23T19:11:48.153092Z"
    },
    "id": "sHEAHmoRW0HM",
    "outputId": "ca91ca70-dee7-47ba-e1ab-4e310dad8392"
   },
   "outputs": [
    {
     "data": {
      "text/plain": [
       "(50000, 71)"
      ]
     },
     "execution_count": 189,
     "metadata": {},
     "output_type": "execute_result"
    }
   ],
   "source": [
    "X_test.shape"
   ]
  },
  {
   "cell_type": "code",
   "execution_count": 190,
   "metadata": {
    "execution": {
     "iopub.execute_input": "2023-08-23T19:11:48.163336Z",
     "iopub.status.busy": "2023-08-23T19:11:48.162566Z",
     "iopub.status.idle": "2023-08-23T19:11:48.353829Z",
     "shell.execute_reply": "2023-08-23T19:11:48.352625Z",
     "shell.execute_reply.started": "2023-08-23T19:11:48.163279Z"
    },
    "id": "G_QmTi6QVHIx"
   },
   "outputs": [],
   "source": [
    "from sklearn.metrics import accuracy_score, precision_score, recall_score, f1_score,make_scorer\n",
    "from sklearn.svm import SVC\n",
    "from sklearn.tree import DecisionTreeClassifier\n",
    "from sklearn.neighbors import KNeighborsClassifier\n",
    "from sklearn.ensemble import RandomForestClassifier, VotingClassifier\n",
    "from sklearn.neural_network import MLPClassifier\n",
    "from sklearn.linear_model import LinearRegression\n",
    "import seaborn as sns\n",
    "import matplotlib.pyplot as plt\n",
    "from sklearn.model_selection import GridSearchCV, RandomizedSearchCV"
   ]
  },
  {
   "cell_type": "code",
   "execution_count": 191,
   "metadata": {
    "execution": {
     "iopub.execute_input": "2023-08-23T19:11:48.355705Z",
     "iopub.status.busy": "2023-08-23T19:11:48.355273Z",
     "iopub.status.idle": "2023-08-23T19:11:48.360936Z",
     "shell.execute_reply": "2023-08-23T19:11:48.359663Z",
     "shell.execute_reply.started": "2023-08-23T19:11:48.355673Z"
    },
    "id": "B_FfbOjhn1ZY"
   },
   "outputs": [],
   "source": [
    "# Initialize classifiers\n",
    "svm_classifier = SVC(kernel='linear', random_state=random_seed)\n",
    "knn_classifier = KNeighborsClassifier(n_neighbors=5)\n",
    "rf_classifier = RandomForestClassifier(random_state=random_seed)\n"
   ]
  },
  {
   "cell_type": "code",
   "execution_count": 192,
   "metadata": {
    "execution": {
     "iopub.execute_input": "2023-08-23T19:11:48.363201Z",
     "iopub.status.busy": "2023-08-23T19:11:48.362755Z",
     "iopub.status.idle": "2023-08-23T19:11:48.382124Z",
     "shell.execute_reply": "2023-08-23T19:11:48.380842Z",
     "shell.execute_reply.started": "2023-08-23T19:11:48.363160Z"
    },
    "id": "E48r_TwhntH7",
    "outputId": "0550cfed-89ea-481b-f0ed-5f8e4d8efa77"
   },
   "outputs": [
    {
     "data": {
      "text/html": [
       "<style>#sk-container-id-3 {color: black;background-color: white;}#sk-container-id-3 pre{padding: 0;}#sk-container-id-3 div.sk-toggleable {background-color: white;}#sk-container-id-3 label.sk-toggleable__label {cursor: pointer;display: block;width: 100%;margin-bottom: 0;padding: 0.3em;box-sizing: border-box;text-align: center;}#sk-container-id-3 label.sk-toggleable__label-arrow:before {content: \"▸\";float: left;margin-right: 0.25em;color: #696969;}#sk-container-id-3 label.sk-toggleable__label-arrow:hover:before {color: black;}#sk-container-id-3 div.sk-estimator:hover label.sk-toggleable__label-arrow:before {color: black;}#sk-container-id-3 div.sk-toggleable__content {max-height: 0;max-width: 0;overflow: hidden;text-align: left;background-color: #f0f8ff;}#sk-container-id-3 div.sk-toggleable__content pre {margin: 0.2em;color: black;border-radius: 0.25em;background-color: #f0f8ff;}#sk-container-id-3 input.sk-toggleable__control:checked~div.sk-toggleable__content {max-height: 200px;max-width: 100%;overflow: auto;}#sk-container-id-3 input.sk-toggleable__control:checked~label.sk-toggleable__label-arrow:before {content: \"▾\";}#sk-container-id-3 div.sk-estimator input.sk-toggleable__control:checked~label.sk-toggleable__label {background-color: #d4ebff;}#sk-container-id-3 div.sk-label input.sk-toggleable__control:checked~label.sk-toggleable__label {background-color: #d4ebff;}#sk-container-id-3 input.sk-hidden--visually {border: 0;clip: rect(1px 1px 1px 1px);clip: rect(1px, 1px, 1px, 1px);height: 1px;margin: -1px;overflow: hidden;padding: 0;position: absolute;width: 1px;}#sk-container-id-3 div.sk-estimator {font-family: monospace;background-color: #f0f8ff;border: 1px dotted black;border-radius: 0.25em;box-sizing: border-box;margin-bottom: 0.5em;}#sk-container-id-3 div.sk-estimator:hover {background-color: #d4ebff;}#sk-container-id-3 div.sk-parallel-item::after {content: \"\";width: 100%;border-bottom: 1px solid gray;flex-grow: 1;}#sk-container-id-3 div.sk-label:hover label.sk-toggleable__label {background-color: #d4ebff;}#sk-container-id-3 div.sk-serial::before {content: \"\";position: absolute;border-left: 1px solid gray;box-sizing: border-box;top: 0;bottom: 0;left: 50%;z-index: 0;}#sk-container-id-3 div.sk-serial {display: flex;flex-direction: column;align-items: center;background-color: white;padding-right: 0.2em;padding-left: 0.2em;position: relative;}#sk-container-id-3 div.sk-item {position: relative;z-index: 1;}#sk-container-id-3 div.sk-parallel {display: flex;align-items: stretch;justify-content: center;background-color: white;position: relative;}#sk-container-id-3 div.sk-item::before, #sk-container-id-3 div.sk-parallel-item::before {content: \"\";position: absolute;border-left: 1px solid gray;box-sizing: border-box;top: 0;bottom: 0;left: 50%;z-index: -1;}#sk-container-id-3 div.sk-parallel-item {display: flex;flex-direction: column;z-index: 1;position: relative;background-color: white;}#sk-container-id-3 div.sk-parallel-item:first-child::after {align-self: flex-end;width: 50%;}#sk-container-id-3 div.sk-parallel-item:last-child::after {align-self: flex-start;width: 50%;}#sk-container-id-3 div.sk-parallel-item:only-child::after {width: 0;}#sk-container-id-3 div.sk-dashed-wrapped {border: 1px dashed gray;margin: 0 0.4em 0.5em 0.4em;box-sizing: border-box;padding-bottom: 0.4em;background-color: white;}#sk-container-id-3 div.sk-label label {font-family: monospace;font-weight: bold;display: inline-block;line-height: 1.2em;}#sk-container-id-3 div.sk-label-container {text-align: center;}#sk-container-id-3 div.sk-container {/* jupyter's `normalize.less` sets `[hidden] { display: none; }` but bootstrap.min.css set `[hidden] { display: none !important; }` so we also need the `!important` here to be able to override the default hidden behavior on the sphinx rendered scikit-learn.org. See: https://github.com/scikit-learn/scikit-learn/issues/21755 */display: inline-block !important;position: relative;}#sk-container-id-3 div.sk-text-repr-fallback {display: none;}</style><div id=\"sk-container-id-3\" class=\"sk-top-container\"><div class=\"sk-text-repr-fallback\"><pre>Pipeline(steps=[(&#x27;selector&#x27;, RFECV(estimator=LinearRegression())),\n",
       "                (&#x27;estimator&#x27;, SVC(kernel=&#x27;linear&#x27;, random_state=42))])</pre><b>In a Jupyter environment, please rerun this cell to show the HTML representation or trust the notebook. <br />On GitHub, the HTML representation is unable to render, please try loading this page with nbviewer.org.</b></div><div class=\"sk-container\" hidden><div class=\"sk-item sk-dashed-wrapped\"><div class=\"sk-label-container\"><div class=\"sk-label sk-toggleable\"><input class=\"sk-toggleable__control sk-hidden--visually\" id=\"sk-estimator-id-12\" type=\"checkbox\" ><label for=\"sk-estimator-id-12\" class=\"sk-toggleable__label sk-toggleable__label-arrow\">Pipeline</label><div class=\"sk-toggleable__content\"><pre>Pipeline(steps=[(&#x27;selector&#x27;, RFECV(estimator=LinearRegression())),\n",
       "                (&#x27;estimator&#x27;, SVC(kernel=&#x27;linear&#x27;, random_state=42))])</pre></div></div></div><div class=\"sk-serial\"><div class=\"sk-item sk-dashed-wrapped\"><div class=\"sk-label-container\"><div class=\"sk-label sk-toggleable\"><input class=\"sk-toggleable__control sk-hidden--visually\" id=\"sk-estimator-id-13\" type=\"checkbox\" ><label for=\"sk-estimator-id-13\" class=\"sk-toggleable__label sk-toggleable__label-arrow\">selector: RFECV</label><div class=\"sk-toggleable__content\"><pre>RFECV(estimator=LinearRegression())</pre></div></div></div><div class=\"sk-parallel\"><div class=\"sk-parallel-item\"><div class=\"sk-item\"><div class=\"sk-label-container\"><div class=\"sk-label sk-toggleable\"><input class=\"sk-toggleable__control sk-hidden--visually\" id=\"sk-estimator-id-14\" type=\"checkbox\" ><label for=\"sk-estimator-id-14\" class=\"sk-toggleable__label sk-toggleable__label-arrow\">estimator: LinearRegression</label><div class=\"sk-toggleable__content\"><pre>LinearRegression()</pre></div></div></div><div class=\"sk-serial\"><div class=\"sk-item\"><div class=\"sk-estimator sk-toggleable\"><input class=\"sk-toggleable__control sk-hidden--visually\" id=\"sk-estimator-id-15\" type=\"checkbox\" ><label for=\"sk-estimator-id-15\" class=\"sk-toggleable__label sk-toggleable__label-arrow\">LinearRegression</label><div class=\"sk-toggleable__content\"><pre>LinearRegression()</pre></div></div></div></div></div></div></div></div><div class=\"sk-item\"><div class=\"sk-estimator sk-toggleable\"><input class=\"sk-toggleable__control sk-hidden--visually\" id=\"sk-estimator-id-16\" type=\"checkbox\" ><label for=\"sk-estimator-id-16\" class=\"sk-toggleable__label sk-toggleable__label-arrow\">SVC</label><div class=\"sk-toggleable__content\"><pre>SVC(kernel=&#x27;linear&#x27;, random_state=42)</pre></div></div></div></div></div></div></div>"
      ],
      "text/plain": [
       "Pipeline(steps=[('selector', RFECV(estimator=LinearRegression())),\n",
       "                ('estimator', SVC(kernel='linear', random_state=42))])"
      ]
     },
     "execution_count": 192,
     "metadata": {},
     "output_type": "execute_result"
    }
   ],
   "source": [
    "# Create a pipeline for the linear regression model with recursive feature elimination\n",
    "pipe_rfe = Pipeline([\n",
    "    ('selector', RFECV(LinearRegression())),\n",
    "    ('estimator', svm_classifier)\n",
    "]).set_output(transform='pandas')\n",
    "pipe_rfe"
   ]
  },
  {
   "cell_type": "code",
   "execution_count": 193,
   "metadata": {
    "execution": {
     "iopub.execute_input": "2023-08-23T19:11:48.384259Z",
     "iopub.status.busy": "2023-08-23T19:11:48.383896Z",
     "iopub.status.idle": "2023-08-23T19:11:48.389099Z",
     "shell.execute_reply": "2023-08-23T19:11:48.388073Z",
     "shell.execute_reply.started": "2023-08-23T19:11:48.384230Z"
    },
    "id": "Vz9PM8d-oUs8"
   },
   "outputs": [],
   "source": [
    "# Define the parameter grid for the grid search\n",
    "param_grid_rfe = {\n",
    "    'selector__step': [1, 5]\n",
    "}"
   ]
  },
  {
   "cell_type": "code",
   "execution_count": 201,
   "metadata": {
    "execution": {
     "iopub.execute_input": "2023-08-23T19:49:10.681647Z",
     "iopub.status.busy": "2023-08-23T19:49:10.681166Z",
     "iopub.status.idle": "2023-08-23T19:49:10.702658Z",
     "shell.execute_reply": "2023-08-23T19:49:10.701640Z",
     "shell.execute_reply.started": "2023-08-23T19:49:10.681611Z"
    }
   },
   "outputs": [
    {
     "data": {
      "text/plain": [
       "cat__ETHNICITY_A          0\n",
       "cat__ETHNICITY_C          0\n",
       "cat__ETHNICITY_S          0\n",
       "cat__ETHNICITY_Z          0\n",
       "cat__ETHNICITY_nan        0\n",
       "                         ..\n",
       "num__SEX                  0\n",
       "num__DIAGNOSISDATEBEST    0\n",
       "num__MORPH_ICD10_O2       0\n",
       "num__AGE                  0\n",
       "num__SURGERYSTATUS        0\n",
       "Length: 71, dtype: int64"
      ]
     },
     "execution_count": 201,
     "metadata": {},
     "output_type": "execute_result"
    }
   ],
   "source": [
    "X_train.isna().sum()"
   ]
  },
  {
   "cell_type": "code",
   "execution_count": null,
   "metadata": {
    "execution": {
     "iopub.execute_input": "2023-08-23T19:49:10.704589Z",
     "iopub.status.busy": "2023-08-23T19:49:10.704252Z"
    },
    "id": "VGuSJ7xpobDj",
    "outputId": "7a8e82ba-7843-4916-fbdd-0b131efa071e",
    "scrolled": true
   },
   "outputs": [
    {
     "name": "stderr",
     "output_type": "stream",
     "text": [
      "/opt/conda/lib/python3.10/site-packages/scipy/__init__.py:146: UserWarning: A NumPy version >=1.16.5 and <1.23.0 is required for this version of SciPy (detected version 1.23.5\n",
      "  warnings.warn(f\"A NumPy version >={np_minversion} and <{np_maxversion}\"\n",
      "/opt/conda/lib/python3.10/site-packages/scipy/__init__.py:146: UserWarning: A NumPy version >=1.16.5 and <1.23.0 is required for this version of SciPy (detected version 1.23.5\n",
      "  warnings.warn(f\"A NumPy version >={np_minversion} and <{np_maxversion}\"\n",
      "/opt/conda/lib/python3.10/site-packages/scipy/__init__.py:146: UserWarning: A NumPy version >=1.16.5 and <1.23.0 is required for this version of SciPy (detected version 1.23.5\n",
      "  warnings.warn(f\"A NumPy version >={np_minversion} and <{np_maxversion}\"\n",
      "/opt/conda/lib/python3.10/site-packages/scipy/__init__.py:146: UserWarning: A NumPy version >=1.16.5 and <1.23.0 is required for this version of SciPy (detected version 1.23.5\n",
      "  warnings.warn(f\"A NumPy version >={np_minversion} and <{np_maxversion}\"\n"
     ]
    }
   ],
   "source": [
    "# Perform a grid search to find the best hyperparameters and feature selector\n",
    "grid_rfe = GridSearchCV(pipe_rfe, param_grid=param_grid_rfe, n_jobs=-1, cv=5)\n",
    "grid_rfe.fit(X_train, y_train)"
   ]
  },
  {
   "cell_type": "code",
   "execution_count": null,
   "metadata": {
    "id": "FjSeH8Zhof8B",
    "outputId": "586d8f09-5970-445a-a7af-cc4d8fc30a02"
   },
   "outputs": [],
   "source": [
    "# Print the best hyperparameters and feature selector\n",
    "print(\"\\nRecursive feature elimination\")\n",
    "print(f\"Best hyperparameters: {grid_rfe.best_params_}\")\n",
    "print(f\"Best feature selector: {grid_rfe.best_estimator_.named_steps['selector']}\")"
   ]
  },
  {
   "cell_type": "code",
   "execution_count": null,
   "metadata": {
    "id": "-tqXBd20r_qT",
    "outputId": "c67ed8d4-c588-4a4c-9f86-9e8acf866e1b"
   },
   "outputs": [],
   "source": [
    "# Create a new pipeline with the best feature selector and fit on the training data\n",
    "best_pipe_rfe = Pipeline([\n",
    "#     ('preprocessor',preprocessor),\n",
    "    ('selector', grid_rfe.best_estimator_.named_steps['selector']),\n",
    "    ('estimator', svm_classifier)\n",
    "]).set_output(transform='pandas')\n",
    "best_pipe_rfe"
   ]
  },
  {
   "cell_type": "code",
   "execution_count": null,
   "metadata": {
    "id": "a-1hBgMzsJHB",
    "outputId": "f443c513-fe22-4d96-fc69-1ae17e7f4fda"
   },
   "outputs": [],
   "source": [
    "best_pipe_rfe.fit(X_train, y_train)"
   ]
  },
  {
   "cell_type": "code",
   "execution_count": null,
   "metadata": {
    "id": "quHwCp89sKFO",
    "outputId": "efb12d3f-2d0b-490e-a4e7-277e3c9f4a4f"
   },
   "outputs": [],
   "source": [
    "best_pipe_rfe['selector'].get_feature_names_out()"
   ]
  },
  {
   "cell_type": "code",
   "execution_count": null,
   "metadata": {
    "id": "nEcu5w5Xs0AV",
    "outputId": "c16455f6-c6de-441c-b12b-770b4584875a"
   },
   "outputs": [],
   "source": [
    "y_pred_rf = best_pipe_rfe.predict(X_test)\n",
    "y_pred_rf"
   ]
  },
  {
   "cell_type": "code",
   "execution_count": null,
   "metadata": {
    "id": "utsUhMO_sZLk"
   },
   "outputs": [],
   "source": [
    "best_features = best_pipe_rfe['selector'].get_feature_names_out().tolist()"
   ]
  },
  {
   "cell_type": "code",
   "execution_count": null,
   "metadata": {
    "id": "ZLYKkDwLytYe"
   },
   "outputs": [],
   "source": [
    "X_train = X_train[best_features]\n",
    "X_train.shape"
   ]
  },
  {
   "cell_type": "code",
   "execution_count": null,
   "metadata": {},
   "outputs": [],
   "source": [
    "X_test = X_test[best_features]"
   ]
  },
  {
   "cell_type": "code",
   "execution_count": null,
   "metadata": {
    "id": "rfwwKTfAyS5I",
    "outputId": "b332c106-39fd-46cf-d8a4-9fa3b84554df"
   },
   "outputs": [],
   "source": [
    "knn_classifier.fit(X_train, y_train)"
   ]
  },
  {
   "cell_type": "code",
   "execution_count": null,
   "metadata": {
    "id": "DeO09EAHy7EU"
   },
   "outputs": [],
   "source": [
    "y_predknn = knn_classifier.predict(X_test)"
   ]
  },
  {
   "cell_type": "code",
   "execution_count": null,
   "metadata": {
    "id": "vYFRAKtBy56U",
    "outputId": "c182a2d5-fdee-4df8-9088-d3f4acc127ce"
   },
   "outputs": [],
   "source": [
    "y_predknn"
   ]
  },
  {
   "cell_type": "code",
   "execution_count": null,
   "metadata": {
    "id": "MvxUrBA0wdN_"
   },
   "outputs": [],
   "source": [
    "df_preds_result = pd.DataFrame({\n",
    "    'PATIENTID': data_test['PATIENTID'],\n",
    "    'NEWVITALSTATUS': y_predknn\n",
    "})\n",
    "\n",
    "# Save the cross-validation results to a CSV file\n",
    "df_preds_result.to_csv('y_predknn.csv', index=False)"
   ]
  },
  {
   "cell_type": "code",
   "execution_count": null,
   "metadata": {
    "id": "JdJjNF2HN3m0",
    "outputId": "bab534a6-a501-4225-e791-c17acf4a466c"
   },
   "outputs": [],
   "source": [
    "svm_classifier.fit(X_train, y_train)"
   ]
  },
  {
   "cell_type": "code",
   "execution_count": null,
   "metadata": {
    "id": "3N5YW6_jOQns"
   },
   "outputs": [],
   "source": [
    "svm_pred= svm_classifier.predict(X_test)"
   ]
  },
  {
   "cell_type": "code",
   "execution_count": null,
   "metadata": {
    "id": "wGgjgTNJOXGS"
   },
   "outputs": [],
   "source": [
    "pred = pd.DataFrame(svm_pred).tail(10)"
   ]
  },
  {
   "cell_type": "code",
   "execution_count": null,
   "metadata": {
    "id": "GUP-tsXXXHkj",
    "outputId": "2a306900-6f22-4068-c7fe-931cb0f0563c"
   },
   "outputs": [],
   "source": [
    "pd.concat([data_test['PATIENTID'].tail(10),pred],axis=1)"
   ]
  },
  {
   "cell_type": "code",
   "execution_count": null,
   "metadata": {
    "id": "fcDtFFTga5Mj"
   },
   "outputs": [],
   "source": [
    "rf_classifier.fit(X_train, y_train)\n",
    "rf_pred = rf_classifier.predict(X_test)"
   ]
  },
  {
   "cell_type": "code",
   "execution_count": null,
   "metadata": {
    "id": "IL7FkKGcloNS"
   },
   "outputs": [],
   "source": [
    "rf_p = pd.DataFrame(rf_pred).head(10)"
   ]
  },
  {
   "cell_type": "code",
   "execution_count": null,
   "metadata": {
    "id": "6r7WEjwnloNS",
    "outputId": "afdbdfb3-5382-47e1-a2ed-f53f59725864"
   },
   "outputs": [],
   "source": [
    "pd.concat([data_test['PATIENTID'].head(10),rf_p],axis=1)"
   ]
  },
  {
   "cell_type": "code",
   "execution_count": null,
   "metadata": {
    "id": "_yqUnMf8K7Us"
   },
   "outputs": [],
   "source": [
    "# Create a DataFrame to store the cross-validation predictions\n",
    "RF_preds_result = pd.DataFrame({\n",
    "    'PATIENTID': data_test['PATIENTID'],\n",
    "    'NEWVITALSTATUS': rf_pred\n",
    "})\n",
    "\n",
    "# Save the cross-validation results to a CSV file\n",
    "RF_preds_result.to_csv('rf_pred.csv', index=False)"
   ]
  },
  {
   "cell_type": "code",
   "execution_count": null,
   "metadata": {},
   "outputs": [],
   "source": [
    "# Create a DataFrame to store the cross-validation predictions\n",
    "SN_preds_result = pd.DataFrame({\n",
    "    'PATIENTID': data_test['PATIENTID'],\n",
    "    'NEWVITALSTATUS': svm_pred\n",
    "})\n",
    "\n",
    "# Save the cross-validation results to a CSV file\n",
    "SN_preds_result.to_csv('svm_pred.csv', index=False)"
   ]
  },
  {
   "cell_type": "code",
   "execution_count": null,
   "metadata": {},
   "outputs": [],
   "source": [
    "# !pip install shap"
   ]
  },
  {
   "cell_type": "code",
   "execution_count": null,
   "metadata": {
    "id": "s1BV0Dnu8AgE"
   },
   "outputs": [],
   "source": [
    "import shap\n",
    "shap.initjs()"
   ]
  },
  {
   "cell_type": "code",
   "execution_count": null,
   "metadata": {
    "id": "8ZEVzBlDogSO"
   },
   "outputs": [],
   "source": [
    "column_names = X_test.columns.tolist()\n",
    "column_names"
   ]
  },
  {
   "cell_type": "code",
   "execution_count": null,
   "metadata": {
    "id": "J5qP040Iogaw"
   },
   "outputs": [],
   "source": [
    "rf_classifier.fit(X_train, y_train)"
   ]
  },
  {
   "cell_type": "code",
   "execution_count": null,
   "metadata": {
    "id": "eJv4xl5TogqK"
   },
   "outputs": [],
   "source": [
    "X100 = shap.utils.sample(X_test, 100)\n",
    "X100"
   ]
  },
  {
   "cell_type": "code",
   "execution_count": null,
   "metadata": {
    "id": "2F9x0_i4ogwP"
   },
   "outputs": [],
   "source": [
    "sample_size = 1000 # Number of samples to select\n",
    "random_sample = X_test.sample(n=sample_size, random_state=42)"
   ]
  },
  {
   "cell_type": "code",
   "execution_count": null,
   "metadata": {
    "id": "FrAam8IOog3-"
   },
   "outputs": [],
   "source": [
    "explainer = shap.Explainer(rf_classifier.predict, X100)\n",
    "shap_values = explainer(random_sample)"
   ]
  },
  {
   "cell_type": "code",
   "execution_count": null,
   "metadata": {
    "id": "EcxhMN51og-A"
   },
   "outputs": [],
   "source": [
    "shap.summary_plot(shap_values, random_sample, max_display=8)"
   ]
  },
  {
   "cell_type": "code",
   "execution_count": null,
   "metadata": {
    "id": "kvlK7g5yohD0"
   },
   "outputs": [],
   "source": [
    "shap.plots.waterfall(shap_values[100])"
   ]
  },
  {
   "cell_type": "code",
   "execution_count": null,
   "metadata": {
    "id": "q0x6DBWNo2A6"
   },
   "outputs": [],
   "source": [
    "#plot the feature importance\n",
    "shap.summary_plot(shap_values, random_sample, plot_type=\"bar\",max_display=10)"
   ]
  },
  {
   "cell_type": "code",
   "execution_count": null,
   "metadata": {
    "id": "TInteUYxo9aY"
   },
   "outputs": [],
   "source": [
    "#set the tree explainer as the model of the pipeline\n",
    "explainer2 = shap.TreeExplainer(rf_classifier)"
   ]
  },
  {
   "cell_type": "code",
   "execution_count": null,
   "metadata": {
    "id": "3k-39P5Po9h3"
   },
   "outputs": [],
   "source": [
    "rf_classifier.predict(random_sample.head(3))"
   ]
  },
  {
   "cell_type": "code",
   "execution_count": null,
   "metadata": {
    "id": "Q68nnm4wo9ps"
   },
   "outputs": [],
   "source": [
    "# Create an Explanation object\n",
    "expected_value = explainer2.expected_value  # Expected value of the model\n",
    "shap_values2 = shap_values[5]  # Assuming you want to plot for a single instance, adjust as needed"
   ]
  },
  {
   "cell_type": "code",
   "execution_count": null,
   "metadata": {},
   "outputs": [],
   "source": [
    "shap_values[5]"
   ]
  },
  {
   "cell_type": "code",
   "execution_count": null,
   "metadata": {
    "id": "vuG2dTfoo87c"
   },
   "outputs": [],
   "source": [
    "explanation = shap.Explanation(\n",
    "    values=shap_values2,\n",
    "    base_values=expected_value,\n",
    "    data=random_sample,  # Data for the instance you want to explain\n",
    "    feature_names=column_names\n",
    ")\n",
    "explanation"
   ]
  },
  {
   "cell_type": "code",
   "execution_count": null,
   "metadata": {
    "id": "w6NZBGQvpTO7"
   },
   "outputs": [],
   "source": [
    "shap.force_plot(\n",
    "    explanation.base_values,\n",
    "    explanation.values,\n",
    "    features=explanation.data,\n",
    "    feature_names=explanation.feature_names\n",
    ")"
   ]
  },
  {
   "cell_type": "code",
   "execution_count": null,
   "metadata": {
    "id": "pqhToA5uvhRd"
   },
   "outputs": [],
   "source": [
    "# to check the scores , Mo needs to upload the test dataset on"
   ]
  },
  {
   "cell_type": "code",
   "execution_count": null,
   "metadata": {
    "id": "CRW61jWa7qRX"
   },
   "outputs": [],
   "source": []
  }
 ],
 "metadata": {
  "kernelspec": {
   "display_name": "Python 3 (ipykernel)",
   "language": "python",
   "name": "python3"
  },
  "language_info": {
   "codemirror_mode": {
    "name": "ipython",
    "version": 3
   },
   "file_extension": ".py",
   "mimetype": "text/x-python",
   "name": "python",
   "nbconvert_exporter": "python",
   "pygments_lexer": "ipython3",
   "version": "3.10.9"
  }
 },
 "nbformat": 4,
 "nbformat_minor": 4
}
